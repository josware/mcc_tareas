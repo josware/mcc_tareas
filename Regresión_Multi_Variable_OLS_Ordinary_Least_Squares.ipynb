{
  "nbformat": 4,
  "nbformat_minor": 0,
  "metadata": {
    "colab": {
      "name": "Regresión Multi Variable - OLS Ordinary Least Squares.ipynb",
      "provenance": [],
      "collapsed_sections": [
        "O5DBJ3NstiPQ",
        "cWyPD1J5Dsqj",
        "zxEeat5uEZlw",
        "Hkrg7SQ4EZSQ",
        "knL0ICbFEY_E",
        "rkH-dFQjEYgL",
        "oSQNOq_gESMH",
        "M3rXqr_FEWp-",
        "pLSzpwEyEXMd",
        "p1MC0IgrIb5i",
        "dp-Zb5WOgTVH"
      ],
      "toc_visible": true,
      "mount_file_id": "1hyizWdYVog9zDPeGu0fesdp94wos4nGs",
      "authorship_tag": "ABX9TyMkKjzRIb3qchNIBEsG0Mst",
      "include_colab_link": true
    },
    "kernelspec": {
      "name": "python3",
      "display_name": "Python 3"
    }
  },
  "cells": [
    {
      "cell_type": "markdown",
      "metadata": {
        "id": "view-in-github",
        "colab_type": "text"
      },
      "source": [
        "<a href=\"https://colab.research.google.com/github/josware/mcc_tareas/blob/master/Regresi%C3%B3n_Multi_Variable_OLS_Ordinary_Least_Squares.ipynb\" target=\"_parent\"><img src=\"https://colab.research.google.com/assets/colab-badge.svg\" alt=\"Open In Colab\"/></a>"
      ]
    },
    {
      "cell_type": "markdown",
      "metadata": {
        "id": "V1GxKdI4VlUy"
      },
      "source": [
        "# Carga de datos"
      ]
    },
    {
      "cell_type": "code",
      "metadata": {
        "id": "QPUOIa6IV5c6"
      },
      "source": [
        "mypath = \"/content/drive/My Drive/MCC-2020/Tecnicas-ML/housingdata_w_columnNames.csv\" "
      ],
      "execution_count": null,
      "outputs": []
    },
    {
      "cell_type": "markdown",
      "metadata": {
        "id": "5C6akXFCVuPu"
      },
      "source": [
        "# Imports"
      ]
    },
    {
      "cell_type": "code",
      "metadata": {
        "id": "cj0VQxs4VxO-",
        "colab": {
          "base_uri": "https://localhost:8080/",
          "height": 52
        },
        "outputId": "933161cd-efeb-4985-93c5-e3d434f7b12e"
      },
      "source": [
        "import numpy as np    # biblioteca para el manejo de vectores y matrices en python.\n",
        "import pandas as pd   # biblioteca para el manejo de datos y tablas.\n",
        "import matplotlib.pyplot as plt   # biblioteca para visualización de datos.\n",
        "import statsmodels.api as sm      # biblioteca para pruebas estadísticas."
      ],
      "execution_count": null,
      "outputs": [
        {
          "output_type": "stream",
          "text": [
            "/usr/local/lib/python3.6/dist-packages/statsmodels/tools/_testing.py:19: FutureWarning: pandas.util.testing is deprecated. Use the functions in the public API at pandas.testing instead.\n",
            "  import pandas.util.testing as tm\n"
          ],
          "name": "stderr"
        }
      ]
    },
    {
      "cell_type": "markdown",
      "metadata": {
        "id": "USjoZamrlDuc"
      },
      "source": [
        ""
      ]
    },
    {
      "cell_type": "markdown",
      "metadata": {
        "id": "ufaveprwlEpV"
      },
      "source": [
        "# Objetivo predecir MEDV\n",
        "\n",
        "1. En este ejercicio usaremos la base de datos de Boston_housing_dataset\n",
        "(https://www.kaggle.com/apratim87/housingdata) la cual consta de 13 variables\n",
        "independientes y la variable dependiente. Son 506 datos de casas cuyo\n",
        "objetivo es la predicción de su costo (MEDV). "
      ]
    },
    {
      "cell_type": "code",
      "metadata": {
        "id": "cOhHK7SBWQo6",
        "colab": {
          "base_uri": "https://localhost:8080/",
          "height": 198
        },
        "outputId": "5b45a4b7-4ecc-4aa3-95d8-55d983c440a3"
      },
      "source": [
        "mydata = pd.read_csv(mypath)\n",
        "mydata.head()"
      ],
      "execution_count": null,
      "outputs": [
        {
          "output_type": "execute_result",
          "data": {
            "text/html": [
              "<div>\n",
              "<style scoped>\n",
              "    .dataframe tbody tr th:only-of-type {\n",
              "        vertical-align: middle;\n",
              "    }\n",
              "\n",
              "    .dataframe tbody tr th {\n",
              "        vertical-align: top;\n",
              "    }\n",
              "\n",
              "    .dataframe thead th {\n",
              "        text-align: right;\n",
              "    }\n",
              "</style>\n",
              "<table border=\"1\" class=\"dataframe\">\n",
              "  <thead>\n",
              "    <tr style=\"text-align: right;\">\n",
              "      <th></th>\n",
              "      <th>CRIM</th>\n",
              "      <th>ZN</th>\n",
              "      <th>INDUS</th>\n",
              "      <th>CHAS</th>\n",
              "      <th>NOX</th>\n",
              "      <th>RM</th>\n",
              "      <th>AGE</th>\n",
              "      <th>DIS</th>\n",
              "      <th>RAD</th>\n",
              "      <th>TAX</th>\n",
              "      <th>PTRATIO</th>\n",
              "      <th>B</th>\n",
              "      <th>LSTAT</th>\n",
              "      <th>MEDV</th>\n",
              "    </tr>\n",
              "  </thead>\n",
              "  <tbody>\n",
              "    <tr>\n",
              "      <th>0</th>\n",
              "      <td>0.00632</td>\n",
              "      <td>18.0</td>\n",
              "      <td>2.31</td>\n",
              "      <td>0</td>\n",
              "      <td>0.538</td>\n",
              "      <td>6.575</td>\n",
              "      <td>65.2</td>\n",
              "      <td>4.0900</td>\n",
              "      <td>1</td>\n",
              "      <td>296</td>\n",
              "      <td>15.3</td>\n",
              "      <td>396.90</td>\n",
              "      <td>4.98</td>\n",
              "      <td>24.0</td>\n",
              "    </tr>\n",
              "    <tr>\n",
              "      <th>1</th>\n",
              "      <td>0.02731</td>\n",
              "      <td>0.0</td>\n",
              "      <td>7.07</td>\n",
              "      <td>0</td>\n",
              "      <td>0.469</td>\n",
              "      <td>6.421</td>\n",
              "      <td>78.9</td>\n",
              "      <td>4.9671</td>\n",
              "      <td>2</td>\n",
              "      <td>242</td>\n",
              "      <td>17.8</td>\n",
              "      <td>396.90</td>\n",
              "      <td>9.14</td>\n",
              "      <td>21.6</td>\n",
              "    </tr>\n",
              "    <tr>\n",
              "      <th>2</th>\n",
              "      <td>0.02729</td>\n",
              "      <td>0.0</td>\n",
              "      <td>7.07</td>\n",
              "      <td>0</td>\n",
              "      <td>0.469</td>\n",
              "      <td>7.185</td>\n",
              "      <td>61.1</td>\n",
              "      <td>4.9671</td>\n",
              "      <td>2</td>\n",
              "      <td>242</td>\n",
              "      <td>17.8</td>\n",
              "      <td>392.83</td>\n",
              "      <td>4.03</td>\n",
              "      <td>34.7</td>\n",
              "    </tr>\n",
              "    <tr>\n",
              "      <th>3</th>\n",
              "      <td>0.03237</td>\n",
              "      <td>0.0</td>\n",
              "      <td>2.18</td>\n",
              "      <td>0</td>\n",
              "      <td>0.458</td>\n",
              "      <td>6.998</td>\n",
              "      <td>45.8</td>\n",
              "      <td>6.0622</td>\n",
              "      <td>3</td>\n",
              "      <td>222</td>\n",
              "      <td>18.7</td>\n",
              "      <td>394.63</td>\n",
              "      <td>2.94</td>\n",
              "      <td>33.4</td>\n",
              "    </tr>\n",
              "    <tr>\n",
              "      <th>4</th>\n",
              "      <td>0.06905</td>\n",
              "      <td>0.0</td>\n",
              "      <td>2.18</td>\n",
              "      <td>0</td>\n",
              "      <td>0.458</td>\n",
              "      <td>7.147</td>\n",
              "      <td>54.2</td>\n",
              "      <td>6.0622</td>\n",
              "      <td>3</td>\n",
              "      <td>222</td>\n",
              "      <td>18.7</td>\n",
              "      <td>396.90</td>\n",
              "      <td>5.33</td>\n",
              "      <td>36.2</td>\n",
              "    </tr>\n",
              "  </tbody>\n",
              "</table>\n",
              "</div>"
            ],
            "text/plain": [
              "      CRIM    ZN  INDUS  CHAS    NOX  ...  TAX  PTRATIO       B  LSTAT  MEDV\n",
              "0  0.00632  18.0   2.31     0  0.538  ...  296     15.3  396.90   4.98  24.0\n",
              "1  0.02731   0.0   7.07     0  0.469  ...  242     17.8  396.90   9.14  21.6\n",
              "2  0.02729   0.0   7.07     0  0.469  ...  242     17.8  392.83   4.03  34.7\n",
              "3  0.03237   0.0   2.18     0  0.458  ...  222     18.7  394.63   2.94  33.4\n",
              "4  0.06905   0.0   2.18     0  0.458  ...  222     18.7  396.90   5.33  36.2\n",
              "\n",
              "[5 rows x 14 columns]"
            ]
          },
          "metadata": {
            "tags": []
          },
          "execution_count": 134
        }
      ]
    },
    {
      "cell_type": "code",
      "metadata": {
        "id": "FJHKjbbCWUGi",
        "colab": {
          "base_uri": "https://localhost:8080/",
          "height": 35
        },
        "outputId": "3614b72f-670c-485c-916f-40404d81f7d8"
      },
      "source": [
        "mydata.shape"
      ],
      "execution_count": null,
      "outputs": [
        {
          "output_type": "execute_result",
          "data": {
            "text/plain": [
              "(506, 14)"
            ]
          },
          "metadata": {
            "tags": []
          },
          "execution_count": 135
        }
      ]
    },
    {
      "cell_type": "code",
      "metadata": {
        "id": "4aRa-nPhWc-L"
      },
      "source": [
        "dataset = pd.DataFrame(mydata[[\"CRIM\",\"ZN\",\"INDUS\",\"CHAS\",\"NOX\",\"RM\",\"AGE\",\"DIS\",\"RAD\",\"TAX\",\"PTRATIO\",\"B\",\"LSTAT\", \"MEDV\"]])"
      ],
      "execution_count": null,
      "outputs": []
    },
    {
      "cell_type": "code",
      "metadata": {
        "id": "RiTaYbVDWaXA",
        "colab": {
          "base_uri": "https://localhost:8080/",
          "height": 468
        },
        "outputId": "dbf1aa86-34f2-46a7-b480-c18faf89eb33"
      },
      "source": [
        "dataset.corr(method='pearson')"
      ],
      "execution_count": null,
      "outputs": [
        {
          "output_type": "execute_result",
          "data": {
            "text/html": [
              "<div>\n",
              "<style scoped>\n",
              "    .dataframe tbody tr th:only-of-type {\n",
              "        vertical-align: middle;\n",
              "    }\n",
              "\n",
              "    .dataframe tbody tr th {\n",
              "        vertical-align: top;\n",
              "    }\n",
              "\n",
              "    .dataframe thead th {\n",
              "        text-align: right;\n",
              "    }\n",
              "</style>\n",
              "<table border=\"1\" class=\"dataframe\">\n",
              "  <thead>\n",
              "    <tr style=\"text-align: right;\">\n",
              "      <th></th>\n",
              "      <th>CRIM</th>\n",
              "      <th>ZN</th>\n",
              "      <th>INDUS</th>\n",
              "      <th>CHAS</th>\n",
              "      <th>NOX</th>\n",
              "      <th>RM</th>\n",
              "      <th>AGE</th>\n",
              "      <th>DIS</th>\n",
              "      <th>RAD</th>\n",
              "      <th>TAX</th>\n",
              "      <th>PTRATIO</th>\n",
              "      <th>B</th>\n",
              "      <th>LSTAT</th>\n",
              "      <th>MEDV</th>\n",
              "    </tr>\n",
              "  </thead>\n",
              "  <tbody>\n",
              "    <tr>\n",
              "      <th>CRIM</th>\n",
              "      <td>1.000000</td>\n",
              "      <td>-0.200469</td>\n",
              "      <td>0.406583</td>\n",
              "      <td>-0.055892</td>\n",
              "      <td>0.420972</td>\n",
              "      <td>-0.219247</td>\n",
              "      <td>0.352734</td>\n",
              "      <td>-0.379670</td>\n",
              "      <td>0.625505</td>\n",
              "      <td>0.582764</td>\n",
              "      <td>0.289946</td>\n",
              "      <td>-0.385064</td>\n",
              "      <td>0.455621</td>\n",
              "      <td>-0.388305</td>\n",
              "    </tr>\n",
              "    <tr>\n",
              "      <th>ZN</th>\n",
              "      <td>-0.200469</td>\n",
              "      <td>1.000000</td>\n",
              "      <td>-0.533828</td>\n",
              "      <td>-0.042697</td>\n",
              "      <td>-0.516604</td>\n",
              "      <td>0.311991</td>\n",
              "      <td>-0.569537</td>\n",
              "      <td>0.664408</td>\n",
              "      <td>-0.311948</td>\n",
              "      <td>-0.314563</td>\n",
              "      <td>-0.391679</td>\n",
              "      <td>0.175520</td>\n",
              "      <td>-0.412995</td>\n",
              "      <td>0.360445</td>\n",
              "    </tr>\n",
              "    <tr>\n",
              "      <th>INDUS</th>\n",
              "      <td>0.406583</td>\n",
              "      <td>-0.533828</td>\n",
              "      <td>1.000000</td>\n",
              "      <td>0.062938</td>\n",
              "      <td>0.763651</td>\n",
              "      <td>-0.391676</td>\n",
              "      <td>0.644779</td>\n",
              "      <td>-0.708027</td>\n",
              "      <td>0.595129</td>\n",
              "      <td>0.720760</td>\n",
              "      <td>0.383248</td>\n",
              "      <td>-0.356977</td>\n",
              "      <td>0.603800</td>\n",
              "      <td>-0.483725</td>\n",
              "    </tr>\n",
              "    <tr>\n",
              "      <th>CHAS</th>\n",
              "      <td>-0.055892</td>\n",
              "      <td>-0.042697</td>\n",
              "      <td>0.062938</td>\n",
              "      <td>1.000000</td>\n",
              "      <td>0.091203</td>\n",
              "      <td>0.091251</td>\n",
              "      <td>0.086518</td>\n",
              "      <td>-0.099176</td>\n",
              "      <td>-0.007368</td>\n",
              "      <td>-0.035587</td>\n",
              "      <td>-0.121515</td>\n",
              "      <td>0.048788</td>\n",
              "      <td>-0.053929</td>\n",
              "      <td>0.175260</td>\n",
              "    </tr>\n",
              "    <tr>\n",
              "      <th>NOX</th>\n",
              "      <td>0.420972</td>\n",
              "      <td>-0.516604</td>\n",
              "      <td>0.763651</td>\n",
              "      <td>0.091203</td>\n",
              "      <td>1.000000</td>\n",
              "      <td>-0.302188</td>\n",
              "      <td>0.731470</td>\n",
              "      <td>-0.769230</td>\n",
              "      <td>0.611441</td>\n",
              "      <td>0.668023</td>\n",
              "      <td>0.188933</td>\n",
              "      <td>-0.380051</td>\n",
              "      <td>0.590879</td>\n",
              "      <td>-0.427321</td>\n",
              "    </tr>\n",
              "    <tr>\n",
              "      <th>RM</th>\n",
              "      <td>-0.219247</td>\n",
              "      <td>0.311991</td>\n",
              "      <td>-0.391676</td>\n",
              "      <td>0.091251</td>\n",
              "      <td>-0.302188</td>\n",
              "      <td>1.000000</td>\n",
              "      <td>-0.240265</td>\n",
              "      <td>0.205246</td>\n",
              "      <td>-0.209847</td>\n",
              "      <td>-0.292048</td>\n",
              "      <td>-0.355501</td>\n",
              "      <td>0.128069</td>\n",
              "      <td>-0.613808</td>\n",
              "      <td>0.695360</td>\n",
              "    </tr>\n",
              "    <tr>\n",
              "      <th>AGE</th>\n",
              "      <td>0.352734</td>\n",
              "      <td>-0.569537</td>\n",
              "      <td>0.644779</td>\n",
              "      <td>0.086518</td>\n",
              "      <td>0.731470</td>\n",
              "      <td>-0.240265</td>\n",
              "      <td>1.000000</td>\n",
              "      <td>-0.747881</td>\n",
              "      <td>0.456022</td>\n",
              "      <td>0.506456</td>\n",
              "      <td>0.261515</td>\n",
              "      <td>-0.273534</td>\n",
              "      <td>0.602339</td>\n",
              "      <td>-0.376955</td>\n",
              "    </tr>\n",
              "    <tr>\n",
              "      <th>DIS</th>\n",
              "      <td>-0.379670</td>\n",
              "      <td>0.664408</td>\n",
              "      <td>-0.708027</td>\n",
              "      <td>-0.099176</td>\n",
              "      <td>-0.769230</td>\n",
              "      <td>0.205246</td>\n",
              "      <td>-0.747881</td>\n",
              "      <td>1.000000</td>\n",
              "      <td>-0.494588</td>\n",
              "      <td>-0.534432</td>\n",
              "      <td>-0.232471</td>\n",
              "      <td>0.291512</td>\n",
              "      <td>-0.496996</td>\n",
              "      <td>0.249929</td>\n",
              "    </tr>\n",
              "    <tr>\n",
              "      <th>RAD</th>\n",
              "      <td>0.625505</td>\n",
              "      <td>-0.311948</td>\n",
              "      <td>0.595129</td>\n",
              "      <td>-0.007368</td>\n",
              "      <td>0.611441</td>\n",
              "      <td>-0.209847</td>\n",
              "      <td>0.456022</td>\n",
              "      <td>-0.494588</td>\n",
              "      <td>1.000000</td>\n",
              "      <td>0.910228</td>\n",
              "      <td>0.464741</td>\n",
              "      <td>-0.444413</td>\n",
              "      <td>0.488676</td>\n",
              "      <td>-0.381626</td>\n",
              "    </tr>\n",
              "    <tr>\n",
              "      <th>TAX</th>\n",
              "      <td>0.582764</td>\n",
              "      <td>-0.314563</td>\n",
              "      <td>0.720760</td>\n",
              "      <td>-0.035587</td>\n",
              "      <td>0.668023</td>\n",
              "      <td>-0.292048</td>\n",
              "      <td>0.506456</td>\n",
              "      <td>-0.534432</td>\n",
              "      <td>0.910228</td>\n",
              "      <td>1.000000</td>\n",
              "      <td>0.460853</td>\n",
              "      <td>-0.441808</td>\n",
              "      <td>0.543993</td>\n",
              "      <td>-0.468536</td>\n",
              "    </tr>\n",
              "    <tr>\n",
              "      <th>PTRATIO</th>\n",
              "      <td>0.289946</td>\n",
              "      <td>-0.391679</td>\n",
              "      <td>0.383248</td>\n",
              "      <td>-0.121515</td>\n",
              "      <td>0.188933</td>\n",
              "      <td>-0.355501</td>\n",
              "      <td>0.261515</td>\n",
              "      <td>-0.232471</td>\n",
              "      <td>0.464741</td>\n",
              "      <td>0.460853</td>\n",
              "      <td>1.000000</td>\n",
              "      <td>-0.177383</td>\n",
              "      <td>0.374044</td>\n",
              "      <td>-0.507787</td>\n",
              "    </tr>\n",
              "    <tr>\n",
              "      <th>B</th>\n",
              "      <td>-0.385064</td>\n",
              "      <td>0.175520</td>\n",
              "      <td>-0.356977</td>\n",
              "      <td>0.048788</td>\n",
              "      <td>-0.380051</td>\n",
              "      <td>0.128069</td>\n",
              "      <td>-0.273534</td>\n",
              "      <td>0.291512</td>\n",
              "      <td>-0.444413</td>\n",
              "      <td>-0.441808</td>\n",
              "      <td>-0.177383</td>\n",
              "      <td>1.000000</td>\n",
              "      <td>-0.366087</td>\n",
              "      <td>0.333461</td>\n",
              "    </tr>\n",
              "    <tr>\n",
              "      <th>LSTAT</th>\n",
              "      <td>0.455621</td>\n",
              "      <td>-0.412995</td>\n",
              "      <td>0.603800</td>\n",
              "      <td>-0.053929</td>\n",
              "      <td>0.590879</td>\n",
              "      <td>-0.613808</td>\n",
              "      <td>0.602339</td>\n",
              "      <td>-0.496996</td>\n",
              "      <td>0.488676</td>\n",
              "      <td>0.543993</td>\n",
              "      <td>0.374044</td>\n",
              "      <td>-0.366087</td>\n",
              "      <td>1.000000</td>\n",
              "      <td>-0.737663</td>\n",
              "    </tr>\n",
              "    <tr>\n",
              "      <th>MEDV</th>\n",
              "      <td>-0.388305</td>\n",
              "      <td>0.360445</td>\n",
              "      <td>-0.483725</td>\n",
              "      <td>0.175260</td>\n",
              "      <td>-0.427321</td>\n",
              "      <td>0.695360</td>\n",
              "      <td>-0.376955</td>\n",
              "      <td>0.249929</td>\n",
              "      <td>-0.381626</td>\n",
              "      <td>-0.468536</td>\n",
              "      <td>-0.507787</td>\n",
              "      <td>0.333461</td>\n",
              "      <td>-0.737663</td>\n",
              "      <td>1.000000</td>\n",
              "    </tr>\n",
              "  </tbody>\n",
              "</table>\n",
              "</div>"
            ],
            "text/plain": [
              "             CRIM        ZN     INDUS  ...         B     LSTAT      MEDV\n",
              "CRIM     1.000000 -0.200469  0.406583  ... -0.385064  0.455621 -0.388305\n",
              "ZN      -0.200469  1.000000 -0.533828  ...  0.175520 -0.412995  0.360445\n",
              "INDUS    0.406583 -0.533828  1.000000  ... -0.356977  0.603800 -0.483725\n",
              "CHAS    -0.055892 -0.042697  0.062938  ...  0.048788 -0.053929  0.175260\n",
              "NOX      0.420972 -0.516604  0.763651  ... -0.380051  0.590879 -0.427321\n",
              "RM      -0.219247  0.311991 -0.391676  ...  0.128069 -0.613808  0.695360\n",
              "AGE      0.352734 -0.569537  0.644779  ... -0.273534  0.602339 -0.376955\n",
              "DIS     -0.379670  0.664408 -0.708027  ...  0.291512 -0.496996  0.249929\n",
              "RAD      0.625505 -0.311948  0.595129  ... -0.444413  0.488676 -0.381626\n",
              "TAX      0.582764 -0.314563  0.720760  ... -0.441808  0.543993 -0.468536\n",
              "PTRATIO  0.289946 -0.391679  0.383248  ... -0.177383  0.374044 -0.507787\n",
              "B       -0.385064  0.175520 -0.356977  ...  1.000000 -0.366087  0.333461\n",
              "LSTAT    0.455621 -0.412995  0.603800  ... -0.366087  1.000000 -0.737663\n",
              "MEDV    -0.388305  0.360445 -0.483725  ...  0.333461 -0.737663  1.000000\n",
              "\n",
              "[14 rows x 14 columns]"
            ]
          },
          "metadata": {
            "tags": []
          },
          "execution_count": 137
        }
      ]
    },
    {
      "cell_type": "markdown",
      "metadata": {
        "id": "jvwL4cwTnCNs"
      },
      "source": [
        "Defining x & y for first model"
      ]
    },
    {
      "cell_type": "code",
      "metadata": {
        "id": "IrezqGapnBbo",
        "colab": {
          "base_uri": "https://localhost:8080/",
          "height": 198
        },
        "outputId": "61d21de5-5c86-44db-b82f-7256507a57c4"
      },
      "source": [
        "x = dataset[[\"CRIM\",\"ZN\",\"INDUS\",\"CHAS\",\"NOX\",\"RM\",\"AGE\",\"DIS\",\"RAD\",\"TAX\",\"PTRATIO\",\"B\",\"LSTAT\"]]\n",
        "y = dataset[[\"MEDV\"]]\n",
        "x.head()"
      ],
      "execution_count": null,
      "outputs": [
        {
          "output_type": "execute_result",
          "data": {
            "text/html": [
              "<div>\n",
              "<style scoped>\n",
              "    .dataframe tbody tr th:only-of-type {\n",
              "        vertical-align: middle;\n",
              "    }\n",
              "\n",
              "    .dataframe tbody tr th {\n",
              "        vertical-align: top;\n",
              "    }\n",
              "\n",
              "    .dataframe thead th {\n",
              "        text-align: right;\n",
              "    }\n",
              "</style>\n",
              "<table border=\"1\" class=\"dataframe\">\n",
              "  <thead>\n",
              "    <tr style=\"text-align: right;\">\n",
              "      <th></th>\n",
              "      <th>CRIM</th>\n",
              "      <th>ZN</th>\n",
              "      <th>INDUS</th>\n",
              "      <th>CHAS</th>\n",
              "      <th>NOX</th>\n",
              "      <th>RM</th>\n",
              "      <th>AGE</th>\n",
              "      <th>DIS</th>\n",
              "      <th>RAD</th>\n",
              "      <th>TAX</th>\n",
              "      <th>PTRATIO</th>\n",
              "      <th>B</th>\n",
              "      <th>LSTAT</th>\n",
              "    </tr>\n",
              "  </thead>\n",
              "  <tbody>\n",
              "    <tr>\n",
              "      <th>0</th>\n",
              "      <td>0.00632</td>\n",
              "      <td>18.0</td>\n",
              "      <td>2.31</td>\n",
              "      <td>0</td>\n",
              "      <td>0.538</td>\n",
              "      <td>6.575</td>\n",
              "      <td>65.2</td>\n",
              "      <td>4.0900</td>\n",
              "      <td>1</td>\n",
              "      <td>296</td>\n",
              "      <td>15.3</td>\n",
              "      <td>396.90</td>\n",
              "      <td>4.98</td>\n",
              "    </tr>\n",
              "    <tr>\n",
              "      <th>1</th>\n",
              "      <td>0.02731</td>\n",
              "      <td>0.0</td>\n",
              "      <td>7.07</td>\n",
              "      <td>0</td>\n",
              "      <td>0.469</td>\n",
              "      <td>6.421</td>\n",
              "      <td>78.9</td>\n",
              "      <td>4.9671</td>\n",
              "      <td>2</td>\n",
              "      <td>242</td>\n",
              "      <td>17.8</td>\n",
              "      <td>396.90</td>\n",
              "      <td>9.14</td>\n",
              "    </tr>\n",
              "    <tr>\n",
              "      <th>2</th>\n",
              "      <td>0.02729</td>\n",
              "      <td>0.0</td>\n",
              "      <td>7.07</td>\n",
              "      <td>0</td>\n",
              "      <td>0.469</td>\n",
              "      <td>7.185</td>\n",
              "      <td>61.1</td>\n",
              "      <td>4.9671</td>\n",
              "      <td>2</td>\n",
              "      <td>242</td>\n",
              "      <td>17.8</td>\n",
              "      <td>392.83</td>\n",
              "      <td>4.03</td>\n",
              "    </tr>\n",
              "    <tr>\n",
              "      <th>3</th>\n",
              "      <td>0.03237</td>\n",
              "      <td>0.0</td>\n",
              "      <td>2.18</td>\n",
              "      <td>0</td>\n",
              "      <td>0.458</td>\n",
              "      <td>6.998</td>\n",
              "      <td>45.8</td>\n",
              "      <td>6.0622</td>\n",
              "      <td>3</td>\n",
              "      <td>222</td>\n",
              "      <td>18.7</td>\n",
              "      <td>394.63</td>\n",
              "      <td>2.94</td>\n",
              "    </tr>\n",
              "    <tr>\n",
              "      <th>4</th>\n",
              "      <td>0.06905</td>\n",
              "      <td>0.0</td>\n",
              "      <td>2.18</td>\n",
              "      <td>0</td>\n",
              "      <td>0.458</td>\n",
              "      <td>7.147</td>\n",
              "      <td>54.2</td>\n",
              "      <td>6.0622</td>\n",
              "      <td>3</td>\n",
              "      <td>222</td>\n",
              "      <td>18.7</td>\n",
              "      <td>396.90</td>\n",
              "      <td>5.33</td>\n",
              "    </tr>\n",
              "  </tbody>\n",
              "</table>\n",
              "</div>"
            ],
            "text/plain": [
              "      CRIM    ZN  INDUS  CHAS    NOX  ...  RAD  TAX  PTRATIO       B  LSTAT\n",
              "0  0.00632  18.0   2.31     0  0.538  ...    1  296     15.3  396.90   4.98\n",
              "1  0.02731   0.0   7.07     0  0.469  ...    2  242     17.8  396.90   9.14\n",
              "2  0.02729   0.0   7.07     0  0.469  ...    2  242     17.8  392.83   4.03\n",
              "3  0.03237   0.0   2.18     0  0.458  ...    3  222     18.7  394.63   2.94\n",
              "4  0.06905   0.0   2.18     0  0.458  ...    3  222     18.7  396.90   5.33\n",
              "\n",
              "[5 rows x 13 columns]"
            ]
          },
          "metadata": {
            "tags": []
          },
          "execution_count": 138
        }
      ]
    },
    {
      "cell_type": "code",
      "metadata": {
        "id": "Uz6QWkj8nUR_",
        "colab": {
          "base_uri": "https://localhost:8080/",
          "height": 259
        },
        "outputId": "70cc0fdc-4a3f-4284-94c5-921247e963fc"
      },
      "source": [
        "xones = sm.add_constant(x)  # agregando la columna de 1s\n",
        "print(xones)"
      ],
      "execution_count": null,
      "outputs": [
        {
          "output_type": "stream",
          "text": [
            "     const     CRIM    ZN  INDUS  CHAS  ...  RAD  TAX  PTRATIO       B  LSTAT\n",
            "0      1.0  0.00632  18.0   2.31     0  ...    1  296     15.3  396.90   4.98\n",
            "1      1.0  0.02731   0.0   7.07     0  ...    2  242     17.8  396.90   9.14\n",
            "2      1.0  0.02729   0.0   7.07     0  ...    2  242     17.8  392.83   4.03\n",
            "3      1.0  0.03237   0.0   2.18     0  ...    3  222     18.7  394.63   2.94\n",
            "4      1.0  0.06905   0.0   2.18     0  ...    3  222     18.7  396.90   5.33\n",
            "..     ...      ...   ...    ...   ...  ...  ...  ...      ...     ...    ...\n",
            "501    1.0  0.06263   0.0  11.93     0  ...    1  273     21.0  391.99   9.67\n",
            "502    1.0  0.04527   0.0  11.93     0  ...    1  273     21.0  396.90   9.08\n",
            "503    1.0  0.06076   0.0  11.93     0  ...    1  273     21.0  396.90   5.64\n",
            "504    1.0  0.10959   0.0  11.93     0  ...    1  273     21.0  393.45   6.48\n",
            "505    1.0  0.04741   0.0  11.93     0  ...    1  273     21.0  396.90   7.88\n",
            "\n",
            "[506 rows x 14 columns]\n"
          ],
          "name": "stdout"
        }
      ]
    },
    {
      "cell_type": "markdown",
      "metadata": {
        "id": "mBwH2CVdYXZL"
      },
      "source": [
        "a. Obtener el modelo de Regresión Lineal Múltiple (RLM) del modelo y\n",
        "con base a dicho modelo contestar los siguientes incisos:\n",
        "\n",
        "i. Interpretar el valor del coeficiente de determinación ajustado de R^2"
      ]
    },
    {
      "cell_type": "markdown",
      "metadata": {
        "id": "HVGwrHqSn4iB"
      },
      "source": [
        "## i Primer modelo - Multiple Lineal Regression (MLR)"
      ]
    },
    {
      "cell_type": "code",
      "metadata": {
        "id": "LmAqc4bTn8-O"
      },
      "source": [
        "mimodelo = sm.OLS(y, xones).fit()"
      ],
      "execution_count": null,
      "outputs": []
    },
    {
      "cell_type": "code",
      "metadata": {
        "id": "BPtJk8QuoBPl",
        "colab": {
          "base_uri": "https://localhost:8080/",
          "height": 691
        },
        "outputId": "3d92d91c-e426-49a2-e1c7-70c7e033bdc1"
      },
      "source": [
        "print(mimodelo.summary())"
      ],
      "execution_count": null,
      "outputs": [
        {
          "output_type": "stream",
          "text": [
            "                            OLS Regression Results                            \n",
            "==============================================================================\n",
            "Dep. Variable:                   MEDV   R-squared:                       0.741\n",
            "Model:                            OLS   Adj. R-squared:                  0.734\n",
            "Method:                 Least Squares   F-statistic:                     108.1\n",
            "Date:                Mon, 31 Aug 2020   Prob (F-statistic):          6.72e-135\n",
            "Time:                        15:51:06   Log-Likelihood:                -1498.8\n",
            "No. Observations:                 506   AIC:                             3026.\n",
            "Df Residuals:                     492   BIC:                             3085.\n",
            "Df Model:                          13                                         \n",
            "Covariance Type:            nonrobust                                         \n",
            "==============================================================================\n",
            "                 coef    std err          t      P>|t|      [0.025      0.975]\n",
            "------------------------------------------------------------------------------\n",
            "const         36.4595      5.103      7.144      0.000      26.432      46.487\n",
            "CRIM          -0.1080      0.033     -3.287      0.001      -0.173      -0.043\n",
            "ZN             0.0464      0.014      3.382      0.001       0.019       0.073\n",
            "INDUS          0.0206      0.061      0.334      0.738      -0.100       0.141\n",
            "CHAS           2.6867      0.862      3.118      0.002       0.994       4.380\n",
            "NOX          -17.7666      3.820     -4.651      0.000     -25.272     -10.262\n",
            "RM             3.8099      0.418      9.116      0.000       2.989       4.631\n",
            "AGE            0.0007      0.013      0.052      0.958      -0.025       0.027\n",
            "DIS           -1.4756      0.199     -7.398      0.000      -1.867      -1.084\n",
            "RAD            0.3060      0.066      4.613      0.000       0.176       0.436\n",
            "TAX           -0.0123      0.004     -3.280      0.001      -0.020      -0.005\n",
            "PTRATIO       -0.9527      0.131     -7.283      0.000      -1.210      -0.696\n",
            "B              0.0093      0.003      3.467      0.001       0.004       0.015\n",
            "LSTAT         -0.5248      0.051    -10.347      0.000      -0.624      -0.425\n",
            "==============================================================================\n",
            "Omnibus:                      178.041   Durbin-Watson:                   1.078\n",
            "Prob(Omnibus):                  0.000   Jarque-Bera (JB):              783.126\n",
            "Skew:                           1.521   Prob(JB):                    8.84e-171\n",
            "Kurtosis:                       8.281   Cond. No.                     1.51e+04\n",
            "==============================================================================\n",
            "\n",
            "Warnings:\n",
            "[1] Standard Errors assume that the covariance matrix of the errors is correctly specified.\n",
            "[2] The condition number is large, 1.51e+04. This might indicate that there are\n",
            "strong multicollinearity or other numerical problems.\n"
          ],
          "name": "stdout"
        }
      ]
    },
    {
      "cell_type": "markdown",
      "metadata": {
        "id": "fh987ltbZLdp"
      },
      "source": [
        "ii. Determina qué variables no resultaron significativas\n",
        "considerendo un 𝑣𝑎𝑙𝑜𝑟-𝑝 = 0.01. "
      ]
    },
    {
      "cell_type": "markdown",
      "metadata": {
        "id": "F-Et8mlwpf5j"
      },
      "source": [
        "## ii - Quitando variables con p-value mayor a 0.01\n",
        "### Removiendo variables:\n",
        "* INDUS\n",
        "* AGE\n",
        "* quedando: \n",
        "\n",
        "x_pvalue = dataset_pvalue[[\"CRIM\",\"ZN\",\"CHAS\",\"NOX\",\"RM\",\"DIS\",\"RAD\",\"TAX\",\"PTRATIO\",\"B\",\"LSTAT\"]]\n",
        "\n",
        "y_pvalue = dataset_pvalue[[\"MEDV\"]]\n"
      ]
    },
    {
      "cell_type": "markdown",
      "metadata": {
        "id": "YI2uutQ5cOD9"
      },
      "source": [
        "Determina qué variables no resultaron significativas\n",
        "considerendo un 𝑣𝑎𝑙𝑜𝑟-𝑝 = 0.01. "
      ]
    },
    {
      "cell_type": "code",
      "metadata": {
        "id": "xp7Pkbqpp6RD"
      },
      "source": [
        "dataset_pvalue = pd.DataFrame(mydata[[\"CRIM\",\"ZN\",\"CHAS\",\"NOX\",\"RM\",\"DIS\",\"RAD\",\"TAX\",\"PTRATIO\",\"B\",\"LSTAT\",\"MEDV\"]])\n",
        "x_pvalue = dataset_pvalue [[\"CRIM\",\"ZN\",\"CHAS\",\"NOX\",\"RM\",\"DIS\",\"RAD\",\"TAX\",\"PTRATIO\",\"B\",\"LSTAT\"]]\n",
        "xones_pvalue = sm.add_constant(x_pvalue)\n",
        "y_pvalue = dataset_pvalue[[\"MEDV\"]]\n",
        "mymodel_pvalue = sm.OLS(y_pvalue, xones_pvalue).fit()"
      ],
      "execution_count": null,
      "outputs": []
    },
    {
      "cell_type": "markdown",
      "metadata": {
        "id": "wrxcdVSEZXQH"
      },
      "source": [
        "Los valores P de ambas variables eran muy por sobre el limite, el modelo tiene valores de R y R ajustada aproximados a 1"
      ]
    },
    {
      "cell_type": "markdown",
      "metadata": {
        "id": "XmnRFn_w9git"
      },
      "source": [
        "## iii Segundo modelo (sin las variables con valor p alto)"
      ]
    },
    {
      "cell_type": "markdown",
      "metadata": {
        "id": "OQ5lZc5scKm5"
      },
      "source": [
        "Obtener un segundo modelo de RLM omitiendo las variables\n",
        "que no resultaron significativas en el inciso anterior. Comparar\n",
        "su coeficiente de determinación ajustado con base con\n",
        "respecto al primer modelo. "
      ]
    },
    {
      "cell_type": "markdown",
      "metadata": {
        "id": "f9e93vlRrCYh"
      },
      "source": [
        "OLS = Ordinary Least Squares"
      ]
    },
    {
      "cell_type": "code",
      "metadata": {
        "id": "WvhFP044rIEI",
        "colab": {
          "base_uri": "https://localhost:8080/",
          "height": 656
        },
        "outputId": "b018af29-69bd-447d-f206-d81091a93792"
      },
      "source": [
        "print(mymodel_pvalue.summary())"
      ],
      "execution_count": null,
      "outputs": [
        {
          "output_type": "stream",
          "text": [
            "                            OLS Regression Results                            \n",
            "==============================================================================\n",
            "Dep. Variable:                   MEDV   R-squared:                       0.741\n",
            "Model:                            OLS   Adj. R-squared:                  0.735\n",
            "Method:                 Least Squares   F-statistic:                     128.2\n",
            "Date:                Mon, 31 Aug 2020   Prob (F-statistic):          5.54e-137\n",
            "Time:                        15:51:06   Log-Likelihood:                -1498.9\n",
            "No. Observations:                 506   AIC:                             3022.\n",
            "Df Residuals:                     494   BIC:                             3072.\n",
            "Df Model:                          11                                         \n",
            "Covariance Type:            nonrobust                                         \n",
            "==============================================================================\n",
            "                 coef    std err          t      P>|t|      [0.025      0.975]\n",
            "------------------------------------------------------------------------------\n",
            "const         36.3411      5.067      7.171      0.000      26.385      46.298\n",
            "CRIM          -0.1084      0.033     -3.307      0.001      -0.173      -0.044\n",
            "ZN             0.0458      0.014      3.390      0.001       0.019       0.072\n",
            "CHAS           2.7187      0.854      3.183      0.002       1.040       4.397\n",
            "NOX          -17.3760      3.535     -4.915      0.000     -24.322     -10.430\n",
            "RM             3.8016      0.406      9.356      0.000       3.003       4.600\n",
            "DIS           -1.4927      0.186     -8.037      0.000      -1.858      -1.128\n",
            "RAD            0.2996      0.063      4.726      0.000       0.175       0.424\n",
            "TAX           -0.0118      0.003     -3.493      0.001      -0.018      -0.005\n",
            "PTRATIO       -0.9465      0.129     -7.334      0.000      -1.200      -0.693\n",
            "B              0.0093      0.003      3.475      0.001       0.004       0.015\n",
            "LSTAT         -0.5226      0.047    -11.019      0.000      -0.616      -0.429\n",
            "==============================================================================\n",
            "Omnibus:                      178.430   Durbin-Watson:                   1.078\n",
            "Prob(Omnibus):                  0.000   Jarque-Bera (JB):              787.785\n",
            "Skew:                           1.523   Prob(JB):                    8.60e-172\n",
            "Kurtosis:                       8.300   Cond. No.                     1.47e+04\n",
            "==============================================================================\n",
            "\n",
            "Warnings:\n",
            "[1] Standard Errors assume that the covariance matrix of the errors is correctly specified.\n",
            "[2] The condition number is large, 1.47e+04. This might indicate that there are\n",
            "strong multicollinearity or other numerical problems.\n"
          ],
          "name": "stdout"
        }
      ]
    },
    {
      "cell_type": "code",
      "metadata": {
        "id": "5fo3ODQqrS-W",
        "colab": {
          "base_uri": "https://localhost:8080/",
          "height": 570
        },
        "outputId": "0213ca95-3e4c-42fb-b7ac-2c96ca3b7ec8"
      },
      "source": [
        "print(mymodel_pvalue.summary2())"
      ],
      "execution_count": null,
      "outputs": [
        {
          "output_type": "stream",
          "text": [
            "                 Results: Ordinary least squares\n",
            "==================================================================\n",
            "Model:              OLS              Adj. R-squared:     0.735    \n",
            "Dependent Variable: MEDV             AIC:                3021.7264\n",
            "Date:               2020-08-31 15:51 BIC:                3072.4448\n",
            "No. Observations:   506              Log-Likelihood:     -1498.9  \n",
            "Df Model:           11               F-statistic:        128.2    \n",
            "Df Residuals:       494              Prob (F-statistic): 5.54e-137\n",
            "R-squared:          0.741            Scale:              22.432   \n",
            "-------------------------------------------------------------------\n",
            "            Coef.    Std.Err.     t      P>|t|    [0.025    0.975] \n",
            "-------------------------------------------------------------------\n",
            "const       36.3411    5.0675    7.1714  0.0000   26.3846   46.2976\n",
            "CRIM        -0.1084    0.0328   -3.3074  0.0010   -0.1728   -0.0440\n",
            "ZN           0.0458    0.0135    3.3902  0.0008    0.0193    0.0724\n",
            "CHAS         2.7187    0.8542    3.1826  0.0016    1.0403    4.3971\n",
            "NOX        -17.3760    3.5352   -4.9151  0.0000  -24.3220  -10.4301\n",
            "RM           3.8016    0.4063    9.3562  0.0000    3.0033    4.5999\n",
            "DIS         -1.4927    0.1857   -8.0370  0.0000   -1.8576   -1.1278\n",
            "RAD          0.2996    0.0634    4.7255  0.0000    0.1750    0.4242\n",
            "TAX         -0.0118    0.0034   -3.4925  0.0005   -0.0184   -0.0052\n",
            "PTRATIO     -0.9465    0.1291   -7.3337  0.0000   -1.2001   -0.6929\n",
            "B            0.0093    0.0027    3.4746  0.0006    0.0040    0.0145\n",
            "LSTAT       -0.5226    0.0474  -11.0187  0.0000   -0.6157   -0.4294\n",
            "------------------------------------------------------------------\n",
            "Omnibus:             178.430       Durbin-Watson:          1.078  \n",
            "Prob(Omnibus):       0.000         Jarque-Bera (JB):       787.785\n",
            "Skew:                1.523         Prob(JB):               0.000  \n",
            "Kurtosis:            8.300         Condition No.:          14685  \n",
            "==================================================================\n",
            "* The condition number is large (1e+04). This might indicate\n",
            "strong multicollinearity or other numerical problems.\n"
          ],
          "name": "stdout"
        }
      ]
    },
    {
      "cell_type": "markdown",
      "metadata": {
        "id": "O5DBJ3NstiPQ"
      },
      "source": [
        "### Camparando R2 y la R2 ajustada de los primeros 2 modelos:\n",
        "\n",
        "*   Valor de R2 y R2 ajustada del modelo con todas las variables: \n",
        "    * 0.741 \n",
        "    * 0.734\n",
        "*   Valor de R2 y R2 ajustada del modelo con todas las variables: \n",
        "    * 0.741 \n",
        "    * 0.735\n",
        "\n",
        "Hay una pequeña mejora en e la R2 ajustada, sin embargo no parece significativa. Aunque menos variables facilita el manejo del modelo, se sugiere tomar en cuenta, ahora con estas 11 variables una anlísis de correlación\n",
        "\n"
      ]
    },
    {
      "cell_type": "markdown",
      "metadata": {
        "id": "oBNcymF_-e4e"
      },
      "source": [
        "## iv - Obteniendo la matríz de coorelación de 14 variables"
      ]
    },
    {
      "cell_type": "markdown",
      "metadata": {
        "id": "CPKaHzQwcFwb"
      },
      "source": [
        "Obtener la matriz de correlación de Pearson de las 14\n",
        "variables. Con base a dicha matriz identifica los pares de\n",
        "variables independientes que tengan un coeficiente de\n",
        "correlación mayor o igual a 0.7 en valor absoluto. Obtener un\n",
        "tercer modelo de RLM y compara la significacia de los\n",
        "coeficientes y su coeficiente de determinación ajustado con\n",
        "respecto a los dos primeros modelos. "
      ]
    },
    {
      "cell_type": "code",
      "metadata": {
        "id": "xDTOlJTo-iyb",
        "colab": {
          "base_uri": "https://localhost:8080/",
          "height": 468
        },
        "outputId": "1c846a5a-fc82-4786-9c76-b19d76cfaf79"
      },
      "source": [
        "dataset.corr(method='pearson')"
      ],
      "execution_count": null,
      "outputs": [
        {
          "output_type": "execute_result",
          "data": {
            "text/html": [
              "<div>\n",
              "<style scoped>\n",
              "    .dataframe tbody tr th:only-of-type {\n",
              "        vertical-align: middle;\n",
              "    }\n",
              "\n",
              "    .dataframe tbody tr th {\n",
              "        vertical-align: top;\n",
              "    }\n",
              "\n",
              "    .dataframe thead th {\n",
              "        text-align: right;\n",
              "    }\n",
              "</style>\n",
              "<table border=\"1\" class=\"dataframe\">\n",
              "  <thead>\n",
              "    <tr style=\"text-align: right;\">\n",
              "      <th></th>\n",
              "      <th>CRIM</th>\n",
              "      <th>ZN</th>\n",
              "      <th>INDUS</th>\n",
              "      <th>CHAS</th>\n",
              "      <th>NOX</th>\n",
              "      <th>RM</th>\n",
              "      <th>AGE</th>\n",
              "      <th>DIS</th>\n",
              "      <th>RAD</th>\n",
              "      <th>TAX</th>\n",
              "      <th>PTRATIO</th>\n",
              "      <th>B</th>\n",
              "      <th>LSTAT</th>\n",
              "      <th>MEDV</th>\n",
              "    </tr>\n",
              "  </thead>\n",
              "  <tbody>\n",
              "    <tr>\n",
              "      <th>CRIM</th>\n",
              "      <td>1.000000</td>\n",
              "      <td>-0.200469</td>\n",
              "      <td>0.406583</td>\n",
              "      <td>-0.055892</td>\n",
              "      <td>0.420972</td>\n",
              "      <td>-0.219247</td>\n",
              "      <td>0.352734</td>\n",
              "      <td>-0.379670</td>\n",
              "      <td>0.625505</td>\n",
              "      <td>0.582764</td>\n",
              "      <td>0.289946</td>\n",
              "      <td>-0.385064</td>\n",
              "      <td>0.455621</td>\n",
              "      <td>-0.388305</td>\n",
              "    </tr>\n",
              "    <tr>\n",
              "      <th>ZN</th>\n",
              "      <td>-0.200469</td>\n",
              "      <td>1.000000</td>\n",
              "      <td>-0.533828</td>\n",
              "      <td>-0.042697</td>\n",
              "      <td>-0.516604</td>\n",
              "      <td>0.311991</td>\n",
              "      <td>-0.569537</td>\n",
              "      <td>0.664408</td>\n",
              "      <td>-0.311948</td>\n",
              "      <td>-0.314563</td>\n",
              "      <td>-0.391679</td>\n",
              "      <td>0.175520</td>\n",
              "      <td>-0.412995</td>\n",
              "      <td>0.360445</td>\n",
              "    </tr>\n",
              "    <tr>\n",
              "      <th>INDUS</th>\n",
              "      <td>0.406583</td>\n",
              "      <td>-0.533828</td>\n",
              "      <td>1.000000</td>\n",
              "      <td>0.062938</td>\n",
              "      <td>0.763651</td>\n",
              "      <td>-0.391676</td>\n",
              "      <td>0.644779</td>\n",
              "      <td>-0.708027</td>\n",
              "      <td>0.595129</td>\n",
              "      <td>0.720760</td>\n",
              "      <td>0.383248</td>\n",
              "      <td>-0.356977</td>\n",
              "      <td>0.603800</td>\n",
              "      <td>-0.483725</td>\n",
              "    </tr>\n",
              "    <tr>\n",
              "      <th>CHAS</th>\n",
              "      <td>-0.055892</td>\n",
              "      <td>-0.042697</td>\n",
              "      <td>0.062938</td>\n",
              "      <td>1.000000</td>\n",
              "      <td>0.091203</td>\n",
              "      <td>0.091251</td>\n",
              "      <td>0.086518</td>\n",
              "      <td>-0.099176</td>\n",
              "      <td>-0.007368</td>\n",
              "      <td>-0.035587</td>\n",
              "      <td>-0.121515</td>\n",
              "      <td>0.048788</td>\n",
              "      <td>-0.053929</td>\n",
              "      <td>0.175260</td>\n",
              "    </tr>\n",
              "    <tr>\n",
              "      <th>NOX</th>\n",
              "      <td>0.420972</td>\n",
              "      <td>-0.516604</td>\n",
              "      <td>0.763651</td>\n",
              "      <td>0.091203</td>\n",
              "      <td>1.000000</td>\n",
              "      <td>-0.302188</td>\n",
              "      <td>0.731470</td>\n",
              "      <td>-0.769230</td>\n",
              "      <td>0.611441</td>\n",
              "      <td>0.668023</td>\n",
              "      <td>0.188933</td>\n",
              "      <td>-0.380051</td>\n",
              "      <td>0.590879</td>\n",
              "      <td>-0.427321</td>\n",
              "    </tr>\n",
              "    <tr>\n",
              "      <th>RM</th>\n",
              "      <td>-0.219247</td>\n",
              "      <td>0.311991</td>\n",
              "      <td>-0.391676</td>\n",
              "      <td>0.091251</td>\n",
              "      <td>-0.302188</td>\n",
              "      <td>1.000000</td>\n",
              "      <td>-0.240265</td>\n",
              "      <td>0.205246</td>\n",
              "      <td>-0.209847</td>\n",
              "      <td>-0.292048</td>\n",
              "      <td>-0.355501</td>\n",
              "      <td>0.128069</td>\n",
              "      <td>-0.613808</td>\n",
              "      <td>0.695360</td>\n",
              "    </tr>\n",
              "    <tr>\n",
              "      <th>AGE</th>\n",
              "      <td>0.352734</td>\n",
              "      <td>-0.569537</td>\n",
              "      <td>0.644779</td>\n",
              "      <td>0.086518</td>\n",
              "      <td>0.731470</td>\n",
              "      <td>-0.240265</td>\n",
              "      <td>1.000000</td>\n",
              "      <td>-0.747881</td>\n",
              "      <td>0.456022</td>\n",
              "      <td>0.506456</td>\n",
              "      <td>0.261515</td>\n",
              "      <td>-0.273534</td>\n",
              "      <td>0.602339</td>\n",
              "      <td>-0.376955</td>\n",
              "    </tr>\n",
              "    <tr>\n",
              "      <th>DIS</th>\n",
              "      <td>-0.379670</td>\n",
              "      <td>0.664408</td>\n",
              "      <td>-0.708027</td>\n",
              "      <td>-0.099176</td>\n",
              "      <td>-0.769230</td>\n",
              "      <td>0.205246</td>\n",
              "      <td>-0.747881</td>\n",
              "      <td>1.000000</td>\n",
              "      <td>-0.494588</td>\n",
              "      <td>-0.534432</td>\n",
              "      <td>-0.232471</td>\n",
              "      <td>0.291512</td>\n",
              "      <td>-0.496996</td>\n",
              "      <td>0.249929</td>\n",
              "    </tr>\n",
              "    <tr>\n",
              "      <th>RAD</th>\n",
              "      <td>0.625505</td>\n",
              "      <td>-0.311948</td>\n",
              "      <td>0.595129</td>\n",
              "      <td>-0.007368</td>\n",
              "      <td>0.611441</td>\n",
              "      <td>-0.209847</td>\n",
              "      <td>0.456022</td>\n",
              "      <td>-0.494588</td>\n",
              "      <td>1.000000</td>\n",
              "      <td>0.910228</td>\n",
              "      <td>0.464741</td>\n",
              "      <td>-0.444413</td>\n",
              "      <td>0.488676</td>\n",
              "      <td>-0.381626</td>\n",
              "    </tr>\n",
              "    <tr>\n",
              "      <th>TAX</th>\n",
              "      <td>0.582764</td>\n",
              "      <td>-0.314563</td>\n",
              "      <td>0.720760</td>\n",
              "      <td>-0.035587</td>\n",
              "      <td>0.668023</td>\n",
              "      <td>-0.292048</td>\n",
              "      <td>0.506456</td>\n",
              "      <td>-0.534432</td>\n",
              "      <td>0.910228</td>\n",
              "      <td>1.000000</td>\n",
              "      <td>0.460853</td>\n",
              "      <td>-0.441808</td>\n",
              "      <td>0.543993</td>\n",
              "      <td>-0.468536</td>\n",
              "    </tr>\n",
              "    <tr>\n",
              "      <th>PTRATIO</th>\n",
              "      <td>0.289946</td>\n",
              "      <td>-0.391679</td>\n",
              "      <td>0.383248</td>\n",
              "      <td>-0.121515</td>\n",
              "      <td>0.188933</td>\n",
              "      <td>-0.355501</td>\n",
              "      <td>0.261515</td>\n",
              "      <td>-0.232471</td>\n",
              "      <td>0.464741</td>\n",
              "      <td>0.460853</td>\n",
              "      <td>1.000000</td>\n",
              "      <td>-0.177383</td>\n",
              "      <td>0.374044</td>\n",
              "      <td>-0.507787</td>\n",
              "    </tr>\n",
              "    <tr>\n",
              "      <th>B</th>\n",
              "      <td>-0.385064</td>\n",
              "      <td>0.175520</td>\n",
              "      <td>-0.356977</td>\n",
              "      <td>0.048788</td>\n",
              "      <td>-0.380051</td>\n",
              "      <td>0.128069</td>\n",
              "      <td>-0.273534</td>\n",
              "      <td>0.291512</td>\n",
              "      <td>-0.444413</td>\n",
              "      <td>-0.441808</td>\n",
              "      <td>-0.177383</td>\n",
              "      <td>1.000000</td>\n",
              "      <td>-0.366087</td>\n",
              "      <td>0.333461</td>\n",
              "    </tr>\n",
              "    <tr>\n",
              "      <th>LSTAT</th>\n",
              "      <td>0.455621</td>\n",
              "      <td>-0.412995</td>\n",
              "      <td>0.603800</td>\n",
              "      <td>-0.053929</td>\n",
              "      <td>0.590879</td>\n",
              "      <td>-0.613808</td>\n",
              "      <td>0.602339</td>\n",
              "      <td>-0.496996</td>\n",
              "      <td>0.488676</td>\n",
              "      <td>0.543993</td>\n",
              "      <td>0.374044</td>\n",
              "      <td>-0.366087</td>\n",
              "      <td>1.000000</td>\n",
              "      <td>-0.737663</td>\n",
              "    </tr>\n",
              "    <tr>\n",
              "      <th>MEDV</th>\n",
              "      <td>-0.388305</td>\n",
              "      <td>0.360445</td>\n",
              "      <td>-0.483725</td>\n",
              "      <td>0.175260</td>\n",
              "      <td>-0.427321</td>\n",
              "      <td>0.695360</td>\n",
              "      <td>-0.376955</td>\n",
              "      <td>0.249929</td>\n",
              "      <td>-0.381626</td>\n",
              "      <td>-0.468536</td>\n",
              "      <td>-0.507787</td>\n",
              "      <td>0.333461</td>\n",
              "      <td>-0.737663</td>\n",
              "      <td>1.000000</td>\n",
              "    </tr>\n",
              "  </tbody>\n",
              "</table>\n",
              "</div>"
            ],
            "text/plain": [
              "             CRIM        ZN     INDUS  ...         B     LSTAT      MEDV\n",
              "CRIM     1.000000 -0.200469  0.406583  ... -0.385064  0.455621 -0.388305\n",
              "ZN      -0.200469  1.000000 -0.533828  ...  0.175520 -0.412995  0.360445\n",
              "INDUS    0.406583 -0.533828  1.000000  ... -0.356977  0.603800 -0.483725\n",
              "CHAS    -0.055892 -0.042697  0.062938  ...  0.048788 -0.053929  0.175260\n",
              "NOX      0.420972 -0.516604  0.763651  ... -0.380051  0.590879 -0.427321\n",
              "RM      -0.219247  0.311991 -0.391676  ...  0.128069 -0.613808  0.695360\n",
              "AGE      0.352734 -0.569537  0.644779  ... -0.273534  0.602339 -0.376955\n",
              "DIS     -0.379670  0.664408 -0.708027  ...  0.291512 -0.496996  0.249929\n",
              "RAD      0.625505 -0.311948  0.595129  ... -0.444413  0.488676 -0.381626\n",
              "TAX      0.582764 -0.314563  0.720760  ... -0.441808  0.543993 -0.468536\n",
              "PTRATIO  0.289946 -0.391679  0.383248  ... -0.177383  0.374044 -0.507787\n",
              "B       -0.385064  0.175520 -0.356977  ...  1.000000 -0.366087  0.333461\n",
              "LSTAT    0.455621 -0.412995  0.603800  ... -0.366087  1.000000 -0.737663\n",
              "MEDV    -0.388305  0.360445 -0.483725  ...  0.333461 -0.737663  1.000000\n",
              "\n",
              "[14 rows x 14 columns]"
            ]
          },
          "metadata": {
            "tags": []
          },
          "execution_count": 145
        }
      ]
    },
    {
      "cell_type": "markdown",
      "metadata": {
        "id": "8tbDzXKc-7rw"
      },
      "source": [
        ""
      ]
    },
    {
      "cell_type": "code",
      "metadata": {
        "id": "gOnYiAjg-67b",
        "colab": {
          "base_uri": "https://localhost:8080/",
          "height": 225
        },
        "outputId": "81cb1c91-b4ed-4d0a-ce47-6f4faece5132"
      },
      "source": [
        "corr_mtx = dataset.corr(method='pearson').abs()\n",
        "corr_pairs = corr_mtx.unstack()\n",
        "corr_pairs_sorted = corr_pairs.sort_values(kind='quicksort')\n",
        "print(corr_pairs_sorted)"
      ],
      "execution_count": null,
      "outputs": [
        {
          "output_type": "stream",
          "text": [
            "CHAS   RAD      0.007368\n",
            "RAD    CHAS     0.007368\n",
            "CHAS   TAX      0.035587\n",
            "TAX    CHAS     0.035587\n",
            "ZN     CHAS     0.042697\n",
            "                  ...   \n",
            "CHAS   CHAS     1.000000\n",
            "INDUS  INDUS    1.000000\n",
            "ZN     ZN       1.000000\n",
            "LSTAT  LSTAT    1.000000\n",
            "MEDV   MEDV     1.000000\n",
            "Length: 196, dtype: float64\n"
          ],
          "name": "stdout"
        }
      ]
    },
    {
      "cell_type": "markdown",
      "metadata": {
        "id": "6stzvKjeBCfe"
      },
      "source": [
        "### Removiendo relaciones debajo de 0.7 e iguales a \"1\""
      ]
    },
    {
      "cell_type": "code",
      "metadata": {
        "id": "xETRtKtyADoH",
        "colab": {
          "base_uri": "https://localhost:8080/",
          "height": 311
        },
        "outputId": "f7da6983-9c32-452d-c8d1-bbf2fcf2862f"
      },
      "source": [
        "corr_pairs_strong = corr_pairs_sorted[(corr_pairs_sorted >= 0.7) & (corr_pairs_sorted < 1)]\n",
        "print(corr_pairs_strong)"
      ],
      "execution_count": null,
      "outputs": [
        {
          "output_type": "stream",
          "text": [
            "INDUS  DIS      0.708027\n",
            "DIS    INDUS    0.708027\n",
            "INDUS  TAX      0.720760\n",
            "TAX    INDUS    0.720760\n",
            "NOX    AGE      0.731470\n",
            "AGE    NOX      0.731470\n",
            "MEDV   LSTAT    0.737663\n",
            "LSTAT  MEDV     0.737663\n",
            "DIS    AGE      0.747881\n",
            "AGE    DIS      0.747881\n",
            "NOX    INDUS    0.763651\n",
            "INDUS  NOX      0.763651\n",
            "DIS    NOX      0.769230\n",
            "NOX    DIS      0.769230\n",
            "TAX    RAD      0.910228\n",
            "RAD    TAX      0.910228\n",
            "dtype: float64\n"
          ],
          "name": "stdout"
        }
      ]
    },
    {
      "cell_type": "markdown",
      "metadata": {
        "id": "s7r0uV58Cy-C"
      },
      "source": [
        "### INDUS DIS relation"
      ]
    },
    {
      "cell_type": "code",
      "metadata": {
        "id": "vIFL5h1eC3Wi",
        "colab": {
          "base_uri": "https://localhost:8080/",
          "height": 69
        },
        "outputId": "3cbe10ee-432f-40f1-8021-c5e35482ed16"
      },
      "source": [
        "print(\"Correlation INDUS & DIS \", corr_pairs_strong[\"INDUS\",\"DIS\"])\n",
        "print(\"Correlation INDUS & MEDV \", corr_pairs_sorted [\"INDUS\",\"MEDV\"])\n",
        "print(\"Correlation DIS & MEDV \", corr_pairs_sorted [\"DIS\",\"MEDV\"])"
      ],
      "execution_count": null,
      "outputs": [
        {
          "output_type": "stream",
          "text": [
            "Correlation INDUS & DIS  0.7080269887427683\n",
            "Correlation INDUS & MEDV  0.483725160028373\n",
            "Correlation DIS & MEDV  0.24992873408590394\n"
          ],
          "name": "stdout"
        }
      ]
    },
    {
      "cell_type": "markdown",
      "metadata": {
        "id": "cWyPD1J5Dsqj"
      },
      "source": [
        "#### Keeping INDUS (Corr 0.483725160028373)"
      ]
    },
    {
      "cell_type": "markdown",
      "metadata": {
        "id": "TJygnRJUEZlu"
      },
      "source": [
        "### INDUS TAX relation"
      ]
    },
    {
      "cell_type": "code",
      "metadata": {
        "id": "aYSmcwtoEZlu",
        "colab": {
          "base_uri": "https://localhost:8080/",
          "height": 69
        },
        "outputId": "aa6f18e2-f767-44ed-b72d-1b5f86fa9618"
      },
      "source": [
        "print(\"Correlation INDUS & TAX \", corr_pairs_strong[\"INDUS\",\"TAX\"])\n",
        "print(\"Correlation INDUS & MEDV \", corr_pairs_sorted [\"INDUS\",\"MEDV\"])\n",
        "print(\"Correlation TAX & MEDV \", corr_pairs_sorted [\"TAX\",\"MEDV\"])"
      ],
      "execution_count": null,
      "outputs": [
        {
          "output_type": "stream",
          "text": [
            "Correlation INDUS & TAX  0.7207601799515441\n",
            "Correlation INDUS & MEDV  0.483725160028373\n",
            "Correlation TAX & MEDV  0.46853593356776646\n"
          ],
          "name": "stdout"
        }
      ]
    },
    {
      "cell_type": "markdown",
      "metadata": {
        "id": "zxEeat5uEZlw"
      },
      "source": [
        "#### Keeping INDUS (Corr 0.483725160028373)"
      ]
    },
    {
      "cell_type": "markdown",
      "metadata": {
        "id": "jc3-_BZLEZSN"
      },
      "source": [
        "### NOX AGE relation"
      ]
    },
    {
      "cell_type": "code",
      "metadata": {
        "id": "reuKf13dEZSO",
        "colab": {
          "base_uri": "https://localhost:8080/",
          "height": 69
        },
        "outputId": "e9d135fa-a38e-4bd9-f10f-8f16a8b5735e"
      },
      "source": [
        "print(\"Correlation NOX & AGE \", corr_pairs_strong[\"NOX\",\"AGE\"])\n",
        "print(\"Correlation NOX & MEDV \", corr_pairs_sorted [\"NOX\",\"MEDV\"])\n",
        "print(\"Correlation AGE & MEDV \", corr_pairs_sorted [\"AGE\",\"MEDV\"])"
      ],
      "execution_count": null,
      "outputs": [
        {
          "output_type": "stream",
          "text": [
            "Correlation NOX & AGE  0.7314701037859578\n",
            "Correlation NOX & MEDV  0.42732077237328164\n",
            "Correlation AGE & MEDV  0.3769545650045959\n"
          ],
          "name": "stdout"
        }
      ]
    },
    {
      "cell_type": "markdown",
      "metadata": {
        "id": "Hkrg7SQ4EZSQ"
      },
      "source": [
        "#### Keeping NOX (Corr 0.42732077237328164)"
      ]
    },
    {
      "cell_type": "markdown",
      "metadata": {
        "id": "DpxrVfXlEY_A"
      },
      "source": [
        "### MEDV LSTAT relation"
      ]
    },
    {
      "cell_type": "code",
      "metadata": {
        "id": "mW9NsdgCEY_B",
        "colab": {
          "base_uri": "https://localhost:8080/",
          "height": 69
        },
        "outputId": "9f70a13b-9964-4468-e66e-572f0c0378b1"
      },
      "source": [
        "print(\"Correlation MEDV & LSTAT \", corr_pairs_strong[\"MEDV\",\"LSTAT\"])\n",
        "print(\"Correlation LSTAT & MEDV \", corr_pairs_sorted [\"LSTAT\",\"MEDV\"])\n",
        "print(\"Correlation LSTAT & MEDV \", corr_pairs [\"LSTAT\",\"MEDV\"])"
      ],
      "execution_count": null,
      "outputs": [
        {
          "output_type": "stream",
          "text": [
            "Correlation MEDV & LSTAT  0.7376627261740143\n",
            "Correlation LSTAT & MEDV  0.7376627261740143\n",
            "Correlation LSTAT & MEDV  0.7376627261740143\n"
          ],
          "name": "stdout"
        }
      ]
    },
    {
      "cell_type": "markdown",
      "metadata": {
        "id": "knL0ICbFEY_E"
      },
      "source": [
        "#### Keeping LSTAT as it shows a strong coorrelation with the dependant var (0.7376627261740143)"
      ]
    },
    {
      "cell_type": "markdown",
      "metadata": {
        "id": "uVDMok10EYgH"
      },
      "source": [
        "### DIS AGE relation"
      ]
    },
    {
      "cell_type": "code",
      "metadata": {
        "id": "-7OkcCKAEYgI",
        "colab": {
          "base_uri": "https://localhost:8080/",
          "height": 69
        },
        "outputId": "3a99a18a-ad41-4c3f-a986-7b6927d2da9c"
      },
      "source": [
        "print(\"Correlation DIS & AGE \", corr_pairs_strong[\"DIS\",\"AGE\"])\n",
        "print(\"Correlation DIS & MEDV \", corr_pairs_sorted [\"DIS\",\"MEDV\"])\n",
        "print(\"Correlation AGE & MEDV \", corr_pairs_sorted [\"AGE\",\"MEDV\"])"
      ],
      "execution_count": null,
      "outputs": [
        {
          "output_type": "stream",
          "text": [
            "Correlation DIS & AGE  0.7478805408686316\n",
            "Correlation DIS & MEDV  0.24992873408590394\n",
            "Correlation AGE & MEDV  0.3769545650045959\n"
          ],
          "name": "stdout"
        }
      ]
    },
    {
      "cell_type": "markdown",
      "metadata": {
        "id": "rkH-dFQjEYgL"
      },
      "source": [
        "#### Keeping AGE (Corr 0.3769545650045959), however gien age's poor pvalue probably better analyze keeping DIS"
      ]
    },
    {
      "cell_type": "markdown",
      "metadata": {
        "id": "-NWhs758ESMD"
      },
      "source": [
        "### NOX INDUS relation"
      ]
    },
    {
      "cell_type": "code",
      "metadata": {
        "id": "VQx6tFptESMF",
        "colab": {
          "base_uri": "https://localhost:8080/",
          "height": 69
        },
        "outputId": "f205d5fb-bf88-41a5-c555-34f4f55ce0b6"
      },
      "source": [
        "print(\"Correlation NOX & INDUS \", corr_pairs_strong[\"NOX\",\"INDUS\"])\n",
        "print(\"Correlation NOX & MEDV \", corr_pairs_sorted [\"NOX\",\"MEDV\"])\n",
        "print(\"Correlation INDUS & MEDV \", corr_pairs_sorted [\"INDUS\",\"MEDV\"])"
      ],
      "execution_count": null,
      "outputs": [
        {
          "output_type": "stream",
          "text": [
            "Correlation NOX & INDUS  0.7636514469209145\n",
            "Correlation NOX & MEDV  0.42732077237328164\n",
            "Correlation INDUS & MEDV  0.483725160028373\n"
          ],
          "name": "stdout"
        }
      ]
    },
    {
      "cell_type": "markdown",
      "metadata": {
        "id": "oSQNOq_gESMH"
      },
      "source": [
        "#### Keeping INDUS (Corr 0.483725160028373)"
      ]
    },
    {
      "cell_type": "markdown",
      "metadata": {
        "id": "rFfaOpQNEWp8"
      },
      "source": [
        "### DIS NOX relation"
      ]
    },
    {
      "cell_type": "code",
      "metadata": {
        "id": "-e6_9eCJEWp9",
        "colab": {
          "base_uri": "https://localhost:8080/",
          "height": 69
        },
        "outputId": "bc2b6ab4-e792-4e26-a41f-dc8b551c6c4f"
      },
      "source": [
        "print(\"Correlation DIS & NOX \", corr_pairs_strong[\"DIS\",\"NOX\"])\n",
        "print(\"Correlation DIS & MEDV \", corr_pairs_sorted [\"DIS\",\"MEDV\"])\n",
        "print(\"Correlation NOX & MEDV \", corr_pairs_sorted [\"NOX\",\"MEDV\"])"
      ],
      "execution_count": null,
      "outputs": [
        {
          "output_type": "stream",
          "text": [
            "Correlation DIS & NOX  0.7692301132258261\n",
            "Correlation DIS & MEDV  0.24992873408590394\n",
            "Correlation NOX & MEDV  0.42732077237328164\n"
          ],
          "name": "stdout"
        }
      ]
    },
    {
      "cell_type": "markdown",
      "metadata": {
        "id": "M3rXqr_FEWp-"
      },
      "source": [
        "#### Keeping NOX (Corr 0.42732077237328164)\n",
        "\n",
        "> Indented block\n",
        "\n"
      ]
    },
    {
      "cell_type": "markdown",
      "metadata": {
        "id": "HdF_r76_EXMb"
      },
      "source": [
        "### TAX RAD relation"
      ]
    },
    {
      "cell_type": "code",
      "metadata": {
        "id": "6-GvGsf1EXMb",
        "colab": {
          "base_uri": "https://localhost:8080/",
          "height": 69
        },
        "outputId": "938bd6aa-0fae-4552-cb85-95d0e417b2d5"
      },
      "source": [
        "print(\"Correlation TAX & RAD \", corr_pairs_strong[\"TAX\",\"RAD\"])\n",
        "print(\"Correlation TAX & MEDV \", corr_pairs_sorted [\"TAX\",\"MEDV\"])\n",
        "print(\"Correlation RAD & MEDV \", corr_pairs_sorted [\"RAD\",\"MEDV\"])"
      ],
      "execution_count": null,
      "outputs": [
        {
          "output_type": "stream",
          "text": [
            "Correlation TAX & RAD  0.9102281885331822\n",
            "Correlation TAX & MEDV  0.46853593356776646\n",
            "Correlation RAD & MEDV  0.3816262306397776\n"
          ],
          "name": "stdout"
        }
      ]
    },
    {
      "cell_type": "markdown",
      "metadata": {
        "id": "pLSzpwEyEXMd"
      },
      "source": [
        "#### Keeping TAX (Corr 0.46853593356776646)"
      ]
    },
    {
      "cell_type": "markdown",
      "metadata": {
        "id": "WZy7mrPvG4gm"
      },
      "source": [
        "### Tercer modelo"
      ]
    },
    {
      "cell_type": "code",
      "metadata": {
        "id": "oLYpR0ODHAiz",
        "colab": {
          "base_uri": "https://localhost:8080/",
          "height": 553
        },
        "outputId": "bea33a00-18fc-4911-9753-c43efdc23132"
      },
      "source": [
        "dataset_corr_sig = pd.DataFrame(mydata[[\"CRIM\",\"ZN\",\"INDUS\",\"CHAS\",\"NOX\",\"RM\",\"AGE\",\"DIS\",\"RAD\",\"TAX\",\"PTRATIO\",\"B\",\"LSTAT\", \"MEDV\"]])\n",
        "x_corr_sig= dataset_corr_sig [[\"INDUS\",\"NOX\",\"LSTAT\",\"AGE\",\"TAX\"]]\n",
        "xones_corr_sig = sm.add_constant(x_corr_sig)\n",
        "y_corr_sig = dataset_corr_sig[[\"MEDV\"]]\n",
        "mymodel_pvalue = sm.OLS(y_corr_sig, xones_corr_sig).fit()\n",
        "print(mymodel_pvalue.summary())"
      ],
      "execution_count": null,
      "outputs": [
        {
          "output_type": "stream",
          "text": [
            "                            OLS Regression Results                            \n",
            "==============================================================================\n",
            "Dep. Variable:                   MEDV   R-squared:                       0.565\n",
            "Model:                            OLS   Adj. R-squared:                  0.561\n",
            "Method:                 Least Squares   F-statistic:                     129.8\n",
            "Date:                Mon, 31 Aug 2020   Prob (F-statistic):           5.57e-88\n",
            "Time:                        15:51:06   Log-Likelihood:                -1629.7\n",
            "No. Observations:                 506   AIC:                             3271.\n",
            "Df Residuals:                     500   BIC:                             3297.\n",
            "Df Model:                           5                                         \n",
            "Covariance Type:            nonrobust                                         \n",
            "==============================================================================\n",
            "                 coef    std err          t      P>|t|      [0.025      0.975]\n",
            "------------------------------------------------------------------------------\n",
            "const         33.2992      1.603     20.778      0.000      30.151      36.448\n",
            "INDUS         -0.1149      0.070     -1.630      0.104      -0.253       0.024\n",
            "NOX            2.6529      4.297      0.617      0.537      -5.790      11.095\n",
            "LSTAT         -0.9552      0.052    -18.435      0.000      -1.057      -0.853\n",
            "AGE            0.0499      0.015      3.318      0.001       0.020       0.079\n",
            "TAX           -0.0056      0.002     -2.301      0.022      -0.010      -0.001\n",
            "==============================================================================\n",
            "Omnibus:                      135.578   Durbin-Watson:                   0.935\n",
            "Prob(Omnibus):                  0.000   Jarque-Bera (JB):              299.477\n",
            "Skew:                           1.411   Prob(JB):                     9.32e-66\n",
            "Kurtosis:                       5.498   Cond. No.                     7.45e+03\n",
            "==============================================================================\n",
            "\n",
            "Warnings:\n",
            "[1] Standard Errors assume that the covariance matrix of the errors is correctly specified.\n",
            "[2] The condition number is large, 7.45e+03. This might indicate that there are\n",
            "strong multicollinearity or other numerical problems.\n"
          ],
          "name": "stdout"
        }
      ]
    },
    {
      "cell_type": "markdown",
      "metadata": {
        "id": "p1MC0IgrIb5i"
      },
      "source": [
        "### Camparando R2 y la R2 ajustada de los primeros 3 modelos:\n",
        "\n",
        "*   R2 and adjusted R2 from first model: \n",
        "    * 0.741 \n",
        "    * 0.734\n",
        "*   R2 and adjusted R2 from second model: \n",
        "    * 0.741 \n",
        "    * 0.735\n",
        "*   R2 and adjusted R2 from third model: \n",
        "    * 0.565 \n",
        "    * 0.561\n",
        "\n",
        "\n",
        "Podemos observar que el tercer modelo se degrada, esto es por que aunque la correalción es alta, debemos tomar en cuenta y eliminar primero las variables con un valor p alto, antes de proceder a estas acciones.\n",
        "\n"
      ]
    },
    {
      "cell_type": "markdown",
      "metadata": {
        "id": "yjJSiPGzJF2h"
      },
      "source": [
        "## V - Modelo con una correlación mayor a 0.5"
      ]
    },
    {
      "cell_type": "markdown",
      "metadata": {
        "id": "FepopJYrcCpy"
      },
      "source": [
        "Con base a la matriz de correlación con las 14 variables,\n",
        "identifica ahora aquellas variables independientes que tengan\n",
        "una correlación de pearson mayor o igual a 0.5 con respecto a\n",
        "la variable dependiente MEDV. Obtener un cuarto modelo\n",
        "RLM y compararlo con los tres anteriores. "
      ]
    },
    {
      "cell_type": "markdown",
      "metadata": {
        "id": "XXV2Ojpne433"
      },
      "source": [
        "### obteniendo todas las correlaciones con MEDV "
      ]
    },
    {
      "cell_type": "code",
      "metadata": {
        "id": "gI8qbDYDJT8n",
        "colab": {
          "base_uri": "https://localhost:8080/",
          "height": 276
        },
        "outputId": "4cb34e50-3063-4c12-93f9-18a902fe1062"
      },
      "source": [
        "corr_pairs_medv = corr_pairs_sorted[\"MEDV\"]\n",
        "print(corr_pairs_medv)"
      ],
      "execution_count": null,
      "outputs": [
        {
          "output_type": "stream",
          "text": [
            "CHAS       0.175260\n",
            "DIS        0.249929\n",
            "B          0.333461\n",
            "ZN         0.360445\n",
            "AGE        0.376955\n",
            "RAD        0.381626\n",
            "CRIM       0.388305\n",
            "NOX        0.427321\n",
            "TAX        0.468536\n",
            "INDUS      0.483725\n",
            "PTRATIO    0.507787\n",
            "RM         0.695360\n",
            "LSTAT      0.737663\n",
            "MEDV       1.000000\n",
            "dtype: float64\n"
          ],
          "name": "stdout"
        }
      ]
    },
    {
      "cell_type": "markdown",
      "metadata": {
        "id": "brchwranfTYG"
      },
      "source": [
        "### Obeteniendo solo las variables mayores a 0.5 y diferentes de 1"
      ]
    },
    {
      "cell_type": "code",
      "metadata": {
        "id": "SK1zPJBgfERL",
        "colab": {
          "base_uri": "https://localhost:8080/",
          "height": 86
        },
        "outputId": "5d61f55f-26ac-4f37-a472-80c123afab62"
      },
      "source": [
        "corr_pairs_medv[(corr_pairs_medv >= 0.5) & (corr_pairs_medv < 1)]"
      ],
      "execution_count": null,
      "outputs": [
        {
          "output_type": "execute_result",
          "data": {
            "text/plain": [
              "PTRATIO    0.507787\n",
              "RM         0.695360\n",
              "LSTAT      0.737663\n",
              "dtype: float64"
            ]
          },
          "metadata": {
            "tags": []
          },
          "execution_count": 158
        }
      ]
    },
    {
      "cell_type": "markdown",
      "metadata": {
        "id": "MdqocAOefo5R"
      },
      "source": [
        "### Cuarto modelo"
      ]
    },
    {
      "cell_type": "code",
      "metadata": {
        "id": "QBhd_OZZfdLL",
        "colab": {
          "base_uri": "https://localhost:8080/",
          "height": 484
        },
        "outputId": "ec5f5c7f-5fe6-4e5c-c064-88d728c5e102"
      },
      "source": [
        "dataset_corr_cto = pd.DataFrame(mydata[[\"CRIM\",\"ZN\",\"INDUS\",\"CHAS\",\"NOX\",\"RM\",\"AGE\",\"DIS\",\"RAD\",\"TAX\",\"PTRATIO\",\"B\",\"LSTAT\", \"MEDV\"]])\n",
        "x_corr_cto = dataset_corr_cto [[\"RM\",\"PTRATIO\",\"LSTAT\"]]\n",
        "xones_corr_cto = sm.add_constant(x_corr_cto)\n",
        "y_corr_cto = dataset_corr_cto[[\"MEDV\"]]\n",
        "mymodel_cto = sm.OLS(y_corr_cto, xones_corr_cto).fit()\n",
        "print(mymodel_cto.summary())"
      ],
      "execution_count": null,
      "outputs": [
        {
          "output_type": "stream",
          "text": [
            "                            OLS Regression Results                            \n",
            "==============================================================================\n",
            "Dep. Variable:                   MEDV   R-squared:                       0.679\n",
            "Model:                            OLS   Adj. R-squared:                  0.677\n",
            "Method:                 Least Squares   F-statistic:                     353.3\n",
            "Date:                Mon, 31 Aug 2020   Prob (F-statistic):          2.69e-123\n",
            "Time:                        15:51:06   Log-Likelihood:                -1553.0\n",
            "No. Observations:                 506   AIC:                             3114.\n",
            "Df Residuals:                     502   BIC:                             3131.\n",
            "Df Model:                           3                                         \n",
            "Covariance Type:            nonrobust                                         \n",
            "==============================================================================\n",
            "                 coef    std err          t      P>|t|      [0.025      0.975]\n",
            "------------------------------------------------------------------------------\n",
            "const         18.5671      3.913      4.745      0.000      10.879      26.255\n",
            "RM             4.5154      0.426     10.603      0.000       3.679       5.352\n",
            "PTRATIO       -0.9307      0.118     -7.911      0.000      -1.162      -0.700\n",
            "LSTAT         -0.5718      0.042    -13.540      0.000      -0.655      -0.489\n",
            "==============================================================================\n",
            "Omnibus:                      202.072   Durbin-Watson:                   0.901\n",
            "Prob(Omnibus):                  0.000   Jarque-Bera (JB):             1022.153\n",
            "Skew:                           1.700   Prob(JB):                    1.10e-222\n",
            "Kurtosis:                       9.076   Cond. No.                         402.\n",
            "==============================================================================\n",
            "\n",
            "Warnings:\n",
            "[1] Standard Errors assume that the covariance matrix of the errors is correctly specified.\n"
          ],
          "name": "stdout"
        }
      ]
    },
    {
      "cell_type": "markdown",
      "metadata": {
        "id": "dp-Zb5WOgTVH"
      },
      "source": [
        "### Camparando R2 y la R2 ajustada de los primeros 4 modelos:\n",
        "\n",
        "*   R2 y R2 ajustada del primer modelo: \n",
        "    * 0.741 \n",
        "    * 0.734\n",
        "*   R2 y R2 ajustada del segundo modelo: \n",
        "    * 0.741 \n",
        "    * 0.735\n",
        "*   R2 y R2 ajustada del tercer modelo: \n",
        "    * 0.565 \n",
        "    * 0.561\n",
        "*   R2 y R2 ajustada del cuarto modelo: \n",
        "    * 0.679 \n",
        "    * 0.677\n",
        "\n",
        "Este cuarto modelo mejora con respecto al tercero, ya que solo usamos las variables con alta correlación con respecto a la variable dependiente, sin embargo al ser pocas variables, sigue el segundo siendo el mejor"
      ]
    },
    {
      "cell_type": "markdown",
      "metadata": {
        "id": "k8dbSZMPhQ7f"
      },
      "source": [
        "## Vi - Modelo con 3 variables (Penrose)"
      ]
    },
    {
      "cell_type": "markdown",
      "metadata": {
        "id": "s6JQTH6ehZNo"
      },
      "source": [
        "Usando únicamente la matriz 𝑋 con las 3 variables\n",
        "independientes del inciso anterior y la variable de salida\n",
        "MDEV, obtener la matriz de Pearson ![matrix de Pearson.png](data:image/png;base64,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)\n",
        "\n",
        "Posteriormente obtener los coeficientes 𝛽 del modelo RLM\n",
        "resultante mediante la expresión: 𝛽 = 𝑋ା𝑌. Compáralo con el\n",
        "inciso anterior y escribe tus conclusiones. "
      ]
    },
    {
      "cell_type": "code",
      "metadata": {
        "id": "8luHz5tTib-9"
      },
      "source": [
        "dataset_corr_penrose = pd.DataFrame(mydata[[\"CRIM\",\"ZN\",\"INDUS\",\"CHAS\",\"NOX\",\"RM\",\"AGE\",\"DIS\",\"RAD\",\"TAX\",\"PTRATIO\",\"B\",\"LSTAT\", \"MEDV\"]])\n",
        "x_corr_penrose = dataset_corr_penrose [[\"RM\",\"PTRATIO\",\"LSTAT\"]]\n",
        "xones_corr_penrose = sm.add_constant(x_corr_penrose)\n",
        "y_corr_penrose = dataset_corr_penrose[[\"MEDV\"]]\n",
        "#mymodel_penrose = sm.OLS(y_corr_penrose, xones_corr_penrose).fit()\n",
        "#print(mymodel_penrose.summary())"
      ],
      "execution_count": null,
      "outputs": []
    },
    {
      "cell_type": "code",
      "metadata": {
        "id": "g0B8PzTYl6-a",
        "colab": {
          "base_uri": "https://localhost:8080/",
          "height": 155
        },
        "outputId": "723b0d2b-d56c-48b7-9931-b9861a88b360"
      },
      "source": [
        "penrose_mtx = np.linalg.pinv(xones_corr_penrose)\n",
        "penrose_mtx"
      ],
      "execution_count": null,
      "outputs": [
        {
          "output_type": "execute_result",
          "data": {
            "text/plain": [
              "array([[ 0.03952983,  0.01043917, -0.01706077, ..., -0.04472625,\n",
              "        -0.03726603, -0.00082618],\n",
              "       [-0.00186772, -0.00058374,  0.00261906, ...,  0.00282858,\n",
              "         0.00192797, -0.00262827],\n",
              "       [-0.00121137, -0.00015405,  0.00028275, ...,  0.00177491,\n",
              "         0.00168533,  0.00139088],\n",
              "       [-0.00027339, -0.0001542 , -0.00020874, ..., -0.00030277,\n",
              "        -0.00031439, -0.0005018 ]])"
            ]
          },
          "metadata": {
            "tags": []
          },
          "execution_count": 161
        }
      ]
    },
    {
      "cell_type": "code",
      "metadata": {
        "id": "wXFK5qznmJiH",
        "colab": {
          "base_uri": "https://localhost:8080/",
          "height": 35
        },
        "outputId": "6115a4cc-cbd4-4b00-edfb-20c5f0c95a81"
      },
      "source": [
        "penrose_coef = np.linalg.pinv(xones_corr_penrose).dot(y_corr_penrose)\n",
        "penrose_coef[0]"
      ],
      "execution_count": null,
      "outputs": [
        {
          "output_type": "execute_result",
          "data": {
            "text/plain": [
              "array([18.56711151])"
            ]
          },
          "metadata": {
            "tags": []
          },
          "execution_count": 162
        }
      ]
    },
    {
      "cell_type": "code",
      "metadata": {
        "id": "IHCUtt23mbUP",
        "colab": {
          "base_uri": "https://localhost:8080/",
          "height": 86
        },
        "outputId": "4998347a-4c23-4825-9ca6-539e7abb4036"
      },
      "source": [
        "#Los coeficientes se imprimen en el mismo orden en el que están en el DataSet\n",
        "penrose_coef_labels = [\"const\", \"RM\",\"PTRATIO\",\"LSTAT\"]\n",
        "for i in range(len(penrose_coef)):\n",
        "  print(penrose_coef_labels[i], \": \", penrose_coef[i][0])\n"
      ],
      "execution_count": null,
      "outputs": [
        {
          "output_type": "stream",
          "text": [
            "const :  18.56711150539507\n",
            "RM :  4.515420943855422\n",
            "PTRATIO :  -0.9307225552706163\n",
            "LSTAT :  -0.5718056878724758\n"
          ],
          "name": "stdout"
        }
      ]
    },
    {
      "cell_type": "markdown",
      "metadata": {
        "id": "RYJSbRFJnxH-"
      },
      "source": [
        "### Compáralo con el inciso anterior y escribe tus conclusiones. \n",
        "\n",
        "![image.png](data:image/png;base64,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)\n",
        "\n",
        "vs\n",
        "\n",
        "![image.png](data:image/png;base64,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)"
      ]
    },
    {
      "cell_type": "markdown",
      "metadata": {
        "id": "NGDwfnpYoMXF"
      },
      "source": [
        "Parecen ser exactamente las mismas, por lo que se entiende y comprueba que parte del reporte en la generación de cada modelo es la generación de esta."
      ]
    },
    {
      "cell_type": "markdown",
      "metadata": {
        "id": "Zl-9BJjq-P4s"
      },
      "source": [
        "## viii - Modelos generado a partir de lo aprendido"
      ]
    },
    {
      "cell_type": "markdown",
      "metadata": {
        "id": "Ig1O8vxFpT5t"
      },
      "source": [
        "### Quitando variables con p-value mayor a 0.01\n",
        "#### Removiendo variables:\n",
        "* INDUS\n",
        "* AGE\n",
        "* quedando: "
      ]
    },
    {
      "cell_type": "code",
      "metadata": {
        "id": "QGKcirKLpxYa",
        "colab": {
          "base_uri": "https://localhost:8080/",
          "height": 656
        },
        "outputId": "60f0ac8f-6506-45bd-c084-73d0a87715cb"
      },
      "source": [
        "dataset_final = pd.DataFrame(mydata[[\"CRIM\",\"ZN\",\"CHAS\",\"NOX\",\"RM\",\"DIS\",\"RAD\",\"TAX\",\"PTRATIO\",\"B\",\"LSTAT\",\"MEDV\"]])\n",
        "x_final = dataset_final[[\"CRIM\",\"ZN\",\"CHAS\",\"NOX\",\"RM\",\"DIS\",\"RAD\",\"TAX\",\"PTRATIO\",\"B\",\"LSTAT\"]]\n",
        "xones_final = sm.add_constant(x_final)\n",
        "y_final = dataset_final[[\"MEDV\"]]\n",
        "mymodel_final = sm.OLS(y_final, xones_final).fit()\n",
        "print(mymodel_final.summary())"
      ],
      "execution_count": null,
      "outputs": [
        {
          "output_type": "stream",
          "text": [
            "                            OLS Regression Results                            \n",
            "==============================================================================\n",
            "Dep. Variable:                   MEDV   R-squared:                       0.741\n",
            "Model:                            OLS   Adj. R-squared:                  0.735\n",
            "Method:                 Least Squares   F-statistic:                     128.2\n",
            "Date:                Mon, 31 Aug 2020   Prob (F-statistic):          5.54e-137\n",
            "Time:                        15:51:06   Log-Likelihood:                -1498.9\n",
            "No. Observations:                 506   AIC:                             3022.\n",
            "Df Residuals:                     494   BIC:                             3072.\n",
            "Df Model:                          11                                         \n",
            "Covariance Type:            nonrobust                                         \n",
            "==============================================================================\n",
            "                 coef    std err          t      P>|t|      [0.025      0.975]\n",
            "------------------------------------------------------------------------------\n",
            "const         36.3411      5.067      7.171      0.000      26.385      46.298\n",
            "CRIM          -0.1084      0.033     -3.307      0.001      -0.173      -0.044\n",
            "ZN             0.0458      0.014      3.390      0.001       0.019       0.072\n",
            "CHAS           2.7187      0.854      3.183      0.002       1.040       4.397\n",
            "NOX          -17.3760      3.535     -4.915      0.000     -24.322     -10.430\n",
            "RM             3.8016      0.406      9.356      0.000       3.003       4.600\n",
            "DIS           -1.4927      0.186     -8.037      0.000      -1.858      -1.128\n",
            "RAD            0.2996      0.063      4.726      0.000       0.175       0.424\n",
            "TAX           -0.0118      0.003     -3.493      0.001      -0.018      -0.005\n",
            "PTRATIO       -0.9465      0.129     -7.334      0.000      -1.200      -0.693\n",
            "B              0.0093      0.003      3.475      0.001       0.004       0.015\n",
            "LSTAT         -0.5226      0.047    -11.019      0.000      -0.616      -0.429\n",
            "==============================================================================\n",
            "Omnibus:                      178.430   Durbin-Watson:                   1.078\n",
            "Prob(Omnibus):                  0.000   Jarque-Bera (JB):              787.785\n",
            "Skew:                           1.523   Prob(JB):                    8.60e-172\n",
            "Kurtosis:                       8.300   Cond. No.                     1.47e+04\n",
            "==============================================================================\n",
            "\n",
            "Warnings:\n",
            "[1] Standard Errors assume that the covariance matrix of the errors is correctly specified.\n",
            "[2] The condition number is large, 1.47e+04. This might indicate that there are\n",
            "strong multicollinearity or other numerical problems.\n"
          ],
          "name": "stdout"
        }
      ]
    },
    {
      "cell_type": "code",
      "metadata": {
        "id": "KEycqWX-o4no",
        "colab": {
          "base_uri": "https://localhost:8080/",
          "height": 408
        },
        "outputId": "bf9f84f9-6966-4d5b-fd29-5032b5e30bc2"
      },
      "source": [
        "dataset_final.corr(method='pearson')"
      ],
      "execution_count": null,
      "outputs": [
        {
          "output_type": "execute_result",
          "data": {
            "text/html": [
              "<div>\n",
              "<style scoped>\n",
              "    .dataframe tbody tr th:only-of-type {\n",
              "        vertical-align: middle;\n",
              "    }\n",
              "\n",
              "    .dataframe tbody tr th {\n",
              "        vertical-align: top;\n",
              "    }\n",
              "\n",
              "    .dataframe thead th {\n",
              "        text-align: right;\n",
              "    }\n",
              "</style>\n",
              "<table border=\"1\" class=\"dataframe\">\n",
              "  <thead>\n",
              "    <tr style=\"text-align: right;\">\n",
              "      <th></th>\n",
              "      <th>CRIM</th>\n",
              "      <th>ZN</th>\n",
              "      <th>CHAS</th>\n",
              "      <th>NOX</th>\n",
              "      <th>RM</th>\n",
              "      <th>DIS</th>\n",
              "      <th>RAD</th>\n",
              "      <th>TAX</th>\n",
              "      <th>PTRATIO</th>\n",
              "      <th>B</th>\n",
              "      <th>LSTAT</th>\n",
              "      <th>MEDV</th>\n",
              "    </tr>\n",
              "  </thead>\n",
              "  <tbody>\n",
              "    <tr>\n",
              "      <th>CRIM</th>\n",
              "      <td>1.000000</td>\n",
              "      <td>-0.200469</td>\n",
              "      <td>-0.055892</td>\n",
              "      <td>0.420972</td>\n",
              "      <td>-0.219247</td>\n",
              "      <td>-0.379670</td>\n",
              "      <td>0.625505</td>\n",
              "      <td>0.582764</td>\n",
              "      <td>0.289946</td>\n",
              "      <td>-0.385064</td>\n",
              "      <td>0.455621</td>\n",
              "      <td>-0.388305</td>\n",
              "    </tr>\n",
              "    <tr>\n",
              "      <th>ZN</th>\n",
              "      <td>-0.200469</td>\n",
              "      <td>1.000000</td>\n",
              "      <td>-0.042697</td>\n",
              "      <td>-0.516604</td>\n",
              "      <td>0.311991</td>\n",
              "      <td>0.664408</td>\n",
              "      <td>-0.311948</td>\n",
              "      <td>-0.314563</td>\n",
              "      <td>-0.391679</td>\n",
              "      <td>0.175520</td>\n",
              "      <td>-0.412995</td>\n",
              "      <td>0.360445</td>\n",
              "    </tr>\n",
              "    <tr>\n",
              "      <th>CHAS</th>\n",
              "      <td>-0.055892</td>\n",
              "      <td>-0.042697</td>\n",
              "      <td>1.000000</td>\n",
              "      <td>0.091203</td>\n",
              "      <td>0.091251</td>\n",
              "      <td>-0.099176</td>\n",
              "      <td>-0.007368</td>\n",
              "      <td>-0.035587</td>\n",
              "      <td>-0.121515</td>\n",
              "      <td>0.048788</td>\n",
              "      <td>-0.053929</td>\n",
              "      <td>0.175260</td>\n",
              "    </tr>\n",
              "    <tr>\n",
              "      <th>NOX</th>\n",
              "      <td>0.420972</td>\n",
              "      <td>-0.516604</td>\n",
              "      <td>0.091203</td>\n",
              "      <td>1.000000</td>\n",
              "      <td>-0.302188</td>\n",
              "      <td>-0.769230</td>\n",
              "      <td>0.611441</td>\n",
              "      <td>0.668023</td>\n",
              "      <td>0.188933</td>\n",
              "      <td>-0.380051</td>\n",
              "      <td>0.590879</td>\n",
              "      <td>-0.427321</td>\n",
              "    </tr>\n",
              "    <tr>\n",
              "      <th>RM</th>\n",
              "      <td>-0.219247</td>\n",
              "      <td>0.311991</td>\n",
              "      <td>0.091251</td>\n",
              "      <td>-0.302188</td>\n",
              "      <td>1.000000</td>\n",
              "      <td>0.205246</td>\n",
              "      <td>-0.209847</td>\n",
              "      <td>-0.292048</td>\n",
              "      <td>-0.355501</td>\n",
              "      <td>0.128069</td>\n",
              "      <td>-0.613808</td>\n",
              "      <td>0.695360</td>\n",
              "    </tr>\n",
              "    <tr>\n",
              "      <th>DIS</th>\n",
              "      <td>-0.379670</td>\n",
              "      <td>0.664408</td>\n",
              "      <td>-0.099176</td>\n",
              "      <td>-0.769230</td>\n",
              "      <td>0.205246</td>\n",
              "      <td>1.000000</td>\n",
              "      <td>-0.494588</td>\n",
              "      <td>-0.534432</td>\n",
              "      <td>-0.232471</td>\n",
              "      <td>0.291512</td>\n",
              "      <td>-0.496996</td>\n",
              "      <td>0.249929</td>\n",
              "    </tr>\n",
              "    <tr>\n",
              "      <th>RAD</th>\n",
              "      <td>0.625505</td>\n",
              "      <td>-0.311948</td>\n",
              "      <td>-0.007368</td>\n",
              "      <td>0.611441</td>\n",
              "      <td>-0.209847</td>\n",
              "      <td>-0.494588</td>\n",
              "      <td>1.000000</td>\n",
              "      <td>0.910228</td>\n",
              "      <td>0.464741</td>\n",
              "      <td>-0.444413</td>\n",
              "      <td>0.488676</td>\n",
              "      <td>-0.381626</td>\n",
              "    </tr>\n",
              "    <tr>\n",
              "      <th>TAX</th>\n",
              "      <td>0.582764</td>\n",
              "      <td>-0.314563</td>\n",
              "      <td>-0.035587</td>\n",
              "      <td>0.668023</td>\n",
              "      <td>-0.292048</td>\n",
              "      <td>-0.534432</td>\n",
              "      <td>0.910228</td>\n",
              "      <td>1.000000</td>\n",
              "      <td>0.460853</td>\n",
              "      <td>-0.441808</td>\n",
              "      <td>0.543993</td>\n",
              "      <td>-0.468536</td>\n",
              "    </tr>\n",
              "    <tr>\n",
              "      <th>PTRATIO</th>\n",
              "      <td>0.289946</td>\n",
              "      <td>-0.391679</td>\n",
              "      <td>-0.121515</td>\n",
              "      <td>0.188933</td>\n",
              "      <td>-0.355501</td>\n",
              "      <td>-0.232471</td>\n",
              "      <td>0.464741</td>\n",
              "      <td>0.460853</td>\n",
              "      <td>1.000000</td>\n",
              "      <td>-0.177383</td>\n",
              "      <td>0.374044</td>\n",
              "      <td>-0.507787</td>\n",
              "    </tr>\n",
              "    <tr>\n",
              "      <th>B</th>\n",
              "      <td>-0.385064</td>\n",
              "      <td>0.175520</td>\n",
              "      <td>0.048788</td>\n",
              "      <td>-0.380051</td>\n",
              "      <td>0.128069</td>\n",
              "      <td>0.291512</td>\n",
              "      <td>-0.444413</td>\n",
              "      <td>-0.441808</td>\n",
              "      <td>-0.177383</td>\n",
              "      <td>1.000000</td>\n",
              "      <td>-0.366087</td>\n",
              "      <td>0.333461</td>\n",
              "    </tr>\n",
              "    <tr>\n",
              "      <th>LSTAT</th>\n",
              "      <td>0.455621</td>\n",
              "      <td>-0.412995</td>\n",
              "      <td>-0.053929</td>\n",
              "      <td>0.590879</td>\n",
              "      <td>-0.613808</td>\n",
              "      <td>-0.496996</td>\n",
              "      <td>0.488676</td>\n",
              "      <td>0.543993</td>\n",
              "      <td>0.374044</td>\n",
              "      <td>-0.366087</td>\n",
              "      <td>1.000000</td>\n",
              "      <td>-0.737663</td>\n",
              "    </tr>\n",
              "    <tr>\n",
              "      <th>MEDV</th>\n",
              "      <td>-0.388305</td>\n",
              "      <td>0.360445</td>\n",
              "      <td>0.175260</td>\n",
              "      <td>-0.427321</td>\n",
              "      <td>0.695360</td>\n",
              "      <td>0.249929</td>\n",
              "      <td>-0.381626</td>\n",
              "      <td>-0.468536</td>\n",
              "      <td>-0.507787</td>\n",
              "      <td>0.333461</td>\n",
              "      <td>-0.737663</td>\n",
              "      <td>1.000000</td>\n",
              "    </tr>\n",
              "  </tbody>\n",
              "</table>\n",
              "</div>"
            ],
            "text/plain": [
              "             CRIM        ZN      CHAS  ...         B     LSTAT      MEDV\n",
              "CRIM     1.000000 -0.200469 -0.055892  ... -0.385064  0.455621 -0.388305\n",
              "ZN      -0.200469  1.000000 -0.042697  ...  0.175520 -0.412995  0.360445\n",
              "CHAS    -0.055892 -0.042697  1.000000  ...  0.048788 -0.053929  0.175260\n",
              "NOX      0.420972 -0.516604  0.091203  ... -0.380051  0.590879 -0.427321\n",
              "RM      -0.219247  0.311991  0.091251  ...  0.128069 -0.613808  0.695360\n",
              "DIS     -0.379670  0.664408 -0.099176  ...  0.291512 -0.496996  0.249929\n",
              "RAD      0.625505 -0.311948 -0.007368  ... -0.444413  0.488676 -0.381626\n",
              "TAX      0.582764 -0.314563 -0.035587  ... -0.441808  0.543993 -0.468536\n",
              "PTRATIO  0.289946 -0.391679 -0.121515  ... -0.177383  0.374044 -0.507787\n",
              "B       -0.385064  0.175520  0.048788  ...  1.000000 -0.366087  0.333461\n",
              "LSTAT    0.455621 -0.412995 -0.053929  ... -0.366087  1.000000 -0.737663\n",
              "MEDV    -0.388305  0.360445  0.175260  ...  0.333461 -0.737663  1.000000\n",
              "\n",
              "[12 rows x 12 columns]"
            ]
          },
          "metadata": {
            "tags": []
          },
          "execution_count": 165
        }
      ]
    },
    {
      "cell_type": "code",
      "metadata": {
        "id": "8K6Mwqfhtq00"
      },
      "source": [
        "corr_mtx_final = dataset_final.corr(method='pearson').abs()\n",
        "corr_pairs_final = corr_mtx_final.unstack()\n",
        "corr_pairs_final_medv = corr_pairs_final[\"MEDV\"]"
      ],
      "execution_count": null,
      "outputs": []
    },
    {
      "cell_type": "code",
      "metadata": {
        "id": "_zb6_Z_0qMWE",
        "colab": {
          "base_uri": "https://localhost:8080/",
          "height": 121
        },
        "outputId": "6689edeb-be3b-4b43-a5ac-0aba5bb4b03b"
      },
      "source": [
        "#Corr >= 0.1\n",
        "dataset_vars_final = corr_pairs_final_medv[(corr_pairs_medv >= 0.1)]\n",
        "dataset_x_final = corr_pairs_final_medv[(corr_pairs_medv >= 0.1) & (corr_pairs_medv != 1)]\n",
        "print(dataset_vars_final.keys())\n",
        "print(dataset_x_final.keys())\n",
        "\n",
        "\n",
        "labels_final = np.array(dataset_vars_final.keys())\n",
        "x_labels_final = np.array(dataset_x_final.keys())\n"
      ],
      "execution_count": null,
      "outputs": [
        {
          "output_type": "stream",
          "text": [
            "Index(['CRIM', 'ZN', 'CHAS', 'NOX', 'RM', 'DIS', 'RAD', 'TAX', 'PTRATIO', 'B',\n",
            "       'LSTAT', 'MEDV'],\n",
            "      dtype='object')\n",
            "Index(['CRIM', 'ZN', 'CHAS', 'NOX', 'RM', 'DIS', 'RAD', 'TAX', 'PTRATIO', 'B',\n",
            "       'LSTAT'],\n",
            "      dtype='object')\n"
          ],
          "name": "stdout"
        }
      ]
    },
    {
      "cell_type": "code",
      "metadata": {
        "id": "7m3Ze5h1rBZO",
        "colab": {
          "base_uri": "https://localhost:8080/",
          "height": 656
        },
        "outputId": "e665d58b-24e6-48ac-c36b-9a1778c637a8"
      },
      "source": [
        "dataset_final = pd.DataFrame(mydata[labels_final])\n",
        "x_final = dataset_final[x_labels_final]\n",
        "xones_final = sm.add_constant(x_final)\n",
        "y_final = dataset_final[[\"MEDV\"]]\n",
        "mymodel_final = sm.OLS(y_final, xones_final).fit()\n",
        "print(mymodel_final.summary())"
      ],
      "execution_count": null,
      "outputs": [
        {
          "output_type": "stream",
          "text": [
            "                            OLS Regression Results                            \n",
            "==============================================================================\n",
            "Dep. Variable:                   MEDV   R-squared:                       0.741\n",
            "Model:                            OLS   Adj. R-squared:                  0.735\n",
            "Method:                 Least Squares   F-statistic:                     128.2\n",
            "Date:                Mon, 31 Aug 2020   Prob (F-statistic):          5.54e-137\n",
            "Time:                        15:51:07   Log-Likelihood:                -1498.9\n",
            "No. Observations:                 506   AIC:                             3022.\n",
            "Df Residuals:                     494   BIC:                             3072.\n",
            "Df Model:                          11                                         \n",
            "Covariance Type:            nonrobust                                         \n",
            "==============================================================================\n",
            "                 coef    std err          t      P>|t|      [0.025      0.975]\n",
            "------------------------------------------------------------------------------\n",
            "const         36.3411      5.067      7.171      0.000      26.385      46.298\n",
            "CRIM          -0.1084      0.033     -3.307      0.001      -0.173      -0.044\n",
            "ZN             0.0458      0.014      3.390      0.001       0.019       0.072\n",
            "CHAS           2.7187      0.854      3.183      0.002       1.040       4.397\n",
            "NOX          -17.3760      3.535     -4.915      0.000     -24.322     -10.430\n",
            "RM             3.8016      0.406      9.356      0.000       3.003       4.600\n",
            "DIS           -1.4927      0.186     -8.037      0.000      -1.858      -1.128\n",
            "RAD            0.2996      0.063      4.726      0.000       0.175       0.424\n",
            "TAX           -0.0118      0.003     -3.493      0.001      -0.018      -0.005\n",
            "PTRATIO       -0.9465      0.129     -7.334      0.000      -1.200      -0.693\n",
            "B              0.0093      0.003      3.475      0.001       0.004       0.015\n",
            "LSTAT         -0.5226      0.047    -11.019      0.000      -0.616      -0.429\n",
            "==============================================================================\n",
            "Omnibus:                      178.430   Durbin-Watson:                   1.078\n",
            "Prob(Omnibus):                  0.000   Jarque-Bera (JB):              787.785\n",
            "Skew:                           1.523   Prob(JB):                    8.60e-172\n",
            "Kurtosis:                       8.300   Cond. No.                     1.47e+04\n",
            "==============================================================================\n",
            "\n",
            "Warnings:\n",
            "[1] Standard Errors assume that the covariance matrix of the errors is correctly specified.\n",
            "[2] The condition number is large, 1.47e+04. This might indicate that there are\n",
            "strong multicollinearity or other numerical problems.\n"
          ],
          "name": "stdout"
        }
      ]
    },
    {
      "cell_type": "markdown",
      "metadata": {
        "id": "6c5B9UiEv_4V"
      },
      "source": [
        "## Función especifica a este problema:"
      ]
    },
    {
      "cell_type": "code",
      "metadata": {
        "id": "S3uatUjDuGTb"
      },
      "source": [
        "def gen_OLS_model(corr = 0.1):\n",
        "  dataset_final = pd.DataFrame(mydata[[\"CRIM\",\"ZN\",\"CHAS\",\"NOX\",\"RM\",\"DIS\",\"RAD\",\"TAX\",\"PTRATIO\",\"B\",\"LSTAT\",\"MEDV\"]])\n",
        "  corr_mtx_final = dataset_final.corr(method='pearson').abs()\n",
        "  corr_pairs_final = corr_mtx_final.unstack()\n",
        "  corr_pairs_final_medv = corr_pairs_final[\"MEDV\"]\n",
        "  dataset_vars_final = corr_pairs_final_medv[(corr_pairs_medv >= corr )]\n",
        "  dataset_x_final = corr_pairs_final_medv[(corr_pairs_medv >= corr ) & (corr_pairs_medv != 1)]\n",
        "  print(\"Variables a ser consideradas por el ds:\\n\\n\", dataset_vars_final.keys())\n",
        "  print(\"\\nVariables a ser consideradas como x:\\n\",dataset_x_final.keys())\n",
        "  \n",
        "  labels_final = np.array(dataset_vars_final.keys())\n",
        "  x_labels_final = np.array(dataset_x_final.keys())\n",
        "  dataset_final = pd.DataFrame(mydata[labels_final])\n",
        "  x_final = dataset_final[x_labels_final]\n",
        "  xones_final = sm.add_constant(x_final)\n",
        "  y_final = dataset_final[[\"MEDV\"]]\n",
        "  mymodel_final = sm.OLS(y_final, xones_final).fit()\n",
        "  print(mymodel_final.summary())\n",
        "\n"
      ],
      "execution_count": null,
      "outputs": []
    },
    {
      "cell_type": "markdown",
      "metadata": {
        "id": "jMNHUNvZwqFs"
      },
      "source": [
        "## Modelo corr > 0.0 (R2 0.741 & R2 ajustada 0.735)"
      ]
    },
    {
      "cell_type": "code",
      "metadata": {
        "id": "AXqFc6dDwrZy",
        "colab": {
          "base_uri": "https://localhost:8080/",
          "height": 829
        },
        "outputId": "b63e025c-a374-43f6-927b-47da66994bc4"
      },
      "source": [
        "gen_OLS_model(corr = 0.0)"
      ],
      "execution_count": null,
      "outputs": [
        {
          "output_type": "stream",
          "text": [
            "Variables a ser consideradas por el ds:\n",
            "\n",
            " Index(['CRIM', 'ZN', 'CHAS', 'NOX', 'RM', 'DIS', 'RAD', 'TAX', 'PTRATIO', 'B',\n",
            "       'LSTAT', 'MEDV'],\n",
            "      dtype='object')\n",
            "\n",
            "Variables a ser consideradas como x:\n",
            " Index(['CRIM', 'ZN', 'CHAS', 'NOX', 'RM', 'DIS', 'RAD', 'TAX', 'PTRATIO', 'B',\n",
            "       'LSTAT'],\n",
            "      dtype='object')\n",
            "                            OLS Regression Results                            \n",
            "==============================================================================\n",
            "Dep. Variable:                   MEDV   R-squared:                       0.741\n",
            "Model:                            OLS   Adj. R-squared:                  0.735\n",
            "Method:                 Least Squares   F-statistic:                     128.2\n",
            "Date:                Mon, 31 Aug 2020   Prob (F-statistic):          5.54e-137\n",
            "Time:                        15:51:07   Log-Likelihood:                -1498.9\n",
            "No. Observations:                 506   AIC:                             3022.\n",
            "Df Residuals:                     494   BIC:                             3072.\n",
            "Df Model:                          11                                         \n",
            "Covariance Type:            nonrobust                                         \n",
            "==============================================================================\n",
            "                 coef    std err          t      P>|t|      [0.025      0.975]\n",
            "------------------------------------------------------------------------------\n",
            "const         36.3411      5.067      7.171      0.000      26.385      46.298\n",
            "CRIM          -0.1084      0.033     -3.307      0.001      -0.173      -0.044\n",
            "ZN             0.0458      0.014      3.390      0.001       0.019       0.072\n",
            "CHAS           2.7187      0.854      3.183      0.002       1.040       4.397\n",
            "NOX          -17.3760      3.535     -4.915      0.000     -24.322     -10.430\n",
            "RM             3.8016      0.406      9.356      0.000       3.003       4.600\n",
            "DIS           -1.4927      0.186     -8.037      0.000      -1.858      -1.128\n",
            "RAD            0.2996      0.063      4.726      0.000       0.175       0.424\n",
            "TAX           -0.0118      0.003     -3.493      0.001      -0.018      -0.005\n",
            "PTRATIO       -0.9465      0.129     -7.334      0.000      -1.200      -0.693\n",
            "B              0.0093      0.003      3.475      0.001       0.004       0.015\n",
            "LSTAT         -0.5226      0.047    -11.019      0.000      -0.616      -0.429\n",
            "==============================================================================\n",
            "Omnibus:                      178.430   Durbin-Watson:                   1.078\n",
            "Prob(Omnibus):                  0.000   Jarque-Bera (JB):              787.785\n",
            "Skew:                           1.523   Prob(JB):                    8.60e-172\n",
            "Kurtosis:                       8.300   Cond. No.                     1.47e+04\n",
            "==============================================================================\n",
            "\n",
            "Warnings:\n",
            "[1] Standard Errors assume that the covariance matrix of the errors is correctly specified.\n",
            "[2] The condition number is large, 1.47e+04. This might indicate that there are\n",
            "strong multicollinearity or other numerical problems.\n"
          ],
          "name": "stdout"
        }
      ]
    },
    {
      "cell_type": "markdown",
      "metadata": {
        "id": "Wd6PGc9GwonO"
      },
      "source": [
        "## Modelo corr > 0.1 (R2 0.741 & R2 ajustada 0.735)"
      ]
    },
    {
      "cell_type": "code",
      "metadata": {
        "id": "FIgrRcetvEVS",
        "colab": {
          "base_uri": "https://localhost:8080/",
          "height": 829
        },
        "outputId": "ac48384e-57e4-4cb8-c028-964a7ddcc091"
      },
      "source": [
        "gen_OLS_model(corr = 0.1)"
      ],
      "execution_count": null,
      "outputs": [
        {
          "output_type": "stream",
          "text": [
            "Variables a ser consideradas por el ds:\n",
            "\n",
            " Index(['CRIM', 'ZN', 'CHAS', 'NOX', 'RM', 'DIS', 'RAD', 'TAX', 'PTRATIO', 'B',\n",
            "       'LSTAT', 'MEDV'],\n",
            "      dtype='object')\n",
            "\n",
            "Variables a ser consideradas como x:\n",
            " Index(['CRIM', 'ZN', 'CHAS', 'NOX', 'RM', 'DIS', 'RAD', 'TAX', 'PTRATIO', 'B',\n",
            "       'LSTAT'],\n",
            "      dtype='object')\n",
            "                            OLS Regression Results                            \n",
            "==============================================================================\n",
            "Dep. Variable:                   MEDV   R-squared:                       0.741\n",
            "Model:                            OLS   Adj. R-squared:                  0.735\n",
            "Method:                 Least Squares   F-statistic:                     128.2\n",
            "Date:                Mon, 31 Aug 2020   Prob (F-statistic):          5.54e-137\n",
            "Time:                        15:51:07   Log-Likelihood:                -1498.9\n",
            "No. Observations:                 506   AIC:                             3022.\n",
            "Df Residuals:                     494   BIC:                             3072.\n",
            "Df Model:                          11                                         \n",
            "Covariance Type:            nonrobust                                         \n",
            "==============================================================================\n",
            "                 coef    std err          t      P>|t|      [0.025      0.975]\n",
            "------------------------------------------------------------------------------\n",
            "const         36.3411      5.067      7.171      0.000      26.385      46.298\n",
            "CRIM          -0.1084      0.033     -3.307      0.001      -0.173      -0.044\n",
            "ZN             0.0458      0.014      3.390      0.001       0.019       0.072\n",
            "CHAS           2.7187      0.854      3.183      0.002       1.040       4.397\n",
            "NOX          -17.3760      3.535     -4.915      0.000     -24.322     -10.430\n",
            "RM             3.8016      0.406      9.356      0.000       3.003       4.600\n",
            "DIS           -1.4927      0.186     -8.037      0.000      -1.858      -1.128\n",
            "RAD            0.2996      0.063      4.726      0.000       0.175       0.424\n",
            "TAX           -0.0118      0.003     -3.493      0.001      -0.018      -0.005\n",
            "PTRATIO       -0.9465      0.129     -7.334      0.000      -1.200      -0.693\n",
            "B              0.0093      0.003      3.475      0.001       0.004       0.015\n",
            "LSTAT         -0.5226      0.047    -11.019      0.000      -0.616      -0.429\n",
            "==============================================================================\n",
            "Omnibus:                      178.430   Durbin-Watson:                   1.078\n",
            "Prob(Omnibus):                  0.000   Jarque-Bera (JB):              787.785\n",
            "Skew:                           1.523   Prob(JB):                    8.60e-172\n",
            "Kurtosis:                       8.300   Cond. No.                     1.47e+04\n",
            "==============================================================================\n",
            "\n",
            "Warnings:\n",
            "[1] Standard Errors assume that the covariance matrix of the errors is correctly specified.\n",
            "[2] The condition number is large, 1.47e+04. This might indicate that there are\n",
            "strong multicollinearity or other numerical problems.\n"
          ],
          "name": "stdout"
        }
      ]
    },
    {
      "cell_type": "markdown",
      "metadata": {
        "id": "BRLTvh8Uwm3w"
      },
      "source": [
        "## Modelo corr > 0.2 (R2 0.735 & R2 ajustada 0.730)"
      ]
    },
    {
      "cell_type": "code",
      "metadata": {
        "id": "vLnwxwY-wKOo",
        "colab": {
          "base_uri": "https://localhost:8080/",
          "height": 812
        },
        "outputId": "4f265ebc-9da0-4845-91ba-4bc21f78eddb"
      },
      "source": [
        "gen_OLS_model(corr = 0.2)"
      ],
      "execution_count": null,
      "outputs": [
        {
          "output_type": "stream",
          "text": [
            "Variables a ser consideradas por el ds:\n",
            "\n",
            " Index(['CRIM', 'ZN', 'NOX', 'RM', 'DIS', 'RAD', 'TAX', 'PTRATIO', 'B', 'LSTAT',\n",
            "       'MEDV'],\n",
            "      dtype='object')\n",
            "\n",
            "Variables a ser consideradas como x:\n",
            " Index(['CRIM', 'ZN', 'NOX', 'RM', 'DIS', 'RAD', 'TAX', 'PTRATIO', 'B',\n",
            "       'LSTAT'],\n",
            "      dtype='object')\n",
            "                            OLS Regression Results                            \n",
            "==============================================================================\n",
            "Dep. Variable:                   MEDV   R-squared:                       0.735\n",
            "Model:                            OLS   Adj. R-squared:                  0.730\n",
            "Method:                 Least Squares   F-statistic:                     137.5\n",
            "Date:                Mon, 31 Aug 2020   Prob (F-statistic):          6.70e-136\n",
            "Time:                        15:51:07   Log-Likelihood:                -1504.0\n",
            "No. Observations:                 506   AIC:                             3030.\n",
            "Df Residuals:                     495   BIC:                             3076.\n",
            "Df Model:                          10                                         \n",
            "Covariance Type:            nonrobust                                         \n",
            "==============================================================================\n",
            "                 coef    std err          t      P>|t|      [0.025      0.975]\n",
            "------------------------------------------------------------------------------\n",
            "const         36.6203      5.113      7.162      0.000      26.574      46.667\n",
            "CRIM          -0.1141      0.033     -3.453      0.001      -0.179      -0.049\n",
            "ZN             0.0457      0.014      3.352      0.001       0.019       0.073\n",
            "NOX          -16.4692      3.556     -4.631      0.000     -23.456      -9.482\n",
            "RM             3.8446      0.410      9.381      0.000       3.039       4.650\n",
            "DIS           -1.5261      0.187     -8.155      0.000      -1.894      -1.158\n",
            "RAD            0.3155      0.064      4.947      0.000       0.190       0.441\n",
            "TAX           -0.0127      0.003     -3.737      0.000      -0.019      -0.006\n",
            "PTRATIO       -0.9784      0.130     -7.535      0.000      -1.234      -0.723\n",
            "B              0.0097      0.003      3.611      0.000       0.004       0.015\n",
            "LSTAT         -0.5281      0.048    -11.042      0.000      -0.622      -0.434\n",
            "==============================================================================\n",
            "Omnibus:                      192.780   Durbin-Watson:                   1.011\n",
            "Prob(Omnibus):                  0.000   Jarque-Bera (JB):              920.734\n",
            "Skew:                           1.632   Prob(JB):                    1.16e-200\n",
            "Kurtosis:                       8.746   Cond. No.                     1.47e+04\n",
            "==============================================================================\n",
            "\n",
            "Warnings:\n",
            "[1] Standard Errors assume that the covariance matrix of the errors is correctly specified.\n",
            "[2] The condition number is large, 1.47e+04. This might indicate that there are\n",
            "strong multicollinearity or other numerical problems.\n"
          ],
          "name": "stdout"
        }
      ]
    },
    {
      "cell_type": "markdown",
      "metadata": {
        "id": "FOlAEF3EwlAV"
      },
      "source": [
        "## Modelo corr > 0.3 (R2 0.700 & R2 ajustada 0.694)"
      ]
    },
    {
      "cell_type": "code",
      "metadata": {
        "id": "hPhnEKBvwKsL",
        "colab": {
          "base_uri": "https://localhost:8080/",
          "height": 760
        },
        "outputId": "04f0e70e-5175-453c-8535-42e9d0c13046"
      },
      "source": [
        "gen_OLS_model(corr = 0.3)"
      ],
      "execution_count": null,
      "outputs": [
        {
          "output_type": "stream",
          "text": [
            "Variables a ser consideradas por el ds:\n",
            "\n",
            " Index(['CRIM', 'ZN', 'NOX', 'RM', 'RAD', 'TAX', 'PTRATIO', 'B', 'LSTAT',\n",
            "       'MEDV'],\n",
            "      dtype='object')\n",
            "\n",
            "Variables a ser consideradas como x:\n",
            " Index(['CRIM', 'ZN', 'NOX', 'RM', 'RAD', 'TAX', 'PTRATIO', 'B', 'LSTAT'], dtype='object')\n",
            "                            OLS Regression Results                            \n",
            "==============================================================================\n",
            "Dep. Variable:                   MEDV   R-squared:                       0.700\n",
            "Model:                            OLS   Adj. R-squared:                  0.694\n",
            "Method:                 Least Squares   F-statistic:                     128.4\n",
            "Date:                Mon, 31 Aug 2020   Prob (F-statistic):          1.67e-123\n",
            "Time:                        15:51:07   Log-Likelihood:                -1535.9\n",
            "No. Observations:                 506   AIC:                             3092.\n",
            "Df Residuals:                     496   BIC:                             3134.\n",
            "Df Model:                           9                                         \n",
            "Covariance Type:            nonrobust                                         \n",
            "==============================================================================\n",
            "                 coef    std err          t      P>|t|      [0.025      0.975]\n",
            "------------------------------------------------------------------------------\n",
            "const         19.0066      4.931      3.854      0.000       9.318      28.695\n",
            "CRIM          -0.0830      0.035     -2.378      0.018      -0.152      -0.014\n",
            "ZN            -0.0100      0.013     -0.796      0.427      -0.035       0.015\n",
            "NOX           -2.3564      3.305     -0.713      0.476      -8.851       4.138\n",
            "RM             4.4937      0.428     10.506      0.000       3.653       5.334\n",
            "RAD            0.2798      0.068      4.132      0.000       0.147       0.413\n",
            "TAX           -0.0101      0.004     -2.809      0.005      -0.017      -0.003\n",
            "PTRATIO       -1.0331      0.138     -7.487      0.000      -1.304      -0.762\n",
            "B              0.0106      0.003      3.695      0.000       0.005       0.016\n",
            "LSTAT         -0.4944      0.051     -9.753      0.000      -0.594      -0.395\n",
            "==============================================================================\n",
            "Omnibus:                      220.319   Durbin-Watson:                   0.897\n",
            "Prob(Omnibus):                  0.000   Jarque-Bera (JB):             1221.543\n",
            "Skew:                           1.846   Prob(JB):                    5.56e-266\n",
            "Kurtosis:                       9.657   Cond. No.                     1.29e+04\n",
            "==============================================================================\n",
            "\n",
            "Warnings:\n",
            "[1] Standard Errors assume that the covariance matrix of the errors is correctly specified.\n",
            "[2] The condition number is large, 1.29e+04. This might indicate that there are\n",
            "strong multicollinearity or other numerical problems.\n"
          ],
          "name": "stdout"
        }
      ]
    },
    {
      "cell_type": "markdown",
      "metadata": {
        "id": "0qjkDT-KwjKx"
      },
      "source": [
        "## Modelo corr > 0.4 (R2 0.680 & R2 ajustada 0.677)"
      ]
    },
    {
      "cell_type": "code",
      "metadata": {
        "id": "shavTiM4wLD6",
        "colab": {
          "base_uri": "https://localhost:8080/",
          "height": 656
        },
        "outputId": "17c30ad3-e451-4e9d-e2a3-b412abc31c4c"
      },
      "source": [
        "gen_OLS_model(corr = 0.4)"
      ],
      "execution_count": null,
      "outputs": [
        {
          "output_type": "stream",
          "text": [
            "Variables a ser consideradas por el ds:\n",
            "\n",
            " Index(['NOX', 'RM', 'TAX', 'PTRATIO', 'LSTAT', 'MEDV'], dtype='object')\n",
            "\n",
            "Variables a ser consideradas como x:\n",
            " Index(['NOX', 'RM', 'TAX', 'PTRATIO', 'LSTAT'], dtype='object')\n",
            "                            OLS Regression Results                            \n",
            "==============================================================================\n",
            "Dep. Variable:                   MEDV   R-squared:                       0.680\n",
            "Model:                            OLS   Adj. R-squared:                  0.677\n",
            "Method:                 Least Squares   F-statistic:                     212.2\n",
            "Date:                Mon, 31 Aug 2020   Prob (F-statistic):          4.06e-121\n",
            "Time:                        15:51:07   Log-Likelihood:                -1552.2\n",
            "No. Observations:                 506   AIC:                             3116.\n",
            "Df Residuals:                     500   BIC:                             3142.\n",
            "Df Model:                           5                                         \n",
            "Covariance Type:            nonrobust                                         \n",
            "==============================================================================\n",
            "                 coef    std err          t      P>|t|      [0.025      0.975]\n",
            "------------------------------------------------------------------------------\n",
            "const         18.1237      4.254      4.261      0.000       9.766      26.481\n",
            "NOX           -0.8933      3.004     -0.297      0.766      -6.795       5.009\n",
            "RM             4.5887      0.430     10.679      0.000       3.744       5.433\n",
            "TAX           -0.0019      0.002     -0.896      0.371      -0.006       0.002\n",
            "PTRATIO       -0.8849      0.130     -6.822      0.000      -1.140      -0.630\n",
            "LSTAT         -0.5397      0.051    -10.686      0.000      -0.639      -0.440\n",
            "==============================================================================\n",
            "Omnibus:                      221.010   Durbin-Watson:                   0.885\n",
            "Prob(Omnibus):                  0.000   Jarque-Bera (JB):             1263.115\n",
            "Skew:                           1.840   Prob(JB):                    5.22e-275\n",
            "Kurtosis:                       9.809   Cond. No.                     8.52e+03\n",
            "==============================================================================\n",
            "\n",
            "Warnings:\n",
            "[1] Standard Errors assume that the covariance matrix of the errors is correctly specified.\n",
            "[2] The condition number is large, 8.52e+03. This might indicate that there are\n",
            "strong multicollinearity or other numerical problems.\n"
          ],
          "name": "stdout"
        }
      ]
    },
    {
      "cell_type": "markdown",
      "metadata": {
        "id": "a94sFQOlwXkn"
      },
      "source": [
        "## Modelo corr > 0.5 (R2 0.679 & R2 ajustada 0.677)"
      ]
    },
    {
      "cell_type": "code",
      "metadata": {
        "id": "sVoti9YUwLag",
        "colab": {
          "base_uri": "https://localhost:8080/",
          "height": 587
        },
        "outputId": "60f748c5-4f77-40de-cb8d-07b4df87edee"
      },
      "source": [
        "gen_OLS_model(corr = 0.5)"
      ],
      "execution_count": null,
      "outputs": [
        {
          "output_type": "stream",
          "text": [
            "Variables a ser consideradas por el ds:\n",
            "\n",
            " Index(['RM', 'PTRATIO', 'LSTAT', 'MEDV'], dtype='object')\n",
            "\n",
            "Variables a ser consideradas como x:\n",
            " Index(['RM', 'PTRATIO', 'LSTAT'], dtype='object')\n",
            "                            OLS Regression Results                            \n",
            "==============================================================================\n",
            "Dep. Variable:                   MEDV   R-squared:                       0.679\n",
            "Model:                            OLS   Adj. R-squared:                  0.677\n",
            "Method:                 Least Squares   F-statistic:                     353.3\n",
            "Date:                Mon, 31 Aug 2020   Prob (F-statistic):          2.69e-123\n",
            "Time:                        15:51:07   Log-Likelihood:                -1553.0\n",
            "No. Observations:                 506   AIC:                             3114.\n",
            "Df Residuals:                     502   BIC:                             3131.\n",
            "Df Model:                           3                                         \n",
            "Covariance Type:            nonrobust                                         \n",
            "==============================================================================\n",
            "                 coef    std err          t      P>|t|      [0.025      0.975]\n",
            "------------------------------------------------------------------------------\n",
            "const         18.5671      3.913      4.745      0.000      10.879      26.255\n",
            "RM             4.5154      0.426     10.603      0.000       3.679       5.352\n",
            "PTRATIO       -0.9307      0.118     -7.911      0.000      -1.162      -0.700\n",
            "LSTAT         -0.5718      0.042    -13.540      0.000      -0.655      -0.489\n",
            "==============================================================================\n",
            "Omnibus:                      202.072   Durbin-Watson:                   0.901\n",
            "Prob(Omnibus):                  0.000   Jarque-Bera (JB):             1022.153\n",
            "Skew:                           1.700   Prob(JB):                    1.10e-222\n",
            "Kurtosis:                       9.076   Cond. No.                         402.\n",
            "==============================================================================\n",
            "\n",
            "Warnings:\n",
            "[1] Standard Errors assume that the covariance matrix of the errors is correctly specified.\n"
          ],
          "name": "stdout"
        }
      ]
    },
    {
      "cell_type": "markdown",
      "metadata": {
        "id": "C5r1r-foxjPU"
      },
      "source": [
        "## Modelo corr > 0.6 (R2 0.639 & R2 ajustada 0.637)"
      ]
    },
    {
      "cell_type": "code",
      "metadata": {
        "id": "M1kL50pCxZPp",
        "colab": {
          "base_uri": "https://localhost:8080/",
          "height": 570
        },
        "outputId": "fe9b9b0e-580c-4d2d-9c62-32e23cebab4f"
      },
      "source": [
        "gen_OLS_model(corr = 0.6)"
      ],
      "execution_count": null,
      "outputs": [
        {
          "output_type": "stream",
          "text": [
            "Variables a ser consideradas por el ds:\n",
            "\n",
            " Index(['RM', 'LSTAT', 'MEDV'], dtype='object')\n",
            "\n",
            "Variables a ser consideradas como x:\n",
            " Index(['RM', 'LSTAT'], dtype='object')\n",
            "                            OLS Regression Results                            \n",
            "==============================================================================\n",
            "Dep. Variable:                   MEDV   R-squared:                       0.639\n",
            "Model:                            OLS   Adj. R-squared:                  0.637\n",
            "Method:                 Least Squares   F-statistic:                     444.3\n",
            "Date:                Mon, 31 Aug 2020   Prob (F-statistic):          7.01e-112\n",
            "Time:                        15:51:07   Log-Likelihood:                -1582.8\n",
            "No. Observations:                 506   AIC:                             3172.\n",
            "Df Residuals:                     503   BIC:                             3184.\n",
            "Df Model:                           2                                         \n",
            "Covariance Type:            nonrobust                                         \n",
            "==============================================================================\n",
            "                 coef    std err          t      P>|t|      [0.025      0.975]\n",
            "------------------------------------------------------------------------------\n",
            "const         -1.3583      3.173     -0.428      0.669      -7.592       4.875\n",
            "RM             5.0948      0.444     11.463      0.000       4.222       5.968\n",
            "LSTAT         -0.6424      0.044    -14.689      0.000      -0.728      -0.556\n",
            "==============================================================================\n",
            "Omnibus:                      145.712   Durbin-Watson:                   0.834\n",
            "Prob(Omnibus):                  0.000   Jarque-Bera (JB):              457.690\n",
            "Skew:                           1.343   Prob(JB):                    4.11e-100\n",
            "Kurtosis:                       6.807   Cond. No.                         202.\n",
            "==============================================================================\n",
            "\n",
            "Warnings:\n",
            "[1] Standard Errors assume that the covariance matrix of the errors is correctly specified.\n"
          ],
          "name": "stdout"
        }
      ]
    },
    {
      "cell_type": "markdown",
      "metadata": {
        "id": "xXUKsIB8xpLu"
      },
      "source": [
        "## Modelo corr > 0.7 (R2 0.544 & R2 ajustada 0.543)"
      ]
    },
    {
      "cell_type": "code",
      "metadata": {
        "id": "1n11EV2Oxa-Y",
        "colab": {
          "base_uri": "https://localhost:8080/",
          "height": 553
        },
        "outputId": "f5f3929c-3098-4854-997f-f5b62dd82398"
      },
      "source": [
        "gen_OLS_model(corr = 0.7)"
      ],
      "execution_count": null,
      "outputs": [
        {
          "output_type": "stream",
          "text": [
            "Variables a ser consideradas por el ds:\n",
            "\n",
            " Index(['LSTAT', 'MEDV'], dtype='object')\n",
            "\n",
            "Variables a ser consideradas como x:\n",
            " Index(['LSTAT'], dtype='object')\n",
            "                            OLS Regression Results                            \n",
            "==============================================================================\n",
            "Dep. Variable:                   MEDV   R-squared:                       0.544\n",
            "Model:                            OLS   Adj. R-squared:                  0.543\n",
            "Method:                 Least Squares   F-statistic:                     601.6\n",
            "Date:                Mon, 31 Aug 2020   Prob (F-statistic):           5.08e-88\n",
            "Time:                        15:51:07   Log-Likelihood:                -1641.5\n",
            "No. Observations:                 506   AIC:                             3287.\n",
            "Df Residuals:                     504   BIC:                             3295.\n",
            "Df Model:                           1                                         \n",
            "Covariance Type:            nonrobust                                         \n",
            "==============================================================================\n",
            "                 coef    std err          t      P>|t|      [0.025      0.975]\n",
            "------------------------------------------------------------------------------\n",
            "const         34.5538      0.563     61.415      0.000      33.448      35.659\n",
            "LSTAT         -0.9500      0.039    -24.528      0.000      -1.026      -0.874\n",
            "==============================================================================\n",
            "Omnibus:                      137.043   Durbin-Watson:                   0.892\n",
            "Prob(Omnibus):                  0.000   Jarque-Bera (JB):              291.373\n",
            "Skew:                           1.453   Prob(JB):                     5.36e-64\n",
            "Kurtosis:                       5.319   Cond. No.                         29.7\n",
            "==============================================================================\n",
            "\n",
            "Warnings:\n",
            "[1] Standard Errors assume that the covariance matrix of the errors is correctly specified.\n"
          ],
          "name": "stdout"
        }
      ]
    },
    {
      "cell_type": "markdown",
      "metadata": {
        "id": "d4d1Qhp0xokY"
      },
      "source": [
        "## Modelo corr > 0.8 (R2 0.000 & R2 ajustada 0.000)"
      ]
    },
    {
      "cell_type": "code",
      "metadata": {
        "id": "kV6EhjhHxcpP",
        "colab": {
          "base_uri": "https://localhost:8080/",
          "height": 570
        },
        "outputId": "c6f3ef9b-f42e-451d-9dce-e9e0996ae63f"
      },
      "source": [
        "gen_OLS_model(corr = 0.8)"
      ],
      "execution_count": null,
      "outputs": [
        {
          "output_type": "stream",
          "text": [
            "Variables a ser consideradas por el ds:\n",
            "\n",
            " Index(['MEDV'], dtype='object')\n",
            "\n",
            "Variables a ser consideradas como x:\n",
            " Index([], dtype='object')\n",
            "                            OLS Regression Results                            \n",
            "==============================================================================\n",
            "Dep. Variable:                   MEDV   R-squared:                       0.000\n",
            "Model:                            OLS   Adj. R-squared:                  0.000\n",
            "Method:                 Least Squares   F-statistic:                       nan\n",
            "Date:                Mon, 31 Aug 2020   Prob (F-statistic):                nan\n",
            "Time:                        15:51:07   Log-Likelihood:                -1840.2\n",
            "No. Observations:                 506   AIC:                             3682.\n",
            "Df Residuals:                     505   BIC:                             3687.\n",
            "Df Model:                           0                                         \n",
            "Covariance Type:            nonrobust                                         \n",
            "==============================================================================\n",
            "                 coef    std err          t      P>|t|      [0.025      0.975]\n",
            "------------------------------------------------------------------------------\n",
            "const         22.5328      0.409     55.111      0.000      21.730      23.336\n",
            "==============================================================================\n",
            "Omnibus:                       90.975   Durbin-Watson:                   0.528\n",
            "Prob(Omnibus):                  0.000   Jarque-Bera (JB):              148.412\n",
            "Skew:                           1.105   Prob(JB):                     5.93e-33\n",
            "Kurtosis:                       4.469   Cond. No.                         1.00\n",
            "==============================================================================\n",
            "\n",
            "Warnings:\n",
            "[1] Standard Errors assume that the covariance matrix of the errors is correctly specified.\n"
          ],
          "name": "stdout"
        },
        {
          "output_type": "stream",
          "text": [
            "/usr/local/lib/python3.6/dist-packages/statsmodels/regression/linear_model.py:1657: RuntimeWarning: invalid value encountered in double_scalars\n",
            "  return self.ess/self.df_model\n"
          ],
          "name": "stderr"
        }
      ]
    },
    {
      "cell_type": "markdown",
      "metadata": {
        "id": "M6rKectFx1-j"
      },
      "source": [
        "## Modelo corr > 0.9 (R2 0.000 & R2 ajustada 0.000)"
      ]
    },
    {
      "cell_type": "code",
      "metadata": {
        "id": "USEePRE0xeAU",
        "colab": {
          "base_uri": "https://localhost:8080/",
          "height": 570
        },
        "outputId": "abe737c2-9bb1-4d5f-a012-7707aaf58c6e"
      },
      "source": [
        "gen_OLS_model(corr = 0.9)"
      ],
      "execution_count": null,
      "outputs": [
        {
          "output_type": "stream",
          "text": [
            "Variables a ser consideradas por el ds:\n",
            "\n",
            " Index(['MEDV'], dtype='object')\n",
            "\n",
            "Variables a ser consideradas como x:\n",
            " Index([], dtype='object')\n",
            "                            OLS Regression Results                            \n",
            "==============================================================================\n",
            "Dep. Variable:                   MEDV   R-squared:                       0.000\n",
            "Model:                            OLS   Adj. R-squared:                  0.000\n",
            "Method:                 Least Squares   F-statistic:                       nan\n",
            "Date:                Mon, 31 Aug 2020   Prob (F-statistic):                nan\n",
            "Time:                        15:51:07   Log-Likelihood:                -1840.2\n",
            "No. Observations:                 506   AIC:                             3682.\n",
            "Df Residuals:                     505   BIC:                             3687.\n",
            "Df Model:                           0                                         \n",
            "Covariance Type:            nonrobust                                         \n",
            "==============================================================================\n",
            "                 coef    std err          t      P>|t|      [0.025      0.975]\n",
            "------------------------------------------------------------------------------\n",
            "const         22.5328      0.409     55.111      0.000      21.730      23.336\n",
            "==============================================================================\n",
            "Omnibus:                       90.975   Durbin-Watson:                   0.528\n",
            "Prob(Omnibus):                  0.000   Jarque-Bera (JB):              148.412\n",
            "Skew:                           1.105   Prob(JB):                     5.93e-33\n",
            "Kurtosis:                       4.469   Cond. No.                         1.00\n",
            "==============================================================================\n",
            "\n",
            "Warnings:\n",
            "[1] Standard Errors assume that the covariance matrix of the errors is correctly specified.\n"
          ],
          "name": "stdout"
        },
        {
          "output_type": "stream",
          "text": [
            "/usr/local/lib/python3.6/dist-packages/statsmodels/regression/linear_model.py:1657: RuntimeWarning: invalid value encountered in double_scalars\n",
            "  return self.ess/self.df_model\n"
          ],
          "name": "stderr"
        }
      ]
    },
    {
      "cell_type": "markdown",
      "metadata": {
        "id": "5NYibH2uhVrN"
      },
      "source": [
        "## Vii - Conclusiones"
      ]
    },
    {
      "cell_type": "markdown",
      "metadata": {
        "id": "BxP8FsQEyb4Q"
      },
      "source": [
        "Gracias a este analísis quedan claros varios puntos y conclusiones:\n",
        "\n",
        "1.   El punto uno y dos nos muestran claramente el poder del valor P para identificar variables significativas que describen o no el modelo\n",
        "2.   Los puntos 3, 4 y 5 son escenciales para ver como una correlación alta no necesariamente implica una apropiada descripción del modelo, siendo más eficaces los que antes limpian las variables con baja significancia\n",
        "3.   El punto 6 demuestra que la pseudo inversa de Penrose es parte del reporte de la OLS (Ordinary Least Squares)\n",
        "\n",
        "Finalmente elaboré una función para de manera rápida generar diez modelos confirmando la teoría de que entre más variables más rico es el modelo, siempre y cuando tengan un valor p bajo.\n",
        "\n"
      ]
    }
  ]
}