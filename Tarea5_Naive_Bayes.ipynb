{
  "nbformat": 4,
  "nbformat_minor": 0,
  "metadata": {
    "colab": {
      "name": "Tarea5 - Naive Bayes.ipynb",
      "provenance": [],
      "collapsed_sections": [
        "4k6puxjgOdCF",
        "HPHgTZBwU9Kc"
      ],
      "toc_visible": true,
      "include_colab_link": true
    },
    "kernelspec": {
      "name": "python3",
      "display_name": "Python 3"
    }
  },
  "cells": [
    {
      "cell_type": "markdown",
      "metadata": {
        "id": "view-in-github",
        "colab_type": "text"
      },
      "source": [
        "<a href=\"https://colab.research.google.com/github/josware/mcc_tareas/blob/master/Tarea5_Naive_Bayes.ipynb\" target=\"_parent\"><img src=\"https://colab.research.google.com/assets/colab-badge.svg\" alt=\"Open In Colab\"/></a>"
      ]
    },
    {
      "cell_type": "markdown",
      "metadata": {
        "id": "TO5ozhtXTayd"
      },
      "source": [
        "Para una mejor experiencia visualisar en Google Colab en la siguiente liga: \n",
        "\n",
        "https://colab.research.google.com/drive/1CnecuO1fnKanACujMDZDqW2NknV0lApK?usp=sharing"
      ]
    },
    {
      "cell_type": "markdown",
      "metadata": {
        "id": "4k6puxjgOdCF"
      },
      "source": [
        "# **ITESM Campus Guadalajara**\n",
        "\n",
        "Técnicas Computacionales de Aprendizaje Automático (Ago-Dic 2020)\n",
        "\n",
        "\n",
        "**Tarea4 RLM & SVM**\n",
        "\n",
        "\n",
        "---\n",
        "\n",
        "\n",
        "\n",
        "Integrantes:\n",
        "\n",
        "\n",
        "\n",
        "*   Anna Karen Casillas Garcia - A00354860 \n",
        "*   Josue Emmanuel Gomez - A00354512\n",
        "*   Luis Francisco Gonzalez - A00540988\n",
        "\n",
        "\n"
      ]
    },
    {
      "cell_type": "markdown",
      "metadata": {
        "id": "HPHgTZBwU9Kc"
      },
      "source": [
        "# RunMe First"
      ]
    },
    {
      "cell_type": "code",
      "metadata": {
        "id": "ThYTZ8HhVAPp"
      },
      "source": [
        "import numpy as np    # biblioteca para el manejo de vectores y matrices en python.\n",
        "import pandas as pd   # biblioteca para el manejo de datos y tablas.\n",
        "import zipfile as zip # biblioteca para el manejo de archivos comprimidos.\n",
        "import matplotlib.pyplot as plt   # biblioteca para visualización de datos.\n",
        "import statsmodels.api as sm      # biblioteca para pruebas estadísticas.\n",
        "import seaborn as sns\n",
        "from sklearn.model_selection import train_test_split #Indispensable inciso b\n",
        "from sklearn.naive_bayes import *\n",
        "#from sklearn.naive_bayes import GaussianNB\n",
        "from sklearn import metrics\n",
        "from sklearn.metrics import confusion_matrix # included as a whole as we will need accuracy and others\n",
        "from sklearn.metrics import f1_score\n"
      ],
      "execution_count": null,
      "outputs": []
    },
    {
      "cell_type": "code",
      "metadata": {
        "id": "jmxu-t2WVkJI",
        "outputId": "282515d2-2228-4259-e891-bea3245debb5",
        "colab": {
          "base_uri": "https://localhost:8080/",
          "height": 69
        }
      },
      "source": [
        "#Bajando data\n",
        "!curl -O https://archive.ics.uci.edu/ml/machine-learning-databases/statlog/australian/australian.dat\n",
        "\n",
        "path_data = \"/content/australian.dat\"\n",
        "arr_column_names = ['A1','A2','A3','A4','A5','A6','A7','A8','A9','A10','A11','A12','A13','A14','class']\n",
        "data_original = pd.read_csv(path_data,sep=\"\\s+\", header=None)\n",
        "\n",
        "#Para cumplir con los requerimientos del ejercicio se cargaran los nombres de columnas \n",
        "#Hasta un paso después, para hacerlo al momento de carga:\n",
        "#  data_original = pd.read_csv(path_data,sep=\"\\s+\", names=arr_column_names)\n",
        "#  data_original.head()"
      ],
      "execution_count": null,
      "outputs": [
        {
          "output_type": "stream",
          "text": [
            "  % Total    % Received % Xferd  Average Speed   Time    Time     Time  Current\n",
            "                                 Dload  Upload   Total   Spent    Left  Speed\n",
            "100 28735  100 28735    0     0  25794      0  0:00:01  0:00:01 --:--:-- 25794\n"
          ],
          "name": "stdout"
        }
      ]
    },
    {
      "cell_type": "markdown",
      "metadata": {
        "id": "cXX2NgCk0Wq7"
      },
      "source": [
        "# 1) Con base en la lectura del siguiente artículo, contesta las preguntas de los incisos:\n",
        "https://www.cs.unb.ca/~hzhang/publications/FLAIRS04ZhangH.pdf"
      ]
    },
    {
      "cell_type": "markdown",
      "metadata": {
        "id": "ED6NNE7P0_xW"
      },
      "source": [
        "## a) ¿Cuál es la diferencia entre el método del Bayes Ingenuo (Naïve Bayes) y el Bayes ingenuo aumentado (Augmented Naïve Bayes)?"
      ]
    },
    {
      "cell_type": "markdown",
      "metadata": {
        "id": "6CClL1eRNSmB"
      },
      "source": [
        "*   Naive Bayes es la forma más sencilla del algoritmo basado en el teorema de Bayes, se basa en suponer que las características contribuyen independientemente a la probabilidad, sin tomar referencia o dependencia entre ellas.\n",
        "*   El método aumentado, mantiene la estructura original del Bayes Ingenuo, pero agrega una relación entre las características de una clase, proponiendo que si hay una cierta co-relación\n",
        "*   A pesar de ser mas realista el método aumentado también incrementa el costo computacional, y tomando en cuenta el buen desempeño del método ingenuo hace más atractiva la primera opción (Naive Bayes) en muchos de los casos, ya que su desempeño es similar a algoritmos más modernos como el C4.5\n"
      ]
    },
    {
      "cell_type": "markdown",
      "metadata": {
        "id": "7mlyaZCx1Cml"
      },
      "source": [
        "## b) ¿Cómo justifica el autor del artículo que el método del Bayes ingenuo funcione tan bien como método de clasificación, aún cuando la condición de que los eventos sean condicionalmente independientes con respecto a las clases casi nunca se cumple en los problemas reales?"
      ]
    },
    {
      "cell_type": "markdown",
      "metadata": {
        "id": "_MC3IZhQPPRl"
      },
      "source": [
        "\n",
        "\n",
        "*   El autor concluye que Naive Bayes funciona bien y da los escenarios en los que sería optimo\n",
        "*   Sin embargo hay que tener en cuenta que por ejemplo para problemas de regresión o predecir valores continuos el método de Bayes ingenuo podría no ser la mejor elección, esto es ya que su éxito está altamente ligado a la función de perdida, siendo la mejor la cero-uno, esto es por que si una probabilidad dada es digamos .9 - .1 (hablando solo de dos clases) es igualmente buena que .6 - .4; en otras palabras al asegurarnos que el caso de uso es solo predecir la clase correcta sin tomar en cuenta con que exactitud se predijo Naive Bayes tendrá un buen desempeño, al menos en la opinión de Domingos & Pazzani).\n",
        "*   El autor propone una nueva explicación y habla de que ya sea las variables, al tener dependencias y estar distribuidas se cancelan unas a otras ó se complementant y por eso el algoritmo funciona tan bien, al mismo tiempo que menciona 4 teoremas. Sin embargo puede darse el caso en que no sea así.\n",
        "*   Siendo la condición optima para usar Naive Bayes cuando las dependencias se cancelan entre ellas.\n",
        "*   Nuestra conclusión es que lo importante es utilizar el algoritmo correcto según el problema y especialmente poner atención en los meta-parámetros como lo son la función de costo a usar.\n",
        "\n",
        "\n",
        "\n"
      ]
    },
    {
      "cell_type": "markdown",
      "metadata": {
        "id": "k3dszwUNT3fb"
      },
      "source": [
        "# 2) En el siguiente artículo:\n",
        "http://citeseerx.ist.psu.edu/viewdoc/download?doi=10.1.1.61.5542&rep=rep1&type=pdf\n",
        "\n",
        "* Se habla de que existen varios modelos basados en el Bayes Ingenuo (NB) de acuerdo al tipo de datos que tenga el problema: continuos, categóricos, binarios, etc. \n",
        "* En particular en este ejercicio veremos un problema con dos tipos de datos: categóricos y continuos. \n",
        "* Las librerías en general contienen soluciones para un solo tipo de dato. \n",
        "* Cuando se tienen varios tipos de datos se pueden proponer diversas formas de enfrentar el problema. \n",
        "* En particular en este ejercicio lo resolverás primero modelando \n",
        " * las variables categóricas por un lado (usando el modelo NB para variables categóricas) \n",
        " * y las variables continuas por otro (usando el modelo gaussiano del NB).\n",
        "* Finalmente propondrás la solución al problema biclase mediante el producto de ambas predicciones probabilísticas.\n",
        "* Trabajarás con la base de datos de la UCI referente a solicitudes de tarjetas de crédito de clientes australianos. \n",
        " * Deberás descargar el archivo **“australian.dat”** de la siguiente liga y contestar los incisos que se indican a continuación:\n",
        "\n",
        "https://archive.ics.uci.edu/ml/datasets/Statlog+%28Australian+Credit+Approval%29\n"
      ]
    },
    {
      "cell_type": "markdown",
      "metadata": {
        "id": "3swV4KPkXFMh"
      },
      "source": [
        "## Inicializar Dataset"
      ]
    },
    {
      "cell_type": "code",
      "metadata": {
        "id": "whir1VFI0LY4",
        "outputId": "4ec55585-9caf-4c39-b406-50a29bafb970",
        "colab": {
          "base_uri": "https://localhost:8080/",
          "height": 206
        }
      },
      "source": [
        "#Por conveniencia se corre al inicio del documento en la celda RunME First\n",
        "data_original.head()"
      ],
      "execution_count": null,
      "outputs": [
        {
          "output_type": "execute_result",
          "data": {
            "text/html": [
              "<div>\n",
              "<style scoped>\n",
              "    .dataframe tbody tr th:only-of-type {\n",
              "        vertical-align: middle;\n",
              "    }\n",
              "\n",
              "    .dataframe tbody tr th {\n",
              "        vertical-align: top;\n",
              "    }\n",
              "\n",
              "    .dataframe thead th {\n",
              "        text-align: right;\n",
              "    }\n",
              "</style>\n",
              "<table border=\"1\" class=\"dataframe\">\n",
              "  <thead>\n",
              "    <tr style=\"text-align: right;\">\n",
              "      <th></th>\n",
              "      <th>0</th>\n",
              "      <th>1</th>\n",
              "      <th>2</th>\n",
              "      <th>3</th>\n",
              "      <th>4</th>\n",
              "      <th>5</th>\n",
              "      <th>6</th>\n",
              "      <th>7</th>\n",
              "      <th>8</th>\n",
              "      <th>9</th>\n",
              "      <th>10</th>\n",
              "      <th>11</th>\n",
              "      <th>12</th>\n",
              "      <th>13</th>\n",
              "      <th>14</th>\n",
              "    </tr>\n",
              "  </thead>\n",
              "  <tbody>\n",
              "    <tr>\n",
              "      <th>0</th>\n",
              "      <td>1</td>\n",
              "      <td>22.08</td>\n",
              "      <td>11.46</td>\n",
              "      <td>2</td>\n",
              "      <td>4</td>\n",
              "      <td>4</td>\n",
              "      <td>1.585</td>\n",
              "      <td>0</td>\n",
              "      <td>0</td>\n",
              "      <td>0</td>\n",
              "      <td>1</td>\n",
              "      <td>2</td>\n",
              "      <td>100</td>\n",
              "      <td>1213</td>\n",
              "      <td>0</td>\n",
              "    </tr>\n",
              "    <tr>\n",
              "      <th>1</th>\n",
              "      <td>0</td>\n",
              "      <td>22.67</td>\n",
              "      <td>7.00</td>\n",
              "      <td>2</td>\n",
              "      <td>8</td>\n",
              "      <td>4</td>\n",
              "      <td>0.165</td>\n",
              "      <td>0</td>\n",
              "      <td>0</td>\n",
              "      <td>0</td>\n",
              "      <td>0</td>\n",
              "      <td>2</td>\n",
              "      <td>160</td>\n",
              "      <td>1</td>\n",
              "      <td>0</td>\n",
              "    </tr>\n",
              "    <tr>\n",
              "      <th>2</th>\n",
              "      <td>0</td>\n",
              "      <td>29.58</td>\n",
              "      <td>1.75</td>\n",
              "      <td>1</td>\n",
              "      <td>4</td>\n",
              "      <td>4</td>\n",
              "      <td>1.250</td>\n",
              "      <td>0</td>\n",
              "      <td>0</td>\n",
              "      <td>0</td>\n",
              "      <td>1</td>\n",
              "      <td>2</td>\n",
              "      <td>280</td>\n",
              "      <td>1</td>\n",
              "      <td>0</td>\n",
              "    </tr>\n",
              "    <tr>\n",
              "      <th>3</th>\n",
              "      <td>0</td>\n",
              "      <td>21.67</td>\n",
              "      <td>11.50</td>\n",
              "      <td>1</td>\n",
              "      <td>5</td>\n",
              "      <td>3</td>\n",
              "      <td>0.000</td>\n",
              "      <td>1</td>\n",
              "      <td>1</td>\n",
              "      <td>11</td>\n",
              "      <td>1</td>\n",
              "      <td>2</td>\n",
              "      <td>0</td>\n",
              "      <td>1</td>\n",
              "      <td>1</td>\n",
              "    </tr>\n",
              "    <tr>\n",
              "      <th>4</th>\n",
              "      <td>1</td>\n",
              "      <td>20.17</td>\n",
              "      <td>8.17</td>\n",
              "      <td>2</td>\n",
              "      <td>6</td>\n",
              "      <td>4</td>\n",
              "      <td>1.960</td>\n",
              "      <td>1</td>\n",
              "      <td>1</td>\n",
              "      <td>14</td>\n",
              "      <td>0</td>\n",
              "      <td>2</td>\n",
              "      <td>60</td>\n",
              "      <td>159</td>\n",
              "      <td>1</td>\n",
              "    </tr>\n",
              "  </tbody>\n",
              "</table>\n",
              "</div>"
            ],
            "text/plain": [
              "   0      1      2   3   4   5      6   7   8   9   10  11   12    13  14\n",
              "0   1  22.08  11.46   2   4   4  1.585   0   0   0   1   2  100  1213   0\n",
              "1   0  22.67   7.00   2   8   4  0.165   0   0   0   0   2  160     1   0\n",
              "2   0  29.58   1.75   1   4   4  1.250   0   0   0   1   2  280     1   0\n",
              "3   0  21.67  11.50   1   5   3  0.000   1   1  11   1   2    0     1   1\n",
              "4   1  20.17   8.17   2   6   4  1.960   1   1  14   0   2   60   159   1"
            ]
          },
          "metadata": {
            "tags": []
          },
          "execution_count": 3
        }
      ]
    },
    {
      "cell_type": "markdown",
      "metadata": {
        "id": "QRaDsNfVXe8W"
      },
      "source": [
        "## a) Agrega los nombres a las columnas como se indica en la página de la UCI y realiza un análisis descriptico de los datos. Escribe tus conclusiones."
      ]
    },
    {
      "cell_type": "markdown",
      "metadata": {
        "id": "CLo52cMDaHsu"
      },
      "source": [
        "### Agregando nombres de columnas"
      ]
    },
    {
      "cell_type": "code",
      "metadata": {
        "id": "5mzrlvT9ZdWJ",
        "outputId": "f9eb95ac-cc67-4cd3-b882-9a788c2422e2",
        "colab": {
          "base_uri": "https://localhost:8080/",
          "height": 206
        }
      },
      "source": [
        "data_original.columns = arr_column_names\n",
        "data_original.head()"
      ],
      "execution_count": null,
      "outputs": [
        {
          "output_type": "execute_result",
          "data": {
            "text/html": [
              "<div>\n",
              "<style scoped>\n",
              "    .dataframe tbody tr th:only-of-type {\n",
              "        vertical-align: middle;\n",
              "    }\n",
              "\n",
              "    .dataframe tbody tr th {\n",
              "        vertical-align: top;\n",
              "    }\n",
              "\n",
              "    .dataframe thead th {\n",
              "        text-align: right;\n",
              "    }\n",
              "</style>\n",
              "<table border=\"1\" class=\"dataframe\">\n",
              "  <thead>\n",
              "    <tr style=\"text-align: right;\">\n",
              "      <th></th>\n",
              "      <th>A1</th>\n",
              "      <th>A2</th>\n",
              "      <th>A3</th>\n",
              "      <th>A4</th>\n",
              "      <th>A5</th>\n",
              "      <th>A6</th>\n",
              "      <th>A7</th>\n",
              "      <th>A8</th>\n",
              "      <th>A9</th>\n",
              "      <th>A10</th>\n",
              "      <th>A11</th>\n",
              "      <th>A12</th>\n",
              "      <th>A13</th>\n",
              "      <th>A14</th>\n",
              "      <th>class</th>\n",
              "    </tr>\n",
              "  </thead>\n",
              "  <tbody>\n",
              "    <tr>\n",
              "      <th>0</th>\n",
              "      <td>1</td>\n",
              "      <td>22.08</td>\n",
              "      <td>11.46</td>\n",
              "      <td>2</td>\n",
              "      <td>4</td>\n",
              "      <td>4</td>\n",
              "      <td>1.585</td>\n",
              "      <td>0</td>\n",
              "      <td>0</td>\n",
              "      <td>0</td>\n",
              "      <td>1</td>\n",
              "      <td>2</td>\n",
              "      <td>100</td>\n",
              "      <td>1213</td>\n",
              "      <td>0</td>\n",
              "    </tr>\n",
              "    <tr>\n",
              "      <th>1</th>\n",
              "      <td>0</td>\n",
              "      <td>22.67</td>\n",
              "      <td>7.00</td>\n",
              "      <td>2</td>\n",
              "      <td>8</td>\n",
              "      <td>4</td>\n",
              "      <td>0.165</td>\n",
              "      <td>0</td>\n",
              "      <td>0</td>\n",
              "      <td>0</td>\n",
              "      <td>0</td>\n",
              "      <td>2</td>\n",
              "      <td>160</td>\n",
              "      <td>1</td>\n",
              "      <td>0</td>\n",
              "    </tr>\n",
              "    <tr>\n",
              "      <th>2</th>\n",
              "      <td>0</td>\n",
              "      <td>29.58</td>\n",
              "      <td>1.75</td>\n",
              "      <td>1</td>\n",
              "      <td>4</td>\n",
              "      <td>4</td>\n",
              "      <td>1.250</td>\n",
              "      <td>0</td>\n",
              "      <td>0</td>\n",
              "      <td>0</td>\n",
              "      <td>1</td>\n",
              "      <td>2</td>\n",
              "      <td>280</td>\n",
              "      <td>1</td>\n",
              "      <td>0</td>\n",
              "    </tr>\n",
              "    <tr>\n",
              "      <th>3</th>\n",
              "      <td>0</td>\n",
              "      <td>21.67</td>\n",
              "      <td>11.50</td>\n",
              "      <td>1</td>\n",
              "      <td>5</td>\n",
              "      <td>3</td>\n",
              "      <td>0.000</td>\n",
              "      <td>1</td>\n",
              "      <td>1</td>\n",
              "      <td>11</td>\n",
              "      <td>1</td>\n",
              "      <td>2</td>\n",
              "      <td>0</td>\n",
              "      <td>1</td>\n",
              "      <td>1</td>\n",
              "    </tr>\n",
              "    <tr>\n",
              "      <th>4</th>\n",
              "      <td>1</td>\n",
              "      <td>20.17</td>\n",
              "      <td>8.17</td>\n",
              "      <td>2</td>\n",
              "      <td>6</td>\n",
              "      <td>4</td>\n",
              "      <td>1.960</td>\n",
              "      <td>1</td>\n",
              "      <td>1</td>\n",
              "      <td>14</td>\n",
              "      <td>0</td>\n",
              "      <td>2</td>\n",
              "      <td>60</td>\n",
              "      <td>159</td>\n",
              "      <td>1</td>\n",
              "    </tr>\n",
              "  </tbody>\n",
              "</table>\n",
              "</div>"
            ],
            "text/plain": [
              "   A1     A2     A3  A4  A5  A6     A7  A8  A9  A10  A11  A12  A13   A14  class\n",
              "0   1  22.08  11.46   2   4   4  1.585   0   0    0    1    2  100  1213      0\n",
              "1   0  22.67   7.00   2   8   4  0.165   0   0    0    0    2  160     1      0\n",
              "2   0  29.58   1.75   1   4   4  1.250   0   0    0    1    2  280     1      0\n",
              "3   0  21.67  11.50   1   5   3  0.000   1   1   11    1    2    0     1      1\n",
              "4   1  20.17   8.17   2   6   4  1.960   1   1   14    0    2   60   159      1"
            ]
          },
          "metadata": {
            "tags": []
          },
          "execution_count": 4
        }
      ]
    },
    {
      "cell_type": "markdown",
      "metadata": {
        "id": "sVMJmIUSaLC-"
      },
      "source": [
        "### Análisis"
      ]
    },
    {
      "cell_type": "code",
      "metadata": {
        "id": "cCzvI4WTXjJx",
        "outputId": "bfde82ff-042b-466f-a5c9-83bb1e142a3a",
        "colab": {
          "base_uri": "https://localhost:8080/",
          "height": 34
        }
      },
      "source": [
        "print(\"Shape: \",data_original.shape)"
      ],
      "execution_count": null,
      "outputs": [
        {
          "output_type": "stream",
          "text": [
            "Shape:  (690, 15)\n"
          ],
          "name": "stdout"
        }
      ]
    },
    {
      "cell_type": "markdown",
      "metadata": {
        "id": "sz6hH8sAayyw"
      },
      "source": [
        "El dataset cuenta con 690 registros y 15 columnas, de las cuales 14 son atributos y una es la clasificación o clase de los registros:\n",
        "\n",
        " 1. **A1:**\t0,1    CATEGORICAL, a,b\n",
        " 1. **A2:**\tcontinuous.\n",
        " 1. **A3:**\tcontinuous.\n",
        " 1. **A4:**\t1,2,3         CATEGORICAL       p,g,gg\n",
        " 1. **A5:**  1, 2,3,4,5, 6,7,8,9,10,11,12,13,14    CATEGORICAL ff,d,i,k,j,aa,m,c,w,  e, q, r,cc, x       \n",
        " 1. **A6:**\t 1, 2,3, 4,5,6,7,8,9    CATEGORICAL ff,dd,j,bb,v,n,o,h,z \n",
        " 1. **A7:**\tcontinuous.\n",
        " 1. **A8:**\t1, 0       CATEGORICAL t, f.\n",
        " 1. **A9:** 1, 0\t    CATEGORICAL t, f.\n",
        " 1. **A10:**\tcontinuous.\n",
        " 1. **A11:**  1, 0\t    CATEGORICAL t, f.\n",
        " 1. **A12:**    1, 2, 3    CATEGORICAL s, g, p \n",
        " 1. **A13:**\tcontinuous.\n",
        " 1. **A14**:\tcontinuous.\n",
        " 1. **Class**   1,2 +,-         (class attribute)\n",
        "\n"
      ]
    },
    {
      "cell_type": "markdown",
      "metadata": {
        "id": "UZr9ukL35JlJ"
      },
      "source": [
        "**Datos Originales etiquetados**"
      ]
    },
    {
      "cell_type": "code",
      "metadata": {
        "id": "3YGsNIXIaZil",
        "outputId": "2f13022a-12f8-4b5e-915f-0b6f82a65080",
        "colab": {
          "base_uri": "https://localhost:8080/",
          "height": 300
        }
      },
      "source": [
        "data_original.describe()"
      ],
      "execution_count": null,
      "outputs": [
        {
          "output_type": "execute_result",
          "data": {
            "text/html": [
              "<div>\n",
              "<style scoped>\n",
              "    .dataframe tbody tr th:only-of-type {\n",
              "        vertical-align: middle;\n",
              "    }\n",
              "\n",
              "    .dataframe tbody tr th {\n",
              "        vertical-align: top;\n",
              "    }\n",
              "\n",
              "    .dataframe thead th {\n",
              "        text-align: right;\n",
              "    }\n",
              "</style>\n",
              "<table border=\"1\" class=\"dataframe\">\n",
              "  <thead>\n",
              "    <tr style=\"text-align: right;\">\n",
              "      <th></th>\n",
              "      <th>A1</th>\n",
              "      <th>A2</th>\n",
              "      <th>A3</th>\n",
              "      <th>A4</th>\n",
              "      <th>A5</th>\n",
              "      <th>A6</th>\n",
              "      <th>A7</th>\n",
              "      <th>A8</th>\n",
              "      <th>A9</th>\n",
              "      <th>A10</th>\n",
              "      <th>A11</th>\n",
              "      <th>A12</th>\n",
              "      <th>A13</th>\n",
              "      <th>A14</th>\n",
              "      <th>class</th>\n",
              "    </tr>\n",
              "  </thead>\n",
              "  <tbody>\n",
              "    <tr>\n",
              "      <th>count</th>\n",
              "      <td>690.000000</td>\n",
              "      <td>690.000000</td>\n",
              "      <td>690.000000</td>\n",
              "      <td>690.000000</td>\n",
              "      <td>690.000000</td>\n",
              "      <td>690.000000</td>\n",
              "      <td>690.000000</td>\n",
              "      <td>690.000000</td>\n",
              "      <td>690.000000</td>\n",
              "      <td>690.00000</td>\n",
              "      <td>690.000000</td>\n",
              "      <td>690.000000</td>\n",
              "      <td>690.000000</td>\n",
              "      <td>690.000000</td>\n",
              "      <td>690.000000</td>\n",
              "    </tr>\n",
              "    <tr>\n",
              "      <th>mean</th>\n",
              "      <td>0.678261</td>\n",
              "      <td>31.568203</td>\n",
              "      <td>4.758725</td>\n",
              "      <td>1.766667</td>\n",
              "      <td>7.372464</td>\n",
              "      <td>4.692754</td>\n",
              "      <td>2.223406</td>\n",
              "      <td>0.523188</td>\n",
              "      <td>0.427536</td>\n",
              "      <td>2.40000</td>\n",
              "      <td>0.457971</td>\n",
              "      <td>1.928986</td>\n",
              "      <td>184.014493</td>\n",
              "      <td>1018.385507</td>\n",
              "      <td>0.444928</td>\n",
              "    </tr>\n",
              "    <tr>\n",
              "      <th>std</th>\n",
              "      <td>0.467482</td>\n",
              "      <td>11.853273</td>\n",
              "      <td>4.978163</td>\n",
              "      <td>0.430063</td>\n",
              "      <td>3.683265</td>\n",
              "      <td>1.992316</td>\n",
              "      <td>3.346513</td>\n",
              "      <td>0.499824</td>\n",
              "      <td>0.495080</td>\n",
              "      <td>4.86294</td>\n",
              "      <td>0.498592</td>\n",
              "      <td>0.298813</td>\n",
              "      <td>172.159274</td>\n",
              "      <td>5210.102598</td>\n",
              "      <td>0.497318</td>\n",
              "    </tr>\n",
              "    <tr>\n",
              "      <th>min</th>\n",
              "      <td>0.000000</td>\n",
              "      <td>13.750000</td>\n",
              "      <td>0.000000</td>\n",
              "      <td>1.000000</td>\n",
              "      <td>1.000000</td>\n",
              "      <td>1.000000</td>\n",
              "      <td>0.000000</td>\n",
              "      <td>0.000000</td>\n",
              "      <td>0.000000</td>\n",
              "      <td>0.00000</td>\n",
              "      <td>0.000000</td>\n",
              "      <td>1.000000</td>\n",
              "      <td>0.000000</td>\n",
              "      <td>1.000000</td>\n",
              "      <td>0.000000</td>\n",
              "    </tr>\n",
              "    <tr>\n",
              "      <th>25%</th>\n",
              "      <td>0.000000</td>\n",
              "      <td>22.670000</td>\n",
              "      <td>1.000000</td>\n",
              "      <td>2.000000</td>\n",
              "      <td>4.000000</td>\n",
              "      <td>4.000000</td>\n",
              "      <td>0.165000</td>\n",
              "      <td>0.000000</td>\n",
              "      <td>0.000000</td>\n",
              "      <td>0.00000</td>\n",
              "      <td>0.000000</td>\n",
              "      <td>2.000000</td>\n",
              "      <td>80.000000</td>\n",
              "      <td>1.000000</td>\n",
              "      <td>0.000000</td>\n",
              "    </tr>\n",
              "    <tr>\n",
              "      <th>50%</th>\n",
              "      <td>1.000000</td>\n",
              "      <td>28.625000</td>\n",
              "      <td>2.750000</td>\n",
              "      <td>2.000000</td>\n",
              "      <td>8.000000</td>\n",
              "      <td>4.000000</td>\n",
              "      <td>1.000000</td>\n",
              "      <td>1.000000</td>\n",
              "      <td>0.000000</td>\n",
              "      <td>0.00000</td>\n",
              "      <td>0.000000</td>\n",
              "      <td>2.000000</td>\n",
              "      <td>160.000000</td>\n",
              "      <td>6.000000</td>\n",
              "      <td>0.000000</td>\n",
              "    </tr>\n",
              "    <tr>\n",
              "      <th>75%</th>\n",
              "      <td>1.000000</td>\n",
              "      <td>37.707500</td>\n",
              "      <td>7.207500</td>\n",
              "      <td>2.000000</td>\n",
              "      <td>10.000000</td>\n",
              "      <td>5.000000</td>\n",
              "      <td>2.625000</td>\n",
              "      <td>1.000000</td>\n",
              "      <td>1.000000</td>\n",
              "      <td>3.00000</td>\n",
              "      <td>1.000000</td>\n",
              "      <td>2.000000</td>\n",
              "      <td>272.000000</td>\n",
              "      <td>396.500000</td>\n",
              "      <td>1.000000</td>\n",
              "    </tr>\n",
              "    <tr>\n",
              "      <th>max</th>\n",
              "      <td>1.000000</td>\n",
              "      <td>80.250000</td>\n",
              "      <td>28.000000</td>\n",
              "      <td>3.000000</td>\n",
              "      <td>14.000000</td>\n",
              "      <td>9.000000</td>\n",
              "      <td>28.500000</td>\n",
              "      <td>1.000000</td>\n",
              "      <td>1.000000</td>\n",
              "      <td>67.00000</td>\n",
              "      <td>1.000000</td>\n",
              "      <td>3.000000</td>\n",
              "      <td>2000.000000</td>\n",
              "      <td>100001.000000</td>\n",
              "      <td>1.000000</td>\n",
              "    </tr>\n",
              "  </tbody>\n",
              "</table>\n",
              "</div>"
            ],
            "text/plain": [
              "               A1          A2  ...            A14       class\n",
              "count  690.000000  690.000000  ...     690.000000  690.000000\n",
              "mean     0.678261   31.568203  ...    1018.385507    0.444928\n",
              "std      0.467482   11.853273  ...    5210.102598    0.497318\n",
              "min      0.000000   13.750000  ...       1.000000    0.000000\n",
              "25%      0.000000   22.670000  ...       1.000000    0.000000\n",
              "50%      1.000000   28.625000  ...       6.000000    0.000000\n",
              "75%      1.000000   37.707500  ...     396.500000    1.000000\n",
              "max      1.000000   80.250000  ...  100001.000000    1.000000\n",
              "\n",
              "[8 rows x 15 columns]"
            ]
          },
          "metadata": {
            "tags": []
          },
          "execution_count": 6
        }
      ]
    },
    {
      "cell_type": "markdown",
      "metadata": {
        "id": "XVZ1lqb55EnZ"
      },
      "source": [
        "**Análisis de las variables**"
      ]
    },
    {
      "cell_type": "code",
      "metadata": {
        "id": "xMMnBiDscoUc",
        "outputId": "04b9cad4-9667-4735-a094-f9f4478bdd58",
        "colab": {
          "base_uri": "https://localhost:8080/",
          "height": 1000
        }
      },
      "source": [
        "import seaborn as sns\n",
        "def plotHist(strColumn=\"A1\",iBins=10,colorIndex=0,dataframe=data_original):\n",
        "  sns.set(rc={'figure.figsize':(8,6)})\n",
        "  plt.hist(np.array(dataframe[strColumn]), bins=iBins, color=cmap(colorIndex))\n",
        "  plt.title('Columna '+strColumn)\n",
        "  plt.show()\n",
        "\n",
        "def get_cmap(n, name='hsv'):\n",
        "    return plt.cm.get_cmap(name, n)\n",
        "\n",
        "iBins = [3,10,10,3,10,10,6,3,3,6,3,3,6,3,3]\n",
        "i = 0\n",
        "cmap = get_cmap(len(iBins))\n",
        "for s in data_original.columns:\n",
        "  plotHist(s,iBins[i],i)\n",
        "  i += 1"
      ],
      "execution_count": null,
      "outputs": [
        {
          "output_type": "display_data",
          "data": {
            "image/png": "[encoded data removed]",
            "text/plain": [
              "<Figure size 576x432 with 1 Axes>"
            ]
          },
          "metadata": {
            "tags": []
          }
        },
        {
          "output_type": "display_data",
          "data": {
            "image/png": "[encoded data removed]",
            "text/plain": [
              "<Figure size 576x432 with 1 Axes>"
            ]
          },
          "metadata": {
            "tags": []
          }
        },
        {
          "output_type": "display_data",
          "data": {
            "image/png": "[encoded data removed]",
            "text/plain": [
              "<Figure size 576x432 with 1 Axes>"
            ]
          },
          "metadata": {
            "tags": []
          }
        },
        {
          "output_type": "display_data",
          "data": {
            "image/png": "[encoded data removed]",
            "text/plain": [
              "<Figure size 576x432 with 1 Axes>"
            ]
          },
          "metadata": {
            "tags": []
          }
        },
        {
          "output_type": "display_data",
          "data": {
            "image/png": "[encoded data removed]",
            "text/plain": [
              "<Figure size 576x432 with 1 Axes>"
            ]
          },
          "metadata": {
            "tags": []
          }
        },
        {
          "output_type": "display_data",
          "data": {
            "image/png": "[encoded data removed]",
            "text/plain": [
              "<Figure size 576x432 with 1 Axes>"
            ]
          },
          "metadata": {
            "tags": []
          }
        },
        {
          "output_type": "display_data",
          "data": {
            "image/png": "[encoded data removed]",
            "text/plain": [
              "<Figure size 576x432 with 1 Axes>"
            ]
          },
          "metadata": {
            "tags": []
          }
        },
        {
          "output_type": "display_data",
          "data": {
            "image/png": "[encoded data removed]",
            "text/plain": [
              "<Figure size 576x432 with 1 Axes>"
            ]
          },
          "metadata": {
            "tags": []
          }
        },
        {
          "output_type": "display_data",
          "data": {
            "image/png": "[encoded data removed]",
            "text/plain": [
              "<Figure size 576x432 with 1 Axes>"
            ]
          },
          "metadata": {
            "tags": []
          }
        },
        {
          "output_type": "display_data",
          "data": {
            "image/png": "[encoded data removed]",
            "text/plain": [
              "<Figure size 576x432 with 1 Axes>"
            ]
          },
          "metadata": {
            "tags": []
          }
        },
        {
          "output_type": "display_data",
          "data": {
            "image/png": "[encoded data removed]",
            "text/plain": [
              "<Figure size 576x432 with 1 Axes>"
            ]
          },
          "metadata": {
            "tags": []
          }
        },
        {
          "output_type": "display_data",
          "data": {
            "image/png": "[encoded data removed]",
            "text/plain": [
              "<Figure size 576x432 with 1 Axes>"
            ]
          },
          "metadata": {
            "tags": []
          }
        },
        {
          "output_type": "display_data",
          "data": {
            "image/png": "[encoded data removed]",
            "text/plain": [
              "<Figure size 576x432 with 1 Axes>"
            ]
          },
          "metadata": {
            "tags": []
          }
        },
        {
          "output_type": "display_data",
          "data": {
            "image/png": "[encoded data removed]",
            "text/plain": [
              "<Figure size 576x432 with 1 Axes>"
            ]
          },
          "metadata": {
            "tags": []
          }
        },
        {
          "output_type": "display_data",
          "data": {
            "image/png": "[encoded data removed]",
            "text/plain": [
              "<Figure size 576x432 with 1 Axes>"
            ]
          },
          "metadata": {
            "tags": []
          }
        }
      ]
    },
    {
      "cell_type": "markdown",
      "metadata": {
        "id": "aAW0Ughq3-ZX"
      },
      "source": [
        "**Matriz de correlación**"
      ]
    },
    {
      "cell_type": "code",
      "metadata": {
        "id": "Jml4ASfHgHGt",
        "outputId": "43699f0f-8b7a-463f-f779-3b96ec6e2e62",
        "colab": {
          "base_uri": "https://localhost:8080/",
          "height": 520
        }
      },
      "source": [
        "corr_df_original = data_original.corr()\n",
        "corr_df_original"
      ],
      "execution_count": null,
      "outputs": [
        {
          "output_type": "execute_result",
          "data": {
            "text/html": [
              "<div>\n",
              "<style scoped>\n",
              "    .dataframe tbody tr th:only-of-type {\n",
              "        vertical-align: middle;\n",
              "    }\n",
              "\n",
              "    .dataframe tbody tr th {\n",
              "        vertical-align: top;\n",
              "    }\n",
              "\n",
              "    .dataframe thead th {\n",
              "        text-align: right;\n",
              "    }\n",
              "</style>\n",
              "<table border=\"1\" class=\"dataframe\">\n",
              "  <thead>\n",
              "    <tr style=\"text-align: right;\">\n",
              "      <th></th>\n",
              "      <th>A1</th>\n",
              "      <th>A2</th>\n",
              "      <th>A3</th>\n",
              "      <th>A4</th>\n",
              "      <th>A5</th>\n",
              "      <th>A6</th>\n",
              "      <th>A7</th>\n",
              "      <th>A8</th>\n",
              "      <th>A9</th>\n",
              "      <th>A10</th>\n",
              "      <th>A11</th>\n",
              "      <th>A12</th>\n",
              "      <th>A13</th>\n",
              "      <th>A14</th>\n",
              "      <th>class</th>\n",
              "    </tr>\n",
              "  </thead>\n",
              "  <tbody>\n",
              "    <tr>\n",
              "      <th>A1</th>\n",
              "      <td>1.000000</td>\n",
              "      <td>0.036659</td>\n",
              "      <td>-0.028166</td>\n",
              "      <td>-0.063528</td>\n",
              "      <td>-0.005321</td>\n",
              "      <td>0.052658</td>\n",
              "      <td>0.097009</td>\n",
              "      <td>0.000918</td>\n",
              "      <td>-0.063256</td>\n",
              "      <td>-0.008427</td>\n",
              "      <td>0.053984</td>\n",
              "      <td>-0.059901</td>\n",
              "      <td>0.058595</td>\n",
              "      <td>0.003616</td>\n",
              "      <td>-0.013897</td>\n",
              "    </tr>\n",
              "    <tr>\n",
              "      <th>A2</th>\n",
              "      <td>0.036659</td>\n",
              "      <td>1.000000</td>\n",
              "      <td>0.201315</td>\n",
              "      <td>0.089503</td>\n",
              "      <td>-0.093877</td>\n",
              "      <td>0.028510</td>\n",
              "      <td>0.392788</td>\n",
              "      <td>0.204342</td>\n",
              "      <td>0.083680</td>\n",
              "      <td>0.185574</td>\n",
              "      <td>0.054779</td>\n",
              "      <td>0.020703</td>\n",
              "      <td>-0.077159</td>\n",
              "      <td>0.018539</td>\n",
              "      <td>0.161626</td>\n",
              "    </tr>\n",
              "    <tr>\n",
              "      <th>A3</th>\n",
              "      <td>-0.028166</td>\n",
              "      <td>0.201315</td>\n",
              "      <td>1.000000</td>\n",
              "      <td>0.091526</td>\n",
              "      <td>0.027665</td>\n",
              "      <td>0.094504</td>\n",
              "      <td>0.298902</td>\n",
              "      <td>0.244317</td>\n",
              "      <td>0.174846</td>\n",
              "      <td>0.271207</td>\n",
              "      <td>-0.013023</td>\n",
              "      <td>0.093752</td>\n",
              "      <td>-0.222346</td>\n",
              "      <td>0.123121</td>\n",
              "      <td>0.206294</td>\n",
              "    </tr>\n",
              "    <tr>\n",
              "      <th>A4</th>\n",
              "      <td>-0.063528</td>\n",
              "      <td>0.089503</td>\n",
              "      <td>0.091526</td>\n",
              "      <td>1.000000</td>\n",
              "      <td>0.088846</td>\n",
              "      <td>0.046639</td>\n",
              "      <td>0.080624</td>\n",
              "      <td>0.129863</td>\n",
              "      <td>0.162464</td>\n",
              "      <td>0.106457</td>\n",
              "      <td>0.004964</td>\n",
              "      <td>0.006400</td>\n",
              "      <td>-0.001758</td>\n",
              "      <td>0.120065</td>\n",
              "      <td>0.194306</td>\n",
              "    </tr>\n",
              "    <tr>\n",
              "      <th>A5</th>\n",
              "      <td>-0.005321</td>\n",
              "      <td>-0.093877</td>\n",
              "      <td>0.027665</td>\n",
              "      <td>0.088846</td>\n",
              "      <td>1.000000</td>\n",
              "      <td>0.402284</td>\n",
              "      <td>0.144757</td>\n",
              "      <td>0.311833</td>\n",
              "      <td>0.222957</td>\n",
              "      <td>0.150166</td>\n",
              "      <td>0.024738</td>\n",
              "      <td>0.070222</td>\n",
              "      <td>0.088140</td>\n",
              "      <td>0.030735</td>\n",
              "      <td>0.373712</td>\n",
              "    </tr>\n",
              "    <tr>\n",
              "      <th>A6</th>\n",
              "      <td>0.052658</td>\n",
              "      <td>0.028510</td>\n",
              "      <td>0.094504</td>\n",
              "      <td>0.046639</td>\n",
              "      <td>0.402284</td>\n",
              "      <td>1.000000</td>\n",
              "      <td>0.240400</td>\n",
              "      <td>0.246193</td>\n",
              "      <td>0.080397</td>\n",
              "      <td>0.098841</td>\n",
              "      <td>0.093641</td>\n",
              "      <td>0.036435</td>\n",
              "      <td>0.070662</td>\n",
              "      <td>0.064841</td>\n",
              "      <td>0.246567</td>\n",
              "    </tr>\n",
              "    <tr>\n",
              "      <th>A7</th>\n",
              "      <td>0.097009</td>\n",
              "      <td>0.392788</td>\n",
              "      <td>0.298902</td>\n",
              "      <td>0.080624</td>\n",
              "      <td>0.144757</td>\n",
              "      <td>0.240400</td>\n",
              "      <td>1.000000</td>\n",
              "      <td>0.345689</td>\n",
              "      <td>0.222982</td>\n",
              "      <td>0.322330</td>\n",
              "      <td>0.138139</td>\n",
              "      <td>-0.016297</td>\n",
              "      <td>-0.076389</td>\n",
              "      <td>0.051345</td>\n",
              "      <td>0.322475</td>\n",
              "    </tr>\n",
              "    <tr>\n",
              "      <th>A8</th>\n",
              "      <td>0.000918</td>\n",
              "      <td>0.204342</td>\n",
              "      <td>0.244317</td>\n",
              "      <td>0.129863</td>\n",
              "      <td>0.311833</td>\n",
              "      <td>0.246193</td>\n",
              "      <td>0.345689</td>\n",
              "      <td>1.000000</td>\n",
              "      <td>0.432032</td>\n",
              "      <td>0.379532</td>\n",
              "      <td>0.091276</td>\n",
              "      <td>0.045054</td>\n",
              "      <td>-0.067387</td>\n",
              "      <td>0.090012</td>\n",
              "      <td>0.720407</td>\n",
              "    </tr>\n",
              "    <tr>\n",
              "      <th>A9</th>\n",
              "      <td>-0.063256</td>\n",
              "      <td>0.083680</td>\n",
              "      <td>0.174846</td>\n",
              "      <td>0.162464</td>\n",
              "      <td>0.222957</td>\n",
              "      <td>0.080397</td>\n",
              "      <td>0.222982</td>\n",
              "      <td>0.432032</td>\n",
              "      <td>1.000000</td>\n",
              "      <td>0.571498</td>\n",
              "      <td>0.017043</td>\n",
              "      <td>0.176097</td>\n",
              "      <td>-0.053321</td>\n",
              "      <td>0.077652</td>\n",
              "      <td>0.458301</td>\n",
              "    </tr>\n",
              "    <tr>\n",
              "      <th>A10</th>\n",
              "      <td>-0.008427</td>\n",
              "      <td>0.185574</td>\n",
              "      <td>0.271207</td>\n",
              "      <td>0.106457</td>\n",
              "      <td>0.150166</td>\n",
              "      <td>0.098841</td>\n",
              "      <td>0.322330</td>\n",
              "      <td>0.379532</td>\n",
              "      <td>0.571498</td>\n",
              "      <td>1.000000</td>\n",
              "      <td>0.006944</td>\n",
              "      <td>0.101479</td>\n",
              "      <td>-0.119808</td>\n",
              "      <td>0.063692</td>\n",
              "      <td>0.406410</td>\n",
              "    </tr>\n",
              "    <tr>\n",
              "      <th>A11</th>\n",
              "      <td>0.053984</td>\n",
              "      <td>0.054779</td>\n",
              "      <td>-0.013023</td>\n",
              "      <td>0.004964</td>\n",
              "      <td>0.024738</td>\n",
              "      <td>0.093641</td>\n",
              "      <td>0.138139</td>\n",
              "      <td>0.091276</td>\n",
              "      <td>0.017043</td>\n",
              "      <td>0.006944</td>\n",
              "      <td>1.000000</td>\n",
              "      <td>-0.044417</td>\n",
              "      <td>0.144254</td>\n",
              "      <td>0.019201</td>\n",
              "      <td>0.031625</td>\n",
              "    </tr>\n",
              "    <tr>\n",
              "      <th>A12</th>\n",
              "      <td>-0.059901</td>\n",
              "      <td>0.020703</td>\n",
              "      <td>0.093752</td>\n",
              "      <td>0.006400</td>\n",
              "      <td>0.070222</td>\n",
              "      <td>0.036435</td>\n",
              "      <td>-0.016297</td>\n",
              "      <td>0.045054</td>\n",
              "      <td>0.176097</td>\n",
              "      <td>0.101479</td>\n",
              "      <td>-0.044417</td>\n",
              "      <td>1.000000</td>\n",
              "      <td>-0.079287</td>\n",
              "      <td>0.139674</td>\n",
              "      <td>0.115261</td>\n",
              "    </tr>\n",
              "    <tr>\n",
              "      <th>A13</th>\n",
              "      <td>0.058595</td>\n",
              "      <td>-0.077159</td>\n",
              "      <td>-0.222346</td>\n",
              "      <td>-0.001758</td>\n",
              "      <td>0.088140</td>\n",
              "      <td>0.070662</td>\n",
              "      <td>-0.076389</td>\n",
              "      <td>-0.067387</td>\n",
              "      <td>-0.053321</td>\n",
              "      <td>-0.119808</td>\n",
              "      <td>0.144254</td>\n",
              "      <td>-0.079287</td>\n",
              "      <td>1.000000</td>\n",
              "      <td>0.065609</td>\n",
              "      <td>-0.099972</td>\n",
              "    </tr>\n",
              "    <tr>\n",
              "      <th>A14</th>\n",
              "      <td>0.003616</td>\n",
              "      <td>0.018539</td>\n",
              "      <td>0.123121</td>\n",
              "      <td>0.120065</td>\n",
              "      <td>0.030735</td>\n",
              "      <td>0.064841</td>\n",
              "      <td>0.051345</td>\n",
              "      <td>0.090012</td>\n",
              "      <td>0.077652</td>\n",
              "      <td>0.063692</td>\n",
              "      <td>0.019201</td>\n",
              "      <td>0.139674</td>\n",
              "      <td>0.065609</td>\n",
              "      <td>1.000000</td>\n",
              "      <td>0.175657</td>\n",
              "    </tr>\n",
              "    <tr>\n",
              "      <th>class</th>\n",
              "      <td>-0.013897</td>\n",
              "      <td>0.161626</td>\n",
              "      <td>0.206294</td>\n",
              "      <td>0.194306</td>\n",
              "      <td>0.373712</td>\n",
              "      <td>0.246567</td>\n",
              "      <td>0.322475</td>\n",
              "      <td>0.720407</td>\n",
              "      <td>0.458301</td>\n",
              "      <td>0.406410</td>\n",
              "      <td>0.031625</td>\n",
              "      <td>0.115261</td>\n",
              "      <td>-0.099972</td>\n",
              "      <td>0.175657</td>\n",
              "      <td>1.000000</td>\n",
              "    </tr>\n",
              "  </tbody>\n",
              "</table>\n",
              "</div>"
            ],
            "text/plain": [
              "             A1        A2        A3  ...       A13       A14     class\n",
              "A1     1.000000  0.036659 -0.028166  ...  0.058595  0.003616 -0.013897\n",
              "A2     0.036659  1.000000  0.201315  ... -0.077159  0.018539  0.161626\n",
              "A3    -0.028166  0.201315  1.000000  ... -0.222346  0.123121  0.206294\n",
              "A4    -0.063528  0.089503  0.091526  ... -0.001758  0.120065  0.194306\n",
              "A5    -0.005321 -0.093877  0.027665  ...  0.088140  0.030735  0.373712\n",
              "A6     0.052658  0.028510  0.094504  ...  0.070662  0.064841  0.246567\n",
              "A7     0.097009  0.392788  0.298902  ... -0.076389  0.051345  0.322475\n",
              "A8     0.000918  0.204342  0.244317  ... -0.067387  0.090012  0.720407\n",
              "A9    -0.063256  0.083680  0.174846  ... -0.053321  0.077652  0.458301\n",
              "A10   -0.008427  0.185574  0.271207  ... -0.119808  0.063692  0.406410\n",
              "A11    0.053984  0.054779 -0.013023  ...  0.144254  0.019201  0.031625\n",
              "A12   -0.059901  0.020703  0.093752  ... -0.079287  0.139674  0.115261\n",
              "A13    0.058595 -0.077159 -0.222346  ...  1.000000  0.065609 -0.099972\n",
              "A14    0.003616  0.018539  0.123121  ...  0.065609  1.000000  0.175657\n",
              "class -0.013897  0.161626  0.206294  ... -0.099972  0.175657  1.000000\n",
              "\n",
              "[15 rows x 15 columns]"
            ]
          },
          "metadata": {
            "tags": []
          },
          "execution_count": 104
        }
      ]
    },
    {
      "cell_type": "code",
      "metadata": {
        "id": "bUxXsWPLfZJ-",
        "outputId": "f5f8060a-a5b9-4e78-928b-56470803390b",
        "colab": {
          "base_uri": "https://localhost:8080/",
          "height": 622
        }
      },
      "source": [
        "plt.figure(figsize=(20,10))\n",
        "plt.title(\"Mapa de calor - Correlación entre variables\", fontdict={'fontsize': 27,'fontweight' : 'bold', 'color' : '#200224'})\n",
        "#fontdict={'fontsize': 30,'fontweight' : bold,'color' : 'red','verticalalignment': 'baseline','horizontalalignment': loc}\n",
        "sns.heatmap(corr_df_original, \n",
        "        xticklabels=corr_df_original.columns,\n",
        "        yticklabels=corr_df_original.columns,\n",
        "        annot = True)\n",
        "\n",
        "plt.show()"
      ],
      "execution_count": null,
      "outputs": [
        {
          "output_type": "display_data",
          "data": {
            "image/png": "[encoded data removed]",
            "text/plain": [
              "<Figure size 1440x720 with 2 Axes>"
            ]
          },
          "metadata": {
            "tags": []
          }
        }
      ]
    },
    {
      "cell_type": "markdown",
      "metadata": {
        "id": "KxyASajmb57P"
      },
      "source": [
        "### Conclusiones"
      ]
    },
    {
      "cell_type": "markdown",
      "metadata": {
        "id": "LDHkJuG3buka"
      },
      "source": [
        "\n",
        "- Hay 8 variables categoricas 6 continuas y una de clasificación\n",
        "- En el documento se explica que hay valores perdidos y fueron remplazados por la moda en el caso de las categoricas y por la media en el caso de las continuas\n",
        "- Las gráficas muestran la distribución de los valores\n"
      ]
    },
    {
      "cell_type": "markdown",
      "metadata": {
        "id": "a5f8IlechyP9"
      },
      "source": [
        "## b) Realiza una partición de los datos en 80% de entrenamiento y 20% de prueba."
      ]
    },
    {
      "cell_type": "code",
      "metadata": {
        "id": "z2YE7ItgiKFs"
      },
      "source": [
        "X = data_original[['A1','A2','A3','A4','A5','A6','A7','A8','A9','A10','A11','A12','A13','A14']]\n",
        "y = data_original[['class']]\n",
        "X_train, X_test, y_train, y_test = train_test_split( X, y, test_size=0.20, random_state=42)"
      ],
      "execution_count": null,
      "outputs": []
    },
    {
      "cell_type": "code",
      "metadata": {
        "id": "posRAwv9i7AQ",
        "outputId": "418dfdea-0422-44ff-cd0d-6e7dc65088c9",
        "colab": {
          "base_uri": "https://localhost:8080/",
          "height": 52
        }
      },
      "source": [
        "print(\"Forma del dataset original: \", data_original.shape)\n",
        "print(\"Forma de las particiones: \", X_train.shape,y_train.shape,X_test.shape,y_test.shape)"
      ],
      "execution_count": null,
      "outputs": [
        {
          "output_type": "stream",
          "text": [
            "Forma del dataset original:  (690, 15)\n",
            "Forma de las particiones:  (552, 14) (552, 1) (138, 14) (138, 1)\n"
          ],
          "name": "stdout"
        }
      ]
    },
    {
      "cell_type": "markdown",
      "metadata": {
        "id": "lWqPqdkujkP0"
      },
      "source": [
        "**552/690 ~ 80% de los datos**"
      ]
    },
    {
      "cell_type": "markdown",
      "metadata": {
        "id": "oaLj8Tz1h5hK"
      },
      "source": [
        "## c) Separa los datos de entrenamiento y de prueba en dos conjuntos: los que tienen datos categóricos serán un conjunto y los que tienen datos continuos un segundo conjunto. Apóyate en la información de las variables dada en la página de la UCI."
      ]
    },
    {
      "cell_type": "code",
      "metadata": {
        "id": "WPWyTP9lkET7",
        "outputId": "5e1d333e-3d56-4a87-a9b1-fca97a1daf8e",
        "colab": {
          "base_uri": "https://localhost:8080/",
          "height": 34
        }
      },
      "source": [
        "cols_categoricas = ['A1','A4','A5','A6','A8','A9','A11','A12']\n",
        "cols_continuas = ['A2','A3','A7','A10','A13','A14']\n",
        "\n",
        "x_train_cat = X_train[cols_categoricas]\n",
        "x_train_cont = X_train[cols_continuas]\n",
        "x_test_cat = X_test[cols_categoricas]\n",
        "x_test_cont = X_test[cols_continuas]\n",
        "\n",
        "print(x_train_cat.shape,x_train_cont.shape,x_test_cat.shape,x_test_cont.shape)"
      ],
      "execution_count": null,
      "outputs": [
        {
          "output_type": "stream",
          "text": [
            "(552, 8) (552, 6) (138, 8) (138, 6)\n"
          ],
          "name": "stdout"
        }
      ]
    },
    {
      "cell_type": "markdown",
      "metadata": {
        "id": "K5NWrhegkFAM"
      },
      "source": [
        "## En los siguientes incisos usarás la librería scikit-learn y deberás identificar el modelo adecuado a utilizar en cada caso: https://scikit-learn.org/stable/modules/naive_bayes.html"
      ]
    },
    {
      "cell_type": "markdown",
      "metadata": {
        "id": "N06e42f3h5qG"
      },
      "source": [
        "## d) Aplica el modelo de Bayes Ingenuo al conjunto de datos de entrenamiento categóricos. Obtener la matriz de confusión con las datos de prueba categóricos, así como el porcentaje de exactitud (accuracy)."
      ]
    },
    {
      "cell_type": "code",
      "metadata": {
        "id": "UaIEBN_vxgMZ",
        "outputId": "00ca56c2-3503-489e-dbb6-c73e9708e91d",
        "colab": {
          "base_uri": "https://localhost:8080/",
          "height": 139
        }
      },
      "source": [
        "def printMetrics(y_test, y_pred):\n",
        "  #formatted_float = \"{:.2f}\".format(acc)\n",
        "  acc = metrics.accuracy_score(y_test, y_pred)\n",
        "  print(\"Accuracy: {:.3f}%\".format(acc * 100))\n",
        "  f1_score = metrics.f1_score(y_test, y_pred) \n",
        "  print(\"f1 Score: {:.3f}%\".format(f1_score * 100))\n",
        "  hamming_loss = metrics.hamming_loss(y_test, y_pred)\n",
        "  print(\"Hamming loss: {:.3f}%\".format(hamming_loss * 100))\n",
        "  mean_squared_error = metrics.mean_squared_error(y_test, y_pred)\n",
        "  print(\"mean_squared_error: {:.3f}%\".format(mean_squared_error * 100))\n",
        "  conf_mtx = metrics.confusion_matrix(y_test, y_pred)\n",
        "  print(\"Confusion Matrix: \\n\", conf_mtx)"
      ],
      "execution_count": null,
      "outputs": [
        {
          "output_type": "stream",
          "text": [
            "Accuracy: 88.406%\n",
            "f1 Score: 84.314%\n",
            "Hamming loss: 11.594%\n",
            "mean_squared_error: 11.594%\n",
            "Confusion Matrix: \n",
            " [[79  8]\n",
            " [ 8 43]]\n"
          ],
          "name": "stdout"
        }
      ]
    },
    {
      "cell_type": "markdown",
      "metadata": {
        "id": "1wc-NKxR273J"
      },
      "source": [
        "### Evaluación de los modelos librería scikit-learn"
      ]
    },
    {
      "cell_type": "code",
      "metadata": {
        "id": "Nj6Ycm712y99"
      },
      "source": [
        "y_train_vector = y_train.values.T[0]\n",
        "#print(y_train_vector.shape)\n",
        "\n",
        "y_test_vector = y_test.values.T[0]\n",
        "#print(y_test_vector.shape)"
      ],
      "execution_count": null,
      "outputs": []
    },
    {
      "cell_type": "code",
      "metadata": {
        "id": "ou4Y23Iw2-Kt",
        "outputId": "8ee021a2-8813-4503-cb2e-6ad7aa262a81",
        "colab": {
          "base_uri": "https://localhost:8080/",
          "height": 486
        }
      },
      "source": [
        "# Tipos de Gaussians GaussianNB MultinomialNB ComplementNB BernoulliNB CategoricalNB\n",
        "#Iniciando con Gaussian\n",
        "\n",
        "print(\"Categorical Analysis:\\n\")\n",
        "\n",
        "gnb = GaussianNB()\n",
        "mnb = MultinomialNB()\n",
        "cnb = ComplementNB()\n",
        "bnb = BernoulliNB()\n",
        "knb = CategoricalNB()\n",
        "\n",
        "#Gaussian\n",
        "print(\"--- Gaussian ---\")\n",
        "model_gnb_cat = gnb.fit(x_train_cat, y_train_vector)\n",
        "y_pred_gnb_cat = model_gnb_cat.predict(x_test_cat)\n",
        "print(confusion_matrix(y_test, y_pred_gnb_cat),\"\\n\",\n",
        "      \"{:.3f}%\".format(metrics.accuracy_score(y_test, y_pred_gnb_cat) * 100),\"\\n\")\n",
        "\n",
        "#Multinomial\n",
        "print(\"--- Multinomial ---\")\n",
        "model_mnb_cat = mnb.fit(x_train_cat, y_train_vector)\n",
        "y_pred_mnb_cat = model_mnb_cat.predict(x_test_cat)\n",
        "\n",
        "print(confusion_matrix(y_test.values, y_pred_mnb_cat),\"\\n\",\n",
        "      \"{:.3f}%\".format(metrics.accuracy_score(y_test, y_pred_mnb_cat) * 100),\"\\n\")\n",
        "\n",
        "#Complement\n",
        "print(\"--- Complement ---\")\n",
        "model_cnb_cat = cnb.fit(x_train_cat, y_train_vector)\n",
        "y_pred_cnb_cat = model_cnb_cat.predict(x_test_cat)\n",
        "print(confusion_matrix(y_test.values, y_pred_cnb_cat),\"\\n\",\n",
        "      \"{:.3f}%\".format(metrics.accuracy_score(y_test, y_pred_cnb_cat) * 100),\"\\n\")\n",
        "\n",
        "\n",
        "#Bernooulli\n",
        "print(\"--- Bernooulli ---\")\n",
        "model_bnb_cat = bnb.fit(x_train_cat, y_train_vector)\n",
        "y_pred_bnb_cat = model_bnb_cat.predict(x_test_cat)\n",
        "confusion_matrix(y_test.values, y_pred_bnb_cat)\n",
        "print(confusion_matrix(y_test.values, y_pred_bnb_cat),\"\\n\",\n",
        "      \"{:.3f}%\".format(metrics.accuracy_score(y_test, y_pred_bnb_cat) * 100),\"\\n\")\n",
        "\n",
        "\n",
        "#Categorical\n",
        "print(\"--- Categorical ---\")\n",
        "model_knb_cat = knb.fit(x_train_cat, y_train_vector)\n",
        "y_pred_knb_cat = model_knb_cat.predict(x_test_cat)\n",
        "print(confusion_matrix(y_test.values, y_pred_knb_cat),\"\\n\",\n",
        "      \"{:.3f}%\".format(metrics.accuracy_score(y_test, y_pred_knb_cat) * 100),\"\\n\")"
      ],
      "execution_count": null,
      "outputs": [
        {
          "output_type": "stream",
          "text": [
            "Categorical Analysis:\n",
            "\n",
            "--- Gaussian ---\n",
            "[[79  8]\n",
            " [ 8 43]] \n",
            " 88.406% \n",
            "\n",
            "--- Multinomial ---\n",
            "[[76 11]\n",
            " [12 39]] \n",
            " 83.333% \n",
            "\n",
            "--- Complement ---\n",
            "[[75 12]\n",
            " [10 41]] \n",
            " 84.058% \n",
            "\n",
            "--- Bernooulli ---\n",
            "[[71 16]\n",
            " [ 6 45]] \n",
            " 84.058% \n",
            "\n",
            "--- Categorical ---\n",
            "[[81  6]\n",
            " [11 40]] \n",
            " 87.681% \n",
            "\n"
          ],
          "name": "stdout"
        }
      ]
    },
    {
      "cell_type": "markdown",
      "metadata": {
        "id": "TCeVyqzT6Nfl"
      },
      "source": [
        "Mejor Modelo: Gaussian"
      ]
    },
    {
      "cell_type": "markdown",
      "metadata": {
        "id": "TwaLbb5znJjq"
      },
      "source": [
        "### Matriz de confusión"
      ]
    },
    {
      "cell_type": "code",
      "metadata": {
        "id": "2kg5Nzrw8fnJ",
        "outputId": "9037a323-5a80-4c6b-8105-531335ecb0cf",
        "colab": {
          "base_uri": "https://localhost:8080/",
          "height": 86
        }
      },
      "source": [
        "#Gaussian\n",
        "print(\"--- Gaussian ---\")\n",
        "y_pred_gnb_cat = model_gnb_cat.predict(x_test_cat)\n",
        "print('Matriz de Confusión:\\n', confusion_matrix(y_test, y_pred_gnb_cat))"
      ],
      "execution_count": null,
      "outputs": [
        {
          "output_type": "stream",
          "text": [
            "--- Gaussian ---\n",
            "Matriz de Confusión:\n",
            " [[79  8]\n",
            " [ 8 43]]\n"
          ],
          "name": "stdout"
        }
      ]
    },
    {
      "cell_type": "markdown",
      "metadata": {
        "id": "CsLUeGiunM-q"
      },
      "source": [
        "### Porcentaje de exactitud (Accuracy)"
      ]
    },
    {
      "cell_type": "code",
      "metadata": {
        "id": "j99OHPtjnR3v",
        "outputId": "b85c5571-c718-406a-e5de-08943b3e8d07",
        "colab": {
          "base_uri": "https://localhost:8080/",
          "height": 34
        }
      },
      "source": [
        "  acc = metrics.accuracy_score(y_test, y_pred_gnb_cat)\n",
        "  print(\"Accuracy: {:.3f}%\".format(acc * 100))"
      ],
      "execution_count": null,
      "outputs": [
        {
          "output_type": "stream",
          "text": [
            "Accuracy: 88.406%\n"
          ],
          "name": "stdout"
        }
      ]
    },
    {
      "cell_type": "markdown",
      "metadata": {
        "id": "AujI7m6Vh50H"
      },
      "source": [
        "## e) Aplica el modelo de Bayes Ingenuo al conjunto de datos de entrenamiento continuos. Obtener la matriz de confusión con las datos de prueba continuos, así como el porcentaje de exactitud (accuracy)."
      ]
    },
    {
      "cell_type": "markdown",
      "metadata": {
        "id": "9G2vuY6cvMfD"
      },
      "source": [
        "### Evaluación modelos continuos"
      ]
    },
    {
      "cell_type": "code",
      "metadata": {
        "id": "FuUckbZo6TfI",
        "outputId": "4a9cb799-24c2-4a86-ccdd-41a0f2c24f63",
        "colab": {
          "base_uri": "https://localhost:8080/",
          "height": 416
        }
      },
      "source": [
        "# Tipos de Gaussians GaussianNB MultinomialNB ComplementNB BernoulliNB CategoricalNB\n",
        "\n",
        "print(\"Continous Analysis:\\n\")\n",
        "\n",
        "gnb = GaussianNB()\n",
        "mnb = MultinomialNB()\n",
        "cnb = ComplementNB()\n",
        "bnb = BernoulliNB()\n",
        "knb = CategoricalNB()\n",
        "\n",
        "#Gaussian\n",
        "print(\"--- Gaussian ---\")\n",
        "model_gnb_cont = gnb.fit(x_train_cont, y_train_vector)\n",
        "y_pred_gnb_cont = model_gnb_cont.predict(x_test_cont)\n",
        "print(confusion_matrix(y_test, y_pred_gnb_cont),\"\\n\",\n",
        "      \"{:.3f}%\".format(metrics.accuracy_score(y_test, y_pred_gnb_cont) * 100),\"\\n\")\n",
        "\n",
        "\n",
        "#Multinomial\n",
        "print(\"--- Multinomial ---\")\n",
        "model_mnb_cont = mnb.fit(x_train_cont, y_train_vector)\n",
        "y_pred_mnb_cont = model_mnb_cont.predict(x_test_cont)\n",
        "\n",
        "print(confusion_matrix(y_test.values, y_pred_mnb_cont),\"\\n\",\n",
        "      \"{:.3f}%\".format(metrics.accuracy_score(y_test, y_pred_mnb_cont) * 100),\"\\n\")\n",
        "\n",
        "#Complement\n",
        "print(\"--- Complement ---\")\n",
        "model_cnb_cont = cnb.fit(x_train_cont, y_train_vector)\n",
        "y_pred_cnb_cont = model_cnb_cont.predict(x_test_cont)\n",
        "print(confusion_matrix(y_test.values, y_pred_cnb_cont),\"\\n\",\n",
        "      \"{:.3f}%\".format(metrics.accuracy_score(y_test, y_pred_cnb_cont) * 100),\"\\n\")\n",
        "\n",
        "#Bernooulli\n",
        "print(\"--- Bernooulli ---\")\n",
        "model_bnb_cont = bnb.fit(x_train_cont, y_train_vector)\n",
        "y_pred_bnb_cont = model_bnb_cont.predict(x_test_cont)\n",
        "confusion_matrix(y_test.values, y_pred_bnb_cont)\n",
        "print(confusion_matrix(y_test.values, y_pred_bnb_cont),\"\\n\",\n",
        "      \"{:.3f}%\".format(metrics.accuracy_score(y_test, y_pred_bnb_cont) * 100),\"\\n\")\n",
        "\n",
        "#Categorical\n",
        "print(\"--- Categorical ---\")\n",
        "model_knb_cont = knb.fit(x_train_cont, y_train_vector)\n",
        "#y_pred_knb_cont = model_knb_cont.predict(x_test_cont)\n",
        "#print(confusion_matrix(y_test.values, y_pred_knb_cont),\"\\n\",\"{:.3f}%\".format(metrics.accuracy_score(y_test, y_pred_knb_cont) * 100),\"\\n\")"
      ],
      "execution_count": null,
      "outputs": [
        {
          "output_type": "stream",
          "text": [
            "Continous Analysis:\n",
            "\n",
            "--- Gaussian ---\n",
            "[[81  6]\n",
            " [32 19]] \n",
            " 72.464% \n",
            "\n",
            "--- Multinomial ---\n",
            "[[79  8]\n",
            " [29 22]] \n",
            " 73.188% \n",
            "\n",
            "--- Complement ---\n",
            "[[79  8]\n",
            " [29 22]] \n",
            " 73.188% \n",
            "\n",
            "--- Bernooulli ---\n",
            "[[74 13]\n",
            " [20 31]] \n",
            " 76.087% \n",
            "\n",
            "--- Categorical ---\n"
          ],
          "name": "stdout"
        }
      ]
    },
    {
      "cell_type": "markdown",
      "metadata": {
        "id": "mi6nkvVK7kQ_"
      },
      "source": [
        "Nota: *Este último knb categórico marca un error con el dataset continuo y se observa una disminución notable con respecto a los dataset categoricos*\n",
        "\n",
        "\n",
        "**Mejor modelo: Bernooulli**"
      ]
    },
    {
      "cell_type": "markdown",
      "metadata": {
        "id": "V98JDK7Ktnbl"
      },
      "source": [
        "### Matriz de confusión\n"
      ]
    },
    {
      "cell_type": "code",
      "metadata": {
        "id": "hUxYkR787zlr",
        "outputId": "8f015bb2-f9f5-448b-cde5-09896e834261",
        "colab": {
          "base_uri": "https://localhost:8080/",
          "height": 86
        }
      },
      "source": [
        "# Bernooulli\n",
        "print(\"--- Bernooulli ---\")\n",
        "y_pred_bnb_cont = model_bnb_cont.predict(x_test_cont)\n",
        "print('Matriz de Confusión:\\n', confusion_matrix(y_test, y_pred_bnb_cont))"
      ],
      "execution_count": null,
      "outputs": [
        {
          "output_type": "stream",
          "text": [
            "--- Bernooulli ---\n",
            "Matriz de Confusión:\n",
            " [[74 13]\n",
            " [20 31]]\n"
          ],
          "name": "stdout"
        }
      ]
    },
    {
      "cell_type": "markdown",
      "metadata": {
        "id": "e08vl6AmuC4d"
      },
      "source": [
        "### Porcentaje de exactitud (Accuracy)"
      ]
    },
    {
      "cell_type": "code",
      "metadata": {
        "id": "nqMX5N31t7p_",
        "outputId": "4b79c2e8-bc87-4076-d258-273c56f0d51a",
        "colab": {
          "base_uri": "https://localhost:8080/",
          "height": 52
        }
      },
      "source": [
        "print(\"Accuracy\",\"{:.3f}%\".format(metrics.accuracy_score(y_test, y_pred_bnb_cont) * 100),\"\\n\")"
      ],
      "execution_count": null,
      "outputs": [
        {
          "output_type": "stream",
          "text": [
            "Accuracy 76.087% \n",
            "\n"
          ],
          "name": "stdout"
        }
      ]
    },
    {
      "cell_type": "markdown",
      "metadata": {
        "id": "-kXNY76wh586"
      },
      "source": [
        "## f) Obtener ahora las predicciones probabilísticas de los datos de prueba de ambos modelos, categórico y continuo. Realiza el producto de dichas probabilidades. Obtener la matriz de confusión del modelo final, así como su exactitud (accuracy)."
      ]
    },
    {
      "cell_type": "markdown",
      "metadata": {
        "id": "yWtIM1uZai3r"
      },
      "source": [
        "### **Predicciones probabilísticas de los datos de prueba**"
      ]
    },
    {
      "cell_type": "markdown",
      "metadata": {
        "id": "Hyzf1uDpvwEt"
      },
      "source": [
        "**Predicción probabilistica de atos Continuos**"
      ]
    },
    {
      "cell_type": "code",
      "metadata": {
        "id": "bkuaa-XHXC9i",
        "outputId": "6e528b08-bdc5-427e-9e23-928c6474f2be",
        "colab": {
          "base_uri": "https://localhost:8080/",
          "height": 191
        }
      },
      "source": [
        "#Predición probalistica Continua\n",
        "proba_cont = model_bnb_cont.predict_proba(x_test_cont)\n",
        "#Primeros 10 valores.\n",
        "proba_cont[:10]"
      ],
      "execution_count": null,
      "outputs": [
        {
          "output_type": "execute_result",
          "data": {
            "text/plain": [
              "array([[0.30014483, 0.69985517],\n",
              "       [0.75309701, 0.24690299],\n",
              "       [0.75309701, 0.24690299],\n",
              "       [0.17281407, 0.82718593],\n",
              "       [0.75309701, 0.24690299],\n",
              "       [0.75309701, 0.24690299],\n",
              "       [0.75309701, 0.24690299],\n",
              "       [0.5977247 , 0.4022753 ],\n",
              "       [0.75309701, 0.24690299],\n",
              "       [0.75309701, 0.24690299]])"
            ]
          },
          "metadata": {
            "tags": []
          },
          "execution_count": 136
        }
      ]
    },
    {
      "cell_type": "markdown",
      "metadata": {
        "id": "0gTh9LXWvzF9"
      },
      "source": [
        "**Predicción probabilistica de los dados categóricos**"
      ]
    },
    {
      "cell_type": "code",
      "metadata": {
        "id": "oV9_QtHCU7P5",
        "outputId": "e127f6b2-8064-4ad1-86c4-67a57d142e6f",
        "colab": {
          "base_uri": "https://localhost:8080/",
          "height": 191
        }
      },
      "source": [
        "# Probabilidad Categórica\n",
        "proba_cat = model_gnb_cat.predict_proba(x_test_cat)\n",
        "#Primeros 10 registros de probabilidades\n",
        "proba_cat[:10]"
      ],
      "execution_count": null,
      "outputs": [
        {
          "output_type": "execute_result",
          "data": {
            "text/plain": [
              "array([[1.92966160e-03, 9.98070338e-01],\n",
              "       [9.97161708e-01, 2.83829153e-03],\n",
              "       [1.80602994e-01, 8.19397006e-01],\n",
              "       [1.61161466e-02, 9.83883853e-01],\n",
              "       [9.99113422e-01, 8.86577599e-04],\n",
              "       [5.38349577e-01, 4.61650423e-01],\n",
              "       [1.19367833e-01, 8.80632167e-01],\n",
              "       [9.99989465e-01, 1.05350325e-05],\n",
              "       [9.98392261e-01, 1.60773895e-03],\n",
              "       [9.99976610e-01, 2.33904546e-05]])"
            ]
          },
          "metadata": {
            "tags": []
          },
          "execution_count": 137
        }
      ]
    },
    {
      "cell_type": "markdown",
      "metadata": {
        "id": "YQUoCuYOd6ic"
      },
      "source": [
        "### **Producto de las probabilidades Categoricas y continuas**"
      ]
    },
    {
      "cell_type": "code",
      "metadata": {
        "id": "kzA-Al8WXigx",
        "outputId": "8dff652a-f5e5-460b-d1b0-08cba0ba234c",
        "colab": {
          "base_uri": "https://localhost:8080/",
          "height": 424
        }
      },
      "source": [
        "# Producto de ambas probabilidades categóricas y continuas\n",
        "producto_probs = proba_cat * proba_cont\n",
        "df_probabilidades = pd.DataFrame(producto_probs)\n",
        "df_probabilidades.columns = ['Prob Class 0','Prob Class 1']\n",
        "df_probabilidades"
      ],
      "execution_count": null,
      "outputs": [
        {
          "output_type": "execute_result",
          "data": {
            "text/html": [
              "<div>\n",
              "<style scoped>\n",
              "    .dataframe tbody tr th:only-of-type {\n",
              "        vertical-align: middle;\n",
              "    }\n",
              "\n",
              "    .dataframe tbody tr th {\n",
              "        vertical-align: top;\n",
              "    }\n",
              "\n",
              "    .dataframe thead th {\n",
              "        text-align: right;\n",
              "    }\n",
              "</style>\n",
              "<table border=\"1\" class=\"dataframe\">\n",
              "  <thead>\n",
              "    <tr style=\"text-align: right;\">\n",
              "      <th></th>\n",
              "      <th>Prob Class 0</th>\n",
              "      <th>Prob Class 1</th>\n",
              "    </tr>\n",
              "  </thead>\n",
              "  <tbody>\n",
              "    <tr>\n",
              "      <th>0</th>\n",
              "      <td>0.000579</td>\n",
              "      <td>0.698505</td>\n",
              "    </tr>\n",
              "    <tr>\n",
              "      <th>1</th>\n",
              "      <td>0.750959</td>\n",
              "      <td>0.000701</td>\n",
              "    </tr>\n",
              "    <tr>\n",
              "      <th>2</th>\n",
              "      <td>0.136012</td>\n",
              "      <td>0.202312</td>\n",
              "    </tr>\n",
              "    <tr>\n",
              "      <th>3</th>\n",
              "      <td>0.002785</td>\n",
              "      <td>0.813855</td>\n",
              "    </tr>\n",
              "    <tr>\n",
              "      <th>4</th>\n",
              "      <td>0.752429</td>\n",
              "      <td>0.000219</td>\n",
              "    </tr>\n",
              "    <tr>\n",
              "      <th>...</th>\n",
              "      <td>...</td>\n",
              "      <td>...</td>\n",
              "    </tr>\n",
              "    <tr>\n",
              "      <th>133</th>\n",
              "      <td>0.752989</td>\n",
              "      <td>0.000035</td>\n",
              "    </tr>\n",
              "    <tr>\n",
              "      <th>134</th>\n",
              "      <td>0.289188</td>\n",
              "      <td>0.025548</td>\n",
              "    </tr>\n",
              "    <tr>\n",
              "      <th>135</th>\n",
              "      <td>0.752732</td>\n",
              "      <td>0.000120</td>\n",
              "    </tr>\n",
              "    <tr>\n",
              "      <th>136</th>\n",
              "      <td>0.030291</td>\n",
              "      <td>0.629224</td>\n",
              "    </tr>\n",
              "    <tr>\n",
              "      <th>137</th>\n",
              "      <td>0.001576</td>\n",
              "      <td>0.696180</td>\n",
              "    </tr>\n",
              "  </tbody>\n",
              "</table>\n",
              "<p>138 rows × 2 columns</p>\n",
              "</div>"
            ],
            "text/plain": [
              "     Prob Class 0  Prob Class 1\n",
              "0        0.000579      0.698505\n",
              "1        0.750959      0.000701\n",
              "2        0.136012      0.202312\n",
              "3        0.002785      0.813855\n",
              "4        0.752429      0.000219\n",
              "..            ...           ...\n",
              "133      0.752989      0.000035\n",
              "134      0.289188      0.025548\n",
              "135      0.752732      0.000120\n",
              "136      0.030291      0.629224\n",
              "137      0.001576      0.696180\n",
              "\n",
              "[138 rows x 2 columns]"
            ]
          },
          "metadata": {
            "tags": []
          },
          "execution_count": 139
        }
      ]
    },
    {
      "cell_type": "markdown",
      "metadata": {
        "id": "s5wlEZnBigbH"
      },
      "source": [
        "**Predicciones de modelo final**"
      ]
    },
    {
      "cell_type": "code",
      "metadata": {
        "id": "qJMbzVMBfD3h"
      },
      "source": [
        "def select_pred_class(producto_probabilidades):\n",
        "  y_pred = []\n",
        "  for i in range(len(producto_probabilidades)):\n",
        "    temp_row = producto_probabilidades[i]\n",
        "    if (temp_row[0] > temp_row[1]):\n",
        "      y_pred.append(0)\n",
        "    else:\n",
        "      y_pred.append(1)\n",
        "  return y_pred"
      ],
      "execution_count": null,
      "outputs": []
    },
    {
      "cell_type": "code",
      "metadata": {
        "id": "w2rZmqKsgazZ",
        "outputId": "279fefcf-b71b-4a5f-c41a-8de9c3480393",
        "colab": {
          "base_uri": "https://localhost:8080/",
          "height": 139
        }
      },
      "source": [
        "# Predicciones modelo final\n",
        "y_pred = select_pred_class(producto_probs)\n",
        "y_pred = np.array(y_pred)\n",
        "y_pred"
      ],
      "execution_count": null,
      "outputs": [
        {
          "output_type": "execute_result",
          "data": {
            "text/plain": [
              "array([1, 0, 1, 1, 0, 0, 1, 0, 0, 0, 1, 0, 1, 0, 0, 1, 0, 1, 0, 1, 0, 0,\n",
              "       0, 1, 0, 0, 0, 0, 0, 0, 0, 0, 0, 0, 0, 1, 0, 0, 0, 0, 0, 0, 1, 0,\n",
              "       0, 1, 0, 0, 0, 1, 0, 0, 0, 1, 0, 0, 0, 1, 0, 0, 0, 1, 1, 0, 0, 0,\n",
              "       1, 1, 0, 0, 1, 0, 0, 0, 0, 1, 1, 0, 1, 1, 1, 0, 0, 0, 0, 1, 0, 0,\n",
              "       1, 1, 0, 0, 0, 0, 0, 1, 1, 1, 0, 0, 1, 1, 1, 0, 1, 0, 1, 1, 1, 1,\n",
              "       0, 0, 0, 0, 0, 0, 0, 0, 0, 1, 0, 1, 1, 0, 0, 0, 0, 0, 0, 0, 1, 0,\n",
              "       1, 0, 0, 0, 1, 1])"
            ]
          },
          "metadata": {
            "tags": []
          },
          "execution_count": 119
        }
      ]
    },
    {
      "cell_type": "markdown",
      "metadata": {
        "id": "1LCbXx_deIca"
      },
      "source": [
        "### **Matriz de confusión del modelo final y Accuracy**"
      ]
    },
    {
      "cell_type": "code",
      "metadata": {
        "id": "-zIn_64shtyL",
        "outputId": "44381c8e-538d-4a1b-e0a6-0670518c4b1b",
        "colab": {
          "base_uri": "https://localhost:8080/",
          "height": 121
        }
      },
      "source": [
        "print('Matriz de Confusión:\\n',confusion_matrix(y_test, y_pred),\"\\n\\nAccuracy\",\n",
        "      \"{:.3f}%\".format(metrics.accuracy_score(y_test, y_pred) * 100),\"\\n\")"
      ],
      "execution_count": null,
      "outputs": [
        {
          "output_type": "stream",
          "text": [
            "Matriz de Confusión:\n",
            " [[82  5]\n",
            " [ 9 42]] \n",
            "\n",
            "Accuracy 89.855% \n",
            "\n"
          ],
          "name": "stdout"
        }
      ]
    },
    {
      "cell_type": "markdown",
      "metadata": {
        "id": "r2Cgg4XUh6Eo"
      },
      "source": [
        "## g) Obtener la precisión y sensibilidad del modelo final. Interpreta dichos resultados de acuerdo al problema."
      ]
    },
    {
      "cell_type": "code",
      "metadata": {
        "id": "9fWt_1jo8oKj",
        "outputId": "e6975a7f-9b59-4d1b-b14d-3700303befbf",
        "colab": {
          "base_uri": "https://localhost:8080/",
          "height": 69
        }
      },
      "source": [
        "print(\"Precision Score: {:.3f}%\".format(metrics.precision_score(y_test, y_pred) * 100))\n",
        "print(\"Sensibilidad:  {:.3f}%\".format( metrics.recall_score(y_test, y_pred)* 100))\n",
        "print(\"F1-Score:  {:.3f}%\".format( f1_score(y_test, y_pred)* 100))"
      ],
      "execution_count": null,
      "outputs": [
        {
          "output_type": "stream",
          "text": [
            "Precision Score: 89.362%\n",
            "Sensibilidad:  82.353%\n",
            "F1-Score:  85.714%\n"
          ],
          "name": "stdout"
        }
      ]
    },
    {
      "cell_type": "markdown",
      "metadata": {
        "id": "PzwZrtnsnva1"
      },
      "source": [
        "**Interpretación de los resultados**"
      ]
    },
    {
      "cell_type": "markdown",
      "metadata": {
        "id": "P37-1jnAl-NX"
      },
      "source": [
        "La variable de precision nos indica de la calidad de la predicción, es decir ¿qué porcentaje de lo que hemos predicho que pertenecen a la clase que en realidad lo es?\n",
        "Según esta mética en nuestro modelo hemos acertado al 89.36% de los resultados.\n",
        "\n",
        "La sensibilidad nos sirve para saber la cantidad es decir, ¿qué porcentaje de cada clase hemos sido capaces de identificar?\n",
        "Tomando en cuenta la matriz de confusión del punto anterior podemos obserbar que para la clase 1 hemos cometido más errores que para la clase 0 es por esto que nuestro valor de sensibilidad es menor a la presisión.\n",
        "\n",
        "En el punto anterior tambien podemos ver que nuestro Accuracy es de 89.85%, esta métrica no funciona bien cuando las clases están desbalanceadas como en este caso, la mayoría de los registros pertenecen a la clase positiva(0), así que es más fácil acertar diciendo que un registro pertenecea a esta clase. \n",
        "\n",
        "Para problemas con clases desbalanceadas es mucho mejor usar precision, sensibilidad y F1. Estas métricas dan una mejor idea de la calidad del modelo, es por eso que decidimos agregar F1-Score al ejercicio, esta métrica combina Precision y Sensibilidad en una sola medida.\n",
        "\n",
        "Usando F1 Score podemos ver que nuestro modelo tienen una calificación de 85.71%, nuestro modelo en realidad es bueno, sinemabrgo puede mejorar.\n"
      ]
    },
    {
      "cell_type": "markdown",
      "metadata": {
        "id": "-oHzWErLh6Lr"
      },
      "source": [
        "## h) Los siguientes incisos son para entender la manera en que se lleva a cabo el método del Bayes Ingenuo Gaussiano.\n",
        "- No usaremos aquí los resultados obtenidos anteriormente, sino que usarás las fórmulas que vimos en clase en el tema de Bayes ingenuo para el ejemplo de Spam vs Ham; pero usando ahora la función de densidad gaussiana para calcular las probabilidades condicionales. \n",
        "- Para ello usaremos los primeros siete datos de la base de datos de las solicitudes de crédito, pero tomando solo las variables continuas. Es decir, considera los datos de la tabla de abajo."
      ]
    },
    {
      "cell_type": "code",
      "metadata": {
        "id": "wtIMZLvgM7kP",
        "outputId": "951081af-d5ee-44d5-f12e-e3df9e3bbb93",
        "colab": {
          "base_uri": "https://localhost:8080/",
          "height": 235
        }
      },
      "source": [
        "# Primeros 6 Datos continuos de la Base de Datos: A2, A3, A7, A10, A13, A14, class\n",
        "data_continua = data_original[cols_continuas].replace(0,1)\n",
        "data_continua['class'] = data_original['class']\n",
        "data_continua = data_continua.iloc[0:6]\n",
        "data_continua"
      ],
      "execution_count": null,
      "outputs": [
        {
          "output_type": "execute_result",
          "data": {
            "text/html": [
              "<div>\n",
              "<style scoped>\n",
              "    .dataframe tbody tr th:only-of-type {\n",
              "        vertical-align: middle;\n",
              "    }\n",
              "\n",
              "    .dataframe tbody tr th {\n",
              "        vertical-align: top;\n",
              "    }\n",
              "\n",
              "    .dataframe thead th {\n",
              "        text-align: right;\n",
              "    }\n",
              "</style>\n",
              "<table border=\"1\" class=\"dataframe\">\n",
              "  <thead>\n",
              "    <tr style=\"text-align: right;\">\n",
              "      <th></th>\n",
              "      <th>A2</th>\n",
              "      <th>A3</th>\n",
              "      <th>A7</th>\n",
              "      <th>A10</th>\n",
              "      <th>A13</th>\n",
              "      <th>A14</th>\n",
              "      <th>class</th>\n",
              "    </tr>\n",
              "  </thead>\n",
              "  <tbody>\n",
              "    <tr>\n",
              "      <th>0</th>\n",
              "      <td>22.08</td>\n",
              "      <td>11.460</td>\n",
              "      <td>1.585</td>\n",
              "      <td>1</td>\n",
              "      <td>100</td>\n",
              "      <td>1213</td>\n",
              "      <td>0</td>\n",
              "    </tr>\n",
              "    <tr>\n",
              "      <th>1</th>\n",
              "      <td>22.67</td>\n",
              "      <td>7.000</td>\n",
              "      <td>0.165</td>\n",
              "      <td>1</td>\n",
              "      <td>160</td>\n",
              "      <td>1</td>\n",
              "      <td>0</td>\n",
              "    </tr>\n",
              "    <tr>\n",
              "      <th>2</th>\n",
              "      <td>29.58</td>\n",
              "      <td>1.750</td>\n",
              "      <td>1.250</td>\n",
              "      <td>1</td>\n",
              "      <td>280</td>\n",
              "      <td>1</td>\n",
              "      <td>0</td>\n",
              "    </tr>\n",
              "    <tr>\n",
              "      <th>3</th>\n",
              "      <td>21.67</td>\n",
              "      <td>11.500</td>\n",
              "      <td>1.000</td>\n",
              "      <td>11</td>\n",
              "      <td>1</td>\n",
              "      <td>1</td>\n",
              "      <td>1</td>\n",
              "    </tr>\n",
              "    <tr>\n",
              "      <th>4</th>\n",
              "      <td>20.17</td>\n",
              "      <td>8.170</td>\n",
              "      <td>1.960</td>\n",
              "      <td>14</td>\n",
              "      <td>60</td>\n",
              "      <td>159</td>\n",
              "      <td>1</td>\n",
              "    </tr>\n",
              "    <tr>\n",
              "      <th>5</th>\n",
              "      <td>15.83</td>\n",
              "      <td>0.585</td>\n",
              "      <td>1.500</td>\n",
              "      <td>2</td>\n",
              "      <td>100</td>\n",
              "      <td>1</td>\n",
              "      <td>1</td>\n",
              "    </tr>\n",
              "  </tbody>\n",
              "</table>\n",
              "</div>"
            ],
            "text/plain": [
              "      A2      A3     A7  A10  A13   A14  class\n",
              "0  22.08  11.460  1.585    1  100  1213      0\n",
              "1  22.67   7.000  0.165    1  160     1      0\n",
              "2  29.58   1.750  1.250    1  280     1      0\n",
              "3  21.67  11.500  1.000   11    1     1      1\n",
              "4  20.17   8.170  1.960   14   60   159      1\n",
              "5  15.83   0.585  1.500    2  100     1      1"
            ]
          },
          "metadata": {
            "tags": []
          },
          "execution_count": 25
        }
      ]
    },
    {
      "cell_type": "markdown",
      "metadata": {
        "id": "CyAe59eRMlKE"
      },
      "source": [
        "### Formulas de Bayes Ingenuo vistas en clase:"
      ]
    },
    {
      "cell_type": "code",
      "metadata": {
        "id": "v4DeMlR9ZdE2",
        "outputId": "c3c8566f-377f-46e5-d287-c4634597e4de",
        "colab": {
          "base_uri": "https://localhost:8080/",
          "height": 297
        }
      },
      "source": [
        "data_continua.describe()"
      ],
      "execution_count": null,
      "outputs": [
        {
          "output_type": "execute_result",
          "data": {
            "text/html": [
              "<div>\n",
              "<style scoped>\n",
              "    .dataframe tbody tr th:only-of-type {\n",
              "        vertical-align: middle;\n",
              "    }\n",
              "\n",
              "    .dataframe tbody tr th {\n",
              "        vertical-align: top;\n",
              "    }\n",
              "\n",
              "    .dataframe thead th {\n",
              "        text-align: right;\n",
              "    }\n",
              "</style>\n",
              "<table border=\"1\" class=\"dataframe\">\n",
              "  <thead>\n",
              "    <tr style=\"text-align: right;\">\n",
              "      <th></th>\n",
              "      <th>A2</th>\n",
              "      <th>A3</th>\n",
              "      <th>A7</th>\n",
              "      <th>A10</th>\n",
              "      <th>A13</th>\n",
              "      <th>A14</th>\n",
              "      <th>class</th>\n",
              "    </tr>\n",
              "  </thead>\n",
              "  <tbody>\n",
              "    <tr>\n",
              "      <th>count</th>\n",
              "      <td>6.000000</td>\n",
              "      <td>6.000000</td>\n",
              "      <td>6.000000</td>\n",
              "      <td>6.000000</td>\n",
              "      <td>6.000000</td>\n",
              "      <td>6.000000</td>\n",
              "      <td>6.000000</td>\n",
              "    </tr>\n",
              "    <tr>\n",
              "      <th>mean</th>\n",
              "      <td>22.000000</td>\n",
              "      <td>6.744167</td>\n",
              "      <td>1.243333</td>\n",
              "      <td>5.000000</td>\n",
              "      <td>116.833333</td>\n",
              "      <td>229.333333</td>\n",
              "      <td>0.500000</td>\n",
              "    </tr>\n",
              "    <tr>\n",
              "      <th>std</th>\n",
              "      <td>4.459561</td>\n",
              "      <td>4.686844</td>\n",
              "      <td>0.619400</td>\n",
              "      <td>5.899152</td>\n",
              "      <td>95.604219</td>\n",
              "      <td>486.022908</td>\n",
              "      <td>0.547723</td>\n",
              "    </tr>\n",
              "    <tr>\n",
              "      <th>min</th>\n",
              "      <td>15.830000</td>\n",
              "      <td>0.585000</td>\n",
              "      <td>0.165000</td>\n",
              "      <td>1.000000</td>\n",
              "      <td>1.000000</td>\n",
              "      <td>1.000000</td>\n",
              "      <td>0.000000</td>\n",
              "    </tr>\n",
              "    <tr>\n",
              "      <th>25%</th>\n",
              "      <td>20.545000</td>\n",
              "      <td>3.062500</td>\n",
              "      <td>1.062500</td>\n",
              "      <td>1.000000</td>\n",
              "      <td>70.000000</td>\n",
              "      <td>1.000000</td>\n",
              "      <td>0.000000</td>\n",
              "    </tr>\n",
              "    <tr>\n",
              "      <th>50%</th>\n",
              "      <td>21.875000</td>\n",
              "      <td>7.585000</td>\n",
              "      <td>1.375000</td>\n",
              "      <td>1.500000</td>\n",
              "      <td>100.000000</td>\n",
              "      <td>1.000000</td>\n",
              "      <td>0.500000</td>\n",
              "    </tr>\n",
              "    <tr>\n",
              "      <th>75%</th>\n",
              "      <td>22.522500</td>\n",
              "      <td>10.637500</td>\n",
              "      <td>1.563750</td>\n",
              "      <td>8.750000</td>\n",
              "      <td>145.000000</td>\n",
              "      <td>119.500000</td>\n",
              "      <td>1.000000</td>\n",
              "    </tr>\n",
              "    <tr>\n",
              "      <th>max</th>\n",
              "      <td>29.580000</td>\n",
              "      <td>11.500000</td>\n",
              "      <td>1.960000</td>\n",
              "      <td>14.000000</td>\n",
              "      <td>280.000000</td>\n",
              "      <td>1213.000000</td>\n",
              "      <td>1.000000</td>\n",
              "    </tr>\n",
              "  </tbody>\n",
              "</table>\n",
              "</div>"
            ],
            "text/plain": [
              "              A2         A3        A7  ...         A13          A14     class\n",
              "count   6.000000   6.000000  6.000000  ...    6.000000     6.000000  6.000000\n",
              "mean   22.000000   6.744167  1.243333  ...  116.833333   229.333333  0.500000\n",
              "std     4.459561   4.686844  0.619400  ...   95.604219   486.022908  0.547723\n",
              "min    15.830000   0.585000  0.165000  ...    1.000000     1.000000  0.000000\n",
              "25%    20.545000   3.062500  1.062500  ...   70.000000     1.000000  0.000000\n",
              "50%    21.875000   7.585000  1.375000  ...  100.000000     1.000000  0.500000\n",
              "75%    22.522500  10.637500  1.563750  ...  145.000000   119.500000  1.000000\n",
              "max    29.580000  11.500000  1.960000  ...  280.000000  1213.000000  1.000000\n",
              "\n",
              "[8 rows x 7 columns]"
            ]
          },
          "metadata": {
            "tags": []
          },
          "execution_count": 26
        }
      ]
    },
    {
      "cell_type": "markdown",
      "metadata": {
        "id": "G6lpuJUDmX54"
      },
      "source": [
        "#### Calculo de Medias y Varianzas"
      ]
    },
    {
      "cell_type": "code",
      "metadata": {
        "id": "RqyyT8PZrUa1",
        "outputId": "79ee2877-6daa-4213-c7f5-0065ecda1046",
        "colab": {
          "base_uri": "https://localhost:8080/",
          "height": 153
        }
      },
      "source": [
        "##Group by class\n",
        "class0 = data_continua[data_continua['class']==0]\n",
        "print(class0)\n",
        "class1 = data_continua[data_continua['class']==1]\n",
        "print(class1)"
      ],
      "execution_count": null,
      "outputs": [
        {
          "output_type": "stream",
          "text": [
            "      A2     A3     A7  A10  A13   A14  class\n",
            "0  22.08  11.46  1.585    1  100  1213      0\n",
            "1  22.67   7.00  0.165    1  160     1      0\n",
            "2  29.58   1.75  1.250    1  280     1      0\n",
            "      A2      A3    A7  A10  A13  A14  class\n",
            "3  21.67  11.500  1.00   11    1    1      1\n",
            "4  20.17   8.170  1.96   14   60  159      1\n",
            "5  15.83   0.585  1.50    2  100    1      1\n"
          ],
          "name": "stdout"
        }
      ]
    },
    {
      "cell_type": "code",
      "metadata": {
        "id": "1rh30LrOswgW"
      },
      "source": [
        "#Funcion para obtener las medias por clase\n",
        "def get_means(x):\n",
        "  means = []\n",
        "  for i in range(len((np.array(x.columns)[:6]))):\n",
        "    means.append(np.mean(x[x.columns[i]]))\n",
        "  return means"
      ],
      "execution_count": null,
      "outputs": []
    },
    {
      "cell_type": "code",
      "metadata": {
        "id": "I-bFFTAAu6pE",
        "outputId": "847514ac-d2a3-4df1-af61-a7df7dd7d624",
        "colab": {
          "base_uri": "https://localhost:8080/",
          "height": 71
        }
      },
      "source": [
        "#Obtenemos las medias de cada claase\n",
        "means_class0 = get_means(class0)\n",
        "print(\"Medias de la Clase 0: \",means_class0)\n",
        "means_class1 = get_means(class1)\n",
        "print(\"Medias de la Clase 1: \",means_class1)"
      ],
      "execution_count": null,
      "outputs": [
        {
          "output_type": "stream",
          "text": [
            "Medias de la Clase 0:  [24.776666666666667, 6.736666666666667, 1.0, 1.0, 180.0, 405.0]\n",
            "Medias de la Clase 1:  [19.223333333333333, 6.751666666666668, 1.4866666666666666, 9.0, 53.666666666666664, 53.666666666666664]\n"
          ],
          "name": "stdout"
        }
      ]
    },
    {
      "cell_type": "code",
      "metadata": {
        "id": "EBd1IJSAvq0V"
      },
      "source": [
        "#Funcion para obtener las varianzas por clase\n",
        "def get_var(x):\n",
        "  varianzas = []\n",
        "  for i in range(len((np.array(x.columns)[:6]))):\n",
        "    var = np.var(x[x.columns[i]])\n",
        "    if var == 0:\n",
        "      var = 0.0001\n",
        "    varianzas.append(var)\n",
        "  return varianzas"
      ],
      "execution_count": null,
      "outputs": []
    },
    {
      "cell_type": "code",
      "metadata": {
        "id": "MxVnR58mv2dj",
        "outputId": "00e1500b-28c5-4955-9394-74019a9b8cfd",
        "colab": {
          "base_uri": "https://localhost:8080/",
          "height": 71
        }
      },
      "source": [
        "#Obtenemos las varianzas de cada claase\n",
        "var_class0 = get_var(class0)\n",
        "print(\"Varianzas de la Clase 0: \",var_class0)\n",
        "var_class1 = get_var(class1)\n",
        "print(\"Varianzas de la Clase 1: \",var_class1)"
      ],
      "execution_count": null,
      "outputs": [
        {
          "output_type": "stream",
          "text": [
            "Varianzas de la Clase 0:  [11.594022222222216, 15.748688888888893, 0.3673166666666667, 0.0001, 5600.0, 326432.0]\n",
            "Varianzas de la Clase 1:  [6.132355555555559, 20.86203888888889, 0.15368888888888887, 26.0, 1653.5555555555554, 5547.555555555556]\n"
          ],
          "name": "stdout"
        }
      ]
    },
    {
      "cell_type": "markdown",
      "metadata": {
        "id": "JM1olI3IMQib"
      },
      "source": [
        "##### **Justificación de Varianzas:**"
      ]
    },
    {
      "cell_type": "markdown",
      "metadata": {
        "id": "8rljvqF0LuPb"
      },
      "source": [
        "Cuando la varianza de alguna de las columnas es igual a cero no podemos usar este valor en la formula de densidad gausiana ya que terminaremos con un divición donde el denominador o divisor es cero.\n",
        "\n",
        "Al encontrarnos con este caso decidimos aproximar la varianza usando un número muy pequeño cercano a cero en este caso hemos decido reemplazar el valor de la varianza en nuestra formula, ahora la *varianza = 0.0001* con esta aproximación podemos correr nuestra formula de densidad gausiana."
      ]
    },
    {
      "cell_type": "markdown",
      "metadata": {
        "id": "AKW-vdkgQ6bI"
      },
      "source": [
        "#### Función de densidad gausiana para calcular probabilidades condicionales"
      ]
    },
    {
      "cell_type": "code",
      "metadata": {
        "id": "5XunyCs62O96"
      },
      "source": [
        "# Calcular probabilidad condicional usando Función de densidad Gausiana\n",
        "def densidad_gausiana(a, varianza, media):\n",
        "  cosiente = (-1*(((a - media)**2)/(2*varianza)))\n",
        "  densidad = (1/(np.sqrt(2*np.pi*varianza)))*np.exp(cosiente)\n",
        "  print(\"Densidad Gausiana:\",densidad)\n",
        "  return densidad\n",
        "    "
      ],
      "execution_count": null,
      "outputs": []
    },
    {
      "cell_type": "markdown",
      "metadata": {
        "id": "erQluCLxmOBS"
      },
      "source": [
        "#### Funcion para obtener la probabilidad Condicional"
      ]
    },
    {
      "cell_type": "code",
      "metadata": {
        "id": "yIT53PiQkGje"
      },
      "source": [
        "def get_probabilidad(datos_entrada):\n",
        "  print(\"Dato de entrada:\",datos_entrada)\n",
        "  densidad_clase0 = (0.5)*densidad_gausiana(datos_entrada[0],var_class0[0],means_class0[0])* \\\n",
        "                    densidad_gausiana(datos_entrada[1],var_class0[1],means_class0[1])* \\\n",
        "                    densidad_gausiana(datos_entrada[2],var_class0[2],means_class0[2])* \\\n",
        "                    densidad_gausiana(datos_entrada[3],var_class0[3],means_class0[3])* \\\n",
        "                    densidad_gausiana(datos_entrada[4],var_class0[4],means_class0[4])* \\\n",
        "                    densidad_gausiana(datos_entrada[5],var_class0[5],means_class0[5])\n",
        "  print(\"\\nProb clase 0: \", densidad_clase0, '\\n')\n",
        "  densidad_clase1 = (0.5)*densidad_gausiana(datos_entrada[0],var_class1[0],means_class1[0])* \\\n",
        "                    densidad_gausiana(datos_entrada[1],var_class1[1],means_class1[1])* \\\n",
        "                    densidad_gausiana(datos_entrada[2],var_class1[2],means_class1[2])* \\\n",
        "                    densidad_gausiana(datos_entrada[3],var_class1[3],means_class1[3])* \\\n",
        "                    densidad_gausiana(datos_entrada[4],var_class1[4],means_class1[4])* \\\n",
        "                    densidad_gausiana(datos_entrada[5],var_class1[5],means_class1[5])\n",
        "  print(\"\\nProb clase 1: \", densidad_clase1, '\\n')\n",
        "  prob = (densidad_clase0/densidad_clase1)\n",
        "  return prob\n"
      ],
      "execution_count": null,
      "outputs": []
    },
    {
      "cell_type": "markdown",
      "metadata": {
        "id": "xX3CWEfFh6TL"
      },
      "source": [
        "## i) Usa los primeros seis datos (renglones) para obtener  Las funciones de densidad condicional de cada uno de estos factores con respecto a cada una de las clases, y usar dichos resultados para predecir la clase del último dato (renglón 7). \n",
        " * NOTA: El resultado debe ser de la clase 0 como se muestra en la tabla. Ver la sección 2.4 del artículo de autores griegos al inicio del problema."
      ]
    },
    {
      "cell_type": "markdown",
      "metadata": {
        "id": "Wbsn3ikG9rdw"
      },
      "source": [
        "![image.png](data:image/png;base64,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)"
      ]
    },
    {
      "cell_type": "markdown",
      "metadata": {
        "id": "8uCVacr_mnUt"
      },
      "source": [
        "### Densidad Gausiana para los primero 6 datos cada factor"
      ]
    },
    {
      "cell_type": "code",
      "metadata": {
        "id": "7auZxBVH8lAE",
        "outputId": "15b28ddb-42e2-4a70-e9fd-6cfb97f1a827",
        "colab": {
          "base_uri": "https://localhost:8080/",
          "height": 235
        }
      },
      "source": [
        "# Cargamos los 6 primeros renglones \n",
        "data_cont_6 = data_continua[cols_continuas]\n",
        "data_cont_6"
      ],
      "execution_count": null,
      "outputs": [
        {
          "output_type": "execute_result",
          "data": {
            "text/html": [
              "<div>\n",
              "<style scoped>\n",
              "    .dataframe tbody tr th:only-of-type {\n",
              "        vertical-align: middle;\n",
              "    }\n",
              "\n",
              "    .dataframe tbody tr th {\n",
              "        vertical-align: top;\n",
              "    }\n",
              "\n",
              "    .dataframe thead th {\n",
              "        text-align: right;\n",
              "    }\n",
              "</style>\n",
              "<table border=\"1\" class=\"dataframe\">\n",
              "  <thead>\n",
              "    <tr style=\"text-align: right;\">\n",
              "      <th></th>\n",
              "      <th>A2</th>\n",
              "      <th>A3</th>\n",
              "      <th>A7</th>\n",
              "      <th>A10</th>\n",
              "      <th>A13</th>\n",
              "      <th>A14</th>\n",
              "    </tr>\n",
              "  </thead>\n",
              "  <tbody>\n",
              "    <tr>\n",
              "      <th>0</th>\n",
              "      <td>22.08</td>\n",
              "      <td>11.460</td>\n",
              "      <td>1.585</td>\n",
              "      <td>1</td>\n",
              "      <td>100</td>\n",
              "      <td>1213</td>\n",
              "    </tr>\n",
              "    <tr>\n",
              "      <th>1</th>\n",
              "      <td>22.67</td>\n",
              "      <td>7.000</td>\n",
              "      <td>0.165</td>\n",
              "      <td>1</td>\n",
              "      <td>160</td>\n",
              "      <td>1</td>\n",
              "    </tr>\n",
              "    <tr>\n",
              "      <th>2</th>\n",
              "      <td>29.58</td>\n",
              "      <td>1.750</td>\n",
              "      <td>1.250</td>\n",
              "      <td>1</td>\n",
              "      <td>280</td>\n",
              "      <td>1</td>\n",
              "    </tr>\n",
              "    <tr>\n",
              "      <th>3</th>\n",
              "      <td>21.67</td>\n",
              "      <td>11.500</td>\n",
              "      <td>1.000</td>\n",
              "      <td>11</td>\n",
              "      <td>1</td>\n",
              "      <td>1</td>\n",
              "    </tr>\n",
              "    <tr>\n",
              "      <th>4</th>\n",
              "      <td>20.17</td>\n",
              "      <td>8.170</td>\n",
              "      <td>1.960</td>\n",
              "      <td>14</td>\n",
              "      <td>60</td>\n",
              "      <td>159</td>\n",
              "    </tr>\n",
              "    <tr>\n",
              "      <th>5</th>\n",
              "      <td>15.83</td>\n",
              "      <td>0.585</td>\n",
              "      <td>1.500</td>\n",
              "      <td>2</td>\n",
              "      <td>100</td>\n",
              "      <td>1</td>\n",
              "    </tr>\n",
              "  </tbody>\n",
              "</table>\n",
              "</div>"
            ],
            "text/plain": [
              "      A2      A3     A7  A10  A13   A14\n",
              "0  22.08  11.460  1.585    1  100  1213\n",
              "1  22.67   7.000  0.165    1  160     1\n",
              "2  29.58   1.750  1.250    1  280     1\n",
              "3  21.67  11.500  1.000   11    1     1\n",
              "4  20.17   8.170  1.960   14   60   159\n",
              "5  15.83   0.585  1.500    2  100     1"
            ]
          },
          "metadata": {
            "tags": []
          },
          "execution_count": 47
        }
      ]
    },
    {
      "cell_type": "code",
      "metadata": {
        "id": "3A5wnY96DOSG"
      },
      "source": [
        "def data_train(data):\n",
        "  probabilidades = []\n",
        "  clase = []\n",
        "  filled_data = data.copy()\n",
        "  for i in range(len(data)):\n",
        "     print(\"============ \\n*  Row \",i+1,\" * \\n============\")\n",
        "     prob = get_probabilidad(np.array(data.iloc[i]))\n",
        "     print(\"> Probabilidad Row \",i+1, \":\" ,prob)\n",
        "     if prob < 1:\n",
        "       print(\"=== Row\",i+1, \"Pertenece a la clase 1 ===\\n\")\n",
        "       clase.append(1)\n",
        "     else:\n",
        "       print(\"=== Row\",i+1, \"Pertenece a la clase 0 ===\\n\")\n",
        "       clase.append(0)\n",
        "     probabilidades.append(prob)\n",
        "  filled_data['class'] = clase\n",
        "  return probabilidades,clase,filled_data"
      ],
      "execution_count": null,
      "outputs": []
    },
    {
      "cell_type": "code",
      "metadata": {
        "id": "ySILVUVXFEyo",
        "outputId": "e0331208-0b1c-42b1-ba8c-ec141272c5e6",
        "colab": {
          "base_uri": "https://localhost:8080/",
          "height": 1000
        }
      },
      "source": [
        "# Obtenemos probabilidades de cada clase\n",
        "probabilidades,clase,filled_data = data_train(data_cont_6)"
      ],
      "execution_count": null,
      "outputs": [
        {
          "output_type": "stream",
          "text": [
            "============ \n",
            "*  Row  1  * \n",
            "============\n",
            "Dato de entrada: [2.208e+01 1.146e+01 1.585e+00 1.000e+00 1.000e+02 1.213e+03]\n",
            "Densidad Gausiana: 0.08562365254072996\n",
            "Densidad Gausiana: 0.049507745692650255\n",
            "Densidad Gausiana: 0.413119782938134\n",
            "Densidad Gausiana: 39.89422804014327\n",
            "Densidad Gausiana: 0.0030105633959718993\n",
            "Densidad Gausiana: 0.0002568734513741304\n",
            "\n",
            "Prob clase 0:  2.701406633463399e-08 \n",
            "\n",
            "Densidad Gausiana: 0.08281915918981742\n",
            "Densidad Gausiana: 0.05134366499916375\n",
            "Densidad Gausiana: 0.9861133972995\n",
            "Densidad Gausiana: 0.022851099766283748\n",
            "Densidad Gausiana: 0.005126049476257958\n",
            "Densidad Gausiana: 1.314432065278925e-55\n",
            "\n",
            "Prob clase 1:  3.2280673843016705e-62 \n",
            "\n",
            "> Probabilidad Row  1 : 8.3684951764035e+53\n",
            "=== Row 1 Pertenece a la clase 0 ===\n",
            "\n",
            "============ \n",
            "*  Row  2  * \n",
            "============\n",
            "Dato de entrada: [ 22.67    7.      0.165   1.    160.      1.   ]\n",
            "Densidad Gausiana: 0.09675463877465719\n",
            "Densidad Gausiana: 0.10030711134901656\n",
            "Densidad Gausiana: 0.25480621516039403\n",
            "Densidad Gausiana: 39.89422804014327\n",
            "Densidad Gausiana: 0.005144054191122984\n",
            "Densidad Gausiana: 0.0005438011008263891\n",
            "\n",
            "Prob clase 0:  1.379873341193299e-07 \n",
            "\n",
            "Densidad Gausiana: 0.06115639619797763\n",
            "Densidad Gausiana: 0.08721471986519895\n",
            "Densidad Gausiana: 0.0034636085311270763\n",
            "Densidad Gausiana: 0.022851099766283748\n",
            "Densidad Gausiana: 0.00032127631653977226\n",
            "Densidad Gausiana: 0.004171436292415087\n",
            "\n",
            "Prob clase 1:  2.828797857176032e-13 \n",
            "\n",
            "> Probabilidad Row  2 : 487794.96127405023\n",
            "=== Row 2 Pertenece a la clase 0 ===\n",
            "\n",
            "============ \n",
            "*  Row  3  * \n",
            "============\n",
            "Dato de entrada: [ 29.58   1.75   1.25   1.   280.     1.  ]\n",
            "Densidad Gausiana: 0.04331833304884029\n",
            "Densidad Gausiana: 0.045647499639556506\n",
            "Densidad Gausiana: 0.6045629292207306\n",
            "Densidad Gausiana: 39.89422804014327\n",
            "Densidad Gausiana: 0.0021829969154033018\n",
            "Densidad Gausiana: 0.0005438011008263891\n",
            "\n",
            "Prob clase 0:  2.8307630487716812e-08 \n",
            "\n",
            "Densidad Gausiana: 2.5644323120329457e-05\n",
            "Densidad Gausiana: 0.04795567845734604\n",
            "Densidad Gausiana: 0.8481070142435925\n",
            "Densidad Gausiana: 0.022851099766283748\n",
            "Densidad Gausiana: 1.8387732300875636e-09\n",
            "Densidad Gausiana: 0.004171436292415087\n",
            "\n",
            "Prob clase 1:  9.14056062508732e-20 \n",
            "\n",
            "> Probabilidad Row  3 : 309692497526.06274\n",
            "=== Row 3 Pertenece a la clase 0 ===\n",
            "\n",
            "============ \n",
            "*  Row  4  * \n",
            "============\n",
            "Dato de entrada: [21.67 11.5   1.   11.    1.    1.  ]\n",
            "Densidad Gausiana: 0.07727339927701811\n",
            "Densidad Gausiana: 0.04891487645629065\n",
            "Densidad Gausiana: 0.658248303632574\n",
            "Densidad Gausiana: 0.0\n",
            "Densidad Gausiana: 0.0003050597060436004\n",
            "Densidad Gausiana: 0.0005438011008263891\n",
            "\n",
            "Prob clase 0:  0.0 \n",
            "\n",
            "Densidad Gausiana: 0.09888384129781162\n",
            "Densidad Gausiana: 0.050880291659892087\n",
            "Densidad Gausiana: 0.47092418134674086\n",
            "Densidad Gausiana: 0.07244628566174127\n",
            "Densidad Gausiana: 0.004240765634658619\n",
            "Densidad Gausiana: 0.004171436292415087\n",
            "\n",
            "Prob clase 1:  1.5182452394788383e-09 \n",
            "\n",
            "> Probabilidad Row  4 : 0.0\n",
            "=== Row 4 Pertenece a la clase 1 ===\n",
            "\n",
            "============ \n",
            "*  Row  5  * \n",
            "============\n",
            "Dato de entrada: [ 20.17   8.17   1.96  14.    60.   159.  ]\n",
            "Densidad Gausiana: 0.046917265763477364\n",
            "Densidad Gausiana: 0.09418041951077767\n",
            "Densidad Gausiana: 0.18774390766219687\n",
            "Densidad Gausiana: 0.0\n",
            "Densidad Gausiana: 0.0014737962010654998\n",
            "Densidad Gausiana: 0.0006364401846676049\n",
            "\n",
            "Prob clase 0:  0.0 \n",
            "\n",
            "Densidad Gausiana: 0.14974856502949796\n",
            "Densidad Gausiana: 0.08323246848327127\n",
            "Densidad Gausiana: 0.49094871646970195\n",
            "Densidad Gausiana: 0.04837577858484059\n",
            "Densidad Gausiana: 0.009692442269390863\n",
            "Densidad Gausiana: 0.001970446981426873\n",
            "\n",
            "Prob clase 1:  2.8267507908151633e-09 \n",
            "\n",
            "> Probabilidad Row  5 : 0.0\n",
            "=== Row 5 Pertenece a la clase 1 ===\n",
            "\n",
            "============ \n",
            "*  Row  6  * \n",
            "============\n",
            "Dato de entrada: [ 15.83    0.585   1.5     2.    100.      1.   ]\n",
            "Densidad Gausiana: 0.003712369927575654\n",
            "Densidad Gausiana: 0.03023417792231611\n",
            "Densidad Gausiana: 0.46837834546194484\n",
            "Densidad Gausiana: 0.0\n",
            "Densidad Gausiana: 0.0030105633959718993\n",
            "Densidad Gausiana: 0.0005438011008263891\n",
            "\n",
            "Prob clase 0:  0.0 \n",
            "\n",
            "Densidad Gausiana: 0.06300274692151407\n",
            "Densidad Gausiana: 0.03510839545358676\n",
            "Densidad Gausiana: 1.0170390959645437\n",
            "Densidad Gausiana: 0.030491891153908223\n",
            "Densidad Gausiana: 0.005126049476257958\n",
            "Densidad Gausiana: 0.004171436292415087\n",
            "\n",
            "Prob clase 1:  7.333830843664516e-10 \n",
            "\n",
            "> Probabilidad Row  6 : 0.0\n",
            "=== Row 6 Pertenece a la clase 1 ===\n",
            "\n"
          ],
          "name": "stdout"
        }
      ]
    },
    {
      "cell_type": "code",
      "metadata": {
        "id": "_HAWX0OfK0Kf",
        "outputId": "7fa0d13b-1aa5-46b0-982a-408407f1e581",
        "colab": {
          "base_uri": "https://localhost:8080/",
          "height": 34
        }
      },
      "source": [
        "# Clases tras usar funciones de densidad condicional\n",
        "clase"
      ],
      "execution_count": null,
      "outputs": [
        {
          "output_type": "execute_result",
          "data": {
            "text/plain": [
              "[0, 0, 0, 1, 1, 1]"
            ]
          },
          "metadata": {
            "tags": []
          },
          "execution_count": 50
        }
      ]
    },
    {
      "cell_type": "code",
      "metadata": {
        "id": "ac2NhYJIGXJ6",
        "outputId": "95bd3e4a-073c-4eb1-f89e-824fdd561d42",
        "colab": {
          "base_uri": "https://localhost:8080/",
          "height": 235
        }
      },
      "source": [
        "filled_data"
      ],
      "execution_count": null,
      "outputs": [
        {
          "output_type": "execute_result",
          "data": {
            "text/html": [
              "<div>\n",
              "<style scoped>\n",
              "    .dataframe tbody tr th:only-of-type {\n",
              "        vertical-align: middle;\n",
              "    }\n",
              "\n",
              "    .dataframe tbody tr th {\n",
              "        vertical-align: top;\n",
              "    }\n",
              "\n",
              "    .dataframe thead th {\n",
              "        text-align: right;\n",
              "    }\n",
              "</style>\n",
              "<table border=\"1\" class=\"dataframe\">\n",
              "  <thead>\n",
              "    <tr style=\"text-align: right;\">\n",
              "      <th></th>\n",
              "      <th>A2</th>\n",
              "      <th>A3</th>\n",
              "      <th>A7</th>\n",
              "      <th>A10</th>\n",
              "      <th>A13</th>\n",
              "      <th>A14</th>\n",
              "      <th>class</th>\n",
              "    </tr>\n",
              "  </thead>\n",
              "  <tbody>\n",
              "    <tr>\n",
              "      <th>0</th>\n",
              "      <td>22.08</td>\n",
              "      <td>11.460</td>\n",
              "      <td>1.585</td>\n",
              "      <td>1</td>\n",
              "      <td>100</td>\n",
              "      <td>1213</td>\n",
              "      <td>0</td>\n",
              "    </tr>\n",
              "    <tr>\n",
              "      <th>1</th>\n",
              "      <td>22.67</td>\n",
              "      <td>7.000</td>\n",
              "      <td>0.165</td>\n",
              "      <td>1</td>\n",
              "      <td>160</td>\n",
              "      <td>1</td>\n",
              "      <td>0</td>\n",
              "    </tr>\n",
              "    <tr>\n",
              "      <th>2</th>\n",
              "      <td>29.58</td>\n",
              "      <td>1.750</td>\n",
              "      <td>1.250</td>\n",
              "      <td>1</td>\n",
              "      <td>280</td>\n",
              "      <td>1</td>\n",
              "      <td>0</td>\n",
              "    </tr>\n",
              "    <tr>\n",
              "      <th>3</th>\n",
              "      <td>21.67</td>\n",
              "      <td>11.500</td>\n",
              "      <td>1.000</td>\n",
              "      <td>11</td>\n",
              "      <td>1</td>\n",
              "      <td>1</td>\n",
              "      <td>1</td>\n",
              "    </tr>\n",
              "    <tr>\n",
              "      <th>4</th>\n",
              "      <td>20.17</td>\n",
              "      <td>8.170</td>\n",
              "      <td>1.960</td>\n",
              "      <td>14</td>\n",
              "      <td>60</td>\n",
              "      <td>159</td>\n",
              "      <td>1</td>\n",
              "    </tr>\n",
              "    <tr>\n",
              "      <th>5</th>\n",
              "      <td>15.83</td>\n",
              "      <td>0.585</td>\n",
              "      <td>1.500</td>\n",
              "      <td>2</td>\n",
              "      <td>100</td>\n",
              "      <td>1</td>\n",
              "      <td>1</td>\n",
              "    </tr>\n",
              "  </tbody>\n",
              "</table>\n",
              "</div>"
            ],
            "text/plain": [
              "      A2      A3     A7  A10  A13   A14  class\n",
              "0  22.08  11.460  1.585    1  100  1213      0\n",
              "1  22.67   7.000  0.165    1  160     1      0\n",
              "2  29.58   1.750  1.250    1  280     1      0\n",
              "3  21.67  11.500  1.000   11    1     1      1\n",
              "4  20.17   8.170  1.960   14   60   159      1\n",
              "5  15.83   0.585  1.500    2  100     1      1"
            ]
          },
          "metadata": {
            "tags": []
          },
          "execution_count": 51
        }
      ]
    },
    {
      "cell_type": "markdown",
      "metadata": {
        "id": "q5tiL25IO2-2"
      },
      "source": [
        "### Predicción de clase para renglón 7"
      ]
    },
    {
      "cell_type": "code",
      "metadata": {
        "id": "Dxmxw_CWHWs8",
        "outputId": "c5002ee6-37e0-4da7-ce3c-28ca0301ae27",
        "colab": {
          "base_uri": "https://localhost:8080/",
          "height": 81
        }
      },
      "source": [
        "#Reglon 7 (Indice 6 porque inicia en 0)\n",
        "data_original[cols_continuas].iloc[6:7]"
      ],
      "execution_count": null,
      "outputs": [
        {
          "output_type": "execute_result",
          "data": {
            "text/html": [
              "<div>\n",
              "<style scoped>\n",
              "    .dataframe tbody tr th:only-of-type {\n",
              "        vertical-align: middle;\n",
              "    }\n",
              "\n",
              "    .dataframe tbody tr th {\n",
              "        vertical-align: top;\n",
              "    }\n",
              "\n",
              "    .dataframe thead th {\n",
              "        text-align: right;\n",
              "    }\n",
              "</style>\n",
              "<table border=\"1\" class=\"dataframe\">\n",
              "  <thead>\n",
              "    <tr style=\"text-align: right;\">\n",
              "      <th></th>\n",
              "      <th>A2</th>\n",
              "      <th>A3</th>\n",
              "      <th>A7</th>\n",
              "      <th>A10</th>\n",
              "      <th>A13</th>\n",
              "      <th>A14</th>\n",
              "    </tr>\n",
              "  </thead>\n",
              "  <tbody>\n",
              "    <tr>\n",
              "      <th>6</th>\n",
              "      <td>17.42</td>\n",
              "      <td>6.5</td>\n",
              "      <td>0.125</td>\n",
              "      <td>0</td>\n",
              "      <td>60</td>\n",
              "      <td>101</td>\n",
              "    </tr>\n",
              "  </tbody>\n",
              "</table>\n",
              "</div>"
            ],
            "text/plain": [
              "      A2   A3     A7  A10  A13  A14\n",
              "6  17.42  6.5  0.125    0   60  101"
            ]
          },
          "metadata": {
            "tags": []
          },
          "execution_count": 39
        }
      ]
    },
    {
      "cell_type": "code",
      "metadata": {
        "id": "dbYS0l7K9kcM",
        "outputId": "920b34c3-0315-4d36-d8f6-9528cdb4d96e",
        "colab": {
          "base_uri": "https://localhost:8080/",
          "height": 34
        }
      },
      "source": [
        "input = np.array(data_original[cols_continuas].iloc[7].replace(0,1))\n",
        "print(input)"
      ],
      "execution_count": null,
      "outputs": [
        {
          "output_type": "stream",
          "text": [
            "[ 58.67   4.46   3.04   6.    43.   561.  ]\n"
          ],
          "name": "stdout"
        }
      ]
    },
    {
      "cell_type": "code",
      "metadata": {
        "id": "es97Vnp-9pQH",
        "outputId": "b35f24bf-2d89-418a-c0ad-27b12529e4ca",
        "colab": {
          "base_uri": "https://localhost:8080/",
          "height": 451
        }
      },
      "source": [
        "prob = get_probabilidad(input)\n",
        "print(\"> Probabilidad Row 7: \" ,prob)\n",
        "if prob < 1:\n",
        "  print(\"\\n**************************\\n* Pertenece a la clase 1 *\\n**************************\\n\")\n",
        "  clase.append(1)\n",
        "else:\n",
        "  print(\"\\n**************************\\n* Pertenece a la clase 0 *\\n**************************\\n\")\n",
        "  clase.append(0)"
      ],
      "execution_count": null,
      "outputs": [
        {
          "output_type": "stream",
          "text": [
            "Dato de entrada: [ 58.67   4.46   3.04   6.    43.   561.  ]\n",
            "Densidad Gausiana: 3.576236912617108e-23\n",
            "Densidad Gausiana: 0.08527472505984979\n",
            "Densidad Gausiana: 0.002281231421459429\n",
            "Densidad Gausiana: 1e-05\n",
            "Densidad Gausiana: 0.000997754760317081\n",
            "Densidad Gausiana: 0.0006727056064452325\n",
            "\n",
            "Prob clase 0:  2.3347200569675918e-38 \n",
            "\n",
            "Densidad Gausiana: 1.2811578590484112e-56\n",
            "Densidad Gausiana: 0.07701366823006664\n",
            "Densidad Gausiana: 0.00039671408540635863\n",
            "Densidad Gausiana: 0.06580471903980299\n",
            "Densidad Gausiana: 0.009478927742200742\n",
            "Densidad Gausiana: 4.508055319899658e-13\n",
            "\n",
            "Prob clase 1:  5.5033048171017324e-77 \n",
            "\n",
            "> Probabilidad Row 7:  4.242396404633738e+38\n",
            "\n",
            "**************************\n",
            "* Pertenece a la clase 0 *\n",
            "**************************\n",
            "\n"
          ],
          "name": "stdout"
        }
      ]
    }
  ]
}