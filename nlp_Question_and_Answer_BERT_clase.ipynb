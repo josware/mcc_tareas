{
  "nbformat": 4,
  "nbformat_minor": 0,
  "metadata": {
    "colab": {
      "name": "nlp_Question_and_Answer_BERT_clase.ipynb",
      "provenance": [],
      "collapsed_sections": [],
      "include_colab_link": true
    },
    "kernelspec": {
      "name": "python3",
      "display_name": "Python 3"
    },
    "widgets": {
      "application/vnd.jupyter.widget-state+json": {
        "3e94c786861848d7bdfcb8f9581848b3": {
          "model_module": "@jupyter-widgets/controls",
          "model_name": "HBoxModel",
          "state": {
            "_view_name": "HBoxView",
            "_dom_classes": [],
            "_model_name": "HBoxModel",
            "_view_module": "@jupyter-widgets/controls",
            "_model_module_version": "1.5.0",
            "_view_count": null,
            "_view_module_version": "1.5.0",
            "box_style": "",
            "layout": "IPY_MODEL_450850d97ab04844b936b00871738afe",
            "_model_module": "@jupyter-widgets/controls",
            "children": [
              "IPY_MODEL_74ebd1e879aa4880aebd7bd244be1f11",
              "IPY_MODEL_fb274923fa584bfea431723808cc7d41"
            ]
          },
          "model_module_version": "1.5.0"
        },
        "450850d97ab04844b936b00871738afe": {
          "model_module": "@jupyter-widgets/base",
          "model_name": "LayoutModel",
          "state": {
            "_view_name": "LayoutView",
            "grid_template_rows": null,
            "right": null,
            "justify_content": null,
            "_view_module": "@jupyter-widgets/base",
            "overflow": null,
            "_model_module_version": "1.2.0",
            "_view_count": null,
            "flex_flow": null,
            "width": null,
            "min_width": null,
            "border": null,
            "align_items": null,
            "bottom": null,
            "_model_module": "@jupyter-widgets/base",
            "top": null,
            "grid_column": null,
            "overflow_y": null,
            "overflow_x": null,
            "grid_auto_flow": null,
            "grid_area": null,
            "grid_template_columns": null,
            "flex": null,
            "_model_name": "LayoutModel",
            "justify_items": null,
            "grid_row": null,
            "max_height": null,
            "align_content": null,
            "visibility": null,
            "align_self": null,
            "height": null,
            "min_height": null,
            "padding": null,
            "grid_auto_rows": null,
            "grid_gap": null,
            "max_width": null,
            "order": null,
            "_view_module_version": "1.2.0",
            "grid_template_areas": null,
            "object_position": null,
            "object_fit": null,
            "grid_auto_columns": null,
            "margin": null,
            "display": null,
            "left": null
          },
          "model_module_version": "1.2.0"
        },
        "74ebd1e879aa4880aebd7bd244be1f11": {
          "model_module": "@jupyter-widgets/controls",
          "model_name": "FloatProgressModel",
          "state": {
            "_view_name": "ProgressView",
            "style": "IPY_MODEL_08e4528feb584ad6b6a741c34f3c4e82",
            "_dom_classes": [],
            "description": "Downloading: 100%",
            "_model_name": "FloatProgressModel",
            "bar_style": "success",
            "max": 443,
            "_view_module": "@jupyter-widgets/controls",
            "_model_module_version": "1.5.0",
            "value": 443,
            "_view_count": null,
            "_view_module_version": "1.5.0",
            "orientation": "horizontal",
            "min": 0,
            "description_tooltip": null,
            "_model_module": "@jupyter-widgets/controls",
            "layout": "IPY_MODEL_56f78a8b82344ebb8775bc4c69efa74a"
          },
          "model_module_version": "1.5.0"
        },
        "fb274923fa584bfea431723808cc7d41": {
          "model_module": "@jupyter-widgets/controls",
          "model_name": "HTMLModel",
          "state": {
            "_view_name": "HTMLView",
            "style": "IPY_MODEL_52e9d5a8e62242348b4097e783de2285",
            "_dom_classes": [],
            "description": "",
            "_model_name": "HTMLModel",
            "placeholder": "​",
            "_view_module": "@jupyter-widgets/controls",
            "_model_module_version": "1.5.0",
            "value": " 443/443 [00:00&lt;00:00, 1.07kB/s]",
            "_view_count": null,
            "_view_module_version": "1.5.0",
            "description_tooltip": null,
            "_model_module": "@jupyter-widgets/controls",
            "layout": "IPY_MODEL_4616cb8e92d84bfab2fd572bb78020c8"
          },
          "model_module_version": "1.5.0"
        },
        "08e4528feb584ad6b6a741c34f3c4e82": {
          "model_module": "@jupyter-widgets/controls",
          "model_name": "ProgressStyleModel",
          "state": {
            "_view_name": "StyleView",
            "_model_name": "ProgressStyleModel",
            "description_width": "initial",
            "_view_module": "@jupyter-widgets/base",
            "_model_module_version": "1.5.0",
            "_view_count": null,
            "_view_module_version": "1.2.0",
            "bar_color": null,
            "_model_module": "@jupyter-widgets/controls"
          },
          "model_module_version": "1.5.0"
        },
        "56f78a8b82344ebb8775bc4c69efa74a": {
          "model_module": "@jupyter-widgets/base",
          "model_name": "LayoutModel",
          "state": {
            "_view_name": "LayoutView",
            "grid_template_rows": null,
            "right": null,
            "justify_content": null,
            "_view_module": "@jupyter-widgets/base",
            "overflow": null,
            "_model_module_version": "1.2.0",
            "_view_count": null,
            "flex_flow": null,
            "width": null,
            "min_width": null,
            "border": null,
            "align_items": null,
            "bottom": null,
            "_model_module": "@jupyter-widgets/base",
            "top": null,
            "grid_column": null,
            "overflow_y": null,
            "overflow_x": null,
            "grid_auto_flow": null,
            "grid_area": null,
            "grid_template_columns": null,
            "flex": null,
            "_model_name": "LayoutModel",
            "justify_items": null,
            "grid_row": null,
            "max_height": null,
            "align_content": null,
            "visibility": null,
            "align_self": null,
            "height": null,
            "min_height": null,
            "padding": null,
            "grid_auto_rows": null,
            "grid_gap": null,
            "max_width": null,
            "order": null,
            "_view_module_version": "1.2.0",
            "grid_template_areas": null,
            "object_position": null,
            "object_fit": null,
            "grid_auto_columns": null,
            "margin": null,
            "display": null,
            "left": null
          },
          "model_module_version": "1.2.0"
        },
        "52e9d5a8e62242348b4097e783de2285": {
          "model_module": "@jupyter-widgets/controls",
          "model_name": "DescriptionStyleModel",
          "state": {
            "_view_name": "StyleView",
            "_model_name": "DescriptionStyleModel",
            "description_width": "",
            "_view_module": "@jupyter-widgets/base",
            "_model_module_version": "1.5.0",
            "_view_count": null,
            "_view_module_version": "1.2.0",
            "_model_module": "@jupyter-widgets/controls"
          },
          "model_module_version": "1.5.0"
        },
        "4616cb8e92d84bfab2fd572bb78020c8": {
          "model_module": "@jupyter-widgets/base",
          "model_name": "LayoutModel",
          "state": {
            "_view_name": "LayoutView",
            "grid_template_rows": null,
            "right": null,
            "justify_content": null,
            "_view_module": "@jupyter-widgets/base",
            "overflow": null,
            "_model_module_version": "1.2.0",
            "_view_count": null,
            "flex_flow": null,
            "width": null,
            "min_width": null,
            "border": null,
            "align_items": null,
            "bottom": null,
            "_model_module": "@jupyter-widgets/base",
            "top": null,
            "grid_column": null,
            "overflow_y": null,
            "overflow_x": null,
            "grid_auto_flow": null,
            "grid_area": null,
            "grid_template_columns": null,
            "flex": null,
            "_model_name": "LayoutModel",
            "justify_items": null,
            "grid_row": null,
            "max_height": null,
            "align_content": null,
            "visibility": null,
            "align_self": null,
            "height": null,
            "min_height": null,
            "padding": null,
            "grid_auto_rows": null,
            "grid_gap": null,
            "max_width": null,
            "order": null,
            "_view_module_version": "1.2.0",
            "grid_template_areas": null,
            "object_position": null,
            "object_fit": null,
            "grid_auto_columns": null,
            "margin": null,
            "display": null,
            "left": null
          },
          "model_module_version": "1.2.0"
        },
        "dfa5b1f2ea1f4e3e9b17c0af9e702e3c": {
          "model_module": "@jupyter-widgets/controls",
          "model_name": "HBoxModel",
          "state": {
            "_view_name": "HBoxView",
            "_dom_classes": [],
            "_model_name": "HBoxModel",
            "_view_module": "@jupyter-widgets/controls",
            "_model_module_version": "1.5.0",
            "_view_count": null,
            "_view_module_version": "1.5.0",
            "box_style": "",
            "layout": "IPY_MODEL_3b78afe15a034437970d4499f33e5fa5",
            "_model_module": "@jupyter-widgets/controls",
            "children": [
              "IPY_MODEL_01aebf2f329a475d990ec2dc7ae783bf",
              "IPY_MODEL_433e37dd726644fbb1b26a05df4e0c48"
            ]
          },
          "model_module_version": "1.5.0"
        },
        "3b78afe15a034437970d4499f33e5fa5": {
          "model_module": "@jupyter-widgets/base",
          "model_name": "LayoutModel",
          "state": {
            "_view_name": "LayoutView",
            "grid_template_rows": null,
            "right": null,
            "justify_content": null,
            "_view_module": "@jupyter-widgets/base",
            "overflow": null,
            "_model_module_version": "1.2.0",
            "_view_count": null,
            "flex_flow": null,
            "width": null,
            "min_width": null,
            "border": null,
            "align_items": null,
            "bottom": null,
            "_model_module": "@jupyter-widgets/base",
            "top": null,
            "grid_column": null,
            "overflow_y": null,
            "overflow_x": null,
            "grid_auto_flow": null,
            "grid_area": null,
            "grid_template_columns": null,
            "flex": null,
            "_model_name": "LayoutModel",
            "justify_items": null,
            "grid_row": null,
            "max_height": null,
            "align_content": null,
            "visibility": null,
            "align_self": null,
            "height": null,
            "min_height": null,
            "padding": null,
            "grid_auto_rows": null,
            "grid_gap": null,
            "max_width": null,
            "order": null,
            "_view_module_version": "1.2.0",
            "grid_template_areas": null,
            "object_position": null,
            "object_fit": null,
            "grid_auto_columns": null,
            "margin": null,
            "display": null,
            "left": null
          },
          "model_module_version": "1.2.0"
        },
        "01aebf2f329a475d990ec2dc7ae783bf": {
          "model_module": "@jupyter-widgets/controls",
          "model_name": "FloatProgressModel",
          "state": {
            "_view_name": "ProgressView",
            "style": "IPY_MODEL_46bde3b4f7584582bbbf909f3798c70a",
            "_dom_classes": [],
            "description": "Downloading: 100%",
            "_model_name": "FloatProgressModel",
            "bar_style": "success",
            "max": 1341090760,
            "_view_module": "@jupyter-widgets/controls",
            "_model_module_version": "1.5.0",
            "value": 1341090760,
            "_view_count": null,
            "_view_module_version": "1.5.0",
            "orientation": "horizontal",
            "min": 0,
            "description_tooltip": null,
            "_model_module": "@jupyter-widgets/controls",
            "layout": "IPY_MODEL_8c4a5ec17ff8424ba539035de3886bde"
          },
          "model_module_version": "1.5.0"
        },
        "433e37dd726644fbb1b26a05df4e0c48": {
          "model_module": "@jupyter-widgets/controls",
          "model_name": "HTMLModel",
          "state": {
            "_view_name": "HTMLView",
            "style": "IPY_MODEL_4b2f21b1cc6b4a768832bf94d6b1e271",
            "_dom_classes": [],
            "description": "",
            "_model_name": "HTMLModel",
            "placeholder": "​",
            "_view_module": "@jupyter-widgets/controls",
            "_model_module_version": "1.5.0",
            "value": " 1.34G/1.34G [00:35&lt;00:00, 37.6MB/s]",
            "_view_count": null,
            "_view_module_version": "1.5.0",
            "description_tooltip": null,
            "_model_module": "@jupyter-widgets/controls",
            "layout": "IPY_MODEL_41ab87183dc24188a78337075b121bed"
          },
          "model_module_version": "1.5.0"
        },
        "46bde3b4f7584582bbbf909f3798c70a": {
          "model_module": "@jupyter-widgets/controls",
          "model_name": "ProgressStyleModel",
          "state": {
            "_view_name": "StyleView",
            "_model_name": "ProgressStyleModel",
            "description_width": "initial",
            "_view_module": "@jupyter-widgets/base",
            "_model_module_version": "1.5.0",
            "_view_count": null,
            "_view_module_version": "1.2.0",
            "bar_color": null,
            "_model_module": "@jupyter-widgets/controls"
          },
          "model_module_version": "1.5.0"
        },
        "8c4a5ec17ff8424ba539035de3886bde": {
          "model_module": "@jupyter-widgets/base",
          "model_name": "LayoutModel",
          "state": {
            "_view_name": "LayoutView",
            "grid_template_rows": null,
            "right": null,
            "justify_content": null,
            "_view_module": "@jupyter-widgets/base",
            "overflow": null,
            "_model_module_version": "1.2.0",
            "_view_count": null,
            "flex_flow": null,
            "width": null,
            "min_width": null,
            "border": null,
            "align_items": null,
            "bottom": null,
            "_model_module": "@jupyter-widgets/base",
            "top": null,
            "grid_column": null,
            "overflow_y": null,
            "overflow_x": null,
            "grid_auto_flow": null,
            "grid_area": null,
            "grid_template_columns": null,
            "flex": null,
            "_model_name": "LayoutModel",
            "justify_items": null,
            "grid_row": null,
            "max_height": null,
            "align_content": null,
            "visibility": null,
            "align_self": null,
            "height": null,
            "min_height": null,
            "padding": null,
            "grid_auto_rows": null,
            "grid_gap": null,
            "max_width": null,
            "order": null,
            "_view_module_version": "1.2.0",
            "grid_template_areas": null,
            "object_position": null,
            "object_fit": null,
            "grid_auto_columns": null,
            "margin": null,
            "display": null,
            "left": null
          },
          "model_module_version": "1.2.0"
        },
        "4b2f21b1cc6b4a768832bf94d6b1e271": {
          "model_module": "@jupyter-widgets/controls",
          "model_name": "DescriptionStyleModel",
          "state": {
            "_view_name": "StyleView",
            "_model_name": "DescriptionStyleModel",
            "description_width": "",
            "_view_module": "@jupyter-widgets/base",
            "_model_module_version": "1.5.0",
            "_view_count": null,
            "_view_module_version": "1.2.0",
            "_model_module": "@jupyter-widgets/controls"
          },
          "model_module_version": "1.5.0"
        },
        "41ab87183dc24188a78337075b121bed": {
          "model_module": "@jupyter-widgets/base",
          "model_name": "LayoutModel",
          "state": {
            "_view_name": "LayoutView",
            "grid_template_rows": null,
            "right": null,
            "justify_content": null,
            "_view_module": "@jupyter-widgets/base",
            "overflow": null,
            "_model_module_version": "1.2.0",
            "_view_count": null,
            "flex_flow": null,
            "width": null,
            "min_width": null,
            "border": null,
            "align_items": null,
            "bottom": null,
            "_model_module": "@jupyter-widgets/base",
            "top": null,
            "grid_column": null,
            "overflow_y": null,
            "overflow_x": null,
            "grid_auto_flow": null,
            "grid_area": null,
            "grid_template_columns": null,
            "flex": null,
            "_model_name": "LayoutModel",
            "justify_items": null,
            "grid_row": null,
            "max_height": null,
            "align_content": null,
            "visibility": null,
            "align_self": null,
            "height": null,
            "min_height": null,
            "padding": null,
            "grid_auto_rows": null,
            "grid_gap": null,
            "max_width": null,
            "order": null,
            "_view_module_version": "1.2.0",
            "grid_template_areas": null,
            "object_position": null,
            "object_fit": null,
            "grid_auto_columns": null,
            "margin": null,
            "display": null,
            "left": null
          },
          "model_module_version": "1.2.0"
        },
        "c6b86b0336a04d7bbb200f07881efa1a": {
          "model_module": "@jupyter-widgets/controls",
          "model_name": "HBoxModel",
          "state": {
            "_view_name": "HBoxView",
            "_dom_classes": [],
            "_model_name": "HBoxModel",
            "_view_module": "@jupyter-widgets/controls",
            "_model_module_version": "1.5.0",
            "_view_count": null,
            "_view_module_version": "1.5.0",
            "box_style": "",
            "layout": "IPY_MODEL_fd2c3e20fa8747608ed993e81e332288",
            "_model_module": "@jupyter-widgets/controls",
            "children": [
              "IPY_MODEL_26c9755ce72449eaba357f3299e9f7b0",
              "IPY_MODEL_7ccbba7353d644cd90b1f0478c240a81"
            ]
          },
          "model_module_version": "1.5.0"
        },
        "fd2c3e20fa8747608ed993e81e332288": {
          "model_module": "@jupyter-widgets/base",
          "model_name": "LayoutModel",
          "state": {
            "_view_name": "LayoutView",
            "grid_template_rows": null,
            "right": null,
            "justify_content": null,
            "_view_module": "@jupyter-widgets/base",
            "overflow": null,
            "_model_module_version": "1.2.0",
            "_view_count": null,
            "flex_flow": null,
            "width": null,
            "min_width": null,
            "border": null,
            "align_items": null,
            "bottom": null,
            "_model_module": "@jupyter-widgets/base",
            "top": null,
            "grid_column": null,
            "overflow_y": null,
            "overflow_x": null,
            "grid_auto_flow": null,
            "grid_area": null,
            "grid_template_columns": null,
            "flex": null,
            "_model_name": "LayoutModel",
            "justify_items": null,
            "grid_row": null,
            "max_height": null,
            "align_content": null,
            "visibility": null,
            "align_self": null,
            "height": null,
            "min_height": null,
            "padding": null,
            "grid_auto_rows": null,
            "grid_gap": null,
            "max_width": null,
            "order": null,
            "_view_module_version": "1.2.0",
            "grid_template_areas": null,
            "object_position": null,
            "object_fit": null,
            "grid_auto_columns": null,
            "margin": null,
            "display": null,
            "left": null
          },
          "model_module_version": "1.2.0"
        },
        "26c9755ce72449eaba357f3299e9f7b0": {
          "model_module": "@jupyter-widgets/controls",
          "model_name": "FloatProgressModel",
          "state": {
            "_view_name": "ProgressView",
            "style": "IPY_MODEL_d8172c87113f4c748a26a26f0c4a0b03",
            "_dom_classes": [],
            "description": "Downloading: 100%",
            "_model_name": "FloatProgressModel",
            "bar_style": "success",
            "max": 231508,
            "_view_module": "@jupyter-widgets/controls",
            "_model_module_version": "1.5.0",
            "value": 231508,
            "_view_count": null,
            "_view_module_version": "1.5.0",
            "orientation": "horizontal",
            "min": 0,
            "description_tooltip": null,
            "_model_module": "@jupyter-widgets/controls",
            "layout": "IPY_MODEL_0a0026aa3c3c4f299f4e88abec500ea9"
          },
          "model_module_version": "1.5.0"
        },
        "7ccbba7353d644cd90b1f0478c240a81": {
          "model_module": "@jupyter-widgets/controls",
          "model_name": "HTMLModel",
          "state": {
            "_view_name": "HTMLView",
            "style": "IPY_MODEL_518db452282f4e0f9ec396c4c8392969",
            "_dom_classes": [],
            "description": "",
            "_model_name": "HTMLModel",
            "placeholder": "​",
            "_view_module": "@jupyter-widgets/controls",
            "_model_module_version": "1.5.0",
            "value": " 232k/232k [00:01&lt;00:00, 172kB/s]",
            "_view_count": null,
            "_view_module_version": "1.5.0",
            "description_tooltip": null,
            "_model_module": "@jupyter-widgets/controls",
            "layout": "IPY_MODEL_a4c2f4f953ea4ef3ac0f6f29ed8ac928"
          },
          "model_module_version": "1.5.0"
        },
        "d8172c87113f4c748a26a26f0c4a0b03": {
          "model_module": "@jupyter-widgets/controls",
          "model_name": "ProgressStyleModel",
          "state": {
            "_view_name": "StyleView",
            "_model_name": "ProgressStyleModel",
            "description_width": "initial",
            "_view_module": "@jupyter-widgets/base",
            "_model_module_version": "1.5.0",
            "_view_count": null,
            "_view_module_version": "1.2.0",
            "bar_color": null,
            "_model_module": "@jupyter-widgets/controls"
          },
          "model_module_version": "1.5.0"
        },
        "0a0026aa3c3c4f299f4e88abec500ea9": {
          "model_module": "@jupyter-widgets/base",
          "model_name": "LayoutModel",
          "state": {
            "_view_name": "LayoutView",
            "grid_template_rows": null,
            "right": null,
            "justify_content": null,
            "_view_module": "@jupyter-widgets/base",
            "overflow": null,
            "_model_module_version": "1.2.0",
            "_view_count": null,
            "flex_flow": null,
            "width": null,
            "min_width": null,
            "border": null,
            "align_items": null,
            "bottom": null,
            "_model_module": "@jupyter-widgets/base",
            "top": null,
            "grid_column": null,
            "overflow_y": null,
            "overflow_x": null,
            "grid_auto_flow": null,
            "grid_area": null,
            "grid_template_columns": null,
            "flex": null,
            "_model_name": "LayoutModel",
            "justify_items": null,
            "grid_row": null,
            "max_height": null,
            "align_content": null,
            "visibility": null,
            "align_self": null,
            "height": null,
            "min_height": null,
            "padding": null,
            "grid_auto_rows": null,
            "grid_gap": null,
            "max_width": null,
            "order": null,
            "_view_module_version": "1.2.0",
            "grid_template_areas": null,
            "object_position": null,
            "object_fit": null,
            "grid_auto_columns": null,
            "margin": null,
            "display": null,
            "left": null
          },
          "model_module_version": "1.2.0"
        },
        "518db452282f4e0f9ec396c4c8392969": {
          "model_module": "@jupyter-widgets/controls",
          "model_name": "DescriptionStyleModel",
          "state": {
            "_view_name": "StyleView",
            "_model_name": "DescriptionStyleModel",
            "description_width": "",
            "_view_module": "@jupyter-widgets/base",
            "_model_module_version": "1.5.0",
            "_view_count": null,
            "_view_module_version": "1.2.0",
            "_model_module": "@jupyter-widgets/controls"
          },
          "model_module_version": "1.5.0"
        },
        "a4c2f4f953ea4ef3ac0f6f29ed8ac928": {
          "model_module": "@jupyter-widgets/base",
          "model_name": "LayoutModel",
          "state": {
            "_view_name": "LayoutView",
            "grid_template_rows": null,
            "right": null,
            "justify_content": null,
            "_view_module": "@jupyter-widgets/base",
            "overflow": null,
            "_model_module_version": "1.2.0",
            "_view_count": null,
            "flex_flow": null,
            "width": null,
            "min_width": null,
            "border": null,
            "align_items": null,
            "bottom": null,
            "_model_module": "@jupyter-widgets/base",
            "top": null,
            "grid_column": null,
            "overflow_y": null,
            "overflow_x": null,
            "grid_auto_flow": null,
            "grid_area": null,
            "grid_template_columns": null,
            "flex": null,
            "_model_name": "LayoutModel",
            "justify_items": null,
            "grid_row": null,
            "max_height": null,
            "align_content": null,
            "visibility": null,
            "align_self": null,
            "height": null,
            "min_height": null,
            "padding": null,
            "grid_auto_rows": null,
            "grid_gap": null,
            "max_width": null,
            "order": null,
            "_view_module_version": "1.2.0",
            "grid_template_areas": null,
            "object_position": null,
            "object_fit": null,
            "grid_auto_columns": null,
            "margin": null,
            "display": null,
            "left": null
          },
          "model_module_version": "1.2.0"
        },
        "5bc7d57361ab467ebbc52f2a50ffddc7": {
          "model_module": "@jupyter-widgets/controls",
          "model_name": "HBoxModel",
          "state": {
            "_view_name": "HBoxView",
            "_dom_classes": [],
            "_model_name": "HBoxModel",
            "_view_module": "@jupyter-widgets/controls",
            "_model_module_version": "1.5.0",
            "_view_count": null,
            "_view_module_version": "1.5.0",
            "box_style": "",
            "layout": "IPY_MODEL_23e8065306334b05b0b63fe24516c567",
            "_model_module": "@jupyter-widgets/controls",
            "children": [
              "IPY_MODEL_450e3beb906f444291035ddbdedc1fcd",
              "IPY_MODEL_84813f9ec7214656aa15360b1417d167"
            ]
          },
          "model_module_version": "1.5.0"
        },
        "23e8065306334b05b0b63fe24516c567": {
          "model_module": "@jupyter-widgets/base",
          "model_name": "LayoutModel",
          "state": {
            "_view_name": "LayoutView",
            "grid_template_rows": null,
            "right": null,
            "justify_content": null,
            "_view_module": "@jupyter-widgets/base",
            "overflow": null,
            "_model_module_version": "1.2.0",
            "_view_count": null,
            "flex_flow": null,
            "width": null,
            "min_width": null,
            "border": null,
            "align_items": null,
            "bottom": null,
            "_model_module": "@jupyter-widgets/base",
            "top": null,
            "grid_column": null,
            "overflow_y": null,
            "overflow_x": null,
            "grid_auto_flow": null,
            "grid_area": null,
            "grid_template_columns": null,
            "flex": null,
            "_model_name": "LayoutModel",
            "justify_items": null,
            "grid_row": null,
            "max_height": null,
            "align_content": null,
            "visibility": null,
            "align_self": null,
            "height": null,
            "min_height": null,
            "padding": null,
            "grid_auto_rows": null,
            "grid_gap": null,
            "max_width": null,
            "order": null,
            "_view_module_version": "1.2.0",
            "grid_template_areas": null,
            "object_position": null,
            "object_fit": null,
            "grid_auto_columns": null,
            "margin": null,
            "display": null,
            "left": null
          },
          "model_module_version": "1.2.0"
        },
        "450e3beb906f444291035ddbdedc1fcd": {
          "model_module": "@jupyter-widgets/controls",
          "model_name": "FloatProgressModel",
          "state": {
            "_view_name": "ProgressView",
            "style": "IPY_MODEL_5efda018bb354aca840cab10f190359e",
            "_dom_classes": [],
            "description": "Downloading: 100%",
            "_model_name": "FloatProgressModel",
            "bar_style": "success",
            "max": 28,
            "_view_module": "@jupyter-widgets/controls",
            "_model_module_version": "1.5.0",
            "value": 28,
            "_view_count": null,
            "_view_module_version": "1.5.0",
            "orientation": "horizontal",
            "min": 0,
            "description_tooltip": null,
            "_model_module": "@jupyter-widgets/controls",
            "layout": "IPY_MODEL_f44b022587e5422cb8fa562778ef6958"
          },
          "model_module_version": "1.5.0"
        },
        "84813f9ec7214656aa15360b1417d167": {
          "model_module": "@jupyter-widgets/controls",
          "model_name": "HTMLModel",
          "state": {
            "_view_name": "HTMLView",
            "style": "IPY_MODEL_f994125d7daf411fa5d6f38c9989ac14",
            "_dom_classes": [],
            "description": "",
            "_model_name": "HTMLModel",
            "placeholder": "​",
            "_view_module": "@jupyter-widgets/controls",
            "_model_module_version": "1.5.0",
            "value": " 28.0/28.0 [00:00&lt;00:00, 33.9B/s]",
            "_view_count": null,
            "_view_module_version": "1.5.0",
            "description_tooltip": null,
            "_model_module": "@jupyter-widgets/controls",
            "layout": "IPY_MODEL_6ce8e0ae89de479083bd51fdf3e35601"
          },
          "model_module_version": "1.5.0"
        },
        "5efda018bb354aca840cab10f190359e": {
          "model_module": "@jupyter-widgets/controls",
          "model_name": "ProgressStyleModel",
          "state": {
            "_view_name": "StyleView",
            "_model_name": "ProgressStyleModel",
            "description_width": "initial",
            "_view_module": "@jupyter-widgets/base",
            "_model_module_version": "1.5.0",
            "_view_count": null,
            "_view_module_version": "1.2.0",
            "bar_color": null,
            "_model_module": "@jupyter-widgets/controls"
          },
          "model_module_version": "1.5.0"
        },
        "f44b022587e5422cb8fa562778ef6958": {
          "model_module": "@jupyter-widgets/base",
          "model_name": "LayoutModel",
          "state": {
            "_view_name": "LayoutView",
            "grid_template_rows": null,
            "right": null,
            "justify_content": null,
            "_view_module": "@jupyter-widgets/base",
            "overflow": null,
            "_model_module_version": "1.2.0",
            "_view_count": null,
            "flex_flow": null,
            "width": null,
            "min_width": null,
            "border": null,
            "align_items": null,
            "bottom": null,
            "_model_module": "@jupyter-widgets/base",
            "top": null,
            "grid_column": null,
            "overflow_y": null,
            "overflow_x": null,
            "grid_auto_flow": null,
            "grid_area": null,
            "grid_template_columns": null,
            "flex": null,
            "_model_name": "LayoutModel",
            "justify_items": null,
            "grid_row": null,
            "max_height": null,
            "align_content": null,
            "visibility": null,
            "align_self": null,
            "height": null,
            "min_height": null,
            "padding": null,
            "grid_auto_rows": null,
            "grid_gap": null,
            "max_width": null,
            "order": null,
            "_view_module_version": "1.2.0",
            "grid_template_areas": null,
            "object_position": null,
            "object_fit": null,
            "grid_auto_columns": null,
            "margin": null,
            "display": null,
            "left": null
          },
          "model_module_version": "1.2.0"
        },
        "f994125d7daf411fa5d6f38c9989ac14": {
          "model_module": "@jupyter-widgets/controls",
          "model_name": "DescriptionStyleModel",
          "state": {
            "_view_name": "StyleView",
            "_model_name": "DescriptionStyleModel",
            "description_width": "",
            "_view_module": "@jupyter-widgets/base",
            "_model_module_version": "1.5.0",
            "_view_count": null,
            "_view_module_version": "1.2.0",
            "_model_module": "@jupyter-widgets/controls"
          },
          "model_module_version": "1.5.0"
        },
        "6ce8e0ae89de479083bd51fdf3e35601": {
          "model_module": "@jupyter-widgets/base",
          "model_name": "LayoutModel",
          "state": {
            "_view_name": "LayoutView",
            "grid_template_rows": null,
            "right": null,
            "justify_content": null,
            "_view_module": "@jupyter-widgets/base",
            "overflow": null,
            "_model_module_version": "1.2.0",
            "_view_count": null,
            "flex_flow": null,
            "width": null,
            "min_width": null,
            "border": null,
            "align_items": null,
            "bottom": null,
            "_model_module": "@jupyter-widgets/base",
            "top": null,
            "grid_column": null,
            "overflow_y": null,
            "overflow_x": null,
            "grid_auto_flow": null,
            "grid_area": null,
            "grid_template_columns": null,
            "flex": null,
            "_model_name": "LayoutModel",
            "justify_items": null,
            "grid_row": null,
            "max_height": null,
            "align_content": null,
            "visibility": null,
            "align_self": null,
            "height": null,
            "min_height": null,
            "padding": null,
            "grid_auto_rows": null,
            "grid_gap": null,
            "max_width": null,
            "order": null,
            "_view_module_version": "1.2.0",
            "grid_template_areas": null,
            "object_position": null,
            "object_fit": null,
            "grid_auto_columns": null,
            "margin": null,
            "display": null,
            "left": null
          },
          "model_module_version": "1.2.0"
        },
        "3e2fb99ec0d1483f8f95b30b5dbe96b8": {
          "model_module": "@jupyter-widgets/controls",
          "model_name": "HBoxModel",
          "state": {
            "_view_name": "HBoxView",
            "_dom_classes": [],
            "_model_name": "HBoxModel",
            "_view_module": "@jupyter-widgets/controls",
            "_model_module_version": "1.5.0",
            "_view_count": null,
            "_view_module_version": "1.5.0",
            "box_style": "",
            "layout": "IPY_MODEL_742942a7194b4c7e8bafd0e8aff9e135",
            "_model_module": "@jupyter-widgets/controls",
            "children": [
              "IPY_MODEL_2eea5e6880d741578f755657f0be4334",
              "IPY_MODEL_3ab60fa5f3064ff8a0ad777503fd8b0c"
            ]
          },
          "model_module_version": "1.5.0"
        },
        "742942a7194b4c7e8bafd0e8aff9e135": {
          "model_module": "@jupyter-widgets/base",
          "model_name": "LayoutModel",
          "state": {
            "_view_name": "LayoutView",
            "grid_template_rows": null,
            "right": null,
            "justify_content": null,
            "_view_module": "@jupyter-widgets/base",
            "overflow": null,
            "_model_module_version": "1.2.0",
            "_view_count": null,
            "flex_flow": null,
            "width": null,
            "min_width": null,
            "border": null,
            "align_items": null,
            "bottom": null,
            "_model_module": "@jupyter-widgets/base",
            "top": null,
            "grid_column": null,
            "overflow_y": null,
            "overflow_x": null,
            "grid_auto_flow": null,
            "grid_area": null,
            "grid_template_columns": null,
            "flex": null,
            "_model_name": "LayoutModel",
            "justify_items": null,
            "grid_row": null,
            "max_height": null,
            "align_content": null,
            "visibility": null,
            "align_self": null,
            "height": null,
            "min_height": null,
            "padding": null,
            "grid_auto_rows": null,
            "grid_gap": null,
            "max_width": null,
            "order": null,
            "_view_module_version": "1.2.0",
            "grid_template_areas": null,
            "object_position": null,
            "object_fit": null,
            "grid_auto_columns": null,
            "margin": null,
            "display": null,
            "left": null
          },
          "model_module_version": "1.2.0"
        },
        "2eea5e6880d741578f755657f0be4334": {
          "model_module": "@jupyter-widgets/controls",
          "model_name": "FloatProgressModel",
          "state": {
            "_view_name": "ProgressView",
            "style": "IPY_MODEL_0b10029df0834e959ef1c2c4ce108351",
            "_dom_classes": [],
            "description": "Downloading: 100%",
            "_model_name": "FloatProgressModel",
            "bar_style": "success",
            "max": 466062,
            "_view_module": "@jupyter-widgets/controls",
            "_model_module_version": "1.5.0",
            "value": 466062,
            "_view_count": null,
            "_view_module_version": "1.5.0",
            "orientation": "horizontal",
            "min": 0,
            "description_tooltip": null,
            "_model_module": "@jupyter-widgets/controls",
            "layout": "IPY_MODEL_6ded2b7805c54b17979cdf464d4b6f5b"
          },
          "model_module_version": "1.5.0"
        },
        "3ab60fa5f3064ff8a0ad777503fd8b0c": {
          "model_module": "@jupyter-widgets/controls",
          "model_name": "HTMLModel",
          "state": {
            "_view_name": "HTMLView",
            "style": "IPY_MODEL_27d5bf45ce7d46fbad4745523f3e24d8",
            "_dom_classes": [],
            "description": "",
            "_model_name": "HTMLModel",
            "placeholder": "​",
            "_view_module": "@jupyter-widgets/controls",
            "_model_module_version": "1.5.0",
            "value": " 466k/466k [00:00&lt;00:00, 2.59MB/s]",
            "_view_count": null,
            "_view_module_version": "1.5.0",
            "description_tooltip": null,
            "_model_module": "@jupyter-widgets/controls",
            "layout": "IPY_MODEL_70f7910b6a864bf5ada75ee68be680e0"
          },
          "model_module_version": "1.5.0"
        },
        "0b10029df0834e959ef1c2c4ce108351": {
          "model_module": "@jupyter-widgets/controls",
          "model_name": "ProgressStyleModel",
          "state": {
            "_view_name": "StyleView",
            "_model_name": "ProgressStyleModel",
            "description_width": "initial",
            "_view_module": "@jupyter-widgets/base",
            "_model_module_version": "1.5.0",
            "_view_count": null,
            "_view_module_version": "1.2.0",
            "bar_color": null,
            "_model_module": "@jupyter-widgets/controls"
          },
          "model_module_version": "1.5.0"
        },
        "6ded2b7805c54b17979cdf464d4b6f5b": {
          "model_module": "@jupyter-widgets/base",
          "model_name": "LayoutModel",
          "state": {
            "_view_name": "LayoutView",
            "grid_template_rows": null,
            "right": null,
            "justify_content": null,
            "_view_module": "@jupyter-widgets/base",
            "overflow": null,
            "_model_module_version": "1.2.0",
            "_view_count": null,
            "flex_flow": null,
            "width": null,
            "min_width": null,
            "border": null,
            "align_items": null,
            "bottom": null,
            "_model_module": "@jupyter-widgets/base",
            "top": null,
            "grid_column": null,
            "overflow_y": null,
            "overflow_x": null,
            "grid_auto_flow": null,
            "grid_area": null,
            "grid_template_columns": null,
            "flex": null,
            "_model_name": "LayoutModel",
            "justify_items": null,
            "grid_row": null,
            "max_height": null,
            "align_content": null,
            "visibility": null,
            "align_self": null,
            "height": null,
            "min_height": null,
            "padding": null,
            "grid_auto_rows": null,
            "grid_gap": null,
            "max_width": null,
            "order": null,
            "_view_module_version": "1.2.0",
            "grid_template_areas": null,
            "object_position": null,
            "object_fit": null,
            "grid_auto_columns": null,
            "margin": null,
            "display": null,
            "left": null
          },
          "model_module_version": "1.2.0"
        },
        "27d5bf45ce7d46fbad4745523f3e24d8": {
          "model_module": "@jupyter-widgets/controls",
          "model_name": "DescriptionStyleModel",
          "state": {
            "_view_name": "StyleView",
            "_model_name": "DescriptionStyleModel",
            "description_width": "",
            "_view_module": "@jupyter-widgets/base",
            "_model_module_version": "1.5.0",
            "_view_count": null,
            "_view_module_version": "1.2.0",
            "_model_module": "@jupyter-widgets/controls"
          },
          "model_module_version": "1.5.0"
        },
        "70f7910b6a864bf5ada75ee68be680e0": {
          "model_module": "@jupyter-widgets/base",
          "model_name": "LayoutModel",
          "state": {
            "_view_name": "LayoutView",
            "grid_template_rows": null,
            "right": null,
            "justify_content": null,
            "_view_module": "@jupyter-widgets/base",
            "overflow": null,
            "_model_module_version": "1.2.0",
            "_view_count": null,
            "flex_flow": null,
            "width": null,
            "min_width": null,
            "border": null,
            "align_items": null,
            "bottom": null,
            "_model_module": "@jupyter-widgets/base",
            "top": null,
            "grid_column": null,
            "overflow_y": null,
            "overflow_x": null,
            "grid_auto_flow": null,
            "grid_area": null,
            "grid_template_columns": null,
            "flex": null,
            "_model_name": "LayoutModel",
            "justify_items": null,
            "grid_row": null,
            "max_height": null,
            "align_content": null,
            "visibility": null,
            "align_self": null,
            "height": null,
            "min_height": null,
            "padding": null,
            "grid_auto_rows": null,
            "grid_gap": null,
            "max_width": null,
            "order": null,
            "_view_module_version": "1.2.0",
            "grid_template_areas": null,
            "object_position": null,
            "object_fit": null,
            "grid_auto_columns": null,
            "margin": null,
            "display": null,
            "left": null
          },
          "model_module_version": "1.2.0"
        }
      }
    }
  },
  "cells": [
    {
      "cell_type": "markdown",
      "metadata": {
        "id": "view-in-github",
        "colab_type": "text"
      },
      "source": [
        "<a href=\"https://colab.research.google.com/github/josware/mcc_tareas/blob/master/nlp_Question_and_Answer_BERT_clase.ipynb\" target=\"_parent\"><img src=\"https://colab.research.google.com/assets/colab-badge.svg\" alt=\"Open In Colab\"/></a>"
      ]
    },
    {
      "cell_type": "markdown",
      "metadata": {
        "id": "ISSJbZCuqlXg"
      },
      "source": [
        "#Modelo BERT pre-entrenado para el problema de Preguntas y Respuestas"
      ]
    },
    {
      "cell_type": "markdown",
      "metadata": {
        "id": "D99_ikqrrYky"
      },
      "source": [
        "Nos basaremos en la librería HuggingFace que nos proporciona modelos Transformer pre-entrenados:\n",
        "\n",
        "https://huggingface.co/\n",
        "\n",
        "https://github.com/huggingface/transformers/\n",
        "\n",
        "\n",
        "En particular este ejemplo está basado en el pequeño ejemplo mostrado para el modelo pre-entrenado TFBertForQuestionAnswering, que es el modelo BERT_Large pre-entrenado (fine-tuning) para problemas de preguntas y respuestas:\n",
        "\n",
        "https://huggingface.co/transformers/model_doc/bert.html?highlight=bertforquestionanswering#tfbertforquestionanswering \n",
        "\n",
        "https://huggingface.co/transformers/pretrained_models.html\n",
        "\n",
        "\n",
        "Usaremos además el modelo siguiente pre-entrenado (fine-tuning) con la base de datos SQuad::\n",
        "\n",
        "https://huggingface.co/bert-large-uncased-whole-word-masking-finetuned-squad\n",
        "\n",
        "https://rajpurkar.github.io/SQuAD-explorer/\n"
      ]
    },
    {
      "cell_type": "code",
      "metadata": {
        "id": "aQl0MMrOGIup",
        "colab": {
          "base_uri": "https://localhost:8080/"
        },
        "outputId": "867dd27a-de85-4c9d-c1c4-176232db2434"
      },
      "source": [
        "!pip install transformers"
      ],
      "execution_count": null,
      "outputs": [
        {
          "output_type": "stream",
          "text": [
            "Collecting transformers\n",
            "\u001b[?25l  Downloading https://files.pythonhosted.org/packages/d5/43/cfe4ee779bbd6a678ac6a97c5a5cdeb03c35f9eaebbb9720b036680f9a2d/transformers-4.6.1-py3-none-any.whl (2.2MB)\n",
            "\u001b[K     |████████████████████████████████| 2.3MB 7.7MB/s \n",
            "\u001b[?25hCollecting huggingface-hub==0.0.8\n",
            "  Downloading https://files.pythonhosted.org/packages/a1/88/7b1e45720ecf59c6c6737ff332f41c955963090a18e72acbcbeac6b25e86/huggingface_hub-0.0.8-py3-none-any.whl\n",
            "Requirement already satisfied: packaging in /usr/local/lib/python3.7/dist-packages (from transformers) (20.9)\n",
            "Requirement already satisfied: tqdm>=4.27 in /usr/local/lib/python3.7/dist-packages (from transformers) (4.41.1)\n",
            "Requirement already satisfied: requests in /usr/local/lib/python3.7/dist-packages (from transformers) (2.23.0)\n",
            "Requirement already satisfied: regex!=2019.12.17 in /usr/local/lib/python3.7/dist-packages (from transformers) (2019.12.20)\n",
            "Requirement already satisfied: filelock in /usr/local/lib/python3.7/dist-packages (from transformers) (3.0.12)\n",
            "Collecting sacremoses\n",
            "\u001b[?25l  Downloading https://files.pythonhosted.org/packages/75/ee/67241dc87f266093c533a2d4d3d69438e57d7a90abb216fa076e7d475d4a/sacremoses-0.0.45-py3-none-any.whl (895kB)\n",
            "\u001b[K     |████████████████████████████████| 901kB 27.5MB/s \n",
            "\u001b[?25hRequirement already satisfied: numpy>=1.17 in /usr/local/lib/python3.7/dist-packages (from transformers) (1.19.5)\n",
            "Requirement already satisfied: importlib-metadata; python_version < \"3.8\" in /usr/local/lib/python3.7/dist-packages (from transformers) (4.0.1)\n",
            "Collecting tokenizers<0.11,>=0.10.1\n",
            "\u001b[?25l  Downloading https://files.pythonhosted.org/packages/d4/e2/df3543e8ffdab68f5acc73f613de9c2b155ac47f162e725dcac87c521c11/tokenizers-0.10.3-cp37-cp37m-manylinux_2_5_x86_64.manylinux1_x86_64.manylinux_2_12_x86_64.manylinux2010_x86_64.whl (3.3MB)\n",
            "\u001b[K     |████████████████████████████████| 3.3MB 31.9MB/s \n",
            "\u001b[?25hRequirement already satisfied: pyparsing>=2.0.2 in /usr/local/lib/python3.7/dist-packages (from packaging->transformers) (2.4.7)\n",
            "Requirement already satisfied: chardet<4,>=3.0.2 in /usr/local/lib/python3.7/dist-packages (from requests->transformers) (3.0.4)\n",
            "Requirement already satisfied: certifi>=2017.4.17 in /usr/local/lib/python3.7/dist-packages (from requests->transformers) (2020.12.5)\n",
            "Requirement already satisfied: idna<3,>=2.5 in /usr/local/lib/python3.7/dist-packages (from requests->transformers) (2.10)\n",
            "Requirement already satisfied: urllib3!=1.25.0,!=1.25.1,<1.26,>=1.21.1 in /usr/local/lib/python3.7/dist-packages (from requests->transformers) (1.24.3)\n",
            "Requirement already satisfied: joblib in /usr/local/lib/python3.7/dist-packages (from sacremoses->transformers) (1.0.1)\n",
            "Requirement already satisfied: six in /usr/local/lib/python3.7/dist-packages (from sacremoses->transformers) (1.15.0)\n",
            "Requirement already satisfied: click in /usr/local/lib/python3.7/dist-packages (from sacremoses->transformers) (7.1.2)\n",
            "Requirement already satisfied: zipp>=0.5 in /usr/local/lib/python3.7/dist-packages (from importlib-metadata; python_version < \"3.8\"->transformers) (3.4.1)\n",
            "Requirement already satisfied: typing-extensions>=3.6.4; python_version < \"3.8\" in /usr/local/lib/python3.7/dist-packages (from importlib-metadata; python_version < \"3.8\"->transformers) (3.7.4.3)\n",
            "Installing collected packages: huggingface-hub, sacremoses, tokenizers, transformers\n",
            "Successfully installed huggingface-hub-0.0.8 sacremoses-0.0.45 tokenizers-0.10.3 transformers-4.6.1\n"
          ],
          "name": "stdout"
        }
      ]
    },
    {
      "cell_type": "code",
      "metadata": {
        "id": "5w0JYs0cDRsx"
      },
      "source": [
        "import tensorflow as tf\n",
        "import numpy as np"
      ],
      "execution_count": null,
      "outputs": []
    },
    {
      "cell_type": "markdown",
      "metadata": {
        "id": "hI7FT9-ZxLOb"
      },
      "source": [
        "Descargemos el modelo. Estrictamente no se descarga en nuestro disco, sino que el modelo está en algún lugar de la web y que nos proporciona HuggingFace.\n",
        "\n",
        "Observa que el modelo es de 1.34GB."
      ]
    },
    {
      "cell_type": "code",
      "metadata": {
        "id": "-Mnv95sX-U9K",
        "colab": {
          "base_uri": "https://localhost:8080/",
          "height": 203,
          "referenced_widgets": [
            "3e94c786861848d7bdfcb8f9581848b3",
            "450850d97ab04844b936b00871738afe",
            "74ebd1e879aa4880aebd7bd244be1f11",
            "fb274923fa584bfea431723808cc7d41",
            "08e4528feb584ad6b6a741c34f3c4e82",
            "56f78a8b82344ebb8775bc4c69efa74a",
            "52e9d5a8e62242348b4097e783de2285",
            "4616cb8e92d84bfab2fd572bb78020c8",
            "dfa5b1f2ea1f4e3e9b17c0af9e702e3c",
            "3b78afe15a034437970d4499f33e5fa5",
            "01aebf2f329a475d990ec2dc7ae783bf",
            "433e37dd726644fbb1b26a05df4e0c48",
            "46bde3b4f7584582bbbf909f3798c70a",
            "8c4a5ec17ff8424ba539035de3886bde",
            "4b2f21b1cc6b4a768832bf94d6b1e271",
            "41ab87183dc24188a78337075b121bed"
          ]
        },
        "outputId": "035c7836-bd1d-4a5e-e891-a56d42680029"
      },
      "source": [
        "from transformers import TFBertForQuestionAnswering\n",
        "model = TFBertForQuestionAnswering.from_pretrained('bert-large-uncased-whole-word-masking-finetuned-squad')\n"
      ],
      "execution_count": null,
      "outputs": [
        {
          "output_type": "display_data",
          "data": {
            "application/vnd.jupyter.widget-view+json": {
              "model_id": "3e94c786861848d7bdfcb8f9581848b3",
              "version_minor": 0,
              "version_major": 2
            },
            "text/plain": [
              "HBox(children=(FloatProgress(value=0.0, description='Downloading', max=443.0, style=ProgressStyle(description_…"
            ]
          },
          "metadata": {
            "tags": []
          }
        },
        {
          "output_type": "stream",
          "text": [
            "\n"
          ],
          "name": "stdout"
        },
        {
          "output_type": "display_data",
          "data": {
            "application/vnd.jupyter.widget-view+json": {
              "model_id": "dfa5b1f2ea1f4e3e9b17c0af9e702e3c",
              "version_minor": 0,
              "version_major": 2
            },
            "text/plain": [
              "HBox(children=(FloatProgress(value=0.0, description='Downloading', max=1341090760.0, style=ProgressStyle(descr…"
            ]
          },
          "metadata": {
            "tags": []
          }
        },
        {
          "output_type": "stream",
          "text": [
            "\n"
          ],
          "name": "stdout"
        },
        {
          "output_type": "stream",
          "text": [
            "All model checkpoint layers were used when initializing TFBertForQuestionAnswering.\n",
            "\n",
            "All the layers of TFBertForQuestionAnswering were initialized from the model checkpoint at bert-large-uncased-whole-word-masking-finetuned-squad.\n",
            "If your task is similar to the task the model of the checkpoint was trained on, you can already use TFBertForQuestionAnswering for predictions without further training.\n"
          ],
          "name": "stderr"
        }
      ]
    },
    {
      "cell_type": "markdown",
      "metadata": {
        "id": "Ze9lR2uH0Na1"
      },
      "source": [
        "Cargamos el tokenizer con su vocabulario en el caso uncased:"
      ]
    },
    {
      "cell_type": "code",
      "metadata": {
        "id": "SFQ5f7gv-RBH",
        "colab": {
          "base_uri": "https://localhost:8080/",
          "height": 164,
          "referenced_widgets": [
            "c6b86b0336a04d7bbb200f07881efa1a",
            "fd2c3e20fa8747608ed993e81e332288",
            "26c9755ce72449eaba357f3299e9f7b0",
            "7ccbba7353d644cd90b1f0478c240a81",
            "d8172c87113f4c748a26a26f0c4a0b03",
            "0a0026aa3c3c4f299f4e88abec500ea9",
            "518db452282f4e0f9ec396c4c8392969",
            "a4c2f4f953ea4ef3ac0f6f29ed8ac928",
            "5bc7d57361ab467ebbc52f2a50ffddc7",
            "23e8065306334b05b0b63fe24516c567",
            "450e3beb906f444291035ddbdedc1fcd",
            "84813f9ec7214656aa15360b1417d167",
            "5efda018bb354aca840cab10f190359e",
            "f44b022587e5422cb8fa562778ef6958",
            "f994125d7daf411fa5d6f38c9989ac14",
            "6ce8e0ae89de479083bd51fdf3e35601",
            "3e2fb99ec0d1483f8f95b30b5dbe96b8",
            "742942a7194b4c7e8bafd0e8aff9e135",
            "2eea5e6880d741578f755657f0be4334",
            "3ab60fa5f3064ff8a0ad777503fd8b0c",
            "0b10029df0834e959ef1c2c4ce108351",
            "6ded2b7805c54b17979cdf464d4b6f5b",
            "27d5bf45ce7d46fbad4745523f3e24d8",
            "70f7910b6a864bf5ada75ee68be680e0"
          ]
        },
        "outputId": "0f09a6e2-8df2-455e-b7d1-59d718e3b10b"
      },
      "source": [
        "from transformers import BertTokenizer \n",
        "\n",
        "tokenizer = BertTokenizer.from_pretrained('bert-large-uncased-whole-word-masking-finetuned-squad')"
      ],
      "execution_count": null,
      "outputs": [
        {
          "output_type": "display_data",
          "data": {
            "application/vnd.jupyter.widget-view+json": {
              "model_id": "c6b86b0336a04d7bbb200f07881efa1a",
              "version_minor": 0,
              "version_major": 2
            },
            "text/plain": [
              "HBox(children=(FloatProgress(value=0.0, description='Downloading', max=231508.0, style=ProgressStyle(descripti…"
            ]
          },
          "metadata": {
            "tags": []
          }
        },
        {
          "output_type": "stream",
          "text": [
            "\n"
          ],
          "name": "stdout"
        },
        {
          "output_type": "display_data",
          "data": {
            "application/vnd.jupyter.widget-view+json": {
              "model_id": "5bc7d57361ab467ebbc52f2a50ffddc7",
              "version_minor": 0,
              "version_major": 2
            },
            "text/plain": [
              "HBox(children=(FloatProgress(value=0.0, description='Downloading', max=28.0, style=ProgressStyle(description_w…"
            ]
          },
          "metadata": {
            "tags": []
          }
        },
        {
          "output_type": "stream",
          "text": [
            "\n"
          ],
          "name": "stdout"
        },
        {
          "output_type": "display_data",
          "data": {
            "application/vnd.jupyter.widget-view+json": {
              "model_id": "3e2fb99ec0d1483f8f95b30b5dbe96b8",
              "version_minor": 0,
              "version_major": 2
            },
            "text/plain": [
              "HBox(children=(FloatProgress(value=0.0, description='Downloading', max=466062.0, style=ProgressStyle(descripti…"
            ]
          },
          "metadata": {
            "tags": []
          }
        },
        {
          "output_type": "stream",
          "text": [
            "\n"
          ],
          "name": "stdout"
        }
      ]
    },
    {
      "cell_type": "code",
      "metadata": {
        "id": "FmFi5cCE0c6l",
        "colab": {
          "base_uri": "https://localhost:8080/"
        },
        "outputId": "53c6ae92-c744-40e3-f461-19fa210a1a35"
      },
      "source": [
        "tokenizer.vocab_size"
      ],
      "execution_count": null,
      "outputs": [
        {
          "output_type": "execute_result",
          "data": {
            "text/plain": [
              "30522"
            ]
          },
          "metadata": {
            "tags": []
          },
          "execution_count": 5
        }
      ]
    },
    {
      "cell_type": "markdown",
      "metadata": {
        "id": "I__1ubvcZYow"
      },
      "source": [
        "## Utilicemos el modelo pre-entrenado para realizar alguna preguntas, dado un texto.\n",
        "\n",
        "Para este ejemplo usarmos algunos párrafos de Wikipedia sobre Stephen Hawking:\n",
        "\n",
        "https://en.wikipedia.org/wiki/Stephen_Hawking\n"
      ]
    },
    {
      "cell_type": "markdown",
      "metadata": {
        "id": "Mx6rG4kSIIWk"
      },
      "source": [
        "Hawking was born in Oxford into a family of doctors. He began his university education at University College, Oxford, in October 1959 at the age of 17, where he received a first-class BA (Hons.) degree in physics. He began his graduate work at Trinity Hall, Cambridge, in October 1962, where he obtained his PhD degree in applied mathematics and theoretical physics, specialising in general relativity and cosmology in March 1966. \n",
        "\n",
        "In 1963, Hawking was diagnosed with an early-onset slow-progressing form of motor neurone disease that gradually paralysed him over the decades.[20][21] After the loss of his speech, he communicated through a speech-generating device initially through use of a handheld switch, and eventually by using a single cheek muscle. Hawking achieved commercial success with several works of popular science in which he discussed his theories and cosmology in general. His book A Brief History of Time appeared on the Sunday Times bestseller list for a record-breaking 237 weeks. Hawking was a Fellow of the Royal Society, a lifetime member of the Pontifical Academy of Sciences, and a recipient of the Presidential Medal of Freedom, the highest civilian award in the United States. In 2002, Hawking was ranked number 25 in the BBC's poll of the 100 Greatest Britons. He died on 14 March 2018 at the age of 76, after living with motor neurone disease for more than 50 years."
      ]
    },
    {
      "cell_type": "code",
      "metadata": {
        "id": "qtcNgtFOC1Hl",
        "colab": {
          "base_uri": "https://localhost:8080/"
        },
        "outputId": "5466fa20-0337-4321-84c3-d5423fe9dadb"
      },
      "source": [
        "import textwrap\n",
        "from textwrap import wrap\n",
        "wrapper = textwrap.TextWrapper(width=70) # ancho del texto a despegar.\n",
        "#texto = \"Hawking was born in Oxford into a family of doctors. He began his university education at University College, Oxford, in October 1959 at the age of 17, where he received a first-class BA (Hons.) degree in physics. He began his graduate work at Trinity Hall, Cambridge, in October 1962, where he obtained his PhD degree in applied mathematics and theoretical physics, specialising in general relativity and cosmology in March 1966. In 1963, Hawking was diagnosed with an early-onset slow-progressing form of motor neurone disease that gradually paralysed him over the decades.[20][21] After the loss of his speech, he communicated through a speech-generating device initially through use of a handheld switch, and eventually by using a single cheek muscle. Hawking achieved commercial success with several works of popular science in which he discussed his theories and cosmology in general. His book A Brief History of Time appeared on the Sunday Times bestseller list for a record-breaking 237 weeks. Hawking was a Fellow of the Royal Society, a lifetime member of the Pontifical Academy of Sciences, and a recipient of the Presidential Medal of Freedom, the highest civilian award in the United States. In 2002, Hawking was ranked number 25 in the BBC's poll of the 100 Greatest Britons. He died on 14 March 2018 at the age of 76, after living with motor neurone disease for more than 50 years.\"\n",
        "texto = \"In 1963, Hawking was diagnosed with an early-onset slow-progressing form of motor neurone disease that gradually paralysed him over the decades.[20][21] After the loss of his speech, he communicated through a speech-generating device initially through use of a handheld switch, and eventually by using a single cheek muscle. Hawking achieved commercial success with several works of popular science in which he discussed his theories and cosmology in general. His book A Brief History of Time appeared on the Sunday Times bestseller list for a record-breaking 237 weeks. Hawking was a Fellow of the Royal Society, a lifetime member of the Pontifical Academy of Sciences, and a recipient of the Presidential Medal of Freedom, the highest civilian award in the United States.\"\n",
        "print(wrapper.fill(texto)) #  "
      ],
      "execution_count": null,
      "outputs": [
        {
          "output_type": "stream",
          "text": [
            "In 1963, Hawking was diagnosed with an early-onset slow-progressing\n",
            "form of motor neurone disease that gradually paralysed him over the\n",
            "decades.[20][21] After the loss of his speech, he communicated through\n",
            "a speech-generating device initially through use of a handheld switch,\n",
            "and eventually by using a single cheek muscle. Hawking achieved\n",
            "commercial success with several works of popular science in which he\n",
            "discussed his theories and cosmology in general. His book A Brief\n",
            "History of Time appeared on the Sunday Times bestseller list for a\n",
            "record-breaking 237 weeks. Hawking was a Fellow of the Royal Society,\n",
            "a lifetime member of the Pontifical Academy of Sciences, and a\n",
            "recipient of the Presidential Medal of Freedom, the highest civilian\n",
            "award in the United States.\n"
          ],
          "name": "stdout"
        }
      ]
    },
    {
      "cell_type": "code",
      "metadata": {
        "id": "0lux8K_UDKf9"
      },
      "source": [
        "question = \"what disease did Hawking have?\"\n",
        "\n",
        "#question = \"How did Hawking talk?\"\n",
        "#question = \"What is the title of his best-seller?\""
      ],
      "execution_count": null,
      "outputs": []
    },
    {
      "cell_type": "code",
      "metadata": {
        "id": "tYoX33CfKGsr",
        "colab": {
          "base_uri": "https://localhost:8080/"
        },
        "outputId": "207d985b-762f-4667-dc8a-37ca8daad9bd"
      },
      "source": [
        "# Apply the tokenizer to the input text, treating them as a text-pair.\n",
        "input_ids = tokenizer.encode(question, texto)\n",
        "print('The input has a total of {:} tokens.'.format(len(input_ids)))"
      ],
      "execution_count": null,
      "outputs": [
        {
          "output_type": "stream",
          "text": [
            "The input has a total of 165 tokens.\n"
          ],
          "name": "stdout"
        }
      ]
    },
    {
      "cell_type": "code",
      "metadata": {
        "id": "Iow838yPNDTv",
        "colab": {
          "base_uri": "https://localhost:8080/"
        },
        "outputId": "e86c971e-6438-4f34-e6b1-100c09577a53"
      },
      "source": [
        "# BERT only needs the token IDs, but for the purpose of inspecting the \n",
        "# tokenizer's behavior, let's also get the token strings and display them.\n",
        "tokens = tokenizer.convert_ids_to_tokens(input_ids)\n",
        "\n",
        "# For each token and its id...\n",
        "for token, id in zip(tokens, input_ids):\n",
        "    \n",
        "    # If this is the [SEP] token, add some space around it to make it stand out.\n",
        "    if id == tokenizer.sep_token_id:\n",
        "        print('')\n",
        "    \n",
        "    # Print the token string and its ID in two columns.\n",
        "    print('{:<12} {:>6,}'.format(token, id))\n",
        "\n",
        "    if id == tokenizer.sep_token_id:\n",
        "        print('')\n",
        "    "
      ],
      "execution_count": null,
      "outputs": [
        {
          "output_type": "stream",
          "text": [
            "[CLS]           101\n",
            "what          2,054\n",
            "disease       4,295\n",
            "did           2,106\n",
            "hawk          9,881\n",
            "##ing         2,075\n",
            "have          2,031\n",
            "?             1,029\n",
            "\n",
            "[SEP]           102\n",
            "\n",
            "in            1,999\n",
            "1963          3,699\n",
            ",             1,010\n",
            "hawk          9,881\n",
            "##ing         2,075\n",
            "was           2,001\n",
            "diagnosed    11,441\n",
            "with          2,007\n",
            "an            2,019\n",
            "early         2,220\n",
            "-             1,011\n",
            "onset        14,447\n",
            "slow          4,030\n",
            "-             1,011\n",
            "progressing  27,673\n",
            "form          2,433\n",
            "of            1,997\n",
            "motor         5,013\n",
            "ne           11,265\n",
            "##uron       21,017\n",
            "##e           2,063\n",
            "disease       4,295\n",
            "that          2,008\n",
            "gradually     6,360\n",
            "para         11,498\n",
            "##ly          2,135\n",
            "##sed         6,924\n",
            "him           2,032\n",
            "over          2,058\n",
            "the           1,996\n",
            "decades       5,109\n",
            ".             1,012\n",
            "[             1,031\n",
            "20            2,322\n",
            "]             1,033\n",
            "[             1,031\n",
            "21            2,538\n",
            "]             1,033\n",
            "after         2,044\n",
            "the           1,996\n",
            "loss          3,279\n",
            "of            1,997\n",
            "his           2,010\n",
            "speech        4,613\n",
            ",             1,010\n",
            "he            2,002\n",
            "communicated 24,162\n",
            "through       2,083\n",
            "a             1,037\n",
            "speech        4,613\n",
            "-             1,011\n",
            "generating   11,717\n",
            "device        5,080\n",
            "initially     3,322\n",
            "through       2,083\n",
            "use           2,224\n",
            "of            1,997\n",
            "a             1,037\n",
            "handheld     27,291\n",
            "switch        6,942\n",
            ",             1,010\n",
            "and           1,998\n",
            "eventually    2,776\n",
            "by            2,011\n",
            "using         2,478\n",
            "a             1,037\n",
            "single        2,309\n",
            "cheek         5,048\n",
            "muscle        6,740\n",
            ".             1,012\n",
            "hawk          9,881\n",
            "##ing         2,075\n",
            "achieved      4,719\n",
            "commercial    3,293\n",
            "success       3,112\n",
            "with          2,007\n",
            "several       2,195\n",
            "works         2,573\n",
            "of            1,997\n",
            "popular       2,759\n",
            "science       2,671\n",
            "in            1,999\n",
            "which         2,029\n",
            "he            2,002\n",
            "discussed     6,936\n",
            "his           2,010\n",
            "theories      8,106\n",
            "and           1,998\n",
            "co            2,522\n",
            "##smo        25,855\n",
            "##logy        6,483\n",
            "in            1,999\n",
            "general       2,236\n",
            ".             1,012\n",
            "his           2,010\n",
            "book          2,338\n",
            "a             1,037\n",
            "brief         4,766\n",
            "history       2,381\n",
            "of            1,997\n",
            "time          2,051\n",
            "appeared      2,596\n",
            "on            2,006\n",
            "the           1,996\n",
            "sunday        4,465\n",
            "times         2,335\n",
            "bestseller   24,304\n",
            "list          2,862\n",
            "for           2,005\n",
            "a             1,037\n",
            "record        2,501\n",
            "-             1,011\n",
            "breaking      4,911\n",
            "237          23,297\n",
            "weeks         3,134\n",
            ".             1,012\n",
            "hawk          9,881\n",
            "##ing         2,075\n",
            "was           2,001\n",
            "a             1,037\n",
            "fellow        3,507\n",
            "of            1,997\n",
            "the           1,996\n",
            "royal         2,548\n",
            "society       2,554\n",
            ",             1,010\n",
            "a             1,037\n",
            "lifetime      6,480\n",
            "member        2,266\n",
            "of            1,997\n",
            "the           1,996\n",
            "pontifical   22,362\n",
            "academy       2,914\n",
            "of            1,997\n",
            "sciences      4,163\n",
            ",             1,010\n",
            "and           1,998\n",
            "a             1,037\n",
            "recipient     7,799\n",
            "of            1,997\n",
            "the           1,996\n",
            "presidential  4,883\n",
            "medal         3,101\n",
            "of            1,997\n",
            "freedom       4,071\n",
            ",             1,010\n",
            "the           1,996\n",
            "highest       3,284\n",
            "civilian      6,831\n",
            "award         2,400\n",
            "in            1,999\n",
            "the           1,996\n",
            "united        2,142\n",
            "states        2,163\n",
            ".             1,012\n",
            "\n",
            "[SEP]           102\n",
            "\n"
          ],
          "name": "stdout"
        }
      ]
    },
    {
      "cell_type": "code",
      "metadata": {
        "id": "uJ7PRx2dKqFN"
      },
      "source": [
        "# Search the input_ids for the first instance of the `[SEP]` token.\n",
        "sep_index = input_ids.index(tokenizer.sep_token_id)\n",
        "\n",
        "# The number of segment A tokens includes the [SEP] token istelf.\n",
        "num_seg_a = sep_index + 1\n",
        "\n",
        "# The remainder are segment B.\n",
        "num_seg_b = len(input_ids) - num_seg_a\n",
        "\n",
        "# Construct the list of 0s and 1s.\n",
        "segment_ids = [0]*num_seg_a + [1]*num_seg_b\n",
        "\n",
        "# There should be a segment_id for every input token.\n",
        "assert len(segment_ids) == len(input_ids)"
      ],
      "execution_count": null,
      "outputs": []
    },
    {
      "cell_type": "code",
      "metadata": {
        "id": "AymIov1_RrkU",
        "colab": {
          "base_uri": "https://localhost:8080/"
        },
        "outputId": "772520c6-6bc7-4b9a-c3de-43997959bed4"
      },
      "source": [
        "tf.convert_to_tensor([input_ids], np.int32) "
      ],
      "execution_count": null,
      "outputs": [
        {
          "output_type": "execute_result",
          "data": {
            "text/plain": [
              "<tf.Tensor: shape=(1, 165), dtype=int32, numpy=\n",
              "array([[  101,  2054,  4295,  2106,  9881,  2075,  2031,  1029,   102,\n",
              "         1999,  3699,  1010,  9881,  2075,  2001, 11441,  2007,  2019,\n",
              "         2220,  1011, 14447,  4030,  1011, 27673,  2433,  1997,  5013,\n",
              "        11265, 21017,  2063,  4295,  2008,  6360, 11498,  2135,  6924,\n",
              "         2032,  2058,  1996,  5109,  1012,  1031,  2322,  1033,  1031,\n",
              "         2538,  1033,  2044,  1996,  3279,  1997,  2010,  4613,  1010,\n",
              "         2002, 24162,  2083,  1037,  4613,  1011, 11717,  5080,  3322,\n",
              "         2083,  2224,  1997,  1037, 27291,  6942,  1010,  1998,  2776,\n",
              "         2011,  2478,  1037,  2309,  5048,  6740,  1012,  9881,  2075,\n",
              "         4719,  3293,  3112,  2007,  2195,  2573,  1997,  2759,  2671,\n",
              "         1999,  2029,  2002,  6936,  2010,  8106,  1998,  2522, 25855,\n",
              "         6483,  1999,  2236,  1012,  2010,  2338,  1037,  4766,  2381,\n",
              "         1997,  2051,  2596,  2006,  1996,  4465,  2335, 24304,  2862,\n",
              "         2005,  1037,  2501,  1011,  4911, 23297,  3134,  1012,  9881,\n",
              "         2075,  2001,  1037,  3507,  1997,  1996,  2548,  2554,  1010,\n",
              "         1037,  6480,  2266,  1997,  1996, 22362,  2914,  1997,  4163,\n",
              "         1010,  1998,  1037,  7799,  1997,  1996,  4883,  3101,  1997,\n",
              "         4071,  1010,  1996,  3284,  6831,  2400,  1999,  1996,  2142,\n",
              "         2163,  1012,   102]], dtype=int32)>"
            ]
          },
          "metadata": {
            "tags": []
          },
          "execution_count": 11
        }
      ]
    },
    {
      "cell_type": "code",
      "metadata": {
        "id": "DQiKr6Aw-YTg"
      },
      "source": [
        "outputs = model(tf.convert_to_tensor([input_ids], dtype=np.int32),\n",
        "                token_type_ids = tf.convert_to_tensor([segment_ids], dtype=np.int32) , \n",
        "                return_dict=True) \n",
        "\n",
        "start_scores = outputs.start_logits\n",
        "end_scores = outputs.end_logits\n"
      ],
      "execution_count": null,
      "outputs": []
    },
    {
      "cell_type": "code",
      "metadata": {
        "id": "Nag3SFRbK--t"
      },
      "source": [
        "#start_scores\n",
        "#end_scores"
      ],
      "execution_count": null,
      "outputs": []
    },
    {
      "cell_type": "code",
      "metadata": {
        "id": "22ICRRbhbL6h",
        "colab": {
          "base_uri": "https://localhost:8080/"
        },
        "outputId": "f596584a-21ee-403d-f87b-a78bbcd7b5c6"
      },
      "source": [
        "start_scores   # EagerTensor"
      ],
      "execution_count": null,
      "outputs": [
        {
          "output_type": "execute_result",
          "data": {
            "text/plain": [
              "<tf.Tensor: shape=(1, 165), dtype=float32, numpy=\n",
              "array([[-6.2626867 , -5.9610276 , -8.7120285 , -8.183073  , -8.226184  ,\n",
              "        -8.46534   , -7.8794847 , -9.3396    , -6.2626634 , -2.1222382 ,\n",
              "        -1.591621  , -5.3977404 , -3.0311382 , -6.376551  , -4.5583696 ,\n",
              "        -1.2183233 , -1.8743906 ,  2.4016147 ,  0.91241074, -5.5248923 ,\n",
              "        -2.8237574 ,  0.71562743, -5.5171885 , -2.6439428 , -0.03564049,\n",
              "        -0.5422588 ,  7.8763447 ,  1.243043  , -2.5391746 , -3.9831192 ,\n",
              "        -1.640624  , -4.855041  , -2.006375  , -1.7772392 , -6.2545953 ,\n",
              "        -7.344989  , -6.2616296 , -7.951708  , -8.485719  , -6.3239107 ,\n",
              "        -6.1802373 , -5.9092383 , -7.913073  , -8.608691  , -6.3578253 ,\n",
              "        -7.917977  , -9.093451  , -6.770251  , -7.2868047 , -4.588232  ,\n",
              "        -8.722131  , -6.7075477 , -4.3989043 , -8.2336445 , -6.3930483 ,\n",
              "        -7.047849  , -8.619581  , -8.470962  , -5.3640046 , -8.377108  ,\n",
              "        -8.044266  , -8.166467  , -7.761246  , -8.703542  , -8.2493    ,\n",
              "        -9.141938  , -8.653294  , -7.8079348 , -8.0875225 , -8.8769655 ,\n",
              "        -8.878064  , -7.979532  , -8.526717  , -8.131694  , -8.3428955 ,\n",
              "        -7.8048587 , -7.5327    , -7.383142  , -8.300038  , -6.4881015 ,\n",
              "        -8.690159  , -7.7035203 , -7.8102307 , -7.7152786 , -8.730062  ,\n",
              "        -8.028793  , -7.946587  , -8.881456  , -7.9111857 , -7.56589   ,\n",
              "        -8.686422  , -8.8424425 , -8.208958  , -7.9373937 , -8.079182  ,\n",
              "        -7.3000045 , -8.98763   , -7.778272  , -8.399698  , -8.541561  ,\n",
              "        -8.899644  , -8.576759  , -8.15648   , -6.7498007 , -6.657687  ,\n",
              "        -5.6280694 , -7.343888  , -7.5456133 , -8.475693  , -7.7550225 ,\n",
              "        -7.6455283 , -8.349556  , -8.280806  , -6.617247  , -7.9983425 ,\n",
              "        -7.344718  , -8.194378  , -8.482746  , -8.464113  , -8.14813   ,\n",
              "        -8.845925  , -8.574668  , -7.2983646 , -7.8392773 , -8.261499  ,\n",
              "        -5.933227  , -8.8690815 , -8.199647  , -8.281127  , -6.8702536 ,\n",
              "        -8.772329  , -8.462066  , -6.5841737 , -7.4969835 , -8.805761  ,\n",
              "        -7.8495708 , -7.64151   , -8.00826   , -8.792296  , -8.282523  ,\n",
              "        -6.9274807 , -7.858225  , -8.894344  , -7.3996716 , -8.290701  ,\n",
              "        -8.492117  , -7.999104  , -7.8924165 , -9.077639  , -8.529173  ,\n",
              "        -6.9815183 , -8.363627  , -9.062804  , -8.006691  , -9.109782  ,\n",
              "        -8.618653  , -8.571309  , -8.532804  , -8.74314   , -9.132942  ,\n",
              "        -8.98608   , -8.724686  , -8.688034  , -9.188943  , -6.2626934 ]],\n",
              "      dtype=float32)>"
            ]
          },
          "metadata": {
            "tags": []
          },
          "execution_count": 14
        }
      ]
    },
    {
      "cell_type": "code",
      "metadata": {
        "id": "FLTyq9uzarOZ",
        "colab": {
          "base_uri": "https://localhost:8080/"
        },
        "outputId": "1ec85607-fe39-4c43-de28-439c7816a42a"
      },
      "source": [
        "start_scores.shape"
      ],
      "execution_count": null,
      "outputs": [
        {
          "output_type": "execute_result",
          "data": {
            "text/plain": [
              "TensorShape([1, 165])"
            ]
          },
          "metadata": {
            "tags": []
          },
          "execution_count": 15
        }
      ]
    },
    {
      "cell_type": "code",
      "metadata": {
        "id": "LqLsLZQ5eI2y",
        "colab": {
          "base_uri": "https://localhost:8080/"
        },
        "outputId": "8f892722-2269-493a-bea0-bf63171f42df"
      },
      "source": [
        "tokens"
      ],
      "execution_count": null,
      "outputs": [
        {
          "output_type": "execute_result",
          "data": {
            "text/plain": [
              "['[CLS]',\n",
              " 'what',\n",
              " 'disease',\n",
              " 'did',\n",
              " 'hawk',\n",
              " '##ing',\n",
              " 'have',\n",
              " '?',\n",
              " '[SEP]',\n",
              " 'in',\n",
              " '1963',\n",
              " ',',\n",
              " 'hawk',\n",
              " '##ing',\n",
              " 'was',\n",
              " 'diagnosed',\n",
              " 'with',\n",
              " 'an',\n",
              " 'early',\n",
              " '-',\n",
              " 'onset',\n",
              " 'slow',\n",
              " '-',\n",
              " 'progressing',\n",
              " 'form',\n",
              " 'of',\n",
              " 'motor',\n",
              " 'ne',\n",
              " '##uron',\n",
              " '##e',\n",
              " 'disease',\n",
              " 'that',\n",
              " 'gradually',\n",
              " 'para',\n",
              " '##ly',\n",
              " '##sed',\n",
              " 'him',\n",
              " 'over',\n",
              " 'the',\n",
              " 'decades',\n",
              " '.',\n",
              " '[',\n",
              " '20',\n",
              " ']',\n",
              " '[',\n",
              " '21',\n",
              " ']',\n",
              " 'after',\n",
              " 'the',\n",
              " 'loss',\n",
              " 'of',\n",
              " 'his',\n",
              " 'speech',\n",
              " ',',\n",
              " 'he',\n",
              " 'communicated',\n",
              " 'through',\n",
              " 'a',\n",
              " 'speech',\n",
              " '-',\n",
              " 'generating',\n",
              " 'device',\n",
              " 'initially',\n",
              " 'through',\n",
              " 'use',\n",
              " 'of',\n",
              " 'a',\n",
              " 'handheld',\n",
              " 'switch',\n",
              " ',',\n",
              " 'and',\n",
              " 'eventually',\n",
              " 'by',\n",
              " 'using',\n",
              " 'a',\n",
              " 'single',\n",
              " 'cheek',\n",
              " 'muscle',\n",
              " '.',\n",
              " 'hawk',\n",
              " '##ing',\n",
              " 'achieved',\n",
              " 'commercial',\n",
              " 'success',\n",
              " 'with',\n",
              " 'several',\n",
              " 'works',\n",
              " 'of',\n",
              " 'popular',\n",
              " 'science',\n",
              " 'in',\n",
              " 'which',\n",
              " 'he',\n",
              " 'discussed',\n",
              " 'his',\n",
              " 'theories',\n",
              " 'and',\n",
              " 'co',\n",
              " '##smo',\n",
              " '##logy',\n",
              " 'in',\n",
              " 'general',\n",
              " '.',\n",
              " 'his',\n",
              " 'book',\n",
              " 'a',\n",
              " 'brief',\n",
              " 'history',\n",
              " 'of',\n",
              " 'time',\n",
              " 'appeared',\n",
              " 'on',\n",
              " 'the',\n",
              " 'sunday',\n",
              " 'times',\n",
              " 'bestseller',\n",
              " 'list',\n",
              " 'for',\n",
              " 'a',\n",
              " 'record',\n",
              " '-',\n",
              " 'breaking',\n",
              " '237',\n",
              " 'weeks',\n",
              " '.',\n",
              " 'hawk',\n",
              " '##ing',\n",
              " 'was',\n",
              " 'a',\n",
              " 'fellow',\n",
              " 'of',\n",
              " 'the',\n",
              " 'royal',\n",
              " 'society',\n",
              " ',',\n",
              " 'a',\n",
              " 'lifetime',\n",
              " 'member',\n",
              " 'of',\n",
              " 'the',\n",
              " 'pontifical',\n",
              " 'academy',\n",
              " 'of',\n",
              " 'sciences',\n",
              " ',',\n",
              " 'and',\n",
              " 'a',\n",
              " 'recipient',\n",
              " 'of',\n",
              " 'the',\n",
              " 'presidential',\n",
              " 'medal',\n",
              " 'of',\n",
              " 'freedom',\n",
              " ',',\n",
              " 'the',\n",
              " 'highest',\n",
              " 'civilian',\n",
              " 'award',\n",
              " 'in',\n",
              " 'the',\n",
              " 'united',\n",
              " 'states',\n",
              " '.',\n",
              " '[SEP]']"
            ]
          },
          "metadata": {
            "tags": []
          },
          "execution_count": 16
        }
      ]
    },
    {
      "cell_type": "code",
      "metadata": {
        "id": "oIkQK7DdbI7h"
      },
      "source": [
        "#tf.argmax(start_scores, axis=1)[0]"
      ],
      "execution_count": null,
      "outputs": []
    },
    {
      "cell_type": "code",
      "metadata": {
        "id": "LeUQ44hAJmn9",
        "colab": {
          "base_uri": "https://localhost:8080/"
        },
        "outputId": "311b0a38-d107-439f-85b9-3bd16b0c1a7d"
      },
      "source": [
        "# Find the tokens with the highest `start` and `end` scores.\n",
        "\n",
        "answer_start = tf.argmax(start_scores, axis=1)\n",
        "answer_end = tf.argmax(end_scores, axis=1)\n",
        "\n",
        "answer = ' '.join(tokens[answer_start[0]:answer_end[0]+1])\n",
        "\n",
        "print('Answer: \"' + answer + '\"')"
      ],
      "execution_count": null,
      "outputs": [
        {
          "output_type": "stream",
          "text": [
            "Answer: \"motor ne ##uron ##e disease\"\n"
          ],
          "name": "stdout"
        }
      ]
    },
    {
      "cell_type": "code",
      "metadata": {
        "id": "Khral6HZXCuI",
        "colab": {
          "base_uri": "https://localhost:8080/"
        },
        "outputId": "5fec6220-0d59-4101-f1e9-fea80f548922"
      },
      "source": [
        "# Start with the first token.\n",
        "answer = tokens[answer_start[0]]\n",
        "\n",
        "# Select the remaining answer tokens and join them with whitespace.\n",
        "for i in range(answer_start[0] + 1, answer_end[0] + 1):\n",
        "    \n",
        "    # If it's a subword token, then recombine it with the previous token.\n",
        "    if tokens[i][0:2] == '##':\n",
        "        answer += tokens[i][2:]\n",
        "    \n",
        "    # Otherwise, add a space then the token.\n",
        "    else:\n",
        "        answer += ' ' + tokens[i]\n",
        "\n",
        "print('Answer: \"' + answer + '\"')"
      ],
      "execution_count": null,
      "outputs": [
        {
          "output_type": "stream",
          "text": [
            "Answer: \"motor neurone disease\"\n"
          ],
          "name": "stdout"
        }
      ]
    },
    {
      "cell_type": "markdown",
      "metadata": {
        "id": "-hh6nkIdXq-O"
      },
      "source": [
        "Veamos la salida probabilística de cada palabra"
      ]
    },
    {
      "cell_type": "code",
      "metadata": {
        "id": "gkKFa73eJkPE"
      },
      "source": [
        "import matplotlib.pyplot as plt\n",
        "import seaborn as sns\n",
        "\n",
        "sns.set(style='darkgrid')\n",
        "\n",
        "#sns.set(font_scale=1.5)\n",
        "plt.rcParams[\"figure.figsize\"] = (32,8)"
      ],
      "execution_count": null,
      "outputs": []
    },
    {
      "cell_type": "code",
      "metadata": {
        "id": "C56AtMg2UBxN"
      },
      "source": [
        "s_scores = start_scores.numpy()\n",
        "e_scores = end_scores.numpy()\n",
        "\n",
        "# tokens identificados de manera única en el eje-x\n",
        "token_labels = []\n",
        "for (i, token) in enumerate(tokens):\n",
        "    token_labels.append('{:} - {:>2}'.format(token, i))\n"
      ],
      "execution_count": null,
      "outputs": []
    },
    {
      "cell_type": "code",
      "metadata": {
        "id": "y6OAV1dL3-UB",
        "colab": {
          "base_uri": "https://localhost:8080/",
          "height": 433
        },
        "outputId": "6349b9e8-a137-4fcc-9520-1915581e0684"
      },
      "source": [
        "ax = sns.barplot(x=token_labels, y=np.squeeze(s_scores), ci=None)\n",
        "ax.set_xticklabels(ax.get_xticklabels(), rotation=90, ha=\"center\")\n",
        "ax.grid(True)\n",
        "plt.title('Start_Word scores')\n",
        "\n",
        "plt.show()"
      ],
      "execution_count": null,
      "outputs": [
        {
          "output_type": "display_data",
          "data": {
            "image/png": "[encoded data removed]",
            "text/plain": [
              "<Figure size 2304x576 with 1 Axes>"
            ]
          },
          "metadata": {
            "tags": []
          }
        }
      ]
    },
    {
      "cell_type": "code",
      "metadata": {
        "id": "6tXEqIp-Tzou",
        "colab": {
          "base_uri": "https://localhost:8080/",
          "height": 437
        },
        "outputId": "65245fd1-38a1-4365-ea67-77f1daa2888d"
      },
      "source": [
        "ax = sns.barplot(x=token_labels, y=np.squeeze(e_scores), ci=None)\n",
        "ax.set_xticklabels(ax.get_xticklabels(), rotation=90, ha=\"center\")\n",
        "ax.grid(True)\n",
        "plt.title('End_Word scores')\n",
        "\n",
        "plt.show()"
      ],
      "execution_count": null,
      "outputs": [
        {
          "output_type": "display_data",
          "data": {
            "image/png": "[encoded data removed]",
            "text/plain": [
              "<Figure size 2304x576 with 1 Axes>"
            ]
          },
          "metadata": {
            "tags": []
          }
        }
      ]
    }
  ]
}