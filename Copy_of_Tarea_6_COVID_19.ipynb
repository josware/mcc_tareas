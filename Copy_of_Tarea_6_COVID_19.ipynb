{
  "nbformat": 4,
  "nbformat_minor": 0,
  "metadata": {
    "colab": {
      "name": "Copy of Tarea 6: COVID-19.ipynb",
      "provenance": [],
      "collapsed_sections": [],
      "toc_visible": true,
      "include_colab_link": true
    },
    "kernelspec": {
      "name": "python3",
      "display_name": "Python 3"
    },
    "accelerator": "GPU"
  },
  "cells": [
    {
      "cell_type": "markdown",
      "metadata": {
        "id": "view-in-github",
        "colab_type": "text"
      },
      "source": [
        "<a href=\"https://colab.research.google.com/github/josware/mcc_tareas/blob/master/Copy_of_Tarea_6_COVID_19.ipynb\" target=\"_parent\"><img src=\"https://colab.research.google.com/assets/colab-badge.svg\" alt=\"Open In Colab\"/></a>"
      ]
    },
    {
      "cell_type": "markdown",
      "metadata": {
        "id": "vz6BcdYhgy24"
      },
      "source": [
        "# **Sistemas Inteligencia Artificial: Deep Learning**\n",
        "## **Tarea 6 Covid-19: Comparacióón de Modelos**\n",
        "\n",
        "---\n",
        "#### A00354512 Josue Emanuel Gómez Carrillo\n",
        "#### A00540988 Luis Francisco González Rodríguez\n",
        "#### A00354860 Anna Karen Casillas Garcia\n",
        "---"
      ]
    },
    {
      "cell_type": "markdown",
      "metadata": {
        "id": "jK2SMpDVzbtd"
      },
      "source": [
        "# 1. El presente ejercicio está basado en el siguiente artículo: https://www.frontiersin.org/articles/10.3389/fpubh.2020.00357/full El objetivo es determinar si una fallece o no a partir de un historial clínico. Utiliza en esta tarea el archivo “train.csv” que encontrarás en el repositorio GitHub dado en el artículo. Los autores separaron previamente en dicho archivo los datos cuya variable de salida “death” no tiene un valor nulo."
      ]
    },
    {
      "cell_type": "code",
      "metadata": {
        "id": "Tb5RSOoWrr3n",
        "outputId": "2408fda3-ac4c-4ca0-9c86-20af10fd7ab0",
        "colab": {
          "base_uri": "https://localhost:8080/"
        }
      },
      "source": [
        "import numpy as np    # biblioteca para el manejo de vectores y matrices en python.\n",
        "import pandas as pd   # biblioteca para el manejo de datos y tablas.\n",
        "import matplotlib.pyplot as plt   # biblioteca para visualización de datos.\n",
        "import datetime as dt\n",
        "import sklearn\n",
        "from scipy import stats\n",
        "from sklearn import preprocessing\n",
        "from sklearn.model_selection import GridSearchCV\n",
        "from sklearn.linear_model import LogisticRegression\n",
        "from sklearn.naive_bayes import GaussianNB\n",
        "from sklearn.svm import SVC\n",
        "from sklearn.model_selection import RandomizedSearchCV\n",
        "from sklearn.tree import DecisionTreeClassifier\n",
        "from sklearn.ensemble import RandomForestClassifier\n",
        "from sklearn.ensemble import AdaBoostClassifier\n",
        "from sklearn.model_selection import train_test_split\n",
        "from sklearn.metrics import recall_score as rs\n",
        "from sklearn.metrics import precision_score as ps\n",
        "from sklearn.metrics import f1_score as fs\n",
        "from sklearn.metrics import log_loss\n",
        "from sklearn.metrics import recall_score as rs\n",
        "from sklearn.metrics import precision_score as ps\n",
        "from sklearn.metrics import f1_score as fs\n",
        "from sklearn.metrics import balanced_accuracy_score as bas\n",
        "from sklearn.metrics import confusion_matrix as cm\n",
        "from sklearn.metrics import make_scorer, roc_auc_score, accuracy_score\n",
        "\n",
        "encoder = preprocessing.LabelEncoder()\n",
        "\n",
        "#Descargar Datasets\n",
        "#!curl -O https://raw.githubusercontent.com/Atharva-Peshkar/Covid-19-Patient-Health-Analytics/archive/master.zip\n",
        "!curl -O https://raw.githubusercontent.com/Fragonz/MCC/master/Tarea6-Covid_SisInt/train.csv\n",
        "\n",
        "#path_project_zip = \"/content/master.zip\"\n",
        "path_train = \"/content/train.csv\"\n",
        "\n",
        "#with zip.ZipFile(path_project_zip,\"r\") as zip_ref:\n",
        "#  zip_ref.extractall()"
      ],
      "execution_count": null,
      "outputs": [
        {
          "output_type": "stream",
          "text": [
            "  % Total    % Received % Xferd  Average Speed   Time    Time     Time  Current\n",
            "                                 Dload  Upload   Total   Spent    Left  Speed\n",
            "\r  0     0    0     0    0     0      0      0 --:--:-- --:--:-- --:--:--     0\r100 15940  100 15940    0     0   235k      0 --:--:-- --:--:-- --:--:--  235k\n"
          ],
          "name": "stdout"
        }
      ]
    },
    {
      "cell_type": "code",
      "metadata": {
        "id": "WzIjo4xLsBgj"
      },
      "source": [
        "# Carga de Data sets\n",
        "ds_train = pd.read_csv(path_train)\n"
      ],
      "execution_count": null,
      "outputs": []
    },
    {
      "cell_type": "markdown",
      "metadata": {
        "id": "ubL87o9ng9np"
      },
      "source": [
        "## **A) Realiza un análisis descriptivo y gráfico de los datos.**\n",
        "\n"
      ]
    },
    {
      "cell_type": "markdown",
      "metadata": {
        "id": "fmNhfVtq5ODn"
      },
      "source": [
        "Iniciamos con la Tabla 1 original que resume el contenido de los features en Inglés; para conveiencia y consitencia un resumen en español\n",
        "\n",
        "*   id - id del Paciente\n",
        "*   location - Ubicación del paciente\n",
        "*   country - País de procedencia\n",
        "*   gender - Genero del paciente\n",
        "*   age - Edad del paciente\n",
        "*   sym_on - Inicio de sintomas del paciente\n",
        "*   hosp_vis - Fecha de visita al hospial del paciente\n",
        "*   vis_wuhan - Si el paciente visitó Wuhan\n",
        "*   from_wuhan - Es el paciente de Wuhan\n",
        "*   death - El paciente murió a causa de Covid 19\n",
        "*   recov - El paciente se recuperó de Covid 19\n",
        "*   symptom1 - Indice de sintomas del 1 - 6\n",
        "*   symptom2 - Indice de sintomas del 1 - 6\n",
        "*   symptom3 - Indice de sintomas del 1 - 6\n",
        "*   symptom4 - Indice de sintomas del 1 - 6\n",
        "*   symptom5 - Indice de sintomas del 1 - 6\n",
        "*   symptom6 - Indice de sintomas del 1 - 6"
      ]
    },
    {
      "cell_type": "markdown",
      "metadata": {
        "id": "DUc0IcXX5Hrk"
      },
      "source": [
        "![image.png](data:image/png;base64,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)"
      ]
    },
    {
      "cell_type": "code",
      "metadata": {
        "id": "IrCbvOss0Dm_",
        "outputId": "2165d4ee-113d-4bcb-c6ad-28550de5b26d",
        "colab": {
          "base_uri": "https://localhost:8080/"
        }
      },
      "source": [
        "# Tamaño de Data Set\n",
        "ds_train.shape"
      ],
      "execution_count": null,
      "outputs": [
        {
          "output_type": "execute_result",
          "data": {
            "text/plain": [
              "(222, 16)"
            ]
          },
          "metadata": {
            "tags": []
          },
          "execution_count": 3
        }
      ]
    },
    {
      "cell_type": "code",
      "metadata": {
        "id": "JwZizwwyzGD5",
        "outputId": "658c7163-f718-4a95-ebba-948c1a45de22",
        "colab": {
          "base_uri": "https://localhost:8080/",
          "height": 309
        }
      },
      "source": [
        "ds_train.head()"
      ],
      "execution_count": null,
      "outputs": [
        {
          "output_type": "execute_result",
          "data": {
            "text/html": [
              "<div>\n",
              "<style scoped>\n",
              "    .dataframe tbody tr th:only-of-type {\n",
              "        vertical-align: middle;\n",
              "    }\n",
              "\n",
              "    .dataframe tbody tr th {\n",
              "        vertical-align: top;\n",
              "    }\n",
              "\n",
              "    .dataframe thead th {\n",
              "        text-align: right;\n",
              "    }\n",
              "</style>\n",
              "<table border=\"1\" class=\"dataframe\">\n",
              "  <thead>\n",
              "    <tr style=\"text-align: right;\">\n",
              "      <th></th>\n",
              "      <th>id</th>\n",
              "      <th>location</th>\n",
              "      <th>country</th>\n",
              "      <th>gender</th>\n",
              "      <th>age</th>\n",
              "      <th>sym_on</th>\n",
              "      <th>hosp_vis</th>\n",
              "      <th>vis_wuhan</th>\n",
              "      <th>from_wuhan</th>\n",
              "      <th>death</th>\n",
              "      <th>symptom1</th>\n",
              "      <th>symptom2</th>\n",
              "      <th>symptom3</th>\n",
              "      <th>symptom4</th>\n",
              "      <th>symptom5</th>\n",
              "      <th>symptom6</th>\n",
              "    </tr>\n",
              "  </thead>\n",
              "  <tbody>\n",
              "    <tr>\n",
              "      <th>0</th>\n",
              "      <td>49</td>\n",
              "      <td>Wuhan, Hubei</td>\n",
              "      <td>China</td>\n",
              "      <td>male</td>\n",
              "      <td>61.0</td>\n",
              "      <td>12/20/2019</td>\n",
              "      <td>12/27/2019</td>\n",
              "      <td>0</td>\n",
              "      <td>1</td>\n",
              "      <td>1</td>\n",
              "      <td>NaN</td>\n",
              "      <td>NaN</td>\n",
              "      <td>NaN</td>\n",
              "      <td>NaN</td>\n",
              "      <td>NaN</td>\n",
              "      <td>NaN</td>\n",
              "    </tr>\n",
              "    <tr>\n",
              "      <th>1</th>\n",
              "      <td>50</td>\n",
              "      <td>Wuhan, Hubei</td>\n",
              "      <td>China</td>\n",
              "      <td>male</td>\n",
              "      <td>69.0</td>\n",
              "      <td>12/30/2019</td>\n",
              "      <td>1/3/2020</td>\n",
              "      <td>0</td>\n",
              "      <td>1</td>\n",
              "      <td>1</td>\n",
              "      <td>NaN</td>\n",
              "      <td>NaN</td>\n",
              "      <td>NaN</td>\n",
              "      <td>NaN</td>\n",
              "      <td>NaN</td>\n",
              "      <td>NaN</td>\n",
              "    </tr>\n",
              "    <tr>\n",
              "      <th>2</th>\n",
              "      <td>51</td>\n",
              "      <td>Wuhan, Hubei</td>\n",
              "      <td>China</td>\n",
              "      <td>male</td>\n",
              "      <td>89.0</td>\n",
              "      <td>NaN</td>\n",
              "      <td>NaN</td>\n",
              "      <td>0</td>\n",
              "      <td>1</td>\n",
              "      <td>1</td>\n",
              "      <td>NaN</td>\n",
              "      <td>NaN</td>\n",
              "      <td>NaN</td>\n",
              "      <td>NaN</td>\n",
              "      <td>NaN</td>\n",
              "      <td>NaN</td>\n",
              "    </tr>\n",
              "    <tr>\n",
              "      <th>3</th>\n",
              "      <td>52</td>\n",
              "      <td>Wuhan, Hubei</td>\n",
              "      <td>China</td>\n",
              "      <td>male</td>\n",
              "      <td>89.0</td>\n",
              "      <td>1/13/2020</td>\n",
              "      <td>1/13/2020</td>\n",
              "      <td>0</td>\n",
              "      <td>1</td>\n",
              "      <td>1</td>\n",
              "      <td>NaN</td>\n",
              "      <td>NaN</td>\n",
              "      <td>NaN</td>\n",
              "      <td>NaN</td>\n",
              "      <td>NaN</td>\n",
              "      <td>NaN</td>\n",
              "    </tr>\n",
              "    <tr>\n",
              "      <th>4</th>\n",
              "      <td>53</td>\n",
              "      <td>Wuhan, Hubei</td>\n",
              "      <td>China</td>\n",
              "      <td>male</td>\n",
              "      <td>66.0</td>\n",
              "      <td>1/10/2020</td>\n",
              "      <td>1/16/2020</td>\n",
              "      <td>0</td>\n",
              "      <td>1</td>\n",
              "      <td>1</td>\n",
              "      <td>NaN</td>\n",
              "      <td>NaN</td>\n",
              "      <td>NaN</td>\n",
              "      <td>NaN</td>\n",
              "      <td>NaN</td>\n",
              "      <td>NaN</td>\n",
              "    </tr>\n",
              "  </tbody>\n",
              "</table>\n",
              "</div>"
            ],
            "text/plain": [
              "   id      location country gender  ...  symptom3 symptom4 symptom5  symptom6\n",
              "0  49  Wuhan, Hubei   China   male  ...       NaN      NaN      NaN       NaN\n",
              "1  50  Wuhan, Hubei   China   male  ...       NaN      NaN      NaN       NaN\n",
              "2  51  Wuhan, Hubei   China   male  ...       NaN      NaN      NaN       NaN\n",
              "3  52  Wuhan, Hubei   China   male  ...       NaN      NaN      NaN       NaN\n",
              "4  53  Wuhan, Hubei   China   male  ...       NaN      NaN      NaN       NaN\n",
              "\n",
              "[5 rows x 16 columns]"
            ]
          },
          "metadata": {
            "tags": []
          },
          "execution_count": 4
        }
      ]
    },
    {
      "cell_type": "code",
      "metadata": {
        "id": "3YGsNIXIaZil",
        "outputId": "544da377-055e-4b15-8275-849e439201cb",
        "colab": {
          "base_uri": "https://localhost:8080/",
          "height": 297
        }
      },
      "source": [
        "ds_train.describe()"
      ],
      "execution_count": null,
      "outputs": [
        {
          "output_type": "execute_result",
          "data": {
            "text/html": [
              "<div>\n",
              "<style scoped>\n",
              "    .dataframe tbody tr th:only-of-type {\n",
              "        vertical-align: middle;\n",
              "    }\n",
              "\n",
              "    .dataframe tbody tr th {\n",
              "        vertical-align: top;\n",
              "    }\n",
              "\n",
              "    .dataframe thead th {\n",
              "        text-align: right;\n",
              "    }\n",
              "</style>\n",
              "<table border=\"1\" class=\"dataframe\">\n",
              "  <thead>\n",
              "    <tr style=\"text-align: right;\">\n",
              "      <th></th>\n",
              "      <th>id</th>\n",
              "      <th>age</th>\n",
              "      <th>vis_wuhan</th>\n",
              "      <th>from_wuhan</th>\n",
              "      <th>death</th>\n",
              "      <th>symptom4</th>\n",
              "      <th>symptom5</th>\n",
              "      <th>symptom6</th>\n",
              "    </tr>\n",
              "  </thead>\n",
              "  <tbody>\n",
              "    <tr>\n",
              "      <th>count</th>\n",
              "      <td>222.000000</td>\n",
              "      <td>203.000000</td>\n",
              "      <td>222.000000</td>\n",
              "      <td>222.000000</td>\n",
              "      <td>222.000000</td>\n",
              "      <td>0.0</td>\n",
              "      <td>0.0</td>\n",
              "      <td>0.0</td>\n",
              "    </tr>\n",
              "    <tr>\n",
              "      <th>mean</th>\n",
              "      <td>480.968468</td>\n",
              "      <td>49.747537</td>\n",
              "      <td>0.157658</td>\n",
              "      <td>0.283784</td>\n",
              "      <td>0.283784</td>\n",
              "      <td>NaN</td>\n",
              "      <td>NaN</td>\n",
              "      <td>NaN</td>\n",
              "    </tr>\n",
              "    <tr>\n",
              "      <th>std</th>\n",
              "      <td>262.073776</td>\n",
              "      <td>20.462520</td>\n",
              "      <td>0.365243</td>\n",
              "      <td>0.451852</td>\n",
              "      <td>0.451852</td>\n",
              "      <td>NaN</td>\n",
              "      <td>NaN</td>\n",
              "      <td>NaN</td>\n",
              "    </tr>\n",
              "    <tr>\n",
              "      <th>min</th>\n",
              "      <td>49.000000</td>\n",
              "      <td>0.250000</td>\n",
              "      <td>0.000000</td>\n",
              "      <td>0.000000</td>\n",
              "      <td>0.000000</td>\n",
              "      <td>NaN</td>\n",
              "      <td>NaN</td>\n",
              "      <td>NaN</td>\n",
              "    </tr>\n",
              "    <tr>\n",
              "      <th>25%</th>\n",
              "      <td>321.250000</td>\n",
              "      <td>35.500000</td>\n",
              "      <td>0.000000</td>\n",
              "      <td>0.000000</td>\n",
              "      <td>0.000000</td>\n",
              "      <td>NaN</td>\n",
              "      <td>NaN</td>\n",
              "      <td>NaN</td>\n",
              "    </tr>\n",
              "    <tr>\n",
              "      <th>50%</th>\n",
              "      <td>479.500000</td>\n",
              "      <td>51.000000</td>\n",
              "      <td>0.000000</td>\n",
              "      <td>0.000000</td>\n",
              "      <td>0.000000</td>\n",
              "      <td>NaN</td>\n",
              "      <td>NaN</td>\n",
              "      <td>NaN</td>\n",
              "    </tr>\n",
              "    <tr>\n",
              "      <th>75%</th>\n",
              "      <td>604.000000</td>\n",
              "      <td>65.000000</td>\n",
              "      <td>0.000000</td>\n",
              "      <td>1.000000</td>\n",
              "      <td>1.000000</td>\n",
              "      <td>NaN</td>\n",
              "      <td>NaN</td>\n",
              "      <td>NaN</td>\n",
              "    </tr>\n",
              "    <tr>\n",
              "      <th>max</th>\n",
              "      <td>1037.000000</td>\n",
              "      <td>89.000000</td>\n",
              "      <td>1.000000</td>\n",
              "      <td>1.000000</td>\n",
              "      <td>1.000000</td>\n",
              "      <td>NaN</td>\n",
              "      <td>NaN</td>\n",
              "      <td>NaN</td>\n",
              "    </tr>\n",
              "  </tbody>\n",
              "</table>\n",
              "</div>"
            ],
            "text/plain": [
              "                id         age   vis_wuhan  ...  symptom4  symptom5  symptom6\n",
              "count   222.000000  203.000000  222.000000  ...       0.0       0.0       0.0\n",
              "mean    480.968468   49.747537    0.157658  ...       NaN       NaN       NaN\n",
              "std     262.073776   20.462520    0.365243  ...       NaN       NaN       NaN\n",
              "min      49.000000    0.250000    0.000000  ...       NaN       NaN       NaN\n",
              "25%     321.250000   35.500000    0.000000  ...       NaN       NaN       NaN\n",
              "50%     479.500000   51.000000    0.000000  ...       NaN       NaN       NaN\n",
              "75%     604.000000   65.000000    0.000000  ...       NaN       NaN       NaN\n",
              "max    1037.000000   89.000000    1.000000  ...       NaN       NaN       NaN\n",
              "\n",
              "[8 rows x 8 columns]"
            ]
          },
          "metadata": {
            "tags": []
          },
          "execution_count": 5
        }
      ]
    },
    {
      "cell_type": "code",
      "metadata": {
        "id": "WdrhBZpf0B6s"
      },
      "source": [
        "ds_numeric = ds_train[[\"id\", \"age\", \"vis_wuhan\", \"from_wuhan\", \"death\"]]"
      ],
      "execution_count": null,
      "outputs": []
    },
    {
      "cell_type": "code",
      "metadata": {
        "id": "xMMnBiDscoUc",
        "outputId": "72c23b18-cd0d-483d-afa3-825e64b5084a",
        "colab": {
          "base_uri": "https://localhost:8080/",
          "height": 1000
        }
      },
      "source": [
        "import seaborn as sns\n",
        "def plotHist(strColumn=\"id\",iBins=10,colorIndex=0,dataframe=ds_numeric):\n",
        "  sns.set(rc={'figure.figsize':(8,6)})\n",
        "  plt.hist(np.array(dataframe[strColumn]), bins=iBins, color=cmap(colorIndex))\n",
        "  plt.title('Columna '+strColumn)\n",
        "  plt.show()\n",
        "\n",
        "def get_cmap(n, name='hsv'):\n",
        "    return plt.cm.get_cmap(name, n)\n",
        "\n",
        "iBins = [10,10,10,10,10]\n",
        "i = 0\n",
        "cmap = get_cmap(len(iBins))\n",
        "for s in ds_numeric.columns:\n",
        "  plotHist(s,iBins[i],i)\n",
        "  i += 1"
      ],
      "execution_count": null,
      "outputs": [
        {
          "output_type": "display_data",
          "data": {
            "image/png": "[encoded data removed]",
            "text/plain": [
              "<Figure size 576x432 with 1 Axes>"
            ]
          },
          "metadata": {
            "tags": []
          }
        },
        {
          "output_type": "stream",
          "text": [
            "/usr/local/lib/python3.6/dist-packages/numpy/lib/histograms.py:839: RuntimeWarning: invalid value encountered in greater_equal\n",
            "  keep = (tmp_a >= first_edge)\n",
            "/usr/local/lib/python3.6/dist-packages/numpy/lib/histograms.py:840: RuntimeWarning: invalid value encountered in less_equal\n",
            "  keep &= (tmp_a <= last_edge)\n"
          ],
          "name": "stderr"
        },
        {
          "output_type": "display_data",
          "data": {
            "image/png": "[encoded data removed]",
            "text/plain": [
              "<Figure size 576x432 with 1 Axes>"
            ]
          },
          "metadata": {
            "tags": []
          }
        },
        {
          "output_type": "display_data",
          "data": {
            "image/png": "[encoded data removed]",
            "text/plain": [
              "<Figure size 576x432 with 1 Axes>"
            ]
          },
          "metadata": {
            "tags": []
          }
        },
        {
          "output_type": "display_data",
          "data": {
            "image/png": "[encoded data removed]",
            "text/plain": [
              "<Figure size 576x432 with 1 Axes>"
            ]
          },
          "metadata": {
            "tags": []
          }
        },
        {
          "output_type": "display_data",
          "data": {
            "image/png": "[encoded data removed]",
            "text/plain": [
              "<Figure size 576x432 with 1 Axes>"
            ]
          },
          "metadata": {
            "tags": []
          }
        }
      ]
    },
    {
      "cell_type": "markdown",
      "metadata": {
        "id": "pUMxHnXhg9dx"
      },
      "source": [
        "## **B) Aplica el tratamiento a los datos con valores NA indicado por los autores. Indica el cada factor la cantidad de dichos datos perdidos.**"
      ]
    },
    {
      "cell_type": "code",
      "metadata": {
        "id": "FRSOx59pB7PH"
      },
      "source": [
        "ds_train = ds_train.fillna(np.nan,axis=0)"
      ],
      "execution_count": null,
      "outputs": []
    },
    {
      "cell_type": "code",
      "metadata": {
        "id": "V2yvmZ3eF1G8",
        "outputId": "a0d48849-472f-48b8-a6d0-be131033d4d8",
        "colab": {
          "base_uri": "https://localhost:8080/"
        }
      },
      "source": [
        "print(\"Number of Nans:\",ds_train.isna().sum())"
      ],
      "execution_count": null,
      "outputs": [
        {
          "output_type": "stream",
          "text": [
            "Number of Nans: id              0\n",
            "location        0\n",
            "country         0\n",
            "gender         11\n",
            "age            19\n",
            "sym_on        103\n",
            "hosp_vis      103\n",
            "vis_wuhan       0\n",
            "from_wuhan      0\n",
            "death           0\n",
            "symptom1      171\n",
            "symptom2      200\n",
            "symptom3      209\n",
            "symptom4      222\n",
            "symptom5      222\n",
            "symptom6      222\n",
            "dtype: int64\n"
          ],
          "name": "stdout"
        }
      ]
    },
    {
      "cell_type": "code",
      "metadata": {
        "id": "oqXS0-HJ8CbT",
        "outputId": "dfacf1b4-beba-4476-b29f-eb0154597c3c",
        "colab": {
          "base_uri": "https://localhost:8080/"
        }
      },
      "source": [
        "ds_train.info()"
      ],
      "execution_count": null,
      "outputs": [
        {
          "output_type": "stream",
          "text": [
            "<class 'pandas.core.frame.DataFrame'>\n",
            "RangeIndex: 222 entries, 0 to 221\n",
            "Data columns (total 16 columns):\n",
            " #   Column      Non-Null Count  Dtype  \n",
            "---  ------      --------------  -----  \n",
            " 0   id          222 non-null    int64  \n",
            " 1   location    222 non-null    object \n",
            " 2   country     222 non-null    object \n",
            " 3   gender      211 non-null    object \n",
            " 4   age         203 non-null    float64\n",
            " 5   sym_on      119 non-null    object \n",
            " 6   hosp_vis    119 non-null    object \n",
            " 7   vis_wuhan   222 non-null    int64  \n",
            " 8   from_wuhan  222 non-null    int64  \n",
            " 9   death       222 non-null    int64  \n",
            " 10  symptom1    51 non-null     object \n",
            " 11  symptom2    22 non-null     object \n",
            " 12  symptom3    13 non-null     object \n",
            " 13  symptom4    0 non-null      float64\n",
            " 14  symptom5    0 non-null      float64\n",
            " 15  symptom6    0 non-null      float64\n",
            "dtypes: float64(4), int64(4), object(8)\n",
            "memory usage: 27.9+ KB\n"
          ],
          "name": "stdout"
        }
      ]
    },
    {
      "cell_type": "code",
      "metadata": {
        "id": "FGJtHNtCD7a3"
      },
      "source": [
        "ds_train['location'] = encoder.fit_transform(ds_train['location'].astype(str))\n",
        "ds_train['country'] = encoder.fit_transform(ds_train['country'].astype(str))"
      ],
      "execution_count": null,
      "outputs": []
    },
    {
      "cell_type": "code",
      "metadata": {
        "id": "yT_ZkoYV9EP3",
        "outputId": "5a041b5d-bcf2-443b-ef25-4398740c73a0",
        "colab": {
          "base_uri": "https://localhost:8080/"
        }
      },
      "source": [
        "print(\"NAs Gender:\",ds_train[\"gender\"].isna().sum())\n",
        "ds_train['gender'] = encoder.fit_transform(ds_train['gender'].astype(str))"
      ],
      "execution_count": null,
      "outputs": [
        {
          "output_type": "stream",
          "text": [
            "NAs Gender: 11\n"
          ],
          "name": "stdout"
        }
      ]
    },
    {
      "cell_type": "code",
      "metadata": {
        "id": "60FD4Obu-Isx",
        "outputId": "a247207e-a28e-4ca0-c8dc-b8f0c223e942",
        "colab": {
          "base_uri": "https://localhost:8080/"
        }
      },
      "source": [
        "print(\"NAs Age:\",ds_train[\"age\"].isna().sum())\n",
        "ds_train['age'] = ds_train['age'].fillna(value=ds_train['age'].mean())"
      ],
      "execution_count": null,
      "outputs": [
        {
          "output_type": "stream",
          "text": [
            "NAs Age: 19\n"
          ],
          "name": "stdout"
        }
      ]
    },
    {
      "cell_type": "code",
      "metadata": {
        "id": "gBNF-5el-Ozm",
        "outputId": "3180a566-f3ea-4ed9-d09a-838abc35634b",
        "colab": {
          "base_uri": "https://localhost:8080/"
        }
      },
      "source": [
        "print(\"NAs Sym_on:\",ds_train[\"sym_on\"].isna().sum())\n",
        "ds_train['sym_on'] = pd.to_datetime(ds_train['sym_on'])\n",
        "ds_train['sym_on']= ds_train['sym_on'].map(dt.datetime.toordinal)"
      ],
      "execution_count": null,
      "outputs": [
        {
          "output_type": "stream",
          "text": [
            "NAs Sym_on: 103\n"
          ],
          "name": "stdout"
        }
      ]
    },
    {
      "cell_type": "code",
      "metadata": {
        "id": "9YKCsuCf-TQL",
        "outputId": "09a5e9bc-9bbe-4374-d5ae-8c572cf7c106",
        "colab": {
          "base_uri": "https://localhost:8080/"
        }
      },
      "source": [
        "print(\"NAs hosp_vis:\",ds_train[\"hosp_vis\"].isna().sum())\n",
        "ds_train['hosp_vis'] = pd.to_datetime(ds_train['hosp_vis'])\n",
        "ds_train['hosp_vis']= ds_train['hosp_vis'].map(dt.datetime.toordinal)"
      ],
      "execution_count": null,
      "outputs": [
        {
          "output_type": "stream",
          "text": [
            "NAs hosp_vis: 103\n"
          ],
          "name": "stdout"
        }
      ]
    },
    {
      "cell_type": "code",
      "metadata": {
        "id": "VDRxaepf-f2Z",
        "outputId": "1cfce1ec-34b5-4457-e583-191a2d9b0597",
        "colab": {
          "base_uri": "https://localhost:8080/"
        }
      },
      "source": [
        "print(\"NAs symptom1:\",ds_train[\"symptom1\"].isna().sum())\n",
        "ds_train[['symptom1']] = encoder.fit_transform(ds_train['symptom1'].astype(str))"
      ],
      "execution_count": null,
      "outputs": [
        {
          "output_type": "stream",
          "text": [
            "NAs symptom1: 171\n"
          ],
          "name": "stdout"
        }
      ]
    },
    {
      "cell_type": "code",
      "metadata": {
        "id": "qxXsIWOh-nDu",
        "outputId": "d135e24b-2343-42c9-df36-a9407b61ab5b",
        "colab": {
          "base_uri": "https://localhost:8080/"
        }
      },
      "source": [
        "print(\"NAs symptom2:\",ds_train[\"symptom2\"].isna().sum())\n",
        "ds_train[['symptom2']] = encoder.fit_transform(ds_train['symptom2'].astype(str))"
      ],
      "execution_count": null,
      "outputs": [
        {
          "output_type": "stream",
          "text": [
            "NAs symptom2: 200\n"
          ],
          "name": "stdout"
        }
      ]
    },
    {
      "cell_type": "code",
      "metadata": {
        "id": "Ih0ZC-c4-tSX",
        "outputId": "6b4e078e-5677-436f-94f9-a98971c5236f",
        "colab": {
          "base_uri": "https://localhost:8080/"
        }
      },
      "source": [
        "print(\"NAs symptom3:\",ds_train[\"symptom3\"].isna().sum())\n",
        "ds_train[['symptom3']] = encoder.fit_transform(ds_train['symptom3'].astype(str))"
      ],
      "execution_count": null,
      "outputs": [
        {
          "output_type": "stream",
          "text": [
            "NAs symptom3: 209\n"
          ],
          "name": "stdout"
        }
      ]
    },
    {
      "cell_type": "code",
      "metadata": {
        "id": "zTh7FhuO-uSx",
        "outputId": "36eab410-502b-48b6-fae4-b2e06e8b38d2",
        "colab": {
          "base_uri": "https://localhost:8080/"
        }
      },
      "source": [
        "print(\"NAs symptom4:\",ds_train[\"symptom4\"].isna().sum())\n",
        "ds_train[['symptom4']] = encoder.fit_transform(ds_train['symptom4'].astype(str))"
      ],
      "execution_count": null,
      "outputs": [
        {
          "output_type": "stream",
          "text": [
            "NAs symptom4: 222\n"
          ],
          "name": "stdout"
        }
      ]
    },
    {
      "cell_type": "code",
      "metadata": {
        "id": "klklLSOt-zB-",
        "outputId": "9cfdd94b-39e7-4da2-e6a8-d1dc4dc3bc0e",
        "colab": {
          "base_uri": "https://localhost:8080/"
        }
      },
      "source": [
        "print(\"NAs symptom5:\",ds_train[\"symptom5\"].isna().sum())\n",
        "ds_train[['symptom5']] = encoder.fit_transform(ds_train['symptom5'].astype(str))"
      ],
      "execution_count": null,
      "outputs": [
        {
          "output_type": "stream",
          "text": [
            "NAs symptom5: 222\n"
          ],
          "name": "stdout"
        }
      ]
    },
    {
      "cell_type": "code",
      "metadata": {
        "id": "GBgKvvV6-0j5",
        "outputId": "17b807b2-7239-4947-a629-0bd31d5bb85d",
        "colab": {
          "base_uri": "https://localhost:8080/"
        }
      },
      "source": [
        "print(\"NAs symptom6:\",ds_train[\"symptom6\"].isna().sum())\n",
        "ds_train[['symptom6']] = encoder.fit_transform(ds_train['symptom6'].astype(str))"
      ],
      "execution_count": null,
      "outputs": [
        {
          "output_type": "stream",
          "text": [
            "NAs symptom6: 222\n"
          ],
          "name": "stdout"
        }
      ]
    },
    {
      "cell_type": "code",
      "metadata": {
        "id": "haEUXIpiFuXp",
        "outputId": "f4515188-1e39-4c94-fec6-a8b35f1ba290",
        "colab": {
          "base_uri": "https://localhost:8080/"
        }
      },
      "source": [
        "print(\"Number of Nans:\",ds_train.isna().sum())"
      ],
      "execution_count": null,
      "outputs": [
        {
          "output_type": "stream",
          "text": [
            "Number of Nans: id            0\n",
            "location      0\n",
            "country       0\n",
            "gender        0\n",
            "age           0\n",
            "sym_on        0\n",
            "hosp_vis      0\n",
            "vis_wuhan     0\n",
            "from_wuhan    0\n",
            "death         0\n",
            "symptom1      0\n",
            "symptom2      0\n",
            "symptom3      0\n",
            "symptom4      0\n",
            "symptom5      0\n",
            "symptom6      0\n",
            "dtype: int64\n"
          ],
          "name": "stdout"
        }
      ]
    },
    {
      "cell_type": "code",
      "metadata": {
        "id": "3tiOoEp0FC1j",
        "outputId": "7f09af7f-4315-45e5-ae1d-c26e80661b17",
        "colab": {
          "base_uri": "https://localhost:8080/"
        }
      },
      "source": [
        "ds_train.info()"
      ],
      "execution_count": null,
      "outputs": [
        {
          "output_type": "stream",
          "text": [
            "<class 'pandas.core.frame.DataFrame'>\n",
            "RangeIndex: 222 entries, 0 to 221\n",
            "Data columns (total 16 columns):\n",
            " #   Column      Non-Null Count  Dtype  \n",
            "---  ------      --------------  -----  \n",
            " 0   id          222 non-null    int64  \n",
            " 1   location    222 non-null    int64  \n",
            " 2   country     222 non-null    int64  \n",
            " 3   gender      222 non-null    int64  \n",
            " 4   age         222 non-null    float64\n",
            " 5   sym_on      222 non-null    int64  \n",
            " 6   hosp_vis    222 non-null    int64  \n",
            " 7   vis_wuhan   222 non-null    int64  \n",
            " 8   from_wuhan  222 non-null    int64  \n",
            " 9   death       222 non-null    int64  \n",
            " 10  symptom1    222 non-null    int64  \n",
            " 11  symptom2    222 non-null    int64  \n",
            " 12  symptom3    222 non-null    int64  \n",
            " 13  symptom4    222 non-null    int64  \n",
            " 14  symptom5    222 non-null    int64  \n",
            " 15  symptom6    222 non-null    int64  \n",
            "dtypes: float64(1), int64(15)\n",
            "memory usage: 27.9 KB\n"
          ],
          "name": "stdout"
        }
      ]
    },
    {
      "cell_type": "code",
      "metadata": {
        "id": "eGqiuM0wFJin",
        "outputId": "c58bb35e-7350-4204-eac2-1ef8907bee7e",
        "colab": {
          "base_uri": "https://localhost:8080/",
          "height": 224
        }
      },
      "source": [
        "ds_train.head()"
      ],
      "execution_count": null,
      "outputs": [
        {
          "output_type": "execute_result",
          "data": {
            "text/html": [
              "<div>\n",
              "<style scoped>\n",
              "    .dataframe tbody tr th:only-of-type {\n",
              "        vertical-align: middle;\n",
              "    }\n",
              "\n",
              "    .dataframe tbody tr th {\n",
              "        vertical-align: top;\n",
              "    }\n",
              "\n",
              "    .dataframe thead th {\n",
              "        text-align: right;\n",
              "    }\n",
              "</style>\n",
              "<table border=\"1\" class=\"dataframe\">\n",
              "  <thead>\n",
              "    <tr style=\"text-align: right;\">\n",
              "      <th></th>\n",
              "      <th>id</th>\n",
              "      <th>location</th>\n",
              "      <th>country</th>\n",
              "      <th>gender</th>\n",
              "      <th>age</th>\n",
              "      <th>sym_on</th>\n",
              "      <th>hosp_vis</th>\n",
              "      <th>vis_wuhan</th>\n",
              "      <th>from_wuhan</th>\n",
              "      <th>death</th>\n",
              "      <th>symptom1</th>\n",
              "      <th>symptom2</th>\n",
              "      <th>symptom3</th>\n",
              "      <th>symptom4</th>\n",
              "      <th>symptom5</th>\n",
              "      <th>symptom6</th>\n",
              "    </tr>\n",
              "  </thead>\n",
              "  <tbody>\n",
              "    <tr>\n",
              "      <th>0</th>\n",
              "      <td>49</td>\n",
              "      <td>38</td>\n",
              "      <td>2</td>\n",
              "      <td>1</td>\n",
              "      <td>61.0</td>\n",
              "      <td>737413</td>\n",
              "      <td>737420</td>\n",
              "      <td>0</td>\n",
              "      <td>1</td>\n",
              "      <td>1</td>\n",
              "      <td>9</td>\n",
              "      <td>9</td>\n",
              "      <td>11</td>\n",
              "      <td>0</td>\n",
              "      <td>0</td>\n",
              "      <td>0</td>\n",
              "    </tr>\n",
              "    <tr>\n",
              "      <th>1</th>\n",
              "      <td>50</td>\n",
              "      <td>38</td>\n",
              "      <td>2</td>\n",
              "      <td>1</td>\n",
              "      <td>69.0</td>\n",
              "      <td>737423</td>\n",
              "      <td>737427</td>\n",
              "      <td>0</td>\n",
              "      <td>1</td>\n",
              "      <td>1</td>\n",
              "      <td>9</td>\n",
              "      <td>9</td>\n",
              "      <td>11</td>\n",
              "      <td>0</td>\n",
              "      <td>0</td>\n",
              "      <td>0</td>\n",
              "    </tr>\n",
              "    <tr>\n",
              "      <th>2</th>\n",
              "      <td>51</td>\n",
              "      <td>38</td>\n",
              "      <td>2</td>\n",
              "      <td>1</td>\n",
              "      <td>89.0</td>\n",
              "      <td>1</td>\n",
              "      <td>1</td>\n",
              "      <td>0</td>\n",
              "      <td>1</td>\n",
              "      <td>1</td>\n",
              "      <td>9</td>\n",
              "      <td>9</td>\n",
              "      <td>11</td>\n",
              "      <td>0</td>\n",
              "      <td>0</td>\n",
              "      <td>0</td>\n",
              "    </tr>\n",
              "    <tr>\n",
              "      <th>3</th>\n",
              "      <td>52</td>\n",
              "      <td>38</td>\n",
              "      <td>2</td>\n",
              "      <td>1</td>\n",
              "      <td>89.0</td>\n",
              "      <td>737437</td>\n",
              "      <td>737437</td>\n",
              "      <td>0</td>\n",
              "      <td>1</td>\n",
              "      <td>1</td>\n",
              "      <td>9</td>\n",
              "      <td>9</td>\n",
              "      <td>11</td>\n",
              "      <td>0</td>\n",
              "      <td>0</td>\n",
              "      <td>0</td>\n",
              "    </tr>\n",
              "    <tr>\n",
              "      <th>4</th>\n",
              "      <td>53</td>\n",
              "      <td>38</td>\n",
              "      <td>2</td>\n",
              "      <td>1</td>\n",
              "      <td>66.0</td>\n",
              "      <td>737434</td>\n",
              "      <td>737440</td>\n",
              "      <td>0</td>\n",
              "      <td>1</td>\n",
              "      <td>1</td>\n",
              "      <td>9</td>\n",
              "      <td>9</td>\n",
              "      <td>11</td>\n",
              "      <td>0</td>\n",
              "      <td>0</td>\n",
              "      <td>0</td>\n",
              "    </tr>\n",
              "  </tbody>\n",
              "</table>\n",
              "</div>"
            ],
            "text/plain": [
              "   id  location  country  gender  ...  symptom3  symptom4  symptom5  symptom6\n",
              "0  49        38        2       1  ...        11         0         0         0\n",
              "1  50        38        2       1  ...        11         0         0         0\n",
              "2  51        38        2       1  ...        11         0         0         0\n",
              "3  52        38        2       1  ...        11         0         0         0\n",
              "4  53        38        2       1  ...        11         0         0         0\n",
              "\n",
              "[5 rows x 16 columns]"
            ]
          },
          "metadata": {
            "tags": []
          },
          "execution_count": 24
        }
      ]
    },
    {
      "cell_type": "code",
      "metadata": {
        "id": "JHCYoNziFTLm",
        "outputId": "938fab35-1c21-4722-aa40-9f110c14eba1",
        "colab": {
          "base_uri": "https://localhost:8080/",
          "height": 317
        }
      },
      "source": [
        "ds_train.describe()"
      ],
      "execution_count": null,
      "outputs": [
        {
          "output_type": "execute_result",
          "data": {
            "text/html": [
              "<div>\n",
              "<style scoped>\n",
              "    .dataframe tbody tr th:only-of-type {\n",
              "        vertical-align: middle;\n",
              "    }\n",
              "\n",
              "    .dataframe tbody tr th {\n",
              "        vertical-align: top;\n",
              "    }\n",
              "\n",
              "    .dataframe thead th {\n",
              "        text-align: right;\n",
              "    }\n",
              "</style>\n",
              "<table border=\"1\" class=\"dataframe\">\n",
              "  <thead>\n",
              "    <tr style=\"text-align: right;\">\n",
              "      <th></th>\n",
              "      <th>id</th>\n",
              "      <th>location</th>\n",
              "      <th>country</th>\n",
              "      <th>gender</th>\n",
              "      <th>age</th>\n",
              "      <th>sym_on</th>\n",
              "      <th>hosp_vis</th>\n",
              "      <th>vis_wuhan</th>\n",
              "      <th>from_wuhan</th>\n",
              "      <th>death</th>\n",
              "      <th>symptom1</th>\n",
              "      <th>symptom2</th>\n",
              "      <th>symptom3</th>\n",
              "      <th>symptom4</th>\n",
              "      <th>symptom5</th>\n",
              "      <th>symptom6</th>\n",
              "    </tr>\n",
              "  </thead>\n",
              "  <tbody>\n",
              "    <tr>\n",
              "      <th>count</th>\n",
              "      <td>222.000000</td>\n",
              "      <td>222.000000</td>\n",
              "      <td>222.000000</td>\n",
              "      <td>222.000000</td>\n",
              "      <td>222.000000</td>\n",
              "      <td>222.000000</td>\n",
              "      <td>222.000000</td>\n",
              "      <td>222.000000</td>\n",
              "      <td>222.000000</td>\n",
              "      <td>222.000000</td>\n",
              "      <td>222.000000</td>\n",
              "      <td>222.000000</td>\n",
              "      <td>222.000000</td>\n",
              "      <td>222.0</td>\n",
              "      <td>222.0</td>\n",
              "      <td>222.0</td>\n",
              "    </tr>\n",
              "    <tr>\n",
              "      <th>mean</th>\n",
              "      <td>480.968468</td>\n",
              "      <td>24.576577</td>\n",
              "      <td>9.581081</td>\n",
              "      <td>0.689189</td>\n",
              "      <td>49.747537</td>\n",
              "      <td>395298.882883</td>\n",
              "      <td>395300.599099</td>\n",
              "      <td>0.157658</td>\n",
              "      <td>0.283784</td>\n",
              "      <td>0.283784</td>\n",
              "      <td>8.022523</td>\n",
              "      <td>8.364865</td>\n",
              "      <td>10.657658</td>\n",
              "      <td>0.0</td>\n",
              "      <td>0.0</td>\n",
              "      <td>0.0</td>\n",
              "    </tr>\n",
              "    <tr>\n",
              "      <th>std</th>\n",
              "      <td>262.073776</td>\n",
              "      <td>10.135328</td>\n",
              "      <td>5.468147</td>\n",
              "      <td>0.561003</td>\n",
              "      <td>19.563145</td>\n",
              "      <td>368595.450553</td>\n",
              "      <td>368597.050813</td>\n",
              "      <td>0.365243</td>\n",
              "      <td>0.451852</td>\n",
              "      <td>0.451852</td>\n",
              "      <td>1.978261</td>\n",
              "      <td>2.072712</td>\n",
              "      <td>1.574661</td>\n",
              "      <td>0.0</td>\n",
              "      <td>0.0</td>\n",
              "      <td>0.0</td>\n",
              "    </tr>\n",
              "    <tr>\n",
              "      <th>min</th>\n",
              "      <td>49.000000</td>\n",
              "      <td>0.000000</td>\n",
              "      <td>0.000000</td>\n",
              "      <td>0.000000</td>\n",
              "      <td>0.250000</td>\n",
              "      <td>1.000000</td>\n",
              "      <td>1.000000</td>\n",
              "      <td>0.000000</td>\n",
              "      <td>0.000000</td>\n",
              "      <td>0.000000</td>\n",
              "      <td>0.000000</td>\n",
              "      <td>0.000000</td>\n",
              "      <td>0.000000</td>\n",
              "      <td>0.0</td>\n",
              "      <td>0.0</td>\n",
              "      <td>0.0</td>\n",
              "    </tr>\n",
              "    <tr>\n",
              "      <th>25%</th>\n",
              "      <td>321.250000</td>\n",
              "      <td>17.250000</td>\n",
              "      <td>5.000000</td>\n",
              "      <td>0.000000</td>\n",
              "      <td>36.000000</td>\n",
              "      <td>1.000000</td>\n",
              "      <td>1.000000</td>\n",
              "      <td>0.000000</td>\n",
              "      <td>0.000000</td>\n",
              "      <td>0.000000</td>\n",
              "      <td>9.000000</td>\n",
              "      <td>9.000000</td>\n",
              "      <td>11.000000</td>\n",
              "      <td>0.0</td>\n",
              "      <td>0.0</td>\n",
              "      <td>0.0</td>\n",
              "    </tr>\n",
              "    <tr>\n",
              "      <th>50%</th>\n",
              "      <td>479.500000</td>\n",
              "      <td>27.000000</td>\n",
              "      <td>12.000000</td>\n",
              "      <td>1.000000</td>\n",
              "      <td>49.747537</td>\n",
              "      <td>737427.000000</td>\n",
              "      <td>737433.000000</td>\n",
              "      <td>0.000000</td>\n",
              "      <td>0.000000</td>\n",
              "      <td>0.000000</td>\n",
              "      <td>9.000000</td>\n",
              "      <td>9.000000</td>\n",
              "      <td>11.000000</td>\n",
              "      <td>0.0</td>\n",
              "      <td>0.0</td>\n",
              "      <td>0.0</td>\n",
              "    </tr>\n",
              "    <tr>\n",
              "      <th>75%</th>\n",
              "      <td>604.000000</td>\n",
              "      <td>29.750000</td>\n",
              "      <td>13.000000</td>\n",
              "      <td>1.000000</td>\n",
              "      <td>65.000000</td>\n",
              "      <td>737448.000000</td>\n",
              "      <td>737452.000000</td>\n",
              "      <td>0.000000</td>\n",
              "      <td>1.000000</td>\n",
              "      <td>1.000000</td>\n",
              "      <td>9.000000</td>\n",
              "      <td>9.000000</td>\n",
              "      <td>11.000000</td>\n",
              "      <td>0.0</td>\n",
              "      <td>0.0</td>\n",
              "      <td>0.0</td>\n",
              "    </tr>\n",
              "    <tr>\n",
              "      <th>max</th>\n",
              "      <td>1037.000000</td>\n",
              "      <td>39.000000</td>\n",
              "      <td>21.000000</td>\n",
              "      <td>2.000000</td>\n",
              "      <td>89.000000</td>\n",
              "      <td>737475.000000</td>\n",
              "      <td>737476.000000</td>\n",
              "      <td>1.000000</td>\n",
              "      <td>1.000000</td>\n",
              "      <td>1.000000</td>\n",
              "      <td>10.000000</td>\n",
              "      <td>9.000000</td>\n",
              "      <td>11.000000</td>\n",
              "      <td>0.0</td>\n",
              "      <td>0.0</td>\n",
              "      <td>0.0</td>\n",
              "    </tr>\n",
              "  </tbody>\n",
              "</table>\n",
              "</div>"
            ],
            "text/plain": [
              "                id    location     country  ...  symptom4  symptom5  symptom6\n",
              "count   222.000000  222.000000  222.000000  ...     222.0     222.0     222.0\n",
              "mean    480.968468   24.576577    9.581081  ...       0.0       0.0       0.0\n",
              "std     262.073776   10.135328    5.468147  ...       0.0       0.0       0.0\n",
              "min      49.000000    0.000000    0.000000  ...       0.0       0.0       0.0\n",
              "25%     321.250000   17.250000    5.000000  ...       0.0       0.0       0.0\n",
              "50%     479.500000   27.000000   12.000000  ...       0.0       0.0       0.0\n",
              "75%     604.000000   29.750000   13.000000  ...       0.0       0.0       0.0\n",
              "max    1037.000000   39.000000   21.000000  ...       0.0       0.0       0.0\n",
              "\n",
              "[8 rows x 16 columns]"
            ]
          },
          "metadata": {
            "tags": []
          },
          "execution_count": 25
        }
      ]
    },
    {
      "cell_type": "markdown",
      "metadata": {
        "id": "T8fYCNK4g9PM"
      },
      "source": [
        "## **C) Realiza la transformación de los factores “sym_on” y “hosp_vis” para conjuntarlas en una única variable que contabiliza el total de días desde que aparecieron los síntomas hasta que fueron al hospital.**"
      ]
    },
    {
      "cell_type": "code",
      "metadata": {
        "id": "ENf93ZWKFXba"
      },
      "source": [
        "ds_train['diff_sym_hos']= ds_train['hosp_vis'] - ds_train['sym_on']\n",
        "ds_train = ds_train.drop(['sym_on','hosp_vis'],axis=1)"
      ],
      "execution_count": null,
      "outputs": []
    },
    {
      "cell_type": "code",
      "metadata": {
        "id": "8xnwQyEmF8x4",
        "outputId": "c53de5da-2cea-4973-de31-5bb31a5921df",
        "colab": {
          "base_uri": "https://localhost:8080/",
          "height": 224
        }
      },
      "source": [
        "ds_train.head()"
      ],
      "execution_count": null,
      "outputs": [
        {
          "output_type": "execute_result",
          "data": {
            "text/html": [
              "<div>\n",
              "<style scoped>\n",
              "    .dataframe tbody tr th:only-of-type {\n",
              "        vertical-align: middle;\n",
              "    }\n",
              "\n",
              "    .dataframe tbody tr th {\n",
              "        vertical-align: top;\n",
              "    }\n",
              "\n",
              "    .dataframe thead th {\n",
              "        text-align: right;\n",
              "    }\n",
              "</style>\n",
              "<table border=\"1\" class=\"dataframe\">\n",
              "  <thead>\n",
              "    <tr style=\"text-align: right;\">\n",
              "      <th></th>\n",
              "      <th>id</th>\n",
              "      <th>location</th>\n",
              "      <th>country</th>\n",
              "      <th>gender</th>\n",
              "      <th>age</th>\n",
              "      <th>vis_wuhan</th>\n",
              "      <th>from_wuhan</th>\n",
              "      <th>death</th>\n",
              "      <th>symptom1</th>\n",
              "      <th>symptom2</th>\n",
              "      <th>symptom3</th>\n",
              "      <th>symptom4</th>\n",
              "      <th>symptom5</th>\n",
              "      <th>symptom6</th>\n",
              "      <th>diff_sym_hos</th>\n",
              "    </tr>\n",
              "  </thead>\n",
              "  <tbody>\n",
              "    <tr>\n",
              "      <th>0</th>\n",
              "      <td>49</td>\n",
              "      <td>38</td>\n",
              "      <td>2</td>\n",
              "      <td>1</td>\n",
              "      <td>61.0</td>\n",
              "      <td>0</td>\n",
              "      <td>1</td>\n",
              "      <td>1</td>\n",
              "      <td>9</td>\n",
              "      <td>9</td>\n",
              "      <td>11</td>\n",
              "      <td>0</td>\n",
              "      <td>0</td>\n",
              "      <td>0</td>\n",
              "      <td>7</td>\n",
              "    </tr>\n",
              "    <tr>\n",
              "      <th>1</th>\n",
              "      <td>50</td>\n",
              "      <td>38</td>\n",
              "      <td>2</td>\n",
              "      <td>1</td>\n",
              "      <td>69.0</td>\n",
              "      <td>0</td>\n",
              "      <td>1</td>\n",
              "      <td>1</td>\n",
              "      <td>9</td>\n",
              "      <td>9</td>\n",
              "      <td>11</td>\n",
              "      <td>0</td>\n",
              "      <td>0</td>\n",
              "      <td>0</td>\n",
              "      <td>4</td>\n",
              "    </tr>\n",
              "    <tr>\n",
              "      <th>2</th>\n",
              "      <td>51</td>\n",
              "      <td>38</td>\n",
              "      <td>2</td>\n",
              "      <td>1</td>\n",
              "      <td>89.0</td>\n",
              "      <td>0</td>\n",
              "      <td>1</td>\n",
              "      <td>1</td>\n",
              "      <td>9</td>\n",
              "      <td>9</td>\n",
              "      <td>11</td>\n",
              "      <td>0</td>\n",
              "      <td>0</td>\n",
              "      <td>0</td>\n",
              "      <td>0</td>\n",
              "    </tr>\n",
              "    <tr>\n",
              "      <th>3</th>\n",
              "      <td>52</td>\n",
              "      <td>38</td>\n",
              "      <td>2</td>\n",
              "      <td>1</td>\n",
              "      <td>89.0</td>\n",
              "      <td>0</td>\n",
              "      <td>1</td>\n",
              "      <td>1</td>\n",
              "      <td>9</td>\n",
              "      <td>9</td>\n",
              "      <td>11</td>\n",
              "      <td>0</td>\n",
              "      <td>0</td>\n",
              "      <td>0</td>\n",
              "      <td>0</td>\n",
              "    </tr>\n",
              "    <tr>\n",
              "      <th>4</th>\n",
              "      <td>53</td>\n",
              "      <td>38</td>\n",
              "      <td>2</td>\n",
              "      <td>1</td>\n",
              "      <td>66.0</td>\n",
              "      <td>0</td>\n",
              "      <td>1</td>\n",
              "      <td>1</td>\n",
              "      <td>9</td>\n",
              "      <td>9</td>\n",
              "      <td>11</td>\n",
              "      <td>0</td>\n",
              "      <td>0</td>\n",
              "      <td>0</td>\n",
              "      <td>6</td>\n",
              "    </tr>\n",
              "  </tbody>\n",
              "</table>\n",
              "</div>"
            ],
            "text/plain": [
              "   id  location  country  gender  ...  symptom4  symptom5  symptom6  diff_sym_hos\n",
              "0  49        38        2       1  ...         0         0         0             7\n",
              "1  50        38        2       1  ...         0         0         0             4\n",
              "2  51        38        2       1  ...         0         0         0             0\n",
              "3  52        38        2       1  ...         0         0         0             0\n",
              "4  53        38        2       1  ...         0         0         0             6\n",
              "\n",
              "[5 rows x 15 columns]"
            ]
          },
          "metadata": {
            "tags": []
          },
          "execution_count": 27
        }
      ]
    },
    {
      "cell_type": "code",
      "metadata": {
        "id": "L5OjtpgUF_B0",
        "outputId": "ecfcd4e6-e517-40a6-eb35-82838d77b3bf",
        "colab": {
          "base_uri": "https://localhost:8080/",
          "height": 317
        }
      },
      "source": [
        "ds_train.describe()"
      ],
      "execution_count": null,
      "outputs": [
        {
          "output_type": "execute_result",
          "data": {
            "text/html": [
              "<div>\n",
              "<style scoped>\n",
              "    .dataframe tbody tr th:only-of-type {\n",
              "        vertical-align: middle;\n",
              "    }\n",
              "\n",
              "    .dataframe tbody tr th {\n",
              "        vertical-align: top;\n",
              "    }\n",
              "\n",
              "    .dataframe thead th {\n",
              "        text-align: right;\n",
              "    }\n",
              "</style>\n",
              "<table border=\"1\" class=\"dataframe\">\n",
              "  <thead>\n",
              "    <tr style=\"text-align: right;\">\n",
              "      <th></th>\n",
              "      <th>id</th>\n",
              "      <th>location</th>\n",
              "      <th>country</th>\n",
              "      <th>gender</th>\n",
              "      <th>age</th>\n",
              "      <th>vis_wuhan</th>\n",
              "      <th>from_wuhan</th>\n",
              "      <th>death</th>\n",
              "      <th>symptom1</th>\n",
              "      <th>symptom2</th>\n",
              "      <th>symptom3</th>\n",
              "      <th>symptom4</th>\n",
              "      <th>symptom5</th>\n",
              "      <th>symptom6</th>\n",
              "      <th>diff_sym_hos</th>\n",
              "    </tr>\n",
              "  </thead>\n",
              "  <tbody>\n",
              "    <tr>\n",
              "      <th>count</th>\n",
              "      <td>222.000000</td>\n",
              "      <td>222.000000</td>\n",
              "      <td>222.000000</td>\n",
              "      <td>222.000000</td>\n",
              "      <td>222.000000</td>\n",
              "      <td>222.000000</td>\n",
              "      <td>222.000000</td>\n",
              "      <td>222.000000</td>\n",
              "      <td>222.000000</td>\n",
              "      <td>222.000000</td>\n",
              "      <td>222.000000</td>\n",
              "      <td>222.0</td>\n",
              "      <td>222.0</td>\n",
              "      <td>222.0</td>\n",
              "      <td>222.000000</td>\n",
              "    </tr>\n",
              "    <tr>\n",
              "      <th>mean</th>\n",
              "      <td>480.968468</td>\n",
              "      <td>24.576577</td>\n",
              "      <td>9.581081</td>\n",
              "      <td>0.689189</td>\n",
              "      <td>49.747537</td>\n",
              "      <td>0.157658</td>\n",
              "      <td>0.283784</td>\n",
              "      <td>0.283784</td>\n",
              "      <td>8.022523</td>\n",
              "      <td>8.364865</td>\n",
              "      <td>10.657658</td>\n",
              "      <td>0.0</td>\n",
              "      <td>0.0</td>\n",
              "      <td>0.0</td>\n",
              "      <td>1.716216</td>\n",
              "    </tr>\n",
              "    <tr>\n",
              "      <th>std</th>\n",
              "      <td>262.073776</td>\n",
              "      <td>10.135328</td>\n",
              "      <td>5.468147</td>\n",
              "      <td>0.561003</td>\n",
              "      <td>19.563145</td>\n",
              "      <td>0.365243</td>\n",
              "      <td>0.451852</td>\n",
              "      <td>0.451852</td>\n",
              "      <td>1.978261</td>\n",
              "      <td>2.072712</td>\n",
              "      <td>1.574661</td>\n",
              "      <td>0.0</td>\n",
              "      <td>0.0</td>\n",
              "      <td>0.0</td>\n",
              "      <td>2.887891</td>\n",
              "    </tr>\n",
              "    <tr>\n",
              "      <th>min</th>\n",
              "      <td>49.000000</td>\n",
              "      <td>0.000000</td>\n",
              "      <td>0.000000</td>\n",
              "      <td>0.000000</td>\n",
              "      <td>0.250000</td>\n",
              "      <td>0.000000</td>\n",
              "      <td>0.000000</td>\n",
              "      <td>0.000000</td>\n",
              "      <td>0.000000</td>\n",
              "      <td>0.000000</td>\n",
              "      <td>0.000000</td>\n",
              "      <td>0.0</td>\n",
              "      <td>0.0</td>\n",
              "      <td>0.0</td>\n",
              "      <td>-1.000000</td>\n",
              "    </tr>\n",
              "    <tr>\n",
              "      <th>25%</th>\n",
              "      <td>321.250000</td>\n",
              "      <td>17.250000</td>\n",
              "      <td>5.000000</td>\n",
              "      <td>0.000000</td>\n",
              "      <td>36.000000</td>\n",
              "      <td>0.000000</td>\n",
              "      <td>0.000000</td>\n",
              "      <td>0.000000</td>\n",
              "      <td>9.000000</td>\n",
              "      <td>9.000000</td>\n",
              "      <td>11.000000</td>\n",
              "      <td>0.0</td>\n",
              "      <td>0.0</td>\n",
              "      <td>0.0</td>\n",
              "      <td>0.000000</td>\n",
              "    </tr>\n",
              "    <tr>\n",
              "      <th>50%</th>\n",
              "      <td>479.500000</td>\n",
              "      <td>27.000000</td>\n",
              "      <td>12.000000</td>\n",
              "      <td>1.000000</td>\n",
              "      <td>49.747537</td>\n",
              "      <td>0.000000</td>\n",
              "      <td>0.000000</td>\n",
              "      <td>0.000000</td>\n",
              "      <td>9.000000</td>\n",
              "      <td>9.000000</td>\n",
              "      <td>11.000000</td>\n",
              "      <td>0.0</td>\n",
              "      <td>0.0</td>\n",
              "      <td>0.0</td>\n",
              "      <td>0.000000</td>\n",
              "    </tr>\n",
              "    <tr>\n",
              "      <th>75%</th>\n",
              "      <td>604.000000</td>\n",
              "      <td>29.750000</td>\n",
              "      <td>13.000000</td>\n",
              "      <td>1.000000</td>\n",
              "      <td>65.000000</td>\n",
              "      <td>0.000000</td>\n",
              "      <td>1.000000</td>\n",
              "      <td>1.000000</td>\n",
              "      <td>9.000000</td>\n",
              "      <td>9.000000</td>\n",
              "      <td>11.000000</td>\n",
              "      <td>0.0</td>\n",
              "      <td>0.0</td>\n",
              "      <td>0.0</td>\n",
              "      <td>3.000000</td>\n",
              "    </tr>\n",
              "    <tr>\n",
              "      <th>max</th>\n",
              "      <td>1037.000000</td>\n",
              "      <td>39.000000</td>\n",
              "      <td>21.000000</td>\n",
              "      <td>2.000000</td>\n",
              "      <td>89.000000</td>\n",
              "      <td>1.000000</td>\n",
              "      <td>1.000000</td>\n",
              "      <td>1.000000</td>\n",
              "      <td>10.000000</td>\n",
              "      <td>9.000000</td>\n",
              "      <td>11.000000</td>\n",
              "      <td>0.0</td>\n",
              "      <td>0.0</td>\n",
              "      <td>0.0</td>\n",
              "      <td>15.000000</td>\n",
              "    </tr>\n",
              "  </tbody>\n",
              "</table>\n",
              "</div>"
            ],
            "text/plain": [
              "                id    location     country  ...  symptom5  symptom6  diff_sym_hos\n",
              "count   222.000000  222.000000  222.000000  ...     222.0     222.0    222.000000\n",
              "mean    480.968468   24.576577    9.581081  ...       0.0       0.0      1.716216\n",
              "std     262.073776   10.135328    5.468147  ...       0.0       0.0      2.887891\n",
              "min      49.000000    0.000000    0.000000  ...       0.0       0.0     -1.000000\n",
              "25%     321.250000   17.250000    5.000000  ...       0.0       0.0      0.000000\n",
              "50%     479.500000   27.000000   12.000000  ...       0.0       0.0      0.000000\n",
              "75%     604.000000   29.750000   13.000000  ...       0.0       0.0      3.000000\n",
              "max    1037.000000   39.000000   21.000000  ...       0.0       0.0     15.000000\n",
              "\n",
              "[8 rows x 15 columns]"
            ]
          },
          "metadata": {
            "tags": []
          },
          "execution_count": 28
        }
      ]
    },
    {
      "cell_type": "markdown",
      "metadata": {
        "id": "yN4Yxpe7g8_4"
      },
      "source": [
        "## **D) Realiza una partición aleatoria de 80% entrenamiento y 20% prueba. Es decir, usando los mismos porcentajes que los autores del artículo.**"
      ]
    },
    {
      "cell_type": "code",
      "metadata": {
        "id": "21anE_vuGGTE"
      },
      "source": [
        "X = ds_train[['location','country','gender','age','vis_wuhan','from_wuhan','symptom1','symptom2','symptom3','symptom4','symptom5','symptom6','diff_sym_hos']]\n",
        "Y = ds_train['death']"
      ],
      "execution_count": null,
      "outputs": []
    },
    {
      "cell_type": "code",
      "metadata": {
        "id": "BV7-Qe2lGLrY"
      },
      "source": [
        "X_train, X_test, Y_train, Y_test = train_test_split(X,Y,test_size=0.2,random_state=0) #80-20%"
      ],
      "execution_count": null,
      "outputs": []
    },
    {
      "cell_type": "code",
      "metadata": {
        "id": "oORzmklbGniG",
        "outputId": "02c683d9-a5c6-4ee0-bff7-e789154ad17c",
        "colab": {
          "base_uri": "https://localhost:8080/"
        }
      },
      "source": [
        "print(X_train.shape)\n",
        "print(X_test.shape)"
      ],
      "execution_count": null,
      "outputs": [
        {
          "output_type": "stream",
          "text": [
            "(177, 13)\n",
            "(45, 13)\n"
          ],
          "name": "stdout"
        }
      ]
    },
    {
      "cell_type": "markdown",
      "metadata": {
        "id": "CH8sF87TjDZp"
      },
      "source": [
        "## **E) Investiga en qué consisten las siguientes clases de sklearn:**"
      ]
    },
    {
      "cell_type": "markdown",
      "metadata": {
        "id": "TLuEPvBGjIML"
      },
      "source": [
        "### a) RandomizedSearchCV: https://scikitlearn.org/stable/modules/generated/sklearn.model_selection.RandomizedSearchCV.html\n",
        "\n"
      ]
    },
    {
      "cell_type": "markdown",
      "metadata": {
        "id": "TeS4zHojFXpU"
      },
      "source": [
        "RandomizedSearchCV emplea una búsqueda de manera aleatoria para la selección de hiperparámetros utilizando un \"ajuste\" y \"puntuación\". \n",
        "\n",
        "Para estimar los paramentros utilizados en estos métodos se optimizan mediante una búsqueda de validación cruzada.\n",
        "\n",
        "En n_iter se específica el numero de ajustes por parametro;A diferencia de lo usado en GridSearchCV, no se hace prueba de todos los valores para todos los parámetros, sino que se hace una muestra con un número fijo de configuraciones."
      ]
    },
    {
      "cell_type": "markdown",
      "metadata": {
        "id": "OB7t8PBAjIAE"
      },
      "source": [
        "### b) GridSearchCV: https://scikitlearn.org/stable/modules/generated/sklearn.model_selection.GridSearchCV.html"
      ]
    },
    {
      "cell_type": "markdown",
      "metadata": {
        "id": "WrmJsXFgFZmO"
      },
      "source": [
        "GridSearchCV utiliza cross-validated grid-search para hacer una búsqueda exhaustiva de valores de parámetros especificados que van a aser especificados para un estimador. A diferencia de RandomizedSearchCV prueba todos los valores de parametros."
      ]
    },
    {
      "cell_type": "markdown",
      "metadata": {
        "id": "hz8cdVjQjNZU"
      },
      "source": [
        "## **F) En este inciso deberás aplicar modelo de Regresión Logística de sklearn (https://scikitlearn.org/stable/modules/generated/sklearn.linear_model.LogisticRegression.html ) y la clase RandomizedSearchCV con el conjunto de datos de entrenamiento del 80% generado previamente. Para ello verás definir una malla de búsqueda que al menos incluya los siguientes hiperparámetors y rango de valores siguientes:**"
      ]
    },
    {
      "cell_type": "markdown",
      "metadata": {
        "id": "6em76-oKjpNU"
      },
      "source": [
        "### a) C: 10 valores.\n",
        "\n",
        "c:float, default=1.0\n",
        "Inverse of regularization strength; must be a positive float. Like in support vector machines, smaller values specify stronger regularization."
      ]
    },
    {
      "cell_type": "markdown",
      "metadata": {
        "id": "K30rZDXTjpHW"
      },
      "source": [
        "### b) penalty: L1, L2 y None.\n",
        "\n",
        "Used to specify the norm used in the penalization. The ‘newton-cg’, ‘sag’ and ‘lbfgs’ solvers support only l2 penalties. ‘elasticnet’ is only supported by the ‘saga’ solver. If ‘none’ (not supported by the liblinear solver), no regularization is applied.\n",
        "\n",
        "New in version 0.19: l1 penalty with SAGA solver (allowing ‘multinomial’ + L1)"
      ]
    },
    {
      "cell_type": "markdown",
      "metadata": {
        "id": "Mt35R55Sjo-p"
      },
      "source": [
        "### c) Solver: lbfgs, saga. (NOTA: Investiga qué significan estos valores).\n",
        "\n",
        "solver{‘newton-cg’, ‘lbfgs’, ‘liblinear’, ‘sag’, ‘saga’}, default=’lbfgs’\n",
        "Algorithm to use in the optimization problem.\n",
        "\n",
        "* For small datasets, ‘liblinear’ is a good choice, whereas ‘sag’ and ‘saga’ are faster for large ones.\n",
        "\n",
        "* For multiclass problems, only ‘newton-cg’, ‘sag’, ‘saga’ and‘lbfgs’ handle multinomial loss; ‘liblinear’ is limited to one-versus-rest schemes.\n",
        "\n",
        "* ‘newton-cg’, ‘lbfgs’, ‘sag’ and ‘saga’ handle L2 or no penalty\n",
        "\n",
        "* ‘liblinear’ and ‘saga’ also handle L1 penalty\n",
        "\n",
        "* ‘saga’ also supports ‘elasticnet’ penalty\n",
        "\n",
        "* ‘liblinear’ does not support setting penalty='none'\n",
        "\n",
        "Note that ‘sag’ and ‘saga’ fast convergence is only guaranteed on features with approximately the same scale. You can preprocess the data with a scaler from sklearn.preprocessing.\n",
        "\n"
      ]
    },
    {
      "cell_type": "code",
      "metadata": {
        "id": "fWX7ak7_JfBj"
      },
      "source": [
        "# Create logistic regression\n",
        "logistic = LogisticRegression()\n",
        "# Create regularization hyperparameters\n",
        "parameters = {'penalty':['l1', 'l2','none'],'C':[0.001,0.01,0.1,1,1.10,10,10.10,100,100.1,1000],'solver':['saga','lbfgs']}"
      ],
      "execution_count": null,
      "outputs": []
    },
    {
      "cell_type": "markdown",
      "metadata": {
        "id": "L0lvBc7Qjo2Z"
      },
      "source": [
        "### d) Aplica el modelo de Regresión Logística mediante una búsqueda aleatoria de los mejores valores de los hiperparámetros anteriores con RandomizedSearchCV con n_iter=30, cv=5, scoring=accuracy. (NOTA: Investiga qué significan estos valores).\n",
        "\n",
        "**n_iter: int, default=10**\n",
        "\n",
        "Number of parameter settings that are sampled. n_iter trades off runtime vs quality of the solution.\n",
        "\n",
        "**cv:  int, cross-validation generator or an iterable, default=None**\n",
        "\n",
        "Determines the cross-validation splitting strategy. Possible inputs for cv are:\n",
        "\n",
        "* None, to use the default 5-fold cross validation,\n",
        "\n",
        "* integer, to specify the number of folds in a (Stratified)KFold,\n",
        "\n",
        "* CV splitter,\n",
        "\n",
        "* An iterable yielding (train, test) splits as arrays of indices.\n",
        "\n",
        "For integer/None inputs, if the estimator is a classifier and y is either binary or multiclass, StratifiedKFold is used. In all other cases, KFold is used.\n",
        "\n",
        "**scoring:** **str, callable, list/tuple or dict, default=None**\n",
        "\n",
        "A single str (see The scoring parameter: defining model evaluation rules) or a callable (see Defining your scoring strategy from metric functions) to evaluate the predictions on the test set.\n",
        "\n",
        "For evaluating multiple metrics, either give a list of (unique) strings or a dict with names as keys and callables as values.\n",
        "\n",
        "NOTE that when using custom scorers, each scorer should return a single value. Metric functions returning a list/array of values can be wrapped into multiple scorers that return one value each"
      ]
    },
    {
      "cell_type": "code",
      "metadata": {
        "id": "2Jz6GFtILuKv"
      },
      "source": [
        "# run randomized search\n",
        "random_search = RandomizedSearchCV(\n",
        "        logistic, param_distributions=parameters,\n",
        "        n_iter=30, cv=5,\n",
        "        verbose=2, random_state=17,\n",
        "        scoring=make_scorer(accuracy_score),n_jobs=-1,\n",
        "        return_train_score=False)\n",
        "    "
      ],
      "execution_count": null,
      "outputs": []
    },
    {
      "cell_type": "code",
      "metadata": {
        "id": "OIxOLmqQB9l2",
        "outputId": "178a6ade-1e05-45fe-d540-2212efa6bfcf",
        "colab": {
          "base_uri": "https://localhost:8080/"
        }
      },
      "source": [
        "# Fit randomized search\n",
        "best_model = random_search.fit(X_train,Y_train) "
      ],
      "execution_count": null,
      "outputs": [
        {
          "output_type": "stream",
          "text": [
            "Fitting 5 folds for each of 30 candidates, totalling 150 fits\n"
          ],
          "name": "stdout"
        },
        {
          "output_type": "stream",
          "text": [
            "[Parallel(n_jobs=-1)]: Using backend LokyBackend with 2 concurrent workers.\n",
            "[Parallel(n_jobs=-1)]: Done 141 tasks      | elapsed:    2.5s\n",
            "[Parallel(n_jobs=-1)]: Done 150 out of 150 | elapsed:    2.5s finished\n",
            "/usr/local/lib/python3.6/dist-packages/sklearn/linear_model/_logistic.py:940: ConvergenceWarning: lbfgs failed to converge (status=1):\n",
            "STOP: TOTAL NO. of ITERATIONS REACHED LIMIT.\n",
            "\n",
            "Increase the number of iterations (max_iter) or scale the data as shown in:\n",
            "    https://scikit-learn.org/stable/modules/preprocessing.html\n",
            "Please also refer to the documentation for alternative solver options:\n",
            "    https://scikit-learn.org/stable/modules/linear_model.html#logistic-regression\n",
            "  extra_warning_msg=_LOGISTIC_SOLVER_CONVERGENCE_MSG)\n"
          ],
          "name": "stderr"
        }
      ]
    },
    {
      "cell_type": "code",
      "metadata": {
        "id": "P1iTe6hCD1xr",
        "outputId": "0687e2e3-58b8-480a-8ead-72b5628d0687",
        "colab": {
          "base_uri": "https://localhost:8080/"
        }
      },
      "source": [
        "# View best hyperparameters \n",
        "print('Best Penalty:', best_model.best_estimator_.get_params()['penalty'])\n",
        "print('Best C:', best_model.best_estimator_.get_params()['C'])\n",
        "print('Best Solver:', best_model.best_estimator_.get_params()['solver'])"
      ],
      "execution_count": null,
      "outputs": [
        {
          "output_type": "stream",
          "text": [
            "Best Penalty: l2\n",
            "Best C: 1\n",
            "Best Solver: lbfgs\n"
          ],
          "name": "stdout"
        }
      ]
    },
    {
      "cell_type": "code",
      "metadata": {
        "id": "1EUKNiPLEtj4",
        "outputId": "caab8aa5-6924-4603-b54d-797784ba32de",
        "colab": {
          "base_uri": "https://localhost:8080/"
        }
      },
      "source": [
        "best_model.best_params_"
      ],
      "execution_count": null,
      "outputs": [
        {
          "output_type": "execute_result",
          "data": {
            "text/plain": [
              "{'C': 1, 'penalty': 'l2', 'solver': 'lbfgs'}"
            ]
          },
          "metadata": {
            "tags": []
          },
          "execution_count": 36
        }
      ]
    },
    {
      "cell_type": "code",
      "metadata": {
        "id": "RKhbfkh-JMKS",
        "outputId": "9f6f5a5c-7266-4395-e985-a52ee07af060",
        "colab": {
          "base_uri": "https://localhost:8080/"
        }
      },
      "source": [
        "best_model.best_score_"
      ],
      "execution_count": null,
      "outputs": [
        {
          "output_type": "execute_result",
          "data": {
            "text/plain": [
              "0.8873015873015871"
            ]
          },
          "metadata": {
            "tags": []
          },
          "execution_count": 37
        }
      ]
    },
    {
      "cell_type": "markdown",
      "metadata": {
        "id": "7Yth2jo1jorg"
      },
      "source": [
        "### e) Reporta los mejores valores encontrados en los datos de prueba del 20% generados previamente, la matriz de confusión y las métricas accuracy precision, recall y f1-score."
      ]
    },
    {
      "cell_type": "code",
      "metadata": {
        "id": "mqSpDpE9GgAD",
        "outputId": "43cc76ab-c928-4d57-b437-4f3601eee81d",
        "colab": {
          "base_uri": "https://localhost:8080/"
        }
      },
      "source": [
        "best_model.predict(X_test)"
      ],
      "execution_count": null,
      "outputs": [
        {
          "output_type": "execute_result",
          "data": {
            "text/plain": [
              "array([0, 0, 0, 0, 0, 0, 1, 0, 0, 1, 0, 1, 1, 0, 0, 0, 0, 1, 0, 0, 0, 0,\n",
              "       0, 0, 0, 1, 0, 0, 0, 0, 0, 0, 0, 0, 1, 1, 0, 1, 0, 0, 0, 0, 0, 0,\n",
              "       0])"
            ]
          },
          "metadata": {
            "tags": []
          },
          "execution_count": 38
        }
      ]
    },
    {
      "cell_type": "code",
      "metadata": {
        "id": "KMtyHHDwJsyN"
      },
      "source": [
        "pred = np.array(best_model.predict(X_test))\n",
        "\n",
        "recall = rs(Y_test,pred)\n",
        "precision = ps(Y_test,pred)\n",
        "f1 = fs(Y_test,pred)\n",
        "ma = best_model.score(X_test,Y_test)"
      ],
      "execution_count": null,
      "outputs": []
    },
    {
      "cell_type": "code",
      "metadata": {
        "id": "n2ybnVmALBfA",
        "outputId": "30317aec-d3c8-4538-c43e-b4c3bd1003dc",
        "colab": {
          "base_uri": "https://localhost:8080/"
        }
      },
      "source": [
        "print('### Evaluation metrics for test dataset ###\\n')\n",
        "print('Recall Score: ',recall)\n",
        "print('Precision Score: ',precision)\n",
        "print('F1 Score: ',f1)\n",
        "print('Accuracy: ',ma)\n",
        "pred_df = pd.DataFrame(Y_test)\n",
        "pred_df['pred']=  pred\n",
        "print(pred_df.head())"
      ],
      "execution_count": null,
      "outputs": [
        {
          "output_type": "stream",
          "text": [
            "### Evaluation metrics for test dataset ###\n",
            "\n",
            "Recall Score:  0.75\n",
            "Precision Score:  1.0\n",
            "F1 Score:  0.8571428571428571\n",
            "Accuracy:  0.9333333333333333\n",
            "     death  pred\n",
            "130      0     0\n",
            "203      0     0\n",
            "170      1     0\n",
            "66       0     0\n",
            "181      0     0\n"
          ],
          "name": "stdout"
        }
      ]
    },
    {
      "cell_type": "code",
      "metadata": {
        "id": "xDhD_iYKLcJ8",
        "outputId": "741706f2-0cf9-4714-ef96-6ec815588eca",
        "colab": {
          "base_uri": "https://localhost:8080/"
        }
      },
      "source": [
        "#Confusion Matrix\n",
        "confusionMatrix = cm(Y_test, pred)\n",
        "print(confusionMatrix)"
      ],
      "execution_count": null,
      "outputs": [
        {
          "output_type": "stream",
          "text": [
            "[[33  0]\n",
            " [ 3  9]]\n"
          ],
          "name": "stdout"
        }
      ]
    },
    {
      "cell_type": "code",
      "metadata": {
        "id": "KiieQuEXnJ-x",
        "outputId": "d0cc748b-0d58-4a5c-f129-080339ce3e99",
        "colab": {
          "base_uri": "https://localhost:8080/"
        }
      },
      "source": [
        "# Accuracy:\n",
        "(confusionMatrix[0,0] + confusionMatrix[1,1]) / (confusionMatrix[0,0] + confusionMatrix[1,1] + confusionMatrix[0,1] + confusionMatrix[1,0])"
      ],
      "execution_count": null,
      "outputs": [
        {
          "output_type": "execute_result",
          "data": {
            "text/plain": [
              "0.9333333333333333"
            ]
          },
          "metadata": {
            "tags": []
          },
          "execution_count": 42
        }
      ]
    },
    {
      "cell_type": "markdown",
      "metadata": {
        "id": "b1aafGRpj3TE"
      },
      "source": [
        "### f) Compara los resultados con los reportados por los autores del artículo con dicho modelo.\n",
        "\n",
        "Comparando nuestros resultados con los de la [imagen](https://https://www.frontiersin.org/files/Articles/562169/fpubh-08-00357-HTML/image_m/fpubh-08-00357-g012.jpg) proporcionada por el articulo y en su investigacion, ellos obtuvieron los siguientes metricas en su modelo dde regresion logistica:\n",
        "\n",
        "* Recall Score:  0.7272727272727273\n",
        "* Precision Score:  0.6666666666666666\n",
        "* F1 Score:  0.6956521739130435\n",
        "* Accuracy:  0.8444444444444444\n",
        "\n",
        "Nosotros obtuvimos mejores Metricas, por lo que podemos corroborar que en efecto RandomizedSearchCV nos ayudo a mejorar nuestro modelo obteniendo los mejores parametros para la regresion logistica:\n",
        "\n",
        "* Recall Score:  0.75\n",
        "* Precision Score:  1.0\n",
        "* F1 Score:  0.8571428571428571\n",
        "* Accuracy:  0.9333333333333333\n"
      ]
    },
    {
      "cell_type": "markdown",
      "metadata": {
        "id": "MfTTWmnukgCy"
      },
      "source": [
        "## **G) En este inciso aplicarás ahora un árbol de decisión mediante la clase DecisionTreeClasifier de sklearn (https://scikitlearn. org/stable/modules/generated/sklearn.tree.DecisionTreeClassifier.html ) y los mismos datos de entrenamiento y prueba generados previamente. Para ello verás definir una malla de búsqueda que al menos incluya los siguientes hiperparámetors y rango de valores siguientes:**"
      ]
    },
    {
      "cell_type": "code",
      "metadata": {
        "id": "ZZmi-N-doPRx"
      },
      "source": [
        "tree = DecisionTreeClassifier()"
      ],
      "execution_count": null,
      "outputs": []
    },
    {
      "cell_type": "code",
      "metadata": {
        "id": "D3UUljK2sqb_",
        "outputId": "cc5fd15c-4037-4016-a35c-664b16f852e2",
        "colab": {
          "base_uri": "https://localhost:8080/"
        }
      },
      "source": [
        "tree.get_params()"
      ],
      "execution_count": null,
      "outputs": [
        {
          "output_type": "execute_result",
          "data": {
            "text/plain": [
              "{'ccp_alpha': 0.0,\n",
              " 'class_weight': None,\n",
              " 'criterion': 'gini',\n",
              " 'max_depth': None,\n",
              " 'max_features': None,\n",
              " 'max_leaf_nodes': None,\n",
              " 'min_impurity_decrease': 0.0,\n",
              " 'min_impurity_split': None,\n",
              " 'min_samples_leaf': 1,\n",
              " 'min_samples_split': 2,\n",
              " 'min_weight_fraction_leaf': 0.0,\n",
              " 'presort': 'deprecated',\n",
              " 'random_state': None,\n",
              " 'splitter': 'best'}"
            ]
          },
          "metadata": {
            "tags": []
          },
          "execution_count": 44
        }
      ]
    },
    {
      "cell_type": "markdown",
      "metadata": {
        "id": "4_IGEKMmlAxp"
      },
      "source": [
        "### a) ccp_alpha: 10 valores."
      ]
    },
    {
      "cell_type": "code",
      "metadata": {
        "id": "h3JEMCT9oxro"
      },
      "source": [
        "ccp_alpha = [0.0, 0.2, 0.5, 0.9, 1.0, 1.5, 2, 2.5, 3,3.5]"
      ],
      "execution_count": null,
      "outputs": []
    },
    {
      "cell_type": "markdown",
      "metadata": {
        "id": "dEzjGKc_lBsg"
      },
      "source": [
        "### b) Criterio: gini, entropy."
      ]
    },
    {
      "cell_type": "code",
      "metadata": {
        "id": "SxXh2VBypVrB"
      },
      "source": [
        "criteria = ['gini', 'entropy']"
      ],
      "execution_count": null,
      "outputs": []
    },
    {
      "cell_type": "markdown",
      "metadata": {
        "id": "bta8rSpAlCBD"
      },
      "source": [
        "### c) Max_depth: 6"
      ]
    },
    {
      "cell_type": "code",
      "metadata": {
        "id": "nedZAbm9paY1"
      },
      "source": [
        "max_depth = [1,2,5,10,12]"
      ],
      "execution_count": null,
      "outputs": []
    },
    {
      "cell_type": "markdown",
      "metadata": {
        "id": "jKmWVjEelCXN"
      },
      "source": [
        "### d) Min_samples_split: 6"
      ]
    },
    {
      "cell_type": "code",
      "metadata": {
        "id": "fhhANsispdRr"
      },
      "source": [
        "min_split = [10,20,25,30,45,50]"
      ],
      "execution_count": null,
      "outputs": []
    },
    {
      "cell_type": "markdown",
      "metadata": {
        "id": "6YH6MpNDlCsi"
      },
      "source": [
        "### e) Min_samples_leaf: 6"
      ]
    },
    {
      "cell_type": "code",
      "metadata": {
        "id": "n5ej5veqpiXU"
      },
      "source": [
        "min_leaf = [1,2,3,4,5,6]"
      ],
      "execution_count": null,
      "outputs": []
    },
    {
      "cell_type": "code",
      "metadata": {
        "id": "uhY16sXxovTn"
      },
      "source": [
        "# Create regularization hyperparameters\n",
        "parameters = {'ccp_alpha': ccp_alpha,'criterion':criteria, \n",
        "              'max_depth': max_depth,'min_samples_split': min_split,\n",
        "              'min_samples_leaf':min_leaf}"
      ],
      "execution_count": null,
      "outputs": []
    },
    {
      "cell_type": "markdown",
      "metadata": {
        "id": "nJLEfmAtlDAL"
      },
      "source": [
        "### f) Aplica el modelo de Árbol de Decisión mediante una búsqueda aleatoria de los mejores valores de los hiperparámetros anteriores con RandomizedSearchCV con n_iter=100, cv=5, scoring=accuracy."
      ]
    },
    {
      "cell_type": "code",
      "metadata": {
        "id": "auf0mJzwrFaH"
      },
      "source": [
        "# run randomized search\n",
        "random_search = RandomizedSearchCV(\n",
        "        estimator= tree, param_distributions=parameters,\n",
        "        n_iter=100, cv=5,\n",
        "        verbose=2, random_state=17,\n",
        "        scoring=make_scorer(accuracy_score),n_jobs=-1,\n",
        "        return_train_score=False)"
      ],
      "execution_count": null,
      "outputs": []
    },
    {
      "cell_type": "code",
      "metadata": {
        "id": "R2FvF3QBrXMx",
        "outputId": "3d96c649-a64f-43fb-de4e-3dbb387e4f8a",
        "colab": {
          "base_uri": "https://localhost:8080/"
        }
      },
      "source": [
        "# Fit randomized search\n",
        "best_model_tree = random_search.fit(X_train,Y_train) "
      ],
      "execution_count": null,
      "outputs": [
        {
          "output_type": "stream",
          "text": [
            "Fitting 5 folds for each of 100 candidates, totalling 500 fits\n"
          ],
          "name": "stdout"
        },
        {
          "output_type": "stream",
          "text": [
            "[Parallel(n_jobs=-1)]: Using backend LokyBackend with 2 concurrent workers.\n",
            "[Parallel(n_jobs=-1)]: Done 458 tasks      | elapsed:    1.3s\n",
            "[Parallel(n_jobs=-1)]: Done 500 out of 500 | elapsed:    1.4s finished\n"
          ],
          "name": "stderr"
        }
      ]
    },
    {
      "cell_type": "code",
      "metadata": {
        "id": "7Cva0hx9t5r-",
        "outputId": "1dab915d-099e-4c5a-8e48-810f310a6e5e",
        "colab": {
          "base_uri": "https://localhost:8080/"
        }
      },
      "source": [
        "best_model_tree.best_params_"
      ],
      "execution_count": null,
      "outputs": [
        {
          "output_type": "execute_result",
          "data": {
            "text/plain": [
              "{'ccp_alpha': 0.0,\n",
              " 'criterion': 'gini',\n",
              " 'max_depth': 5,\n",
              " 'min_samples_leaf': 1,\n",
              " 'min_samples_split': 10}"
            ]
          },
          "metadata": {
            "tags": []
          },
          "execution_count": 53
        }
      ]
    },
    {
      "cell_type": "code",
      "metadata": {
        "id": "e7Gkes-zt5rz",
        "outputId": "69791b77-5988-4a6a-e5f1-7f751d8b230f",
        "colab": {
          "base_uri": "https://localhost:8080/"
        }
      },
      "source": [
        "# View best hyperparameters \n",
        "print('Best ccp_alpha:', best_model_tree.best_estimator_.get_params()['ccp_alpha'])\n",
        "print('Best criterion:', best_model_tree.best_estimator_.get_params()['criterion'])\n",
        "print('Best max_depth', best_model_tree.best_estimator_.get_params()['max_depth'])\n",
        "print('Best min_samples_leaf', best_model_tree.best_estimator_.get_params()['min_samples_leaf'])\n",
        "print('Best min_samples_split', best_model_tree.best_estimator_.get_params()['min_samples_split'])"
      ],
      "execution_count": null,
      "outputs": [
        {
          "output_type": "stream",
          "text": [
            "Best ccp_alpha: 0.0\n",
            "Best criterion: gini\n",
            "Best max_depth 5\n",
            "Best min_samples_leaf 1\n",
            "Best min_samples_split 10\n"
          ],
          "name": "stdout"
        }
      ]
    },
    {
      "cell_type": "code",
      "metadata": {
        "id": "yWxEjNNnt5sN",
        "outputId": "1a448126-f873-4d13-a626-90ce06c560e1",
        "colab": {
          "base_uri": "https://localhost:8080/"
        }
      },
      "source": [
        "best_model_tree.best_score_"
      ],
      "execution_count": null,
      "outputs": [
        {
          "output_type": "execute_result",
          "data": {
            "text/plain": [
              "0.9095238095238095"
            ]
          },
          "metadata": {
            "tags": []
          },
          "execution_count": 55
        }
      ]
    },
    {
      "cell_type": "markdown",
      "metadata": {
        "id": "19Puk5bblDa5"
      },
      "source": [
        "### g) Reporta los mejores valores encontrados en los datos de prueba del 20% generados previamente, la matriz de confusión y las métricas accuracy precision, recall y f1-score."
      ]
    },
    {
      "cell_type": "code",
      "metadata": {
        "id": "q_Ekd3EqvzrD",
        "outputId": "caec1b20-8d97-4c64-cf6a-4e87b7ec612c",
        "colab": {
          "base_uri": "https://localhost:8080/"
        }
      },
      "source": [
        "best_model_tree.predict(X_test)"
      ],
      "execution_count": null,
      "outputs": [
        {
          "output_type": "execute_result",
          "data": {
            "text/plain": [
              "array([0, 0, 1, 0, 0, 0, 1, 0, 0, 1, 0, 1, 1, 0, 0, 0, 0, 0, 0, 0, 0, 0,\n",
              "       0, 0, 0, 1, 0, 0, 0, 0, 0, 0, 0, 0, 1, 1, 0, 1, 0, 0, 0, 0, 0, 1,\n",
              "       0])"
            ]
          },
          "metadata": {
            "tags": []
          },
          "execution_count": 56
        }
      ]
    },
    {
      "cell_type": "code",
      "metadata": {
        "id": "_a85AEF3vzrL"
      },
      "source": [
        "pred_tree = np.array(best_model_tree.predict(X_test))\n",
        "\n",
        "recall = rs(Y_test,pred_tree)\n",
        "precision = ps(Y_test,pred_tree)\n",
        "f1 = fs(Y_test,pred_tree)\n",
        "ma = best_model_tree.score(X_test,Y_test)"
      ],
      "execution_count": null,
      "outputs": []
    },
    {
      "cell_type": "code",
      "metadata": {
        "id": "lMel0OgbvzrR",
        "outputId": "7d9bd1e1-a7e1-43c1-e72d-df789e9f7ee0",
        "colab": {
          "base_uri": "https://localhost:8080/"
        }
      },
      "source": [
        "print('### Evaluation metrics for test dataset ###\\n')\n",
        "print('Recall Score: ',recall)\n",
        "print('Precision Score: ',precision)\n",
        "print('F1 Score: ',f1)\n",
        "print('Accuracy: ',ma)\n",
        "pred_df = pd.DataFrame(Y_test)\n",
        "pred_df['pred']=  pred_tree\n",
        "print(pred_df.head())"
      ],
      "execution_count": null,
      "outputs": [
        {
          "output_type": "stream",
          "text": [
            "### Evaluation metrics for test dataset ###\n",
            "\n",
            "Recall Score:  0.75\n",
            "Precision Score:  0.9\n",
            "F1 Score:  0.8181818181818182\n",
            "Accuracy:  0.9111111111111111\n",
            "     death  pred\n",
            "130      0     0\n",
            "203      0     0\n",
            "170      1     1\n",
            "66       0     0\n",
            "181      0     0\n"
          ],
          "name": "stdout"
        }
      ]
    },
    {
      "cell_type": "code",
      "metadata": {
        "id": "t-cesg3IvzrU",
        "outputId": "2034875c-e319-4c40-8e45-5ace854c026b",
        "colab": {
          "base_uri": "https://localhost:8080/"
        }
      },
      "source": [
        "#Confusion Matrix\n",
        "confusionMatrix = cm(Y_test, pred_tree)\n",
        "print(confusionMatrix)"
      ],
      "execution_count": null,
      "outputs": [
        {
          "output_type": "stream",
          "text": [
            "[[32  1]\n",
            " [ 3  9]]\n"
          ],
          "name": "stdout"
        }
      ]
    },
    {
      "cell_type": "code",
      "metadata": {
        "id": "iVK-sdHbvzrY",
        "outputId": "e6cb7f1d-a1a3-481e-8d5c-e000a0180591",
        "colab": {
          "base_uri": "https://localhost:8080/"
        }
      },
      "source": [
        "# Accuracy:\n",
        "(confusionMatrix[0,0] + confusionMatrix[1,1]) / (confusionMatrix[0,0] + confusionMatrix[1,1] + confusionMatrix[0,1] + confusionMatrix[1,0])"
      ],
      "execution_count": null,
      "outputs": [
        {
          "output_type": "execute_result",
          "data": {
            "text/plain": [
              "0.9111111111111111"
            ]
          },
          "metadata": {
            "tags": []
          },
          "execution_count": 60
        }
      ]
    },
    {
      "cell_type": "markdown",
      "metadata": {
        "id": "MqcPnfECneCS"
      },
      "source": [
        "## **H) En este inciso usarás el método de Máquina de Vectores de Soporte (https://scikitlearn.org/stable/modules/generated/sklearn.svm.SVC.html ) y los mismos datos de entrenamiento y prueba generados previamente. Para ello verás definir una malla de búsqueda que al menos incluya los siguientes hiperparámetors y rango de valores siguientes:**"
      ]
    },
    {
      "cell_type": "code",
      "metadata": {
        "id": "oYHXbB_UxUv5"
      },
      "source": [
        "svc = SVC()"
      ],
      "execution_count": null,
      "outputs": []
    },
    {
      "cell_type": "markdown",
      "metadata": {
        "id": "Z1LhPPgPnovH"
      },
      "source": [
        "### a) C: 10 valores."
      ]
    },
    {
      "cell_type": "code",
      "metadata": {
        "id": "Sxoz-rCJw5FK"
      },
      "source": [
        "c_values = [1,2,3,4,5,6,7,8,9,10]"
      ],
      "execution_count": null,
      "outputs": []
    },
    {
      "cell_type": "markdown",
      "metadata": {
        "id": "YFouBQvQnuAs"
      },
      "source": [
        "### b) Kernel: linear, poly, rbf, sigmoid."
      ]
    },
    {
      "cell_type": "code",
      "metadata": {
        "id": "OeOnLuGGxlI8"
      },
      "source": [
        "kernels = ['linear', 'poly', 'rbf', 'sigmoid']"
      ],
      "execution_count": null,
      "outputs": []
    },
    {
      "cell_type": "markdown",
      "metadata": {
        "id": "0U5_6t3rnx68"
      },
      "source": [
        "### c) Degree: 6 valores."
      ]
    },
    {
      "cell_type": "code",
      "metadata": {
        "id": "9AG2bX0sxx6K"
      },
      "source": [
        "degree = [1,2,3,4,5,6]"
      ],
      "execution_count": null,
      "outputs": []
    },
    {
      "cell_type": "markdown",
      "metadata": {
        "id": "mgCnGfNCoth3"
      },
      "source": [
        "### d) Gamma: scale, auto."
      ]
    },
    {
      "cell_type": "code",
      "metadata": {
        "id": "BQxqB9Hyx5J7"
      },
      "source": [
        "gamma = ['scale', 'auto']"
      ],
      "execution_count": null,
      "outputs": []
    },
    {
      "cell_type": "code",
      "metadata": {
        "id": "RZsfL2owyFWo"
      },
      "source": [
        "# Create regularization hyperparameters\n",
        "parameters = {'C': c_values,'kernel':kernels, \n",
        "              'degree': degree,'gamma': gamma}"
      ],
      "execution_count": null,
      "outputs": []
    },
    {
      "cell_type": "markdown",
      "metadata": {
        "id": "IyzO6QHJo3F6"
      },
      "source": [
        "### e) Aplica el modelo SVM mediante una búsqueda aleatoria de los mejores valores de los hiperparámetros anteriores con RandomizedSearchCV con n_iter=100, cv=5, scoring=accuracy."
      ]
    },
    {
      "cell_type": "code",
      "metadata": {
        "id": "FEmK5DQCyktz"
      },
      "source": [
        "# run randomized search\n",
        "random_search = RandomizedSearchCV(\n",
        "        estimator= svc, param_distributions=parameters,\n",
        "        n_iter=100, cv=5,\n",
        "        verbose=2, random_state=17, \n",
        "        scoring=make_scorer(accuracy_score),\n",
        "        return_train_score=False)"
      ],
      "execution_count": null,
      "outputs": []
    },
    {
      "cell_type": "code",
      "metadata": {
        "id": "TjIxB6IbykuL",
        "outputId": "195c8815-ebeb-4945-8161-2d750dd6e18e",
        "colab": {
          "base_uri": "https://localhost:8080/"
        }
      },
      "source": [
        "# Fit randomized search\n",
        "best_model_svc = random_search.fit(X_train,Y_train) "
      ],
      "execution_count": null,
      "outputs": [
        {
          "output_type": "stream",
          "text": [
            "Fitting 5 folds for each of 30 candidates, totalling 150 fits\n",
            "[CV] kernel=rbf, gamma=scale, degree=4, C=3 ..........................\n",
            "[CV] ........... kernel=rbf, gamma=scale, degree=4, C=3, total=   0.0s\n",
            "[CV] kernel=rbf, gamma=scale, degree=4, C=3 ..........................\n",
            "[CV] ........... kernel=rbf, gamma=scale, degree=4, C=3, total=   0.0s\n",
            "[CV] kernel=rbf, gamma=scale, degree=4, C=3 ..........................\n",
            "[CV] ........... kernel=rbf, gamma=scale, degree=4, C=3, total=   0.0s\n",
            "[CV] kernel=rbf, gamma=scale, degree=4, C=3 ..........................\n",
            "[CV] ........... kernel=rbf, gamma=scale, degree=4, C=3, total=   0.0s\n",
            "[CV] kernel=rbf, gamma=scale, degree=4, C=3 ..........................\n",
            "[CV] ........... kernel=rbf, gamma=scale, degree=4, C=3, total=   0.0s\n",
            "[CV] kernel=poly, gamma=auto, degree=4, C=1 ..........................\n"
          ],
          "name": "stdout"
        },
        {
          "output_type": "stream",
          "text": [
            "[Parallel(n_jobs=1)]: Using backend SequentialBackend with 1 concurrent workers.\n",
            "[Parallel(n_jobs=1)]: Done   1 out of   1 | elapsed:    0.0s remaining:    0.0s\n"
          ],
          "name": "stderr"
        },
        {
          "output_type": "stream",
          "text": [
            "[CV] ........... kernel=poly, gamma=auto, degree=4, C=1, total=  34.2s\n",
            "[CV] kernel=poly, gamma=auto, degree=4, C=1 ..........................\n",
            "[CV] ........... kernel=poly, gamma=auto, degree=4, C=1, total=   0.8s\n",
            "[CV] kernel=poly, gamma=auto, degree=4, C=1 ..........................\n",
            "[CV] ........... kernel=poly, gamma=auto, degree=4, C=1, total= 1.5min\n",
            "[CV] kernel=poly, gamma=auto, degree=4, C=1 ..........................\n",
            "[CV] ........... kernel=poly, gamma=auto, degree=4, C=1, total=  49.1s\n",
            "[CV] kernel=poly, gamma=auto, degree=4, C=1 ..........................\n",
            "[CV] ........... kernel=poly, gamma=auto, degree=4, C=1, total= 1.6min\n",
            "[CV] kernel=poly, gamma=auto, degree=2, C=7 ..........................\n",
            "[CV] ........... kernel=poly, gamma=auto, degree=2, C=7, total=   2.0s\n",
            "[CV] kernel=poly, gamma=auto, degree=2, C=7 ..........................\n",
            "[CV] ........... kernel=poly, gamma=auto, degree=2, C=7, total=   0.2s\n",
            "[CV] kernel=poly, gamma=auto, degree=2, C=7 ..........................\n",
            "[CV] ........... kernel=poly, gamma=auto, degree=2, C=7, total=   0.5s\n",
            "[CV] kernel=poly, gamma=auto, degree=2, C=7 ..........................\n",
            "[CV] ........... kernel=poly, gamma=auto, degree=2, C=7, total=   0.8s\n",
            "[CV] kernel=poly, gamma=auto, degree=2, C=7 ..........................\n",
            "[CV] ........... kernel=poly, gamma=auto, degree=2, C=7, total=   1.9s\n",
            "[CV] kernel=poly, gamma=auto, degree=4, C=4 ..........................\n",
            "[CV] ........... kernel=poly, gamma=auto, degree=4, C=4, total=  38.8s\n",
            "[CV] kernel=poly, gamma=auto, degree=4, C=4 ..........................\n",
            "[CV] ........... kernel=poly, gamma=auto, degree=4, C=4, total=   0.8s\n",
            "[CV] kernel=poly, gamma=auto, degree=4, C=4 ..........................\n",
            "[CV] ........... kernel=poly, gamma=auto, degree=4, C=4, total= 2.2min\n",
            "[CV] kernel=poly, gamma=auto, degree=4, C=4 ..........................\n",
            "[CV] ........... kernel=poly, gamma=auto, degree=4, C=4, total=  48.9s\n",
            "[CV] kernel=poly, gamma=auto, degree=4, C=4 ..........................\n",
            "[CV] ........... kernel=poly, gamma=auto, degree=4, C=4, total= 1.7min\n",
            "[CV] kernel=rbf, gamma=scale, degree=5, C=5 ..........................\n",
            "[CV] ........... kernel=rbf, gamma=scale, degree=5, C=5, total=   0.0s\n",
            "[CV] kernel=rbf, gamma=scale, degree=5, C=5 ..........................\n",
            "[CV] ........... kernel=rbf, gamma=scale, degree=5, C=5, total=   0.0s\n",
            "[CV] kernel=rbf, gamma=scale, degree=5, C=5 ..........................\n",
            "[CV] ........... kernel=rbf, gamma=scale, degree=5, C=5, total=   0.0s\n",
            "[CV] kernel=rbf, gamma=scale, degree=5, C=5 ..........................\n",
            "[CV] ........... kernel=rbf, gamma=scale, degree=5, C=5, total=   0.0s\n",
            "[CV] kernel=rbf, gamma=scale, degree=5, C=5 ..........................\n",
            "[CV] ........... kernel=rbf, gamma=scale, degree=5, C=5, total=   0.0s\n",
            "[CV] kernel=linear, gamma=auto, degree=5, C=8 ........................\n",
            "[CV] ......... kernel=linear, gamma=auto, degree=5, C=8, total=   0.1s\n",
            "[CV] kernel=linear, gamma=auto, degree=5, C=8 ........................\n",
            "[CV] ......... kernel=linear, gamma=auto, degree=5, C=8, total=   0.0s\n",
            "[CV] kernel=linear, gamma=auto, degree=5, C=8 ........................\n",
            "[CV] ......... kernel=linear, gamma=auto, degree=5, C=8, total=   0.0s\n",
            "[CV] kernel=linear, gamma=auto, degree=5, C=8 ........................\n",
            "[CV] ......... kernel=linear, gamma=auto, degree=5, C=8, total=   0.0s\n",
            "[CV] kernel=linear, gamma=auto, degree=5, C=8 ........................\n",
            "[CV] ......... kernel=linear, gamma=auto, degree=5, C=8, total=   0.1s\n",
            "[CV] kernel=linear, gamma=auto, degree=3, C=8 ........................\n",
            "[CV] ......... kernel=linear, gamma=auto, degree=3, C=8, total=   0.1s\n",
            "[CV] kernel=linear, gamma=auto, degree=3, C=8 ........................\n",
            "[CV] ......... kernel=linear, gamma=auto, degree=3, C=8, total=   0.0s\n",
            "[CV] kernel=linear, gamma=auto, degree=3, C=8 ........................\n",
            "[CV] ......... kernel=linear, gamma=auto, degree=3, C=8, total=   0.0s\n",
            "[CV] kernel=linear, gamma=auto, degree=3, C=8 ........................\n",
            "[CV] ......... kernel=linear, gamma=auto, degree=3, C=8, total=   0.0s\n",
            "[CV] kernel=linear, gamma=auto, degree=3, C=8 ........................\n",
            "[CV] ......... kernel=linear, gamma=auto, degree=3, C=8, total=   0.1s\n",
            "[CV] kernel=sigmoid, gamma=scale, degree=2, C=3 ......................\n",
            "[CV] ....... kernel=sigmoid, gamma=scale, degree=2, C=3, total=   0.0s\n",
            "[CV] kernel=sigmoid, gamma=scale, degree=2, C=3 ......................\n",
            "[CV] ....... kernel=sigmoid, gamma=scale, degree=2, C=3, total=   0.0s\n",
            "[CV] kernel=sigmoid, gamma=scale, degree=2, C=3 ......................\n",
            "[CV] ....... kernel=sigmoid, gamma=scale, degree=2, C=3, total=   0.0s\n",
            "[CV] kernel=sigmoid, gamma=scale, degree=2, C=3 ......................\n",
            "[CV] ....... kernel=sigmoid, gamma=scale, degree=2, C=3, total=   0.0s\n",
            "[CV] kernel=sigmoid, gamma=scale, degree=2, C=3 ......................\n",
            "[CV] ....... kernel=sigmoid, gamma=scale, degree=2, C=3, total=   0.0s\n",
            "[CV] kernel=rbf, gamma=scale, degree=2, C=7 ..........................\n",
            "[CV] ........... kernel=rbf, gamma=scale, degree=2, C=7, total=   0.0s\n",
            "[CV] kernel=rbf, gamma=scale, degree=2, C=7 ..........................\n",
            "[CV] ........... kernel=rbf, gamma=scale, degree=2, C=7, total=   0.0s\n",
            "[CV] kernel=rbf, gamma=scale, degree=2, C=7 ..........................\n",
            "[CV] ........... kernel=rbf, gamma=scale, degree=2, C=7, total=   0.0s\n",
            "[CV] kernel=rbf, gamma=scale, degree=2, C=7 ..........................\n",
            "[CV] ........... kernel=rbf, gamma=scale, degree=2, C=7, total=   0.0s\n",
            "[CV] kernel=rbf, gamma=scale, degree=2, C=7 ..........................\n",
            "[CV] ........... kernel=rbf, gamma=scale, degree=2, C=7, total=   0.0s\n",
            "[CV] kernel=linear, gamma=scale, degree=1, C=8 .......................\n",
            "[CV] ........ kernel=linear, gamma=scale, degree=1, C=8, total=   0.1s\n",
            "[CV] kernel=linear, gamma=scale, degree=1, C=8 .......................\n",
            "[CV] ........ kernel=linear, gamma=scale, degree=1, C=8, total=   0.0s\n",
            "[CV] kernel=linear, gamma=scale, degree=1, C=8 .......................\n",
            "[CV] ........ kernel=linear, gamma=scale, degree=1, C=8, total=   0.0s\n",
            "[CV] kernel=linear, gamma=scale, degree=1, C=8 .......................\n",
            "[CV] ........ kernel=linear, gamma=scale, degree=1, C=8, total=   0.0s\n",
            "[CV] kernel=linear, gamma=scale, degree=1, C=8 .......................\n",
            "[CV] ........ kernel=linear, gamma=scale, degree=1, C=8, total=   0.1s\n",
            "[CV] kernel=sigmoid, gamma=auto, degree=1, C=8 .......................\n",
            "[CV] ........ kernel=sigmoid, gamma=auto, degree=1, C=8, total=   0.0s\n",
            "[CV] kernel=sigmoid, gamma=auto, degree=1, C=8 .......................\n",
            "[CV] ........ kernel=sigmoid, gamma=auto, degree=1, C=8, total=   0.0s\n",
            "[CV] kernel=sigmoid, gamma=auto, degree=1, C=8 .......................\n",
            "[CV] ........ kernel=sigmoid, gamma=auto, degree=1, C=8, total=   0.0s\n",
            "[CV] kernel=sigmoid, gamma=auto, degree=1, C=8 .......................\n",
            "[CV] ........ kernel=sigmoid, gamma=auto, degree=1, C=8, total=   0.0s\n",
            "[CV] kernel=sigmoid, gamma=auto, degree=1, C=8 .......................\n",
            "[CV] ........ kernel=sigmoid, gamma=auto, degree=1, C=8, total=   0.0s\n",
            "[CV] kernel=poly, gamma=scale, degree=5, C=9 .........................\n",
            "[CV] .......... kernel=poly, gamma=scale, degree=5, C=9, total=   0.0s\n",
            "[CV] kernel=poly, gamma=scale, degree=5, C=9 .........................\n",
            "[CV] .......... kernel=poly, gamma=scale, degree=5, C=9, total=   0.0s\n",
            "[CV] kernel=poly, gamma=scale, degree=5, C=9 .........................\n",
            "[CV] .......... kernel=poly, gamma=scale, degree=5, C=9, total=   0.0s\n",
            "[CV] kernel=poly, gamma=scale, degree=5, C=9 .........................\n",
            "[CV] .......... kernel=poly, gamma=scale, degree=5, C=9, total=   0.0s\n",
            "[CV] kernel=poly, gamma=scale, degree=5, C=9 .........................\n",
            "[CV] .......... kernel=poly, gamma=scale, degree=5, C=9, total=   0.0s\n",
            "[CV] kernel=sigmoid, gamma=scale, degree=5, C=7 ......................\n",
            "[CV] ....... kernel=sigmoid, gamma=scale, degree=5, C=7, total=   0.0s\n",
            "[CV] kernel=sigmoid, gamma=scale, degree=5, C=7 ......................\n",
            "[CV] ....... kernel=sigmoid, gamma=scale, degree=5, C=7, total=   0.0s\n",
            "[CV] kernel=sigmoid, gamma=scale, degree=5, C=7 ......................\n",
            "[CV] ....... kernel=sigmoid, gamma=scale, degree=5, C=7, total=   0.0s\n",
            "[CV] kernel=sigmoid, gamma=scale, degree=5, C=7 ......................\n",
            "[CV] ....... kernel=sigmoid, gamma=scale, degree=5, C=7, total=   0.0s\n",
            "[CV] kernel=sigmoid, gamma=scale, degree=5, C=7 ......................\n",
            "[CV] ....... kernel=sigmoid, gamma=scale, degree=5, C=7, total=   0.0s\n",
            "[CV] kernel=sigmoid, gamma=scale, degree=5, C=8 ......................\n",
            "[CV] ....... kernel=sigmoid, gamma=scale, degree=5, C=8, total=   0.0s\n",
            "[CV] kernel=sigmoid, gamma=scale, degree=5, C=8 ......................\n",
            "[CV] ....... kernel=sigmoid, gamma=scale, degree=5, C=8, total=   0.0s\n",
            "[CV] kernel=sigmoid, gamma=scale, degree=5, C=8 ......................\n",
            "[CV] ....... kernel=sigmoid, gamma=scale, degree=5, C=8, total=   0.0s\n",
            "[CV] kernel=sigmoid, gamma=scale, degree=5, C=8 ......................\n",
            "[CV] ....... kernel=sigmoid, gamma=scale, degree=5, C=8, total=   0.0s\n",
            "[CV] kernel=sigmoid, gamma=scale, degree=5, C=8 ......................\n",
            "[CV] ....... kernel=sigmoid, gamma=scale, degree=5, C=8, total=   0.0s\n",
            "[CV] kernel=poly, gamma=scale, degree=3, C=3 .........................\n",
            "[CV] .......... kernel=poly, gamma=scale, degree=3, C=3, total=   0.0s\n",
            "[CV] kernel=poly, gamma=scale, degree=3, C=3 .........................\n",
            "[CV] .......... kernel=poly, gamma=scale, degree=3, C=3, total=   0.0s\n",
            "[CV] kernel=poly, gamma=scale, degree=3, C=3 .........................\n",
            "[CV] .......... kernel=poly, gamma=scale, degree=3, C=3, total=   0.0s\n",
            "[CV] kernel=poly, gamma=scale, degree=3, C=3 .........................\n",
            "[CV] .......... kernel=poly, gamma=scale, degree=3, C=3, total=   0.0s\n",
            "[CV] kernel=poly, gamma=scale, degree=3, C=3 .........................\n",
            "[CV] .......... kernel=poly, gamma=scale, degree=3, C=3, total=   0.0s\n",
            "[CV] kernel=sigmoid, gamma=auto, degree=1, C=10 ......................\n",
            "[CV] ....... kernel=sigmoid, gamma=auto, degree=1, C=10, total=   0.0s\n",
            "[CV] kernel=sigmoid, gamma=auto, degree=1, C=10 ......................\n",
            "[CV] ....... kernel=sigmoid, gamma=auto, degree=1, C=10, total=   0.0s\n",
            "[CV] kernel=sigmoid, gamma=auto, degree=1, C=10 ......................\n",
            "[CV] ....... kernel=sigmoid, gamma=auto, degree=1, C=10, total=   0.0s\n",
            "[CV] kernel=sigmoid, gamma=auto, degree=1, C=10 ......................\n",
            "[CV] ....... kernel=sigmoid, gamma=auto, degree=1, C=10, total=   0.0s\n",
            "[CV] kernel=sigmoid, gamma=auto, degree=1, C=10 ......................\n",
            "[CV] ....... kernel=sigmoid, gamma=auto, degree=1, C=10, total=   0.0s\n",
            "[CV] kernel=rbf, gamma=scale, degree=4, C=8 ..........................\n",
            "[CV] ........... kernel=rbf, gamma=scale, degree=4, C=8, total=   0.0s\n",
            "[CV] kernel=rbf, gamma=scale, degree=4, C=8 ..........................\n",
            "[CV] ........... kernel=rbf, gamma=scale, degree=4, C=8, total=   0.0s\n",
            "[CV] kernel=rbf, gamma=scale, degree=4, C=8 ..........................\n",
            "[CV] ........... kernel=rbf, gamma=scale, degree=4, C=8, total=   0.0s\n",
            "[CV] kernel=rbf, gamma=scale, degree=4, C=8 ..........................\n",
            "[CV] ........... kernel=rbf, gamma=scale, degree=4, C=8, total=   0.0s\n",
            "[CV] kernel=rbf, gamma=scale, degree=4, C=8 ..........................\n",
            "[CV] ........... kernel=rbf, gamma=scale, degree=4, C=8, total=   0.0s\n",
            "[CV] kernel=sigmoid, gamma=auto, degree=3, C=5 .......................\n",
            "[CV] ........ kernel=sigmoid, gamma=auto, degree=3, C=5, total=   0.0s\n",
            "[CV] kernel=sigmoid, gamma=auto, degree=3, C=5 .......................\n",
            "[CV] ........ kernel=sigmoid, gamma=auto, degree=3, C=5, total=   0.0s\n",
            "[CV] kernel=sigmoid, gamma=auto, degree=3, C=5 .......................\n",
            "[CV] ........ kernel=sigmoid, gamma=auto, degree=3, C=5, total=   0.0s\n",
            "[CV] kernel=sigmoid, gamma=auto, degree=3, C=5 .......................\n",
            "[CV] ........ kernel=sigmoid, gamma=auto, degree=3, C=5, total=   0.0s\n",
            "[CV] kernel=sigmoid, gamma=auto, degree=3, C=5 .......................\n",
            "[CV] ........ kernel=sigmoid, gamma=auto, degree=3, C=5, total=   0.0s\n",
            "[CV] kernel=linear, gamma=auto, degree=4, C=3 ........................\n",
            "[CV] ......... kernel=linear, gamma=auto, degree=4, C=3, total=   0.0s\n",
            "[CV] kernel=linear, gamma=auto, degree=4, C=3 ........................\n",
            "[CV] ......... kernel=linear, gamma=auto, degree=4, C=3, total=   0.0s\n",
            "[CV] kernel=linear, gamma=auto, degree=4, C=3 ........................\n",
            "[CV] ......... kernel=linear, gamma=auto, degree=4, C=3, total=   0.0s\n",
            "[CV] kernel=linear, gamma=auto, degree=4, C=3 ........................\n",
            "[CV] ......... kernel=linear, gamma=auto, degree=4, C=3, total=   0.0s\n",
            "[CV] kernel=linear, gamma=auto, degree=4, C=3 ........................\n",
            "[CV] ......... kernel=linear, gamma=auto, degree=4, C=3, total=   0.0s\n",
            "[CV] kernel=sigmoid, gamma=scale, degree=3, C=6 ......................\n",
            "[CV] ....... kernel=sigmoid, gamma=scale, degree=3, C=6, total=   0.0s\n",
            "[CV] kernel=sigmoid, gamma=scale, degree=3, C=6 ......................\n",
            "[CV] ....... kernel=sigmoid, gamma=scale, degree=3, C=6, total=   0.0s\n",
            "[CV] kernel=sigmoid, gamma=scale, degree=3, C=6 ......................\n",
            "[CV] ....... kernel=sigmoid, gamma=scale, degree=3, C=6, total=   0.0s\n",
            "[CV] kernel=sigmoid, gamma=scale, degree=3, C=6 ......................\n",
            "[CV] ....... kernel=sigmoid, gamma=scale, degree=3, C=6, total=   0.0s\n",
            "[CV] kernel=sigmoid, gamma=scale, degree=3, C=6 ......................\n",
            "[CV] ....... kernel=sigmoid, gamma=scale, degree=3, C=6, total=   0.0s\n",
            "[CV] kernel=rbf, gamma=auto, degree=6, C=3 ...........................\n",
            "[CV] ............ kernel=rbf, gamma=auto, degree=6, C=3, total=   0.0s\n",
            "[CV] kernel=rbf, gamma=auto, degree=6, C=3 ...........................\n",
            "[CV] ............ kernel=rbf, gamma=auto, degree=6, C=3, total=   0.0s\n",
            "[CV] kernel=rbf, gamma=auto, degree=6, C=3 ...........................\n",
            "[CV] ............ kernel=rbf, gamma=auto, degree=6, C=3, total=   0.0s\n",
            "[CV] kernel=rbf, gamma=auto, degree=6, C=3 ...........................\n",
            "[CV] ............ kernel=rbf, gamma=auto, degree=6, C=3, total=   0.0s\n",
            "[CV] kernel=rbf, gamma=auto, degree=6, C=3 ...........................\n",
            "[CV] ............ kernel=rbf, gamma=auto, degree=6, C=3, total=   0.0s\n",
            "[CV] kernel=linear, gamma=scale, degree=1, C=4 .......................\n",
            "[CV] ........ kernel=linear, gamma=scale, degree=1, C=4, total=   0.0s\n",
            "[CV] kernel=linear, gamma=scale, degree=1, C=4 .......................\n",
            "[CV] ........ kernel=linear, gamma=scale, degree=1, C=4, total=   0.0s\n",
            "[CV] kernel=linear, gamma=scale, degree=1, C=4 .......................\n",
            "[CV] ........ kernel=linear, gamma=scale, degree=1, C=4, total=   0.0s\n",
            "[CV] kernel=linear, gamma=scale, degree=1, C=4 .......................\n",
            "[CV] ........ kernel=linear, gamma=scale, degree=1, C=4, total=   0.0s\n",
            "[CV] kernel=linear, gamma=scale, degree=1, C=4 .......................\n",
            "[CV] ........ kernel=linear, gamma=scale, degree=1, C=4, total=   0.0s\n",
            "[CV] kernel=linear, gamma=scale, degree=4, C=5 .......................\n",
            "[CV] ........ kernel=linear, gamma=scale, degree=4, C=5, total=   0.1s\n",
            "[CV] kernel=linear, gamma=scale, degree=4, C=5 .......................\n",
            "[CV] ........ kernel=linear, gamma=scale, degree=4, C=5, total=   0.0s\n",
            "[CV] kernel=linear, gamma=scale, degree=4, C=5 .......................\n",
            "[CV] ........ kernel=linear, gamma=scale, degree=4, C=5, total=   0.2s\n",
            "[CV] kernel=linear, gamma=scale, degree=4, C=5 .......................\n",
            "[CV] ........ kernel=linear, gamma=scale, degree=4, C=5, total=   0.0s\n",
            "[CV] kernel=linear, gamma=scale, degree=4, C=5 .......................\n",
            "[CV] ........ kernel=linear, gamma=scale, degree=4, C=5, total=   0.0s\n",
            "[CV] kernel=poly, gamma=auto, degree=1, C=2 ..........................\n",
            "[CV] ........... kernel=poly, gamma=auto, degree=1, C=2, total=   0.0s\n",
            "[CV] kernel=poly, gamma=auto, degree=1, C=2 ..........................\n",
            "[CV] ........... kernel=poly, gamma=auto, degree=1, C=2, total=   0.0s\n",
            "[CV] kernel=poly, gamma=auto, degree=1, C=2 ..........................\n",
            "[CV] ........... kernel=poly, gamma=auto, degree=1, C=2, total=   0.0s\n",
            "[CV] kernel=poly, gamma=auto, degree=1, C=2 ..........................\n",
            "[CV] ........... kernel=poly, gamma=auto, degree=1, C=2, total=   0.0s\n",
            "[CV] kernel=poly, gamma=auto, degree=1, C=2 ..........................\n",
            "[CV] ........... kernel=poly, gamma=auto, degree=1, C=2, total=   0.0s\n",
            "[CV] kernel=poly, gamma=scale, degree=5, C=10 ........................\n",
            "[CV] ......... kernel=poly, gamma=scale, degree=5, C=10, total=   0.0s\n",
            "[CV] kernel=poly, gamma=scale, degree=5, C=10 ........................\n",
            "[CV] ......... kernel=poly, gamma=scale, degree=5, C=10, total=   0.0s\n",
            "[CV] kernel=poly, gamma=scale, degree=5, C=10 ........................\n",
            "[CV] ......... kernel=poly, gamma=scale, degree=5, C=10, total=   0.0s\n",
            "[CV] kernel=poly, gamma=scale, degree=5, C=10 ........................\n",
            "[CV] ......... kernel=poly, gamma=scale, degree=5, C=10, total=   0.0s\n",
            "[CV] kernel=poly, gamma=scale, degree=5, C=10 ........................\n",
            "[CV] ......... kernel=poly, gamma=scale, degree=5, C=10, total=   0.0s\n",
            "[CV] kernel=rbf, gamma=scale, degree=1, C=7 ..........................\n",
            "[CV] ........... kernel=rbf, gamma=scale, degree=1, C=7, total=   0.0s\n",
            "[CV] kernel=rbf, gamma=scale, degree=1, C=7 ..........................\n",
            "[CV] ........... kernel=rbf, gamma=scale, degree=1, C=7, total=   0.0s\n",
            "[CV] kernel=rbf, gamma=scale, degree=1, C=7 ..........................\n",
            "[CV] ........... kernel=rbf, gamma=scale, degree=1, C=7, total=   0.0s\n",
            "[CV] kernel=rbf, gamma=scale, degree=1, C=7 ..........................\n",
            "[CV] ........... kernel=rbf, gamma=scale, degree=1, C=7, total=   0.0s\n",
            "[CV] kernel=rbf, gamma=scale, degree=1, C=7 ..........................\n",
            "[CV] ........... kernel=rbf, gamma=scale, degree=1, C=7, total=   0.0s\n",
            "[CV] kernel=sigmoid, gamma=auto, degree=6, C=2 .......................\n",
            "[CV] ........ kernel=sigmoid, gamma=auto, degree=6, C=2, total=   0.0s\n",
            "[CV] kernel=sigmoid, gamma=auto, degree=6, C=2 .......................\n",
            "[CV] ........ kernel=sigmoid, gamma=auto, degree=6, C=2, total=   0.0s\n",
            "[CV] kernel=sigmoid, gamma=auto, degree=6, C=2 .......................\n",
            "[CV] ........ kernel=sigmoid, gamma=auto, degree=6, C=2, total=   0.0s\n",
            "[CV] kernel=sigmoid, gamma=auto, degree=6, C=2 .......................\n",
            "[CV] ........ kernel=sigmoid, gamma=auto, degree=6, C=2, total=   0.0s\n",
            "[CV] kernel=sigmoid, gamma=auto, degree=6, C=2 .......................\n",
            "[CV] ........ kernel=sigmoid, gamma=auto, degree=6, C=2, total=   0.0s\n",
            "[CV] kernel=sigmoid, gamma=auto, degree=2, C=4 .......................\n",
            "[CV] ........ kernel=sigmoid, gamma=auto, degree=2, C=4, total=   0.0s\n",
            "[CV] kernel=sigmoid, gamma=auto, degree=2, C=4 .......................\n",
            "[CV] ........ kernel=sigmoid, gamma=auto, degree=2, C=4, total=   0.0s\n",
            "[CV] kernel=sigmoid, gamma=auto, degree=2, C=4 .......................\n",
            "[CV] ........ kernel=sigmoid, gamma=auto, degree=2, C=4, total=   0.0s\n",
            "[CV] kernel=sigmoid, gamma=auto, degree=2, C=4 .......................\n",
            "[CV] ........ kernel=sigmoid, gamma=auto, degree=2, C=4, total=   0.0s\n",
            "[CV] kernel=sigmoid, gamma=auto, degree=2, C=4 .......................\n",
            "[CV] ........ kernel=sigmoid, gamma=auto, degree=2, C=4, total=   0.0s\n",
            "[CV] kernel=poly, gamma=auto, degree=4, C=9 ..........................\n",
            "[CV] ........... kernel=poly, gamma=auto, degree=4, C=9, total=  41.5s\n",
            "[CV] kernel=poly, gamma=auto, degree=4, C=9 ..........................\n",
            "[CV] ........... kernel=poly, gamma=auto, degree=4, C=9, total=   0.8s\n",
            "[CV] kernel=poly, gamma=auto, degree=4, C=9 ..........................\n",
            "[CV] ........... kernel=poly, gamma=auto, degree=4, C=9, total= 2.6min\n",
            "[CV] kernel=poly, gamma=auto, degree=4, C=9 ..........................\n",
            "[CV] ........... kernel=poly, gamma=auto, degree=4, C=9, total=  49.1s\n",
            "[CV] kernel=poly, gamma=auto, degree=4, C=9 ..........................\n",
            "[CV] ........... kernel=poly, gamma=auto, degree=4, C=9, total= 1.6min\n",
            "[CV] kernel=linear, gamma=scale, degree=3, C=9 .......................\n",
            "[CV] ........ kernel=linear, gamma=scale, degree=3, C=9, total=   0.1s\n",
            "[CV] kernel=linear, gamma=scale, degree=3, C=9 .......................\n",
            "[CV] ........ kernel=linear, gamma=scale, degree=3, C=9, total=   0.0s\n",
            "[CV] kernel=linear, gamma=scale, degree=3, C=9 .......................\n",
            "[CV] ........ kernel=linear, gamma=scale, degree=3, C=9, total=   0.2s\n",
            "[CV] kernel=linear, gamma=scale, degree=3, C=9 .......................\n",
            "[CV] ........ kernel=linear, gamma=scale, degree=3, C=9, total=   0.1s\n",
            "[CV] kernel=linear, gamma=scale, degree=3, C=9 .......................\n",
            "[CV] ........ kernel=linear, gamma=scale, degree=3, C=9, total=   0.1s\n"
          ],
          "name": "stdout"
        },
        {
          "output_type": "stream",
          "text": [
            "[Parallel(n_jobs=1)]: Done 150 out of 150 | elapsed: 15.7min finished\n"
          ],
          "name": "stderr"
        }
      ]
    },
    {
      "cell_type": "code",
      "metadata": {
        "id": "gt76PfkgykuP",
        "outputId": "be27b4be-4cf2-434a-e676-21e4031412b6",
        "colab": {
          "base_uri": "https://localhost:8080/"
        }
      },
      "source": [
        "best_model_svc.best_params_"
      ],
      "execution_count": null,
      "outputs": [
        {
          "output_type": "execute_result",
          "data": {
            "text/plain": [
              "{'C': 9, 'degree': 5, 'gamma': 'scale', 'kernel': 'poly'}"
            ]
          },
          "metadata": {
            "tags": []
          },
          "execution_count": 193
        }
      ]
    },
    {
      "cell_type": "code",
      "metadata": {
        "id": "GY3W6t0lykuU",
        "outputId": "d1c34986-d45d-4d24-b18d-ab84d57a515e",
        "colab": {
          "base_uri": "https://localhost:8080/"
        }
      },
      "source": [
        "# View best hyperparameters \n",
        "print('Best C:', best_model_svc.best_estimator_.get_params()['C'])\n",
        "print('Best kernel:', best_model_svc.best_estimator_.get_params()['kernel'])\n",
        "print('Best gamma', best_model_svc.best_estimator_.get_params()['gamma'])\n",
        "print('Best Degree', best_model_svc.best_estimator_.get_params()['degree'])"
      ],
      "execution_count": null,
      "outputs": [
        {
          "output_type": "stream",
          "text": [
            "Best C: 9\n",
            "Best kernel: poly\n",
            "Best gamma scale\n",
            "Best Degree 5\n"
          ],
          "name": "stdout"
        }
      ]
    },
    {
      "cell_type": "code",
      "metadata": {
        "id": "BPkyzwElykuY",
        "outputId": "c6e20161-c23e-44b8-9c78-6e7d7734d3cb",
        "colab": {
          "base_uri": "https://localhost:8080/"
        }
      },
      "source": [
        "best_model_svc.best_score_"
      ],
      "execution_count": null,
      "outputs": [
        {
          "output_type": "execute_result",
          "data": {
            "text/plain": [
              "0.8753968253968253"
            ]
          },
          "metadata": {
            "tags": []
          },
          "execution_count": 196
        }
      ]
    },
    {
      "cell_type": "markdown",
      "metadata": {
        "id": "5QBSz3aqo8BQ"
      },
      "source": [
        "### f) Reporta los mejores valores encontrados en los datos de prueba del 20% generados previamente, la matriz de confusión y las métricas accuracy, precision, recall y f1-score.\n"
      ]
    },
    {
      "cell_type": "code",
      "metadata": {
        "id": "06WiWpajzdun",
        "outputId": "267dba15-5ffc-44c9-ca39-48c4eb3e0252",
        "colab": {
          "base_uri": "https://localhost:8080/"
        }
      },
      "source": [
        "best_model_svc.predict(X_test)"
      ],
      "execution_count": null,
      "outputs": [
        {
          "output_type": "execute_result",
          "data": {
            "text/plain": [
              "array([0, 0, 0, 0, 0, 0, 1, 0, 0, 1, 0, 1, 1, 0, 0, 0, 0, 1, 0, 0, 0, 0,\n",
              "       0, 0, 0, 1, 0, 0, 0, 0, 0, 0, 0, 0, 1, 1, 0, 1, 0, 0, 0, 0, 0, 0,\n",
              "       0])"
            ]
          },
          "metadata": {
            "tags": []
          },
          "execution_count": 197
        }
      ]
    },
    {
      "cell_type": "code",
      "metadata": {
        "id": "JvZOQXcQzdut"
      },
      "source": [
        "pred_svc = np.array(best_model_svc.predict(X_test))\n",
        "\n",
        "recall = rs(Y_test,pred_svc)\n",
        "precision = ps(Y_test,pred_svc)\n",
        "f1 = fs(Y_test,pred_svc)\n",
        "ma = best_model_svc.score(X_test,Y_test)"
      ],
      "execution_count": null,
      "outputs": []
    },
    {
      "cell_type": "code",
      "metadata": {
        "id": "G989AWSwzdu6",
        "outputId": "7b3c6ce4-d05a-4498-8104-8694d9fdde9f",
        "colab": {
          "base_uri": "https://localhost:8080/"
        }
      },
      "source": [
        "print('### Evaluation metrics for test dataset ###\\n')\n",
        "print('Recall Score: ',recall)\n",
        "print('Precision Score: ',precision)\n",
        "print('F1 Score: ',f1)\n",
        "print('Accuracy: ',ma)\n",
        "pred_df = pd.DataFrame(Y_test)\n",
        "pred_df['pred']=  pred_svc\n",
        "print(pred_df.head())"
      ],
      "execution_count": null,
      "outputs": [
        {
          "output_type": "stream",
          "text": [
            "### Evaluation metrics for test dataset ###\n",
            "\n",
            "Recall Score:  0.75\n",
            "Precision Score:  1.0\n",
            "F1 Score:  0.8571428571428571\n",
            "Accuracy:  0.9333333333333333\n",
            "     death  pred\n",
            "130      0     0\n",
            "203      0     0\n",
            "170      1     0\n",
            "66       0     0\n",
            "181      0     0\n"
          ],
          "name": "stdout"
        }
      ]
    },
    {
      "cell_type": "code",
      "metadata": {
        "id": "Ic53Ost0zdu9",
        "outputId": "c62c8120-8a37-4ff0-9942-640cc23cf14b",
        "colab": {
          "base_uri": "https://localhost:8080/"
        }
      },
      "source": [
        "#Confusion Matrix\n",
        "confusionMatrix = cm(Y_test, pred_svc)\n",
        "print(confusionMatrix)"
      ],
      "execution_count": null,
      "outputs": [
        {
          "output_type": "stream",
          "text": [
            "[[33  0]\n",
            " [ 3  9]]\n"
          ],
          "name": "stdout"
        }
      ]
    },
    {
      "cell_type": "code",
      "metadata": {
        "id": "nqgJfyoCzdvC",
        "outputId": "467e6e8a-f03f-42ce-84fd-7c4da87e9082",
        "colab": {
          "base_uri": "https://localhost:8080/"
        }
      },
      "source": [
        "# Accuracy:\n",
        "(confusionMatrix[0,0] + confusionMatrix[1,1]) / (confusionMatrix[0,0] + confusionMatrix[1,1] + confusionMatrix[0,1] + confusionMatrix[1,0])"
      ],
      "execution_count": null,
      "outputs": [
        {
          "output_type": "execute_result",
          "data": {
            "text/plain": [
              "0.9333333333333333"
            ]
          },
          "metadata": {
            "tags": []
          },
          "execution_count": 201
        }
      ]
    },
    {
      "cell_type": "markdown",
      "metadata": {
        "id": "UznJBsSzpAbj"
      },
      "source": [
        "### g) Compara los resultados con los reportados por los autores del artículo con dicho modelo."
      ]
    },
    {
      "cell_type": "markdown",
      "metadata": {
        "id": "BJD27EXppJ_z"
      },
      "source": [
        "## **I) En este inciso usarás el método Bayes Ingenuo Gaussiano (https://scikitlearn. org/stable/modules/generated/sklearn.naive_bayes.GaussianNB.html ) y los mismos datos de entrenamiento y prueba generados previamente.**"
      ]
    },
    {
      "cell_type": "code",
      "metadata": {
        "id": "qvi72pmh1d5_"
      },
      "source": [
        "gaussian_model = GaussianNB()"
      ],
      "execution_count": null,
      "outputs": []
    },
    {
      "cell_type": "code",
      "metadata": {
        "id": "eEnFwHIY1nkd",
        "outputId": "1c4623b2-4023-4e8b-8623-c8403fc88121",
        "colab": {
          "base_uri": "https://localhost:8080/"
        }
      },
      "source": [
        "#fit\n",
        "gaussian_model.fit(X_train, Y_train)"
      ],
      "execution_count": null,
      "outputs": [
        {
          "output_type": "execute_result",
          "data": {
            "text/plain": [
              "GaussianNB(priors=None, var_smoothing=1e-09)"
            ]
          },
          "metadata": {
            "tags": []
          },
          "execution_count": 71
        }
      ]
    },
    {
      "cell_type": "markdown",
      "metadata": {
        "id": "tHZn5QdMpRZt"
      },
      "source": [
        "### a) Reporta los mejores valores encontrados en los datos de prueba del 20% generados previamente, la matriz de confusión y las métricas accuracy, precision, recall y f1-score."
      ]
    },
    {
      "cell_type": "code",
      "metadata": {
        "id": "2X6GVYPO137S"
      },
      "source": [
        "pred_gauss = np.array(gaussian_model.predict(X_test))\n",
        "\n",
        "recall = rs(Y_test,pred_gauss)\n",
        "precision = ps(Y_test,pred_gauss)\n",
        "f1 = fs(Y_test,pred_gauss)\n",
        "ma = gaussian_model.score(X_test,Y_test)"
      ],
      "execution_count": null,
      "outputs": []
    },
    {
      "cell_type": "code",
      "metadata": {
        "id": "62d3hMo1137W",
        "outputId": "06d79461-ea6f-4515-a09a-e159e6e221f6",
        "colab": {
          "base_uri": "https://localhost:8080/"
        }
      },
      "source": [
        "print('### Evaluation metrics for test dataset ###\\n')\n",
        "print('Recall Score: ',recall)\n",
        "print('Precision Score: ',precision)\n",
        "print('F1 Score: ',f1)\n",
        "print('Accuracy: ',ma)\n",
        "pred_df = pd.DataFrame(Y_test)\n",
        "pred_df['pred']=  pred_gauss\n",
        "print(pred_df.head())"
      ],
      "execution_count": null,
      "outputs": [
        {
          "output_type": "stream",
          "text": [
            "### Evaluation metrics for test dataset ###\n",
            "\n",
            "Recall Score:  0.9166666666666666\n",
            "Precision Score:  0.34375\n",
            "F1 Score:  0.5\n",
            "Accuracy:  0.5111111111111111\n",
            "     death  pred\n",
            "130      0     1\n",
            "203      0     0\n",
            "170      1     1\n",
            "66       0     0\n",
            "181      0     1\n"
          ],
          "name": "stdout"
        }
      ]
    },
    {
      "cell_type": "code",
      "metadata": {
        "id": "-TOA45NF137u",
        "outputId": "da22573e-fe79-4f73-9f8b-4e4f8c10042f",
        "colab": {
          "base_uri": "https://localhost:8080/"
        }
      },
      "source": [
        "#Confusion Matrix\n",
        "confusionMatrix = cm(Y_test, pred_gauss)\n",
        "print(confusionMatrix)"
      ],
      "execution_count": null,
      "outputs": [
        {
          "output_type": "stream",
          "text": [
            "[[12 21]\n",
            " [ 1 11]]\n"
          ],
          "name": "stdout"
        }
      ]
    },
    {
      "cell_type": "code",
      "metadata": {
        "id": "NlT3yZbu137x",
        "outputId": "309f859d-380f-47cb-ba09-bc5f1f6b347a",
        "colab": {
          "base_uri": "https://localhost:8080/"
        }
      },
      "source": [
        "# Accuracy:\n",
        "(confusionMatrix[0,0] + confusionMatrix[1,1]) / (confusionMatrix[0,0] + confusionMatrix[1,1] + confusionMatrix[0,1] + confusionMatrix[1,0])"
      ],
      "execution_count": null,
      "outputs": [
        {
          "output_type": "execute_result",
          "data": {
            "text/plain": [
              "0.5111111111111111"
            ]
          },
          "metadata": {
            "tags": []
          },
          "execution_count": 75
        }
      ]
    },
    {
      "cell_type": "markdown",
      "metadata": {
        "id": "v6F514F9pViH"
      },
      "source": [
        "### b) Compara los resultados con los reportados por los autores del artículo con dicho modelo."
      ]
    },
    {
      "cell_type": "markdown",
      "metadata": {
        "id": "9kFxrGmMpY_X"
      },
      "source": [
        "### c) ¿Por qué no fue necesario aplicar RandomizedSearchCV en este caso?"
      ]
    },
    {
      "cell_type": "markdown",
      "metadata": {
        "id": "j1vyZ8B6pdZV"
      },
      "source": [
        "## **J) En este inciso aplicarás el método de Random Forest (https://scikitlearn.org/stable/modules/generated/sklearn.ensemble.RandomForestClassifier.html ) y los mismos datos de entrenamiento y prueba generados previamente. Para ello verás definir una malla de búsqueda que al menos incluya los siguientes hiperparámetors y rango de valores siguientes:**"
      ]
    },
    {
      "cell_type": "code",
      "metadata": {
        "id": "hLLyXCEt3snB"
      },
      "source": [
        "forest = RandomForestClassifier()"
      ],
      "execution_count": null,
      "outputs": []
    },
    {
      "cell_type": "markdown",
      "metadata": {
        "id": "q5YL3PGgpkRj"
      },
      "source": [
        "### a) bootstrap: True, False."
      ]
    },
    {
      "cell_type": "code",
      "metadata": {
        "id": "iwi51elt3vEd"
      },
      "source": [
        "bootstrap = [True,False]"
      ],
      "execution_count": null,
      "outputs": []
    },
    {
      "cell_type": "markdown",
      "metadata": {
        "id": "qHfCdXkzqAEv"
      },
      "source": [
        "### b) ccp_alpha: 10 valores."
      ]
    },
    {
      "cell_type": "code",
      "metadata": {
        "id": "3ZIFPiAT34Yz"
      },
      "source": [
        "ccp_alpha = [0.0, 0.2, 0.5, 0.9, 1.0, 1.5, 2, 2.5, 3,3.5]"
      ],
      "execution_count": null,
      "outputs": []
    },
    {
      "cell_type": "markdown",
      "metadata": {
        "id": "dm9vYAdgqDYW"
      },
      "source": [
        "### c. Criterio: gini, entropy."
      ]
    },
    {
      "cell_type": "code",
      "metadata": {
        "id": "US7zhfV_4JwJ"
      },
      "source": [
        "criteria = ['gini', 'entropy']"
      ],
      "execution_count": null,
      "outputs": []
    },
    {
      "cell_type": "markdown",
      "metadata": {
        "id": "hffcKdavqGMY"
      },
      "source": [
        "### d) Max_depth: 6"
      ]
    },
    {
      "cell_type": "code",
      "metadata": {
        "id": "h2pqjfDX4Jwa"
      },
      "source": [
        "max_depth = [1,2,5,10,12]"
      ],
      "execution_count": null,
      "outputs": []
    },
    {
      "cell_type": "markdown",
      "metadata": {
        "id": "uyjomU7lqKVe"
      },
      "source": [
        "### e) Min_samples_split: 6"
      ]
    },
    {
      "cell_type": "code",
      "metadata": {
        "id": "f6mBf8Np4Jwl"
      },
      "source": [
        "min_split = [10,20,25,30,45,50]"
      ],
      "execution_count": null,
      "outputs": []
    },
    {
      "cell_type": "markdown",
      "metadata": {
        "id": "QeE3IFsXqNyP"
      },
      "source": [
        "### f) Min_samples_leaf: 6"
      ]
    },
    {
      "cell_type": "code",
      "metadata": {
        "id": "u25Pd0AY4Jwp"
      },
      "source": [
        "min_leaf = [1,2,3,4,5,6]"
      ],
      "execution_count": null,
      "outputs": []
    },
    {
      "cell_type": "markdown",
      "metadata": {
        "id": "K3iRYugmqQ6C"
      },
      "source": [
        "### g) n_estimators: 10 valores."
      ]
    },
    {
      "cell_type": "code",
      "metadata": {
        "id": "ADky3oUQ4dcV"
      },
      "source": [
        "estimators = [0.001,0.01,0.1,1,1.10,10,10.10,100,100.1,1000]"
      ],
      "execution_count": null,
      "outputs": []
    },
    {
      "cell_type": "markdown",
      "metadata": {
        "id": "CCzjuOdbqU-Z"
      },
      "source": [
        "### h) oob_score: True, False."
      ]
    },
    {
      "cell_type": "code",
      "metadata": {
        "id": "pyaK22OE5A7z"
      },
      "source": [
        "oob_score = [True,False]"
      ],
      "execution_count": null,
      "outputs": []
    },
    {
      "cell_type": "code",
      "metadata": {
        "id": "IJjI9NOz4Jwu"
      },
      "source": [
        "# Create regularization hyperparameters\n",
        "parameters = {'bootstrap':bootstrap,'ccp_alpha': ccp_alpha,'criterion':criteria, \n",
        "              'max_depth': max_depth,'min_samples_split': min_split,\n",
        "              'min_samples_leaf':min_leaf,'n_estimators': estimators, 'oob_score':oob_score}"
      ],
      "execution_count": null,
      "outputs": []
    },
    {
      "cell_type": "markdown",
      "metadata": {
        "id": "gpIZUTbZqYEW"
      },
      "source": [
        "### i) Aplica el modelo Random Forest mediante una búsqueda aleatoria de los mejores valores de los hiperparámetros anteriores con RandomizedSearchCV con n_iter=100, cv=5, scoring=accuracy.\n"
      ]
    },
    {
      "cell_type": "code",
      "metadata": {
        "id": "95b1rV_F5Yqz"
      },
      "source": [
        "# run randomized search\n",
        "random_search = RandomizedSearchCV(\n",
        "        estimator= forest, param_distributions=parameters,\n",
        "        n_iter=100, cv=5,\n",
        "        verbose=2, random_state=17,\n",
        "        scoring=make_scorer(accuracy_score),n_jobs=-1,\n",
        "        return_train_score=False)"
      ],
      "execution_count": null,
      "outputs": []
    },
    {
      "cell_type": "code",
      "metadata": {
        "id": "WJD-Ldd15Yq5",
        "outputId": "aaade48b-5709-45d2-d450-3db35ca2695a",
        "colab": {
          "base_uri": "https://localhost:8080/"
        }
      },
      "source": [
        "# Fit randomized search\n",
        "best_model_forest = random_search.fit(X_train,Y_train) "
      ],
      "execution_count": null,
      "outputs": [
        {
          "output_type": "stream",
          "text": [
            "Fitting 5 folds for each of 100 candidates, totalling 500 fits\n"
          ],
          "name": "stdout"
        },
        {
          "output_type": "stream",
          "text": [
            "[Parallel(n_jobs=-1)]: Using backend LokyBackend with 2 concurrent workers.\n",
            "[Parallel(n_jobs=-1)]: Done  74 tasks      | elapsed:    7.1s\n",
            "[Parallel(n_jobs=-1)]: Done 500 out of 500 | elapsed:   59.1s finished\n"
          ],
          "name": "stderr"
        }
      ]
    },
    {
      "cell_type": "code",
      "metadata": {
        "id": "eSXR3t4Z5Yq9",
        "outputId": "364b32aa-718a-4255-d029-3b592e86ccfe",
        "colab": {
          "base_uri": "https://localhost:8080/"
        }
      },
      "source": [
        "best_model_forest.best_params_"
      ],
      "execution_count": null,
      "outputs": [
        {
          "output_type": "execute_result",
          "data": {
            "text/plain": [
              "{'bootstrap': True,\n",
              " 'ccp_alpha': 0.0,\n",
              " 'criterion': 'gini',\n",
              " 'max_depth': 5,\n",
              " 'min_samples_leaf': 3,\n",
              " 'min_samples_split': 45,\n",
              " 'n_estimators': 100,\n",
              " 'oob_score': True}"
            ]
          },
          "metadata": {
            "tags": []
          },
          "execution_count": 93
        }
      ]
    },
    {
      "cell_type": "code",
      "metadata": {
        "id": "saTihnge5YrD",
        "outputId": "85e82d8e-274a-4ecd-83d5-1609cbfab9e7",
        "colab": {
          "base_uri": "https://localhost:8080/"
        }
      },
      "source": [
        "# View best hyperparameters \n",
        "print('Best bootstrap', best_model_forest.best_estimator_.get_params()['bootstrap'])\n",
        "print('Best ccp_alpha:', best_model_forest.best_estimator_.get_params()['ccp_alpha'])\n",
        "print('Best criterion:', best_model_forest.best_estimator_.get_params()['criterion'])\n",
        "print('Best max_depth', best_model_forest.best_estimator_.get_params()['max_depth'])\n",
        "print('Best min_samples_leaf', best_model_forest.best_estimator_.get_params()['min_samples_leaf'])\n",
        "print('Best min_samples_split', best_model_forest.best_estimator_.get_params()['min_samples_split'])\n",
        "print('Best n_estimators', best_model_forest.best_estimator_.get_params()['n_estimators'])\n",
        "print('Best oob_score', best_model_forest.best_estimator_.get_params()['oob_score'])"
      ],
      "execution_count": null,
      "outputs": [
        {
          "output_type": "stream",
          "text": [
            "Best bootstrap True\n",
            "Best ccp_alpha: 0.0\n",
            "Best criterion: gini\n",
            "Best max_depth 5\n",
            "Best min_samples_leaf 3\n",
            "Best min_samples_split 45\n",
            "Best n_estimators 100\n",
            "Best oob_score True\n"
          ],
          "name": "stdout"
        }
      ]
    },
    {
      "cell_type": "code",
      "metadata": {
        "id": "QT2kSfrX5YrG",
        "outputId": "49fe9a69-a278-4246-b117-5d7b9d67faaf",
        "colab": {
          "base_uri": "https://localhost:8080/"
        }
      },
      "source": [
        "best_model_forest.best_score_"
      ],
      "execution_count": null,
      "outputs": [
        {
          "output_type": "execute_result",
          "data": {
            "text/plain": [
              "0.8868253968253967"
            ]
          },
          "metadata": {
            "tags": []
          },
          "execution_count": 95
        }
      ]
    },
    {
      "cell_type": "markdown",
      "metadata": {
        "id": "yTfGMZyHqcZX"
      },
      "source": [
        "### j) Reporta los mejores valores encontrados en los datos de prueba del 20% generados previamente, la matriz de confusión y las métricas accuracy,precision, recall y f1-score."
      ]
    },
    {
      "cell_type": "code",
      "metadata": {
        "id": "Wd7bjddR6iOn",
        "outputId": "0466403c-74af-461b-bc42-33e831fdac62",
        "colab": {
          "base_uri": "https://localhost:8080/"
        }
      },
      "source": [
        "best_model_forest.predict(X_test)"
      ],
      "execution_count": null,
      "outputs": [
        {
          "output_type": "execute_result",
          "data": {
            "text/plain": [
              "array([0, 0, 0, 0, 0, 0, 1, 0, 0, 1, 0, 1, 1, 0, 0, 0, 0, 1, 0, 0, 0, 0,\n",
              "       0, 0, 0, 1, 0, 0, 0, 0, 0, 0, 0, 0, 1, 1, 0, 1, 0, 0, 0, 0, 0, 0,\n",
              "       0])"
            ]
          },
          "metadata": {
            "tags": []
          },
          "execution_count": 96
        }
      ]
    },
    {
      "cell_type": "code",
      "metadata": {
        "id": "RiXcEb-Q6iOv"
      },
      "source": [
        "pred_forest = np.array(best_model_forest.predict(X_test))\n",
        "\n",
        "recall = rs(Y_test,pred_forest)\n",
        "precision = ps(Y_test,pred_forest)\n",
        "f1 = fs(Y_test,pred_forest)\n",
        "ma = best_model_forest.score(X_test,Y_test)"
      ],
      "execution_count": null,
      "outputs": []
    },
    {
      "cell_type": "code",
      "metadata": {
        "id": "Hi0WoF_26iO1",
        "outputId": "5262cd47-91c8-420e-83c3-73909c16e235",
        "colab": {
          "base_uri": "https://localhost:8080/"
        }
      },
      "source": [
        "print('### Evaluation metrics for test dataset ###\\n')\n",
        "print('Recall Score: ',recall)\n",
        "print('Precision Score: ',precision)\n",
        "print('F1 Score: ',f1)\n",
        "print('Accuracy: ',ma)\n",
        "pred_df = pd.DataFrame(Y_test)\n",
        "pred_df['pred']=  pred_forest\n",
        "print(pred_df.head())"
      ],
      "execution_count": null,
      "outputs": [
        {
          "output_type": "stream",
          "text": [
            "### Evaluation metrics for test dataset ###\n",
            "\n",
            "Recall Score:  0.75\n",
            "Precision Score:  1.0\n",
            "F1 Score:  0.8571428571428571\n",
            "Accuracy:  0.9333333333333333\n",
            "     death  pred\n",
            "130      0     0\n",
            "203      0     0\n",
            "170      1     0\n",
            "66       0     0\n",
            "181      0     0\n"
          ],
          "name": "stdout"
        }
      ]
    },
    {
      "cell_type": "code",
      "metadata": {
        "id": "vw7dfaHs6iO6",
        "outputId": "3569650d-0219-49f6-d144-a7bda0a53a00",
        "colab": {
          "base_uri": "https://localhost:8080/"
        }
      },
      "source": [
        "#Confusion Matrix\n",
        "confusionMatrix = cm(Y_test, pred_forest)\n",
        "print(confusionMatrix)"
      ],
      "execution_count": null,
      "outputs": [
        {
          "output_type": "stream",
          "text": [
            "[[33  0]\n",
            " [ 3  9]]\n"
          ],
          "name": "stdout"
        }
      ]
    },
    {
      "cell_type": "code",
      "metadata": {
        "id": "UCNCnpk06iO_",
        "outputId": "9bf15d13-1fcf-431a-937e-09e4c45fbef8",
        "colab": {
          "base_uri": "https://localhost:8080/"
        }
      },
      "source": [
        "# Accuracy:\n",
        "(confusionMatrix[0,0] + confusionMatrix[1,1]) / (confusionMatrix[0,0] + confusionMatrix[1,1] + confusionMatrix[0,1] + confusionMatrix[1,0])"
      ],
      "execution_count": null,
      "outputs": [
        {
          "output_type": "execute_result",
          "data": {
            "text/plain": [
              "0.9333333333333333"
            ]
          },
          "metadata": {
            "tags": []
          },
          "execution_count": 105
        }
      ]
    },
    {
      "cell_type": "markdown",
      "metadata": {
        "id": "QVoIFv4xqhp3"
      },
      "source": [
        "## **K) Repite el inciso anterior, pero ahora usando Random Forest con AdaBoost, es decir, aplicar Boosting Random Forest (https://scikitlearn.org/stable/modules/generated/sklearn.ensemble.AdaBoostClassifier.html ).**"
      ]
    },
    {
      "cell_type": "markdown",
      "metadata": {
        "id": "KO16rG2HqvNp"
      },
      "source": [
        "### a) a. Aplica el modelo Boosting Random Forest buscando los mejores hiperparámetros que consideres adecuados."
      ]
    },
    {
      "cell_type": "code",
      "metadata": {
        "id": "LzZHwdzS7WCt"
      },
      "source": [
        "#Random forest - Best parameters\n",
        "rf =RandomForestClassifier(bootstrap= True, ccp_alpha = 0.0, criterion= 'gini', \n",
        "                           max_depth= 5,min_samples_leaf= 3,min_samples_split= 45,\n",
        "                           n_estimators= 100,oob_score= True)\n",
        "ada = AdaBoostClassifier(rf)"
      ],
      "execution_count": null,
      "outputs": []
    },
    {
      "cell_type": "code",
      "metadata": {
        "id": "vW_dX7Sq7zZj"
      },
      "source": [
        "l_rate = [0.001,0.01,0.1,1,1.2,1.3]"
      ],
      "execution_count": null,
      "outputs": []
    },
    {
      "cell_type": "code",
      "metadata": {
        "id": "_FGdmVN477CS"
      },
      "source": [
        "estimators = [1,2,3,2,5,6]"
      ],
      "execution_count": null,
      "outputs": []
    },
    {
      "cell_type": "code",
      "metadata": {
        "id": "9i6aX_vG8Dtr"
      },
      "source": [
        "algo = ['SAMME', 'SAMME.R']"
      ],
      "execution_count": null,
      "outputs": []
    },
    {
      "cell_type": "code",
      "metadata": {
        "id": "5Zr_aF8X7YVL"
      },
      "source": [
        "#Create  hyperparameters\n",
        "parameters = {'n_estimators': estimators,'learning_rate':l_rate,'algorithm':algo}"
      ],
      "execution_count": null,
      "outputs": []
    },
    {
      "cell_type": "code",
      "metadata": {
        "id": "PGgOLamu86V1"
      },
      "source": [
        "# run randomized search\n",
        "random_search = RandomizedSearchCV(\n",
        "        estimator= ada, param_distributions=parameters,\n",
        "        n_iter=100, cv=5,\n",
        "        verbose=2, random_state=17,\n",
        "        scoring=make_scorer(accuracy_score),n_jobs=-1,\n",
        "        return_train_score=False)"
      ],
      "execution_count": null,
      "outputs": []
    },
    {
      "cell_type": "code",
      "metadata": {
        "id": "u8VfMvA686WD",
        "outputId": "aef4c470-de7b-47e4-b147-c3864233d71b",
        "colab": {
          "base_uri": "https://localhost:8080/"
        }
      },
      "source": [
        "# Fit randomized search\n",
        "best_model_ada = random_search.fit(X_train,Y_train) "
      ],
      "execution_count": null,
      "outputs": [
        {
          "output_type": "stream",
          "text": [
            "/usr/local/lib/python3.6/dist-packages/sklearn/model_selection/_search.py:281: UserWarning: The total space of parameters 72 is smaller than n_iter=100. Running 72 iterations. For exhaustive searches, use GridSearchCV.\n",
            "  % (grid_size, self.n_iter, grid_size), UserWarning)\n",
            "[Parallel(n_jobs=-1)]: Using backend LokyBackend with 2 concurrent workers.\n"
          ],
          "name": "stderr"
        },
        {
          "output_type": "stream",
          "text": [
            "Fitting 5 folds for each of 72 candidates, totalling 360 fits\n"
          ],
          "name": "stdout"
        },
        {
          "output_type": "stream",
          "text": [
            "[Parallel(n_jobs=-1)]: Done  37 tasks      | elapsed:   13.3s\n",
            "[Parallel(n_jobs=-1)]: Done 158 tasks      | elapsed:  1.0min\n",
            "[Parallel(n_jobs=-1)]: Done 360 out of 360 | elapsed:  2.4min finished\n"
          ],
          "name": "stderr"
        }
      ]
    },
    {
      "cell_type": "code",
      "metadata": {
        "id": "dxjKG_Oa86WJ",
        "outputId": "b84b615c-bb0c-439a-dd4c-dae0c096e8fe",
        "colab": {
          "base_uri": "https://localhost:8080/"
        }
      },
      "source": [
        "best_model_ada.best_params_"
      ],
      "execution_count": null,
      "outputs": [
        {
          "output_type": "execute_result",
          "data": {
            "text/plain": [
              "{'algorithm': 'SAMME', 'learning_rate': 1, 'n_estimators': 5}"
            ]
          },
          "metadata": {
            "tags": []
          },
          "execution_count": 163
        }
      ]
    },
    {
      "cell_type": "code",
      "metadata": {
        "id": "FMV21Wgk86Wy",
        "outputId": "60345797-478b-45e5-e22d-eb55c06a6455",
        "colab": {
          "base_uri": "https://localhost:8080/"
        }
      },
      "source": [
        "# View best hyperparameters \n",
        "print('Best learning_rate', best_model_ada.best_estimator_.get_params()['learning_rate'])\n",
        "print('Best n_estimators', best_model_ada.best_estimator_.get_params()['n_estimators'])\n",
        "print('Best algorithm', best_model_ada.best_estimator_.get_params()['algorithm'])"
      ],
      "execution_count": null,
      "outputs": [
        {
          "output_type": "stream",
          "text": [
            "Best learning_rate 1\n",
            "Best n_estimators 5\n",
            "Best algorithm SAMME\n"
          ],
          "name": "stdout"
        }
      ]
    },
    {
      "cell_type": "code",
      "metadata": {
        "id": "D9iJrGCo86W2",
        "outputId": "586dc79a-d16f-436e-ac69-f57082eca2dd",
        "colab": {
          "base_uri": "https://localhost:8080/"
        }
      },
      "source": [
        "best_model_ada.best_score_"
      ],
      "execution_count": null,
      "outputs": [
        {
          "output_type": "execute_result",
          "data": {
            "text/plain": [
              "0.9325396825396824"
            ]
          },
          "metadata": {
            "tags": []
          },
          "execution_count": 165
        }
      ]
    },
    {
      "cell_type": "markdown",
      "metadata": {
        "id": "rFUxlsFvqzaF"
      },
      "source": [
        "### b) Reporta los mejores valores encontrados en los datos de prueba del 20% generados previamente, la matriz de confusión y las métricas accuracy, precision, recall y f1-score."
      ]
    },
    {
      "cell_type": "code",
      "metadata": {
        "id": "huHVaZNhBSrH",
        "outputId": "8ccd4868-5b8e-4004-b9f6-72d10093c596",
        "colab": {
          "base_uri": "https://localhost:8080/"
        }
      },
      "source": [
        "best_model_ada.predict(X_test)"
      ],
      "execution_count": null,
      "outputs": [
        {
          "output_type": "execute_result",
          "data": {
            "text/plain": [
              "array([0, 0, 1, 0, 0, 0, 1, 0, 0, 1, 0, 1, 1, 0, 0, 0, 0, 1, 0, 0, 0, 0,\n",
              "       0, 0, 0, 1, 0, 0, 0, 0, 0, 0, 0, 0, 1, 1, 0, 1, 0, 0, 0, 0, 0, 0,\n",
              "       0])"
            ]
          },
          "metadata": {
            "tags": []
          },
          "execution_count": 166
        }
      ]
    },
    {
      "cell_type": "code",
      "metadata": {
        "id": "Tqu-a5PABSrO"
      },
      "source": [
        "pred_ada = np.array(best_model_ada.predict(X_test))\n",
        "\n",
        "recall = rs(Y_test,pred_ada)\n",
        "precision = ps(Y_test,pred_ada)\n",
        "f1 = fs(Y_test,pred_ada)\n",
        "ma = best_model_ada.score(X_test,Y_test)"
      ],
      "execution_count": null,
      "outputs": []
    },
    {
      "cell_type": "code",
      "metadata": {
        "id": "T39mkeoLBSrS",
        "outputId": "5ea50ee2-747a-4132-cf45-bd62a2d4bd67",
        "colab": {
          "base_uri": "https://localhost:8080/"
        }
      },
      "source": [
        "print('### Evaluation metrics for test dataset ###\\n')\n",
        "print('Recall Score: ',recall)\n",
        "print('Precision Score: ',precision)\n",
        "print('F1 Score: ',f1)\n",
        "print('Accuracy: ',ma)\n",
        "pred_df = pd.DataFrame(Y_test)\n",
        "pred_df['pred']=  pred_ada\n",
        "print(pred_df.head())"
      ],
      "execution_count": null,
      "outputs": [
        {
          "output_type": "stream",
          "text": [
            "### Evaluation metrics for test dataset ###\n",
            "\n",
            "Recall Score:  0.8333333333333334\n",
            "Precision Score:  1.0\n",
            "F1 Score:  0.9090909090909091\n",
            "Accuracy:  0.9555555555555556\n",
            "     death  pred\n",
            "130      0     0\n",
            "203      0     0\n",
            "170      1     1\n",
            "66       0     0\n",
            "181      0     0\n"
          ],
          "name": "stdout"
        }
      ]
    },
    {
      "cell_type": "code",
      "metadata": {
        "id": "_aCcC51dBSrV",
        "outputId": "c7ea8922-3ac9-4abe-97ab-0f4b4441fd2c",
        "colab": {
          "base_uri": "https://localhost:8080/"
        }
      },
      "source": [
        "#Confusion Matrix\n",
        "confusionMatrix = cm(Y_test, pred_ada)\n",
        "print(confusionMatrix)"
      ],
      "execution_count": null,
      "outputs": [
        {
          "output_type": "stream",
          "text": [
            "[[33  0]\n",
            " [ 2 10]]\n"
          ],
          "name": "stdout"
        }
      ]
    },
    {
      "cell_type": "code",
      "metadata": {
        "id": "UZ4KNnQKBSrZ",
        "outputId": "c7641524-f638-4198-cad6-96c3501b8d59",
        "colab": {
          "base_uri": "https://localhost:8080/"
        }
      },
      "source": [
        "# Accuracy:\n",
        "(confusionMatrix[0,0] + confusionMatrix[1,1]) / (confusionMatrix[0,0] + confusionMatrix[1,1] + confusionMatrix[0,1] + confusionMatrix[1,0])"
      ],
      "execution_count": null,
      "outputs": [
        {
          "output_type": "execute_result",
          "data": {
            "text/plain": [
              "0.9555555555555556"
            ]
          },
          "metadata": {
            "tags": []
          },
          "execution_count": 170
        }
      ]
    },
    {
      "cell_type": "markdown",
      "metadata": {
        "id": "MyIlbNfnq3pB"
      },
      "source": [
        "### c) Compara los resultados con los reportados por los autores del artículo con dicho modelo."
      ]
    },
    {
      "cell_type": "markdown",
      "metadata": {
        "id": "gzkyn1jhq6Ma"
      },
      "source": [
        "## **L) Con base al mejor modelo encontrado en los icniso anteriores, realiza una segunda búsqueda más fina de los hiperparámetors correspondientes (fine tunning) mediante GridSearchCV.**"
      ]
    },
    {
      "cell_type": "markdown",
      "metadata": {
        "id": "REGMfu9ArBwi"
      },
      "source": [
        "### a) Aplica el modelo correspondiente con GridSearchCV definiendo la malla de búsqueda más fina que consideres adecuada."
      ]
    },
    {
      "cell_type": "code",
      "metadata": {
        "id": "KUgJVUkWB3G6"
      },
      "source": [
        "#Boosting Random Forest - best Model\n",
        "grid_search = GridSearchCV(\n",
        "    estimator= ada,\n",
        "    param_grid = parameters,\n",
        "    cv = 5,\n",
        "    n_jobs= -1,\n",
        "    verbose= 2\n",
        ")"
      ],
      "execution_count": null,
      "outputs": []
    },
    {
      "cell_type": "code",
      "metadata": {
        "id": "w_jGlhL_CcU7",
        "outputId": "535898af-9364-435a-bf3c-5d2557f6470c",
        "colab": {
          "base_uri": "https://localhost:8080/"
        }
      },
      "source": [
        "# Fit grided search\n",
        "best_model_ada_grid = grid_search.fit(X_train,Y_train) "
      ],
      "execution_count": null,
      "outputs": [
        {
          "output_type": "stream",
          "text": [
            "Fitting 5 folds for each of 72 candidates, totalling 360 fits\n"
          ],
          "name": "stdout"
        },
        {
          "output_type": "stream",
          "text": [
            "[Parallel(n_jobs=-1)]: Using backend LokyBackend with 2 concurrent workers.\n",
            "[Parallel(n_jobs=-1)]: Done  37 tasks      | elapsed:   14.4s\n",
            "[Parallel(n_jobs=-1)]: Done 158 tasks      | elapsed:  1.1min\n",
            "[Parallel(n_jobs=-1)]: Done 360 out of 360 | elapsed:  2.5min finished\n"
          ],
          "name": "stderr"
        }
      ]
    },
    {
      "cell_type": "code",
      "metadata": {
        "id": "I46VKcQACcVL",
        "outputId": "2c39cd86-27f5-4ab9-833a-d6b37ef84ad5",
        "colab": {
          "base_uri": "https://localhost:8080/"
        }
      },
      "source": [
        "best_model_ada_grid.best_params_"
      ],
      "execution_count": null,
      "outputs": [
        {
          "output_type": "execute_result",
          "data": {
            "text/plain": [
              "{'algorithm': 'SAMME.R', 'learning_rate': 1.3, 'n_estimators': 5}"
            ]
          },
          "metadata": {
            "tags": []
          },
          "execution_count": 175
        }
      ]
    },
    {
      "cell_type": "code",
      "metadata": {
        "id": "44lzpVjrCcVP",
        "outputId": "f3b4cff1-24c5-412b-b77c-809c8f32a8e8",
        "colab": {
          "base_uri": "https://localhost:8080/"
        }
      },
      "source": [
        "# View best hyperparameters \n",
        "print('Best learning_rate', best_model_ada_grid.best_estimator_.get_params()['learning_rate'])\n",
        "print('Best n_estimators', best_model_ada_grid.best_estimator_.get_params()['n_estimators'])\n",
        "print('Best algorithm', best_model_ada_grid.best_estimator_.get_params()['algorithm'])"
      ],
      "execution_count": null,
      "outputs": [
        {
          "output_type": "stream",
          "text": [
            "Best learning_rate 1.3\n",
            "Best n_estimators 5\n",
            "Best algorithm SAMME.R\n"
          ],
          "name": "stdout"
        }
      ]
    },
    {
      "cell_type": "code",
      "metadata": {
        "id": "33vJPAUeCcVU",
        "outputId": "4e580016-e235-457d-cbfa-96e357f858f4",
        "colab": {
          "base_uri": "https://localhost:8080/"
        }
      },
      "source": [
        "best_model_ada_grid.best_score_"
      ],
      "execution_count": null,
      "outputs": [
        {
          "output_type": "execute_result",
          "data": {
            "text/plain": [
              "0.9325396825396826"
            ]
          },
          "metadata": {
            "tags": []
          },
          "execution_count": 177
        }
      ]
    },
    {
      "cell_type": "markdown",
      "metadata": {
        "id": "VXngsuw7rG8k"
      },
      "source": [
        "### b) Reporta los mejores valores encontrados en los datos de prueba del 20% generados previamente, la matriz de confusión y las métricas accuracy, precision, recall y f1-score."
      ]
    },
    {
      "cell_type": "code",
      "metadata": {
        "id": "cX9_aZpoC1Jl",
        "outputId": "b120eae8-4f59-48d5-f0ba-47e4f5a40d59",
        "colab": {
          "base_uri": "https://localhost:8080/"
        }
      },
      "source": [
        "best_model_ada_grid.predict(X_test)"
      ],
      "execution_count": null,
      "outputs": [
        {
          "output_type": "execute_result",
          "data": {
            "text/plain": [
              "array([0, 0, 1, 0, 0, 0, 1, 0, 0, 1, 0, 1, 1, 0, 0, 0, 0, 1, 0, 0, 0, 0,\n",
              "       0, 0, 0, 1, 0, 0, 0, 0, 0, 0, 0, 0, 1, 1, 0, 1, 0, 0, 0, 0, 0, 0,\n",
              "       0])"
            ]
          },
          "metadata": {
            "tags": []
          },
          "execution_count": 178
        }
      ]
    },
    {
      "cell_type": "code",
      "metadata": {
        "id": "53GP73zeC1Jt"
      },
      "source": [
        "pred_ada_grid = np.array(best_model_ada_grid.predict(X_test))\n",
        "\n",
        "recall = rs(Y_test,pred_ada_grid)\n",
        "precision = ps(Y_test,pred_ada_grid)\n",
        "f1 = fs(Y_test,pred_ada_grid)\n",
        "ma = best_model_ada_grid.score(X_test,Y_test)"
      ],
      "execution_count": null,
      "outputs": []
    },
    {
      "cell_type": "code",
      "metadata": {
        "id": "oFlG2-AoC1J0",
        "outputId": "5cc9c0a5-36c7-42a4-fc7e-4bb84947afc2",
        "colab": {
          "base_uri": "https://localhost:8080/"
        }
      },
      "source": [
        "print('### Evaluation metrics for test dataset ###\\n')\n",
        "print('Recall Score: ',recall)\n",
        "print('Precision Score: ',precision)\n",
        "print('F1 Score: ',f1)\n",
        "print('Accuracy: ',ma)\n",
        "pred_df = pd.DataFrame(Y_test)\n",
        "pred_df['pred']=  pred_ada_grid\n",
        "print(\"\\n---Pred head---\")\n",
        "print(pred_df.head())"
      ],
      "execution_count": null,
      "outputs": [
        {
          "output_type": "stream",
          "text": [
            "### Evaluation metrics for test dataset ###\n",
            "\n",
            "Recall Score:  0.8333333333333334\n",
            "Precision Score:  1.0\n",
            "F1 Score:  0.9090909090909091\n",
            "Accuracy:  0.9555555555555556\n",
            "     death  pred\n",
            "130      0     0\n",
            "203      0     0\n",
            "170      1     1\n",
            "66       0     0\n",
            "181      0     0\n"
          ],
          "name": "stdout"
        }
      ]
    },
    {
      "cell_type": "code",
      "metadata": {
        "id": "6P1w8Dy6C1J3",
        "outputId": "a00d2e21-1205-468c-fa61-31e477c5c047",
        "colab": {
          "base_uri": "https://localhost:8080/"
        }
      },
      "source": [
        "#Confusion Matrix\n",
        "confusionMatrix = cm(Y_test, pred_ada_grid)\n",
        "print(confusionMatrix)"
      ],
      "execution_count": null,
      "outputs": [
        {
          "output_type": "stream",
          "text": [
            "[[33  0]\n",
            " [ 2 10]]\n"
          ],
          "name": "stdout"
        }
      ]
    },
    {
      "cell_type": "code",
      "metadata": {
        "id": "CDERwPy8C1J6",
        "outputId": "55282c60-3aac-48b4-9278-9452b89700e4",
        "colab": {
          "base_uri": "https://localhost:8080/"
        }
      },
      "source": [
        "# Accuracy:\n",
        "(confusionMatrix[0,0] + confusionMatrix[1,1]) / (confusionMatrix[0,0] + confusionMatrix[1,1] + confusionMatrix[0,1] + confusionMatrix[1,0])"
      ],
      "execution_count": null,
      "outputs": [
        {
          "output_type": "execute_result",
          "data": {
            "text/plain": [
              "0.9555555555555556"
            ]
          },
          "metadata": {
            "tags": []
          },
          "execution_count": 182
        }
      ]
    },
    {
      "cell_type": "markdown",
      "metadata": {
        "id": "Jj6ABZ00rKLU"
      },
      "source": [
        "### c) Compara los resultados con el mejor modelo reportado por los autores del artículo."
      ]
    },
    {
      "cell_type": "markdown",
      "metadata": {
        "id": "HNKDWvB8_mlZ"
      },
      "source": [
        "These are the model's results:\n",
        "https://www.frontiersin.org/files/Articles/562169/fpubh-08-00357-HTML/image_m/fpubh-08-00357-t003.jpg"
      ]
    },
    {
      "cell_type": "markdown",
      "metadata": {
        "id": "m9FicPn9_no5"
      },
      "source": [
        "![image.png](data:image/png;base64,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)\n",
        "\n"
      ]
    },
    {
      "cell_type": "markdown",
      "metadata": {
        "id": "NBbJEU9nBdTF"
      },
      "source": [
        "Comparado con nuestro modelo vemos una muy significante mejora versus la propuesta original en literalmente todos los parametros como se muestra a continuación.\n",
        "\n",
        "* Recall Score:\n",
        " * Authors: 0.75\n",
        " * ITESM: 0.83\n",
        "* Precision Score:\n",
        " * Authors: 1.0\n",
        " * ITESM: 1.0\n",
        "* F1 Score:\n",
        " * Authors: 0.86\n",
        " * ITESM: 0.90\n",
        "* Accuracy:\n",
        " * Authors: 0.94\n",
        " * ITESM: 0.95\n",
        "\n",
        "\n",
        " Conclusión el modelo propuesto tiene un mucho mejor desempeño que el públicado, juzgando por las métricas listadas."
      ]
    }
  ]
}